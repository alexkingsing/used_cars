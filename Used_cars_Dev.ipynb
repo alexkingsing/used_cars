{
 "cells": [
  {
   "cell_type": "markdown",
   "id": "fe64f84d-fed1-4860-99ff-6e693f0d0d46",
   "metadata": {},
   "source": [
    "# Used vehicles price prediction - A Machine Learning Project\n",
    "### by Alexander Justin King Sing Ortiz\n",
    "*first full ML project*"
   ]
  },
  {
   "cell_type": "markdown",
   "id": "aafbf28d-ec2e-4bd1-a9e3-20a98eb01472",
   "metadata": {},
   "source": [
    "# ABSTRACT"
   ]
  },
  {
   "cell_type": "markdown",
   "id": "3d576fc4-a8b6-4c20-9e7c-ea61c53c8fe5",
   "metadata": {},
   "source": [
    "This project was a born from a curiosity question of mine as I prepared for my MBA in the U.S. As many know, cars are the most common method of transportation in the U.S as trains, buses, as public transportation varies heavily by state and city, and, for most purposes, is not the preferred form of transport for many.\n",
    "\n",
    "Considering that, I asked myself: \"How much would it cost to buy a car in the U.S?\" I immediately discarded new vehicles because they're substantially more expensive, depreciate rapidly and simply didn't adjust to my budget. The only option was an **used vehicles**. \n",
    "\n",
    "The question then changed to: \"How much would it cost to buy a used car in the U.S?\" It's sometimes difficult to find information that one considers both reliable and scalable and that has relevance over time, specially when P2P (Peer-to-Peer) markets are so heterogenous. Now, answering this question for myself would be relatively trivial: I just need to look for a car model I like and search for it. Simple, right? But I wanted to do more.\n",
    "\n",
    "What if I wanted to check multiple vehicles? With multiple manufacture (MFG) dates? or vehicles with within a certain odometer range? These questions and more led me to think beyond a simple for this question. In light of this, and building on my curiosity about ML / DL, I decided to build a model to **estimate the value / price of a used vehicle in the U.S**.\n",
    "\n",
    "Now, due to my current limited expertise in certain aspects of ML, I decided to limit the scope of the project.\n",
    "\n",
    "**SCOPE**: \n",
    "* For time reasons I will **exclude** any kind of **image analysis**. Vehicle images (could be extracted from each post) will be ignored.\n",
    "* In-depth NLP tasks are not in scope of this analysis, but some simple tasks may be used for feature extraction.\n",
    "* Unique data points such as VIN, which are used in history analysis, will also be excluded.\n",
    "* These exercise will attempt to create a single model to predict ALL used vehicles regardless of manufacturer or model. Under some circumstances (Tesla's for example) vehicles exhibit substantially different behaviours on price based on their brand and a specific Manufacturer-Regression-Model could be a much better approach. However, for simplicity's sake, I'll do a \"one for all\" model.\n",
    "\n",
    "**A POSTERIORI ADJUSTMENT**:\n",
    "As part of the data science discovery process, some adjustments were made to the premises of this analysis. These were:\n",
    "* Since this analysis is focused in finding a model capable of predicting vehicle prices, and these vehicles need to be \"common\" (that is, used vehicles normally bought/sold) I need to have sufficient information to do be able to generate accurate predictions. As such, I will remove from datasets:\n",
    "    * Manufacturers with less than 100 samples\n",
    "    * Models with less than than 30 samples\n",
    "    \n",
    "In general, this exercise attempts to create a prediction model with minimal inputs and without complex encodings & transformations and without having to perform internet queries with some of the data.\n",
    "\n",
    "Basically: **if the input cannot be directly inferred or understood with the provided data, it will be discarded**.\n",
    "\n",
    "This analysis was carried out in May-June 2021"
   ]
  },
  {
   "cell_type": "markdown",
   "id": "6fac04f1-7ebe-40ba-afb5-d71af5479c4d",
   "metadata": {},
   "source": [
    "# Goals\n",
    "\n",
    "In summary, this project has two main goals:\n",
    "\n",
    "* First, and most important goal is: To create a regression model capable for predicting a used vehicle price.\n",
    "* Second, and depending on the the results of the models, I  will attempt to obtain information what are the most important attributes (model weights)."
   ]
  },
  {
   "cell_type": "markdown",
   "id": "9e7ef6a6-858e-43d8-998d-cfb8446a4d71",
   "metadata": {},
   "source": [
    "The models used in this analysis were:\n",
    "* Scikit-Learn Models:\n",
    "    * Lasso Regression\n",
    "    * Standard Linear Regression\n",
    "    * Random Forest Regressor\n",
    "    * Gradient Boosted Regressor\n",
    "* Tensorflow-Keras:\n",
    "    * Feed-forward Neural Network with 3 hidden layers"
   ]
  },
  {
   "cell_type": "markdown",
   "id": "1e30b388-3c55-4cd5-a55e-21019889b338",
   "metadata": {},
   "source": [
    "# Table of Contents\n",
    "1. [Initialization](#Initialization)\n",
    "    1. [Imports](#Imports)\n",
    "    1. [Functions](#Functions)\n",
    "1. [Data_exploration](#Data_exploration)\n",
    "    1. [Handling_missing_data](#Handling_missing_data)\n",
    "    2. [Exploratory_data_analysis](#Exploratory_data_analysis)\n",
    "1. [Model_training](#Model_training)\n",
    "    1. [Linear_models](#Linear_models)\n",
    "    2. [Ensemble_regressors](#Ensemble_regressors)\n",
    "    3. [Keras_model](#Keras_model)\n",
    "1. [Model_evaluation](#Model_evaluation)"
   ]
  },
  {
   "cell_type": "markdown",
   "id": "99a9b122-9d79-4f0f-9d68-5dc919a1a197",
   "metadata": {},
   "source": [
    "# Initialization"
   ]
  },
  {
   "cell_type": "markdown",
   "id": "3fe5f931-80c3-4948-b896-f5e380d648eb",
   "metadata": {},
   "source": [
    "## Imports"
   ]
  },
  {
   "cell_type": "code",
   "execution_count": 1,
   "id": "featured-calvin",
   "metadata": {},
   "outputs": [],
   "source": [
    "# standard imports\n",
    "import numpy as np\n",
    "import pandas as pd\n",
    "import matplotlib.pyplot as plt\n",
    "from matplotlib.ticker import MultipleLocator\n",
    "import seaborn as sns\n",
    "\n",
    "# scikit-learn imports\n",
    "## scikit tools\n",
    "from sklearn.feature_selection import mutual_info_regression, f_regression\n",
    "from sklearn.preprocessing import OneHotEncoder, OrdinalEncoder, StandardScaler\n",
    "from sklearn.model_selection import train_test_split\n",
    "from sklearn.metrics import mean_absolute_error, mean_squared_error\n",
    "\n",
    "## joblib\n",
    "from joblib import dump, load\n",
    "\n",
    "## scikit models\n",
    "from sklearn.linear_model import LassoCV, LinearRegression\n",
    "from sklearn.ensemble import RandomForestRegressor, GradientBoostingRegressor\n",
    "\n",
    "# tensorflow imports\n",
    "import tensorflow as tf\n",
    "from tensorflow.keras.models import load_model, save_model, Sequential\n",
    "from tensorflow.keras.layers import Dense, Dropout, Input\n",
    "from tensorflow.keras.callbacks import EarlyStopping\n",
    "\n",
    "# setting style\n",
    "plt.style.use(\"seaborn-colorblind\")"
   ]
  },
  {
   "cell_type": "markdown",
   "id": "australian-overview",
   "metadata": {},
   "source": [
    "The first thing I'll do after loading the data will be to analyze and discover columns that only have 1 value OR where each value is unique. Excluding geographical coordinates, features such as \"ID\" or otherwise unique identifiers do not assist for analysis."
   ]
  },
  {
   "cell_type": "code",
   "execution_count": 2,
   "id": "cellular-theorem",
   "metadata": {},
   "outputs": [
    {
     "data": {
      "text/plain": [
       "id              426880\n",
       "url             426880\n",
       "region             404\n",
       "region_url         413\n",
       "price            15655\n",
       "year               114\n",
       "manufacturer        42\n",
       "model            29667\n",
       "condition            6\n",
       "cylinders            8\n",
       "fuel                 5\n",
       "odometer        104870\n",
       "title_status         6\n",
       "transmission         3\n",
       "VIN             118264\n",
       "drive                3\n",
       "size                 4\n",
       "type                13\n",
       "paint_color         12\n",
       "image_url       241899\n",
       "description     360911\n",
       "county               0\n",
       "state               51\n",
       "lat              53181\n",
       "long             53772\n",
       "posting_date    381536\n",
       "dtype: int64"
      ]
     },
     "execution_count": 2,
     "metadata": {},
     "output_type": "execute_result"
    }
   ],
   "source": [
    "# reading file and info\n",
    "df = pd.read_csv(\"data/vehicles.csv\")\n",
    "df.nunique()"
   ]
  },
  {
   "cell_type": "code",
   "execution_count": null,
   "id": "animated-college",
   "metadata": {
    "jupyter": {
     "source_hidden": true
    },
    "tags": []
   },
   "outputs": [],
   "source": []
  },
  {
   "cell_type": "markdown",
   "id": "historical-african",
   "metadata": {},
   "source": [
    "We can observe that **ID** and **URL** are unique for each vehicle posting, so we can go ahead and discard them since they do not provide any useful insights.\n",
    "\n",
    "Additionally, image analysis is not in the scope of this review, so I will also ignore **image_url**.\n",
    "\n",
    "Finally, as mentioned in scope, I will delete VIN, since for the scope for of this project I will not be querying the car's history."
   ]
  },
  {
   "cell_type": "code",
   "execution_count": 3,
   "id": "fantastic-terminal",
   "metadata": {},
   "outputs": [],
   "source": [
    "# deleting useless columns.\n",
    "df = df.drop(columns = [\"id\", \"url\", \"image_url\", \"VIN\"])"
   ]
  },
  {
   "cell_type": "markdown",
   "id": "ultimate-looking",
   "metadata": {},
   "source": [
    "Next, I'll analyze and discover missing data points and find out what to do with these columns!"
   ]
  },
  {
   "cell_type": "markdown",
   "id": "b14c51f8-5585-4b3a-ae6f-ae0aa4186406",
   "metadata": {},
   "source": [
    "## Functions"
   ]
  },
  {
   "cell_type": "code",
   "execution_count": 4,
   "id": "10c3cd58-0945-43a5-8a1e-0a512f1d0d17",
   "metadata": {},
   "outputs": [],
   "source": [
    "# Defining function to encode a dataframe.\n",
    "\n",
    "def gen_array(dataframe : pd.DataFrame, cat_enc = None, num_enc = None) -> np.array:\n",
    "    '''\n",
    "    Generate a fit-ready array based on a dataframe.\n",
    "    \n",
    "    This function takes a pandas dataframe, separates it into \"object\" and \"not object\" slices.\n",
    "    The slices are fit to their respect encoders, and finally both slices are concatenated.\n",
    "    \n",
    "    If encoders are not provided, they are instantiated inside the function, otherwise, use the provided encoders.\n",
    "    \n",
    "    Parameters\n",
    "    ----------\n",
    "    dataframe : Pandas Dataframe object\n",
    "        Data structure to slice and encode.\n",
    "    cat_enc : Scikit-learn categorical encoder (OneHot, Ordinal, or other.)\n",
    "        Encoder for categorical data.\n",
    "    num_enc : Scikit-learn numerical encoder (StandardScaler, MinMaxScaler, or other.)\n",
    "        Encoder for numerical data.\n",
    "    Returns\n",
    "    -------\n",
    "    a numpy array with the encoded attributes\n",
    "    generated encoders\n",
    "    \n",
    "    '''\n",
    "    if cat_enc is None and num_enc is None:\n",
    "        \n",
    "        # creating encoders for the data\n",
    "        cat_encoder = OneHotEncoder(sparse = False, handle_unknown = \"ignore\") # setting Sparse to false because i'll need to concatenate the numerical variables later\n",
    "        num_encoder = StandardScaler()\n",
    "        \n",
    "        cat_encoder.fit(dataframe.select_dtypes(include = \"object\"))\n",
    "        num_encoder.fit(dataframe.select_dtypes(exclude = \"object\"))\n",
    "        \n",
    "    else:\n",
    "        cat_encoder = cat_enc\n",
    "        num_encoder = num_enc\n",
    "\n",
    "    cat_slice = cat_encoder.transform(dataframe.select_dtypes(include = \"object\"))\n",
    "    num_slice = num_encoder.transform(dataframe.select_dtypes(exclude = \"object\"))\n",
    "    \n",
    "    array = np.concatenate([cat_slice, num_slice], axis=1)\n",
    "    \n",
    "    return array, cat_encoder, num_encoder\n",
    "\n",
    "def inverse_trans(array : np.array, cat_enc, num_enc):\n",
    "    '''\n",
    "    Inverse an encoded array or arrays into it's parent un-encoded parent object or a Pandas Dataframe (more than one sample).\n",
    "    \n",
    "    This function takes an array as an input and performs inverse transforms to return the array to its parent components.\n",
    "    The design of this function is limited to the transformations made in the function gen_array, thus this function is EXTREMELY LIMITED IN SCOPE.\n",
    "    \n",
    "    Parameters\n",
    "    ----------\n",
    "    array : numpy array object\n",
    "        Data structure to slice and inverse_encode.\n",
    "    cat_enc : Scikit-learn categorical encoder (OneHot, Ordinal, or other.)\n",
    "        Encoder for categorical data.\n",
    "    num_enc : Scikit-learn numerical encoder (StandardScaler, MinMaxScaler, or other.)\n",
    "        Encoder for numerical data.   \n",
    "    Returns\n",
    "    -------\n",
    "    a numpy array with the inversed_encoded attributes\n",
    "    '''\n",
    "    cat_features = array[:,:-2]\n",
    "    num_features = array[:,-2:]\n",
    "    \n",
    "    if cat_features.shape[0] == 1:\n",
    "        \n",
    "        cat_features = cat_enc.inverse_transform(cat_features.reshape(1, -1))\n",
    "        num_features = num_enc.inverse_transform(num_features.reshape(1, -1))\n",
    "        \n",
    "        fin_array = np.concatenate([cat_features, num_features], axis=1)\n",
    "        \n",
    "        return fin_array\n",
    "        \n",
    "    else:\n",
    "        \n",
    "        cat_features = cat_enc.inverse_transform(cat_features)\n",
    "        num_features = num_enc.inverse_transform(num_features)\n",
    "        \n",
    "        fin_array = np.concatenate([cat_features, num_features], axis=1)\n",
    "        \n",
    "        return fin_array"
   ]
  },
  {
   "cell_type": "markdown",
   "id": "b5c77a99-891e-4f62-abcc-9327fd442209",
   "metadata": {},
   "source": [
    "# Data_exploration"
   ]
  },
  {
   "cell_type": "markdown",
   "id": "645714d3-4bc9-4b13-a8d4-9da9c7b905d5",
   "metadata": {},
   "source": [
    "## Handling_missing_data"
   ]
  },
  {
   "cell_type": "code",
   "execution_count": 5,
   "id": "positive-handle",
   "metadata": {},
   "outputs": [
    {
     "name": "stdout",
     "output_type": "stream",
     "text": [
      "<class 'pandas.core.frame.DataFrame'>\n",
      "RangeIndex: 426880 entries, 0 to 426879\n",
      "Data columns (total 22 columns):\n",
      " #   Column        Non-Null Count   Dtype  \n",
      "---  ------        --------------   -----  \n",
      " 0   region        426880 non-null  object \n",
      " 1   region_url    426880 non-null  object \n",
      " 2   price         426880 non-null  int64  \n",
      " 3   year          425675 non-null  float64\n",
      " 4   manufacturer  409234 non-null  object \n",
      " 5   model         421603 non-null  object \n",
      " 6   condition     252776 non-null  object \n",
      " 7   cylinders     249202 non-null  object \n",
      " 8   fuel          423867 non-null  object \n",
      " 9   odometer      422480 non-null  float64\n",
      " 10  title_status  418638 non-null  object \n",
      " 11  transmission  424324 non-null  object \n",
      " 12  drive         296313 non-null  object \n",
      " 13  size          120519 non-null  object \n",
      " 14  type          334022 non-null  object \n",
      " 15  paint_color   296677 non-null  object \n",
      " 16  description   426810 non-null  object \n",
      " 17  county        0 non-null       float64\n",
      " 18  state         426880 non-null  object \n",
      " 19  lat           420331 non-null  float64\n",
      " 20  long          420331 non-null  float64\n",
      " 21  posting_date  426812 non-null  object \n",
      "dtypes: float64(5), int64(1), object(16)\n",
      "memory usage: 71.7+ MB\n"
     ]
    }
   ],
   "source": [
    "df.info()"
   ]
  },
  {
   "cell_type": "code",
   "execution_count": null,
   "id": "sudden-genome",
   "metadata": {
    "jupyter": {
     "source_hidden": true
    },
    "tags": []
   },
   "outputs": [],
   "source": []
  },
  {
   "cell_type": "markdown",
   "id": "administrative-mercury",
   "metadata": {},
   "source": [
    "Df.info() provides a good insight into the missing information, but let's try a different way to see how much missing data do we really have"
   ]
  },
  {
   "cell_type": "code",
   "execution_count": 6,
   "id": "directed-directory",
   "metadata": {},
   "outputs": [
    {
     "data": {
      "text/html": [
       "<div>\n",
       "<style scoped>\n",
       "    .dataframe tbody tr th:only-of-type {\n",
       "        vertical-align: middle;\n",
       "    }\n",
       "\n",
       "    .dataframe tbody tr th {\n",
       "        vertical-align: top;\n",
       "    }\n",
       "\n",
       "    .dataframe thead th {\n",
       "        text-align: right;\n",
       "    }\n",
       "</style>\n",
       "<table border=\"1\" class=\"dataframe\">\n",
       "  <thead>\n",
       "    <tr style=\"text-align: right;\">\n",
       "      <th></th>\n",
       "      <th>region</th>\n",
       "      <th>region_url</th>\n",
       "      <th>price</th>\n",
       "      <th>year</th>\n",
       "      <th>manufacturer</th>\n",
       "      <th>model</th>\n",
       "      <th>condition</th>\n",
       "      <th>cylinders</th>\n",
       "      <th>fuel</th>\n",
       "      <th>odometer</th>\n",
       "      <th>...</th>\n",
       "      <th>drive</th>\n",
       "      <th>size</th>\n",
       "      <th>type</th>\n",
       "      <th>paint_color</th>\n",
       "      <th>description</th>\n",
       "      <th>county</th>\n",
       "      <th>state</th>\n",
       "      <th>lat</th>\n",
       "      <th>long</th>\n",
       "      <th>posting_date</th>\n",
       "    </tr>\n",
       "  </thead>\n",
       "  <tbody>\n",
       "    <tr>\n",
       "      <th>0</th>\n",
       "      <td>0.0</td>\n",
       "      <td>0.0</td>\n",
       "      <td>0.0</td>\n",
       "      <td>0.282281</td>\n",
       "      <td>4.133714</td>\n",
       "      <td>1.236179</td>\n",
       "      <td>40.785232</td>\n",
       "      <td>41.62247</td>\n",
       "      <td>0.705819</td>\n",
       "      <td>1.030735</td>\n",
       "      <td>...</td>\n",
       "      <td>30.586347</td>\n",
       "      <td>71.767476</td>\n",
       "      <td>21.752717</td>\n",
       "      <td>30.501078</td>\n",
       "      <td>0.016398</td>\n",
       "      <td>100.0</td>\n",
       "      <td>0.0</td>\n",
       "      <td>1.534155</td>\n",
       "      <td>1.534155</td>\n",
       "      <td>0.01593</td>\n",
       "    </tr>\n",
       "  </tbody>\n",
       "</table>\n",
       "<p>1 rows × 22 columns</p>\n",
       "</div>"
      ],
      "text/plain": [
       "   region  region_url  price      year  manufacturer     model  condition  \\\n",
       "0     0.0         0.0    0.0  0.282281      4.133714  1.236179  40.785232   \n",
       "\n",
       "   cylinders      fuel  odometer  ...      drive       size       type  \\\n",
       "0   41.62247  0.705819  1.030735  ...  30.586347  71.767476  21.752717   \n",
       "\n",
       "   paint_color  description  county  state       lat      long  posting_date  \n",
       "0    30.501078     0.016398   100.0    0.0  1.534155  1.534155       0.01593  \n",
       "\n",
       "[1 rows x 22 columns]"
      ]
     },
     "execution_count": 6,
     "metadata": {},
     "output_type": "execute_result"
    }
   ],
   "source": [
    "# calculating all missing data points and normalizing to df size\n",
    "(df.isna().sum() * 100 / df.shape[0]).to_frame().T # setting the count as an horizontally-oriented frame for better visualization"
   ]
  },
  {
   "cell_type": "code",
   "execution_count": null,
   "id": "domestic-render",
   "metadata": {
    "jupyter": {
     "source_hidden": true
    },
    "tags": []
   },
   "outputs": [],
   "source": []
  },
  {
   "cell_type": "markdown",
   "id": "complete-stick",
   "metadata": {},
   "source": [
    "As we can see, columns such as:\n",
    "* County -> 100% missing data\n",
    "* size -> 71.76% missing data\n",
    "\n",
    "have large amounts of missing data that we can outright consider impossible to fix, so we will just delete them."
   ]
  },
  {
   "cell_type": "code",
   "execution_count": 7,
   "id": "tender-webmaster",
   "metadata": {},
   "outputs": [],
   "source": [
    "# I'll delete the columns with too much missing data to be recoverable\n",
    "df = df.drop(columns = [\"county\", \"size\"])"
   ]
  },
  {
   "cell_type": "code",
   "execution_count": 8,
   "id": "governing-fraud",
   "metadata": {},
   "outputs": [
    {
     "name": "stdout",
     "output_type": "stream",
     "text": [
      "<class 'pandas.core.frame.DataFrame'>\n",
      "RangeIndex: 426880 entries, 0 to 426879\n",
      "Data columns (total 20 columns):\n",
      " #   Column        Non-Null Count   Dtype  \n",
      "---  ------        --------------   -----  \n",
      " 0   region        426880 non-null  object \n",
      " 1   region_url    426880 non-null  object \n",
      " 2   price         426880 non-null  int64  \n",
      " 3   year          425675 non-null  float64\n",
      " 4   manufacturer  409234 non-null  object \n",
      " 5   model         421603 non-null  object \n",
      " 6   condition     252776 non-null  object \n",
      " 7   cylinders     249202 non-null  object \n",
      " 8   fuel          423867 non-null  object \n",
      " 9   odometer      422480 non-null  float64\n",
      " 10  title_status  418638 non-null  object \n",
      " 11  transmission  424324 non-null  object \n",
      " 12  drive         296313 non-null  object \n",
      " 13  type          334022 non-null  object \n",
      " 14  paint_color   296677 non-null  object \n",
      " 15  description   426810 non-null  object \n",
      " 16  state         426880 non-null  object \n",
      " 17  lat           420331 non-null  float64\n",
      " 18  long          420331 non-null  float64\n",
      " 19  posting_date  426812 non-null  object \n",
      "dtypes: float64(4), int64(1), object(15)\n",
      "memory usage: 65.1+ MB\n"
     ]
    }
   ],
   "source": [
    "# let's start exploring some of the remaining information to understand what kind of information do we have at hand\n",
    "## To begin with, let's start exploring REGION & REGION_URL\n",
    "df.info()"
   ]
  },
  {
   "cell_type": "code",
   "execution_count": 9,
   "id": "progressive-baptist",
   "metadata": {},
   "outputs": [
    {
     "data": {
      "text/plain": [
       "array(['prescott', 'fayetteville', 'florida keys',\n",
       "       'worcester / central MA', 'greensboro', 'hudson valley',\n",
       "       'medford-ashland', 'erie', 'el paso', 'bellingham'], dtype=object)"
      ]
     },
     "execution_count": 9,
     "metadata": {},
     "output_type": "execute_result"
    }
   ],
   "source": [
    "# Top 10 records in region\n",
    "df[\"region\"].unique()[:10]"
   ]
  },
  {
   "cell_type": "code",
   "execution_count": 10,
   "id": "tropical-superior",
   "metadata": {},
   "outputs": [
    {
     "data": {
      "text/plain": [
       "array(['https://prescott.craigslist.org', 'https://fayar.craigslist.org',\n",
       "       'https://keys.craigslist.org', 'https://worcester.craigslist.org',\n",
       "       'https://greensboro.craigslist.org',\n",
       "       'https://hudsonvalley.craigslist.org',\n",
       "       'https://medford.craigslist.org', 'https://erie.craigslist.org',\n",
       "       'https://elpaso.craigslist.org',\n",
       "       'https://bellingham.craigslist.org'], dtype=object)"
      ]
     },
     "execution_count": 10,
     "metadata": {},
     "output_type": "execute_result"
    }
   ],
   "source": [
    "# top 10 records in region URL\n",
    "df[\"region_url\"].unique()[:10]"
   ]
  },
  {
   "cell_type": "markdown",
   "id": "differential-example",
   "metadata": {},
   "source": [
    "In general, region and region_url seems to be related to the seller's location and both hold pretty much the same information.\n",
    "So, for the time being, I will delete only one of them.\n",
    "\n",
    "Additionally, since region already holds geographical information, we will discard lat and long."
   ]
  },
  {
   "cell_type": "code",
   "execution_count": 11,
   "id": "finished-expression",
   "metadata": {},
   "outputs": [],
   "source": [
    "df = df.drop(columns=[\"region_url\", \"lat\", \"long\"])"
   ]
  },
  {
   "cell_type": "markdown",
   "id": "statewide-retreat",
   "metadata": {},
   "source": [
    "Now, before we continue exploring the rest of columns with missing data or with possibly relevant features, let's verify if the description column holds any easily extractable information.\n",
    "\n",
    "Remember we won't any in-depth NLP tasks for this project"
   ]
  },
  {
   "cell_type": "code",
   "execution_count": 12,
   "id": "phantom-manhattan",
   "metadata": {},
   "outputs": [
    {
     "data": {
      "text/plain": [
       "array([nan,\n",
       "       \"Carvana is the safer way to buy a car During these uncertain times, Carvana is dedicated to ensuring safety for all of our customers. In addition to our 100% online shopping and selling experience that allows all customers to buy and trade their cars without ever leaving the safety of their house, we’re providing touchless delivery that make all aspects of our process even safer. Now, you can get the car you want, and trade in your old one, while avoiding person-to-person contact with our friendly advocates. There are some things that can’t be put off. And if buying a car is one of them, know that we’re doing everything we can to keep you keep moving while continuing to put your health safety, and happiness first. Vehicle Stock# 2000909557📱 Want to instantly check this car’s availability? Call us at  334-758-9176Just text that stock number to 855-976-4304 or head to http://www.carvanaauto.com/7171237-74502 and plug it into the search bar!Get PRE-QUALIFIED for your auto loan in 2 minutes - no hit to your credit:http://finance.carvanaauto.com/7171237-74502Looking for more cars like this one? We have 63 GMC Sierra 1500 Crew Cab in stock for as low as $23990!Why buy with Carvana? We have one standard: the highest. Take a look at just some of the qualifications all of our cars must meet before we list them.150-POINT INSPECTION: We put each vehicle through a 150-point inspection so that you can be 100% confident in its quality and safety. See everything that goes into our inspections at:http://www.carvanaauto.com/7171237-74502NO REPORTED ACCIDENTS: We do not sell cars that have been in a reported accident or have a frame or structural damage.7 DAY TEST OWN MONEY BACK GUARANTEE: Every Carvana car comes with a 7-day money-back guarantee. Why? It takes more than 15-minutes to make a decision on your next car. Learn more about test owning at http://about.carvanaauto.comFLEXIBLE FINANCING, TRADE INS WELCOME: We’re all about real-time financing without the middle man. Need financing? Pick a combination of down and monthly payments that work for you. Have a trade-in? We’ll give you a value in 2 minutes. Check out everything about our financing at:http://finance.carvanaauto.com/7171237-74502COST SAVINGS: Carvana's business model has fewer expenses and no bloated fees compared to your local dealership. See how much we can save you at http://about.carvanaauto.comPREMIUM DETAIL: We go the extra mile so that your car is looking as good as new. There are a lot of specifics that we won’t list here (we wash, clean, buff, paint, polish, wax, seal), but trust us that when your car arrives, it’s going to look sweet.Vehicle Info for Stock# 2000909557Trim: SLT Pickup 4D 5 3/4 ft pickupMileage: 57k milesExterior Color: WhiteInterior Color: Lt. BrownEngine: EcoTec3 5.3L Flex Fuel V8 355hp 383ft. lbs.Drive: Two Wheel DriveTransmission: VIN: 3GTP1VEC4EG551563Dealer Disclosure: Price excludes tax, title, and registration (which we handle for you).Disclaimer: You agree that by providing your phone number, Carvana, or Carvana’s authorized representatives*, may call and/or send text messages (including by using equipment to automatically dial telephone numbers) about your interest in a purchase, for marketing/sales purposes, or for any other servicing or informational purpose related to your account. You do not have to consent to receiving calls or texts to purchase from Carvana. While every reasonable effort is made to ensure the accuracy of the information for this GMC Sierra 1500 Crew Cab, we are not responsible for any errors or omissions contained in this ad. Please verify any information in question with Carvana at 334-758-9176*Including, but not limited to, Bridgecrest Credit Company, GO Financial and SilverRock Automotive.*GMC* *Sierra* *1500* *Crew* *Cab* *Base* *GMC* *Sierra* *1500* *Crew* *Cab* *SLE* *GMC* *Sierra* *1500* *Crew* *Cab* *SLT* *GMC* *Sierra* *1500* *Crew* *Cab* *Denali* *GMC* *Sierra* *1500* *Crew* *Cab* *Work* *Truck* *4x2* *GMC* *Sierra* *1500* *Crew* *Cab* *4x4* *Crew* *Cab* *GMC* *Sierra* *1500* *Crew* *Cab* *Regular* *Cab* *Extended* *Cab* *Truck* 2022  2021  2020  2019  2018  2017  2016  2015  2014  2013  2012  2011  2010  2009  2008  2007  2006  2005  2004  2003  2002  2001  2000   22  21    19  18  17  16  15  14  13  12  11  10  09  08  07  06  05  04  03  02  01  00\"],\n",
       "      dtype=object)"
      ]
     },
     "execution_count": 12,
     "metadata": {},
     "output_type": "execute_result"
    }
   ],
   "source": [
    "df[\"description\"].unique()[:2]"
   ]
  },
  {
   "cell_type": "code",
   "execution_count": null,
   "id": "related-circle",
   "metadata": {
    "jupyter": {
     "source_hidden": true
    },
    "tags": []
   },
   "outputs": [],
   "source": []
  },
  {
   "cell_type": "markdown",
   "id": "royal-disorder",
   "metadata": {},
   "source": [
    "Unfortunately it seems the description field holds a lot of information, but at this point i'm not considering using BERT for Named Entity Recognizition, Sentiment Analysis, or any other kind of relevant NLP task.\n",
    "\n",
    "As such, I will delete description."
   ]
  },
  {
   "cell_type": "code",
   "execution_count": 13,
   "id": "liquid-balloon",
   "metadata": {},
   "outputs": [],
   "source": [
    "df = df.drop(columns = \"description\")"
   ]
  },
  {
   "cell_type": "markdown",
   "id": "radical-cruise",
   "metadata": {},
   "source": [
    "Now, **price** is our target so we will not perform any analysis in it.\n",
    "\n",
    "Let's explore some more features!"
   ]
  },
  {
   "cell_type": "code",
   "execution_count": 14,
   "id": "studied-candidate",
   "metadata": {},
   "outputs": [
    {
     "data": {
      "text/plain": [
       "NaN          174104\n",
       "good         121456\n",
       "excellent    101467\n",
       "like new      21178\n",
       "fair           6769\n",
       "new            1305\n",
       "salvage         601\n",
       "Name: condition, dtype: int64"
      ]
     },
     "execution_count": 14,
     "metadata": {},
     "output_type": "execute_result"
    }
   ],
   "source": [
    "# Analyzing condition\n",
    "df[\"condition\"].value_counts(dropna = False)"
   ]
  },
  {
   "cell_type": "code",
   "execution_count": 15,
   "id": "awful-anatomy",
   "metadata": {},
   "outputs": [
    {
     "data": {
      "text/plain": [
       "Not relevant    174104\n",
       "good            121456\n",
       "excellent       101467\n",
       "like new         21178\n",
       "fair              6769\n",
       "new               1305\n",
       "salvage            601\n",
       "Name: condition, dtype: int64"
      ]
     },
     "execution_count": 15,
     "metadata": {},
     "output_type": "execute_result"
    }
   ],
   "source": [
    "# It seems condition is a simply a string describing the state of the vehicle, possibly from a dropdown menu. \n",
    "# In this case, instead of getting rid of the non-provided data we can fill with a placeholder string\n",
    "df[\"condition\"] = df[\"condition\"].fillna(value = \"Not relevant\")\n",
    "df[\"condition\"].value_counts(dropna = False)"
   ]
  },
  {
   "cell_type": "code",
   "execution_count": 16,
   "id": "cathedral-keeping",
   "metadata": {},
   "outputs": [
    {
     "data": {
      "text/plain": [
       "NaN             177678\n",
       "6 cylinders      94169\n",
       "4 cylinders      77642\n",
       "8 cylinders      72062\n",
       "5 cylinders       1712\n",
       "10 cylinders      1455\n",
       "other             1298\n",
       "3 cylinders        655\n",
       "12 cylinders       209\n",
       "Name: cylinders, dtype: int64"
      ]
     },
     "execution_count": 16,
     "metadata": {},
     "output_type": "execute_result"
    }
   ],
   "source": [
    "df[\"cylinders\"].value_counts(dropna = False)"
   ]
  },
  {
   "cell_type": "code",
   "execution_count": null,
   "id": "apparent-watts",
   "metadata": {
    "jupyter": {
     "source_hidden": true
    },
    "tags": []
   },
   "outputs": [],
   "source": []
  },
  {
   "cell_type": "markdown",
   "id": "passive-burke",
   "metadata": {},
   "source": [
    "For simplicity's sake, I'll provide cylinders the same treatment as \"condition\"."
   ]
  },
  {
   "cell_type": "code",
   "execution_count": 17,
   "id": "underlying-parameter",
   "metadata": {},
   "outputs": [
    {
     "data": {
      "text/plain": [
       "Not relevant    177678\n",
       "6 cylinders      94169\n",
       "4 cylinders      77642\n",
       "8 cylinders      72062\n",
       "5 cylinders       1712\n",
       "10 cylinders      1455\n",
       "other             1298\n",
       "3 cylinders        655\n",
       "12 cylinders       209\n",
       "Name: cylinders, dtype: int64"
      ]
     },
     "execution_count": 17,
     "metadata": {},
     "output_type": "execute_result"
    }
   ],
   "source": [
    "df[\"cylinders\"] = df[\"cylinders\"].fillna(value = \"Not relevant\")\n",
    "df[\"cylinders\"].value_counts(dropna = False)"
   ]
  },
  {
   "cell_type": "code",
   "execution_count": 18,
   "id": "subsequent-bible",
   "metadata": {},
   "outputs": [
    {
     "data": {
      "text/plain": [
       "4wd    131904\n",
       "NaN    130567\n",
       "fwd    105517\n",
       "rwd     58892\n",
       "Name: drive, dtype: int64"
      ]
     },
     "execution_count": 18,
     "metadata": {},
     "output_type": "execute_result"
    }
   ],
   "source": [
    "df[\"drive\"].value_counts(dropna = False)"
   ]
  },
  {
   "cell_type": "code",
   "execution_count": 19,
   "id": "innovative-starter",
   "metadata": {},
   "outputs": [
    {
     "data": {
      "text/plain": [
       "NaN            92858\n",
       "sedan          87056\n",
       "SUV            77284\n",
       "pickup         43510\n",
       "truck          35279\n",
       "other          22110\n",
       "coupe          19204\n",
       "hatchback      16598\n",
       "wagon          10751\n",
       "van             8548\n",
       "convertible     7731\n",
       "mini-van        4825\n",
       "offroad          609\n",
       "bus              517\n",
       "Name: type, dtype: int64"
      ]
     },
     "execution_count": 19,
     "metadata": {},
     "output_type": "execute_result"
    }
   ],
   "source": [
    "df[\"type\"].value_counts(dropna = False)"
   ]
  },
  {
   "cell_type": "code",
   "execution_count": 20,
   "id": "material-rocket",
   "metadata": {},
   "outputs": [
    {
     "data": {
      "text/plain": [
       "NaN       130203\n",
       "white      79285\n",
       "black      62861\n",
       "silver     42970\n",
       "blue       31223\n",
       "red        30473\n",
       "grey       24416\n",
       "green       7343\n",
       "custom      6700\n",
       "brown       6593\n",
       "yellow      2142\n",
       "orange      1984\n",
       "purple       687\n",
       "Name: paint_color, dtype: int64"
      ]
     },
     "execution_count": 20,
     "metadata": {},
     "output_type": "execute_result"
    }
   ],
   "source": [
    "df[\"paint_color\"].value_counts(dropna = False)"
   ]
  },
  {
   "cell_type": "code",
   "execution_count": 21,
   "id": "unnecessary-attachment",
   "metadata": {},
   "outputs": [
    {
     "data": {
      "text/plain": [
       "gas         356209\n",
       "other        30728\n",
       "diesel       30062\n",
       "hybrid        5170\n",
       "NaN           3013\n",
       "electric      1698\n",
       "Name: fuel, dtype: int64"
      ]
     },
     "execution_count": 21,
     "metadata": {},
     "output_type": "execute_result"
    }
   ],
   "source": [
    "df[\"fuel\"].value_counts(dropna = False)"
   ]
  },
  {
   "cell_type": "code",
   "execution_count": 22,
   "id": "danish-adventure",
   "metadata": {},
   "outputs": [
    {
     "data": {
      "text/plain": [
       "clean         405117\n",
       "NaN             8242\n",
       "rebuilt         7219\n",
       "salvage         3868\n",
       "lien            1422\n",
       "missing          814\n",
       "parts only       198\n",
       "Name: title_status, dtype: int64"
      ]
     },
     "execution_count": 22,
     "metadata": {},
     "output_type": "execute_result"
    }
   ],
   "source": [
    "df[\"title_status\"].value_counts(dropna = False)"
   ]
  },
  {
   "cell_type": "code",
   "execution_count": 23,
   "id": "perceived-buying",
   "metadata": {},
   "outputs": [
    {
     "data": {
      "text/plain": [
       "automatic    336524\n",
       "other         62682\n",
       "manual        25118\n",
       "NaN            2556\n",
       "Name: transmission, dtype: int64"
      ]
     },
     "execution_count": 23,
     "metadata": {},
     "output_type": "execute_result"
    }
   ],
   "source": [
    "df[\"transmission\"].value_counts(dropna = False)"
   ]
  },
  {
   "cell_type": "code",
   "execution_count": null,
   "id": "personal-financing",
   "metadata": {
    "jupyter": {
     "source_hidden": true
    },
    "tags": []
   },
   "outputs": [],
   "source": []
  },
  {
   "cell_type": "markdown",
   "id": "supported-nature",
   "metadata": {},
   "source": [
    "Drive, type, fuel, paint_color and the like have similarly high amounts of missing data, however we won't want to discard them as they might hold relevance for many sellers, so we will give them the same treatment as both condition and cylinders."
   ]
  },
  {
   "cell_type": "code",
   "execution_count": 24,
   "id": "temporal-jones",
   "metadata": {},
   "outputs": [],
   "source": [
    "df[\"drive\"] = df[\"drive\"].fillna(value = \"Not relevant\")\n",
    "df[\"type\"] = df[\"type\"].fillna(value = \"Not relevant\")\n",
    "df[\"paint_color\"] = df[\"paint_color\"].fillna(value = \"Not relevant\")\n",
    "df[\"fuel\"] = df[\"fuel\"].fillna(value = \"Not relevant\")\n",
    "df[\"title_status\"] = df[\"title_status\"].fillna(value = \"Not relevant\")\n",
    "df[\"transmission\"] = df[\"transmission\"].fillna(value = \"Not relevant\")"
   ]
  },
  {
   "cell_type": "code",
   "execution_count": 25,
   "id": "banned-example",
   "metadata": {},
   "outputs": [
    {
     "data": {
      "text/html": [
       "<div>\n",
       "<style scoped>\n",
       "    .dataframe tbody tr th:only-of-type {\n",
       "        vertical-align: middle;\n",
       "    }\n",
       "\n",
       "    .dataframe tbody tr th {\n",
       "        vertical-align: top;\n",
       "    }\n",
       "\n",
       "    .dataframe thead th {\n",
       "        text-align: right;\n",
       "    }\n",
       "</style>\n",
       "<table border=\"1\" class=\"dataframe\">\n",
       "  <thead>\n",
       "    <tr style=\"text-align: right;\">\n",
       "      <th></th>\n",
       "      <th>region</th>\n",
       "      <th>price</th>\n",
       "      <th>year</th>\n",
       "      <th>manufacturer</th>\n",
       "      <th>model</th>\n",
       "      <th>condition</th>\n",
       "      <th>cylinders</th>\n",
       "      <th>fuel</th>\n",
       "      <th>odometer</th>\n",
       "      <th>title_status</th>\n",
       "      <th>transmission</th>\n",
       "      <th>drive</th>\n",
       "      <th>type</th>\n",
       "      <th>paint_color</th>\n",
       "      <th>state</th>\n",
       "      <th>posting_date</th>\n",
       "    </tr>\n",
       "  </thead>\n",
       "  <tbody>\n",
       "    <tr>\n",
       "      <th>0</th>\n",
       "      <td>0.0</td>\n",
       "      <td>0.0</td>\n",
       "      <td>0.282281</td>\n",
       "      <td>4.133714</td>\n",
       "      <td>1.236179</td>\n",
       "      <td>0.0</td>\n",
       "      <td>0.0</td>\n",
       "      <td>0.0</td>\n",
       "      <td>1.030735</td>\n",
       "      <td>0.0</td>\n",
       "      <td>0.0</td>\n",
       "      <td>0.0</td>\n",
       "      <td>0.0</td>\n",
       "      <td>0.0</td>\n",
       "      <td>0.0</td>\n",
       "      <td>0.01593</td>\n",
       "    </tr>\n",
       "  </tbody>\n",
       "</table>\n",
       "</div>"
      ],
      "text/plain": [
       "   region  price      year  manufacturer     model  condition  cylinders  \\\n",
       "0     0.0    0.0  0.282281      4.133714  1.236179        0.0        0.0   \n",
       "\n",
       "   fuel  odometer  title_status  transmission  drive  type  paint_color  \\\n",
       "0   0.0  1.030735           0.0           0.0    0.0   0.0          0.0   \n",
       "\n",
       "   state  posting_date  \n",
       "0    0.0       0.01593  "
      ]
     },
     "execution_count": 25,
     "metadata": {},
     "output_type": "execute_result"
    }
   ],
   "source": [
    "# Let's recalculate the missing to see how much we have done\n",
    "(df.isna().sum() * 100 / df.shape[0]).to_frame().T"
   ]
  },
  {
   "cell_type": "markdown",
   "id": "adjustable-dodge",
   "metadata": {},
   "source": [
    "We have gotten rid of remarkable amount of missing data, but we still have some missing data. At this point I evaluated my options:\n",
    "\n",
    "The largest amount of remaining missing data comes from \"MANUFACTURER\". Now, in general terms this is considered a CRITICAL FEATURE: Regardless of statistical signals, due to SME everyone knows you can't possibly buy a car without knowing its manufacturer.\n",
    "\n",
    "Let's see if it's possible to infer the manufacturer from the model."
   ]
  },
  {
   "cell_type": "code",
   "execution_count": 26,
   "id": "identical-evaluation",
   "metadata": {},
   "outputs": [
    {
     "data": {
      "text/plain": [
       "Scion iM Hatchback 4D              640\n",
       "smart fortwo Passion Hatchback     168\n",
       "Genesis G80 3.8 Sedan 4D           163\n",
       "Freightliner Cascadia              153\n",
       "International 4300                 148\n",
       "                                  ... \n",
       "Police interceptor explorer          1\n",
       "PS30                                 1\n",
       "Maserati Ghibli S Q4  4dr Sedan      1\n",
       "Jeep, Rubicon                        1\n",
       "2002 F150 4 WD                       1\n",
       "Name: model, Length: 6055, dtype: int64"
      ]
     },
     "execution_count": 26,
     "metadata": {},
     "output_type": "execute_result"
    }
   ],
   "source": [
    "missing_manf = df[df[\"manufacturer\"].isna()] # creating a new df just to explore this posibility\n",
    "missing_manf[\"model\"].value_counts()"
   ]
  },
  {
   "cell_type": "markdown",
   "id": "about-houston",
   "metadata": {},
   "source": [
    "It seems we have 6055 different \"models\" to possibly infer the manufacturer. Although technically possible, I will consider this **unfeasible** for a one person, exploratory project. As such, **I have decided to delete all the rows where we have no manufacturer information**"
   ]
  },
  {
   "cell_type": "code",
   "execution_count": 27,
   "id": "dedicated-runner",
   "metadata": {},
   "outputs": [],
   "source": [
    "del missing_manf # let's get rid of this memory space\n",
    "df = df.dropna(subset = [\"manufacturer\"]) # deleting all rows where there is no manufacturer information"
   ]
  },
  {
   "cell_type": "code",
   "execution_count": 28,
   "id": "guided-characterization",
   "metadata": {},
   "outputs": [
    {
     "data": {
      "text/html": [
       "<div>\n",
       "<style scoped>\n",
       "    .dataframe tbody tr th:only-of-type {\n",
       "        vertical-align: middle;\n",
       "    }\n",
       "\n",
       "    .dataframe tbody tr th {\n",
       "        vertical-align: top;\n",
       "    }\n",
       "\n",
       "    .dataframe thead th {\n",
       "        text-align: right;\n",
       "    }\n",
       "</style>\n",
       "<table border=\"1\" class=\"dataframe\">\n",
       "  <thead>\n",
       "    <tr style=\"text-align: right;\">\n",
       "      <th></th>\n",
       "      <th>region</th>\n",
       "      <th>price</th>\n",
       "      <th>year</th>\n",
       "      <th>manufacturer</th>\n",
       "      <th>model</th>\n",
       "      <th>condition</th>\n",
       "      <th>cylinders</th>\n",
       "      <th>fuel</th>\n",
       "      <th>odometer</th>\n",
       "      <th>title_status</th>\n",
       "      <th>transmission</th>\n",
       "      <th>drive</th>\n",
       "      <th>type</th>\n",
       "      <th>paint_color</th>\n",
       "      <th>state</th>\n",
       "      <th>posting_date</th>\n",
       "    </tr>\n",
       "  </thead>\n",
       "  <tbody>\n",
       "    <tr>\n",
       "      <th>0</th>\n",
       "      <td>0.0</td>\n",
       "      <td>0.0</td>\n",
       "      <td>0.001466</td>\n",
       "      <td>0.0</td>\n",
       "      <td>1.272622</td>\n",
       "      <td>0.0</td>\n",
       "      <td>0.0</td>\n",
       "      <td>0.0</td>\n",
       "      <td>1.014334</td>\n",
       "      <td>0.0</td>\n",
       "      <td>0.0</td>\n",
       "      <td>0.0</td>\n",
       "      <td>0.0</td>\n",
       "      <td>0.0</td>\n",
       "      <td>0.0</td>\n",
       "      <td>0.0</td>\n",
       "    </tr>\n",
       "  </tbody>\n",
       "</table>\n",
       "</div>"
      ],
      "text/plain": [
       "   region  price      year  manufacturer     model  condition  cylinders  \\\n",
       "0     0.0    0.0  0.001466           0.0  1.272622        0.0        0.0   \n",
       "\n",
       "   fuel  odometer  title_status  transmission  drive  type  paint_color  \\\n",
       "0   0.0  1.014334           0.0           0.0    0.0   0.0          0.0   \n",
       "\n",
       "   state  posting_date  \n",
       "0    0.0           0.0  "
      ]
     },
     "execution_count": 28,
     "metadata": {},
     "output_type": "execute_result"
    }
   ],
   "source": [
    "# Let's recalculate the missing to see how much we have done\n",
    "(df.isna().sum() * 100 / df.shape[0]).to_frame().T"
   ]
  },
  {
   "cell_type": "markdown",
   "id": "relative-opening",
   "metadata": {},
   "source": [
    "At this point I don't there's no other actionable in regards to missing data, so I will drop whatever is left."
   ]
  },
  {
   "cell_type": "code",
   "execution_count": 29,
   "id": "sharing-niger",
   "metadata": {},
   "outputs": [],
   "source": [
    "df = df.dropna()"
   ]
  },
  {
   "cell_type": "markdown",
   "id": "b4e3a8c3-14cf-4fe0-96d9-89f192ed9ff4",
   "metadata": {},
   "source": [
    "## Exploratory_data_analysis"
   ]
  },
  {
   "cell_type": "markdown",
   "id": "d2a09033-5cf0-49c5-af18-f313311911a4",
   "metadata": {},
   "source": [
    "To start the exploratory data analysis, let's explore how does our target variable (price) is distributed!\n",
    "\n",
    "As always, remember that we can only perform our analysis on the split data!"
   ]
  },
  {
   "cell_type": "code",
   "execution_count": 30,
   "id": "10984947-a8e7-4748-8b27-1a6885fcf0cc",
   "metadata": {},
   "outputs": [
    {
     "data": {
      "image/png": "[encoded data removed]",
      "text/plain": [
       "<Figure size 1440x432 with 1 Axes>"
      ]
     },
     "metadata": {
      "needs_background": "light"
     },
     "output_type": "display_data"
    }
   ],
   "source": [
    "plt.figure(figsize=(20,6))\n",
    "sns.histplot(data = df[\"price\"], bins = 20)\n",
    "plt.ticklabel_format(style='plain', axis='x')"
   ]
  },
  {
   "cell_type": "markdown",
   "id": "f430584e-ce5f-4228-992d-89e6708953de",
   "metadata": {},
   "source": [
    "Strangely enough we can see that something's with how our data is being represented. Why is our X axis going so far away? At first glance it seems we have some massive **OUTLIERS** that are preventing an accurate representation of the data.\n",
    "\n",
    "At this point, and based on personal criteria, I decided to visualize an outlier as **any vehicle worth more than 50,000**. (Randomly selected)"
   ]
  },
  {
   "cell_type": "code",
   "execution_count": 31,
   "id": "bac9f22e-4ae8-46d1-ab32-f3d1475995f8",
   "metadata": {},
   "outputs": [
    {
     "data": {
      "text/plain": [
       "2.780313241623175"
      ]
     },
     "execution_count": 31,
     "metadata": {},
     "output_type": "execute_result"
    }
   ],
   "source": [
    "# Let's find out how many outliers we have, as a percentage\n",
    "df[\"price\"][df[\"price\"] > 50000].shape[0] / df.shape[0] * 100"
   ]
  },
  {
   "cell_type": "markdown",
   "id": "035d4dc2-f613-4d8b-98aa-9cb4cd11014c",
   "metadata": {},
   "source": [
    "Based on these results we can say that 2.78% of our data consists of outliers. In this respect, and considering my personal definition of outliers in regards to price, **I will delete all records for vehicles whose prices is above 50,000**. These prices are either typos, placeholders, or vehicles that cannot be trivially valued (classics, restorations, etc)."
   ]
  },
  {
   "cell_type": "code",
   "execution_count": 32,
   "id": "6ad9d744-0308-474d-ac84-02e2d2f2ce86",
   "metadata": {},
   "outputs": [],
   "source": [
    "df = df[df[\"price\"] < 50000]"
   ]
  },
  {
   "cell_type": "markdown",
   "id": "ee35c667-a8e2-486a-97dc-5b8b95fc7f57",
   "metadata": {},
   "source": [
    "I'll also do an additional sanity check and see how many vehicles are worth less than 1000 USD. I'll consider vehicles below 1k outliers if they are less than 5% of the remaining info."
   ]
  },
  {
   "cell_type": "code",
   "execution_count": 33,
   "id": "83d1722c-1e66-487a-92fd-0420e7804ead",
   "metadata": {},
   "outputs": [
    {
     "data": {
      "text/plain": [
       "10.514575920594615"
      ]
     },
     "execution_count": 33,
     "metadata": {},
     "output_type": "execute_result"
    }
   ],
   "source": [
    "df[df[\"price\"] < 1000].shape[0] / df.shape[0] * 100"
   ]
  },
  {
   "cell_type": "markdown",
   "id": "9137c462-d419-4f15-b317-a2f0e063e205",
   "metadata": {},
   "source": [
    "It's a difficult decision since **10%** of ALL samples are below 1,000 USD.\n",
    "\n",
    "After thoughtful consideration I decided to eliminate these samples because:\n",
    "* Vehicles worth / being sold at less than 1,000 USD are mostly broken cars or vehicles with major faults\n",
    "* There's a high possibility these are typos here (put 900 instead of 9,000) but this cannot be corrected if true.\n",
    "\n",
    "Among other things. \n",
    "\n",
    "As such, I will **delete ALL VEHICLES WITH A LISTED SALES PRICE OF LESS THAN 1,000 USD**"
   ]
  },
  {
   "cell_type": "code",
   "execution_count": 34,
   "id": "684d47bb-7aaf-4077-bb5b-aedf2c418d76",
   "metadata": {},
   "outputs": [],
   "source": [
    "df = df[df[\"price\"] > 1000]"
   ]
  },
  {
   "cell_type": "code",
   "execution_count": 35,
   "id": "1c0b3544-9b49-41a1-9048-0a6d0d3f0e87",
   "metadata": {},
   "outputs": [
    {
     "data": {
      "image/png": "[encoded data removed]",
      "text/plain": [
       "<Figure size 1440x432 with 1 Axes>"
      ]
     },
     "metadata": {
      "needs_background": "light"
     },
     "output_type": "display_data"
    }
   ],
   "source": [
    "# Let's try visualizing the price distribution now that are rid of outliers \n",
    "plt.figure(figsize=(20,6))\n",
    "ax = sns.histplot(data = df[\"price\"], bins = 35, kde = True, stat = \"probability\")\n",
    "# adding ticks every 5,000 USD\n",
    "ax.xaxis.set_major_locator(MultipleLocator(2500)) "
   ]
  },
  {
   "cell_type": "markdown",
   "id": "2d6b67c7-9a25-4a26-8843-1d322877f99e",
   "metadata": {},
   "source": [
    "As it happens with most price related distributions, we can see that the majority of sales / prices are on the left side, cheaper side. In particular, ~42% of sales are below 10,000 USD. A  mental sanity check says this is reasonable as these are used vehicles.\n",
    "\n",
    "Another interesting insight is that, despite the right-skew of the distribution, the descent or in other words, how far the data goes to the other side, is not very steep. I interpret this as good because it seems we have a captured and understood the underlying behaviour of the data.\n",
    "\n",
    "Now, my next step would to dive deeper into some of the features and see what else we can find and learn!"
   ]
  },
  {
   "cell_type": "code",
   "execution_count": 36,
   "id": "dependent-rolling",
   "metadata": {},
   "outputs": [
    {
     "name": "stdout",
     "output_type": "stream",
     "text": [
      "<class 'pandas.core.frame.DataFrame'>\n",
      "Int64Index: 346855 entries, 27 to 426879\n",
      "Data columns (total 16 columns):\n",
      " #   Column        Non-Null Count   Dtype  \n",
      "---  ------        --------------   -----  \n",
      " 0   region        346855 non-null  object \n",
      " 1   price         346855 non-null  int64  \n",
      " 2   year          346855 non-null  float64\n",
      " 3   manufacturer  346855 non-null  object \n",
      " 4   model         346855 non-null  object \n",
      " 5   condition     346855 non-null  object \n",
      " 6   cylinders     346855 non-null  object \n",
      " 7   fuel          346855 non-null  object \n",
      " 8   odometer      346855 non-null  float64\n",
      " 9   title_status  346855 non-null  object \n",
      " 10  transmission  346855 non-null  object \n",
      " 11  drive         346855 non-null  object \n",
      " 12  type          346855 non-null  object \n",
      " 13  paint_color   346855 non-null  object \n",
      " 14  state         346855 non-null  object \n",
      " 15  posting_date  346855 non-null  object \n",
      "dtypes: float64(2), int64(1), object(13)\n",
      "memory usage: 45.0+ MB\n"
     ]
    }
   ],
   "source": [
    "df.info()"
   ]
  },
  {
   "cell_type": "code",
   "execution_count": null,
   "id": "420aa4ad-05db-4cb4-a929-29c4f7e2f6a8",
   "metadata": {
    "jupyter": {
     "source_hidden": true
    },
    "tags": []
   },
   "outputs": [],
   "source": []
  },
  {
   "cell_type": "markdown",
   "id": "surprising-spiritual",
   "metadata": {},
   "source": [
    "Although most of our data is in text strings, let's try running a correlation analysis to see any / importance of the few numerical features we have"
   ]
  },
  {
   "cell_type": "code",
   "execution_count": 37,
   "id": "6735685c-ee09-45bb-bc9f-0f9118c79783",
   "metadata": {},
   "outputs": [
    {
     "data": {
      "text/plain": [
       "<AxesSubplot:>"
      ]
     },
     "execution_count": 37,
     "metadata": {},
     "output_type": "execute_result"
    },
    {
     "data": {
      "image/png": "[encoded data removed]",
      "text/plain": [
       "<Figure size 1440x432 with 2 Axes>"
      ]
     },
     "metadata": {
      "needs_background": "light"
     },
     "output_type": "display_data"
    }
   ],
   "source": [
    "plt.figure(figsize=(20,6))\n",
    "sns.heatmap(df.corr(), annot = True, cmap=\"PuOr\")"
   ]
  },
  {
   "cell_type": "markdown",
   "id": "8d1ae05f-55a0-46c3-b6f4-01e3593962c9",
   "metadata": {},
   "source": [
    "These preliminary observations are interesting and the results for odometer align with one would expect! That is, the more a car has been on the road, the less it is worth.\n",
    "\n",
    "Nevertheless, there is a problem with year here. Year's correlation is OK, but the direction is counter to logic. The problem might stem that, since these records do not belong a specific year, the car's manufacturing year isn't the most accurate metric for the cars age. In this case we need to calculate a proxy for the vehicles age."
   ]
  },
  {
   "cell_type": "code",
   "execution_count": 38,
   "id": "12b86c35-8806-4623-9b16-0690009b81e8",
   "metadata": {},
   "outputs": [
    {
     "data": {
      "text/plain": [
       "27       2021-05-04 17:31:18+00:00\n",
       "28       2021-05-04 17:31:08+00:00\n",
       "29       2021-05-04 17:31:25+00:00\n",
       "30       2021-05-04 15:41:31+00:00\n",
       "31       2021-05-03 19:02:03+00:00\n",
       "                    ...           \n",
       "426875   2021-04-04 09:21:31+00:00\n",
       "426876   2021-04-04 09:21:29+00:00\n",
       "426877   2021-04-04 09:21:17+00:00\n",
       "426878   2021-04-04 09:21:11+00:00\n",
       "426879   2021-04-04 09:21:07+00:00\n",
       "Name: posting_date, Length: 346855, dtype: datetime64[ns, UTC]"
      ]
     },
     "execution_count": 38,
     "metadata": {},
     "output_type": "execute_result"
    }
   ],
   "source": [
    "# first, we'll convert the posting date to an actual timestamp\n",
    "df[\"posting_date\"] = pd.to_datetime(df[\"posting_date\"], utc = True)\n",
    "df[\"posting_date\"]"
   ]
  },
  {
   "cell_type": "code",
   "execution_count": 39,
   "id": "2e786ffd-0c2f-4cbf-9afe-09a0fc9bb4d8",
   "metadata": {},
   "outputs": [
    {
     "data": {
      "text/plain": [
       "3.0      28812\n",
       "4.0      28698\n",
       "8.0      25986\n",
       "6.0      25240\n",
       "7.0      24860\n",
       "         ...  \n",
       "78.0         1\n",
       "121.0        1\n",
       "116.0        1\n",
       "99.0         1\n",
       "106.0        1\n",
       "Name: age, Length: 107, dtype: int64"
      ]
     },
     "execution_count": 39,
     "metadata": {},
     "output_type": "execute_result"
    }
   ],
   "source": [
    "# In this case what we really care is neither the cars year of manufacture NOR the posting date (this would always be *now* for a new prediction)\n",
    "# The real variable is the cars AGE which would be -> Current_year - cars_mfg_year\n",
    "df[\"age\"] = df[\"posting_date\"].dt.year - df[\"year\"] # Extract the year from posting date and substract the cars MFG age to get its \"age\" at sale time\n",
    "df[\"age\"].value_counts()"
   ]
  },
  {
   "cell_type": "code",
   "execution_count": 40,
   "id": "3796eec9-32db-4260-bfa2-6df9322768ab",
   "metadata": {},
   "outputs": [
    {
     "data": {
      "text/plain": [
       "<AxesSubplot:>"
      ]
     },
     "execution_count": 40,
     "metadata": {},
     "output_type": "execute_result"
    },
    {
     "data": {
      "image/png": "[encoded data removed]",
      "text/plain": [
       "<Figure size 1440x432 with 2 Axes>"
      ]
     },
     "metadata": {
      "needs_background": "light"
     },
     "output_type": "display_data"
    }
   ],
   "source": [
    "# Let's run correlations again to see if there's any difference\n",
    "plt.figure(figsize=(20,6))\n",
    "sns.heatmap(df.corr(), annot = True, cmap=\"PuOr\")"
   ]
  },
  {
   "cell_type": "code",
   "execution_count": null,
   "id": "6445b387-223c-49d0-b32b-8e5f92cdf02f",
   "metadata": {
    "jupyter": {
     "source_hidden": true
    },
    "tags": []
   },
   "outputs": [],
   "source": []
  },
  {
   "cell_type": "markdown",
   "id": "6dfd4f58-fed5-490e-b50f-736bd20769e4",
   "metadata": {},
   "source": [
    "As desired, the feature \"age\" captures the correct direction of the relationship as one would expect.\n",
    "\n",
    "In this situation, as the designer of this exercise, I have chosen to preserve **age** as the real predicting variable to maintain as it:\n",
    "* contains both MFG Year and year of inquire as part of a single variable\n",
    "* reduces the complexity (even if only by 1 feature) of the model\n",
    "\n",
    "As such, I will delete both \"year\" and \"posting date\""
   ]
  },
  {
   "cell_type": "code",
   "execution_count": 41,
   "id": "19150ed4-3e51-4874-b313-5cb4d2ea6b6a",
   "metadata": {},
   "outputs": [],
   "source": [
    "df = df.drop(columns = [\"year\", \"posting_date\"])"
   ]
  },
  {
   "cell_type": "markdown",
   "id": "c5462c14-398f-453c-bd5e-1fe3e870ae6b",
   "metadata": {},
   "source": [
    "Now that we have created the correct proxy variable, let's try visualizing how price behaves in regards to our numerical variables!"
   ]
  },
  {
   "cell_type": "code",
   "execution_count": 42,
   "id": "c96d674e-774b-420e-ac11-ec82f9f101e1",
   "metadata": {},
   "outputs": [
    {
     "data": {
      "image/png": "[encoded data removed]",
      "text/plain": [
       "<Figure size 432x432 with 3 Axes>"
      ]
     },
     "metadata": {
      "needs_background": "light"
     },
     "output_type": "display_data"
    }
   ],
   "source": [
    "sns.jointplot(data = df, x = \"odometer\", y = \"price\", height = 6);"
   ]
  },
  {
   "cell_type": "code",
   "execution_count": 43,
   "id": "9dd9c92f-642c-414a-9711-e2b46882a6f3",
   "metadata": {},
   "outputs": [
    {
     "data": {
      "image/png": "[encoded data removed]",
      "text/plain": [
       "<Figure size 432x432 with 3 Axes>"
      ]
     },
     "metadata": {
      "needs_background": "light"
     },
     "output_type": "display_data"
    }
   ],
   "source": [
    "sns.jointplot(data = df, x = \"age\", y = \"price\", height = 6);"
   ]
  },
  {
   "cell_type": "markdown",
   "id": "d2db92db-3dbe-4625-bf11-86aea023aede",
   "metadata": {},
   "source": [
    "The relationships are difficult to visualize with the jointplots, but with some effort we can observe hints at the relationships captured by the correlations."
   ]
  },
  {
   "cell_type": "code",
   "execution_count": null,
   "id": "c5a118af-844c-4b57-9e80-8386a0d60593",
   "metadata": {
    "jupyter": {
     "source_hidden": true
    },
    "tags": []
   },
   "outputs": [],
   "source": []
  },
  {
   "cell_type": "markdown",
   "id": "82e70b6b-a058-4b49-b0cc-b98b5105543e",
   "metadata": {},
   "source": [
    "After analyzing the numerical features, I will now start exploring the categorical data!\n",
    "\n",
    "In this case there's no correlations, but I will start by visualizing distributions based on countplots."
   ]
  },
  {
   "cell_type": "code",
   "execution_count": 44,
   "id": "faae72b4-ee35-4b04-b435-ec7829bbef93",
   "metadata": {},
   "outputs": [],
   "source": [
    "# separating column names for easier plotting\n",
    "cat_cols = list(df.select_dtypes(include=\"object\").columns)\n",
    "num_cols = list(df.select_dtypes(include=\"float64\"))"
   ]
  },
  {
   "cell_type": "code",
   "execution_count": 45,
   "id": "b860fda3-3261-4511-8ed2-336c3e481802",
   "metadata": {},
   "outputs": [
    {
     "data": {
      "image/png": "[encoded data removed]",
      "text/plain": [
       "<Figure size 1800x720 with 12 Axes>"
      ]
     },
     "metadata": {
      "needs_background": "light"
     },
     "output_type": "display_data"
    }
   ],
   "source": [
    "# This will be used only to plot the categorical columns so 6 x 2\n",
    "fig, ax = plt.subplots(2,6, figsize=(25,10))\n",
    "\n",
    "# separating rows for easier processing\n",
    "row_1 = ax[0]\n",
    "row_2 = ax[1]\n",
    "\n",
    "# creating plots for the first row\n",
    "for index, column in enumerate(cat_cols[:6]):\n",
    "    # creating ax figure in order of value\n",
    "    sns.countplot(ax=row_1[index], data = df, x=column, order = df[column].value_counts().index)\n",
    "    # setting plot title\n",
    "    row_1[index].set_title(column)\n",
    "    # hiding xaxis since they become unreadable\n",
    "    row_1[index].get_xaxis().set_visible(False)\n",
    "\n",
    "# creating plots for the second row\n",
    "for index, column in enumerate(cat_cols[6:]):\n",
    "    # creating ax figure in order of value\n",
    "    sns.countplot(ax=row_2[index], data = df, x=column, order = df[column].value_counts().index)\n",
    "    # setting plot title\n",
    "    row_2[index].set_title(column)\n",
    "    # hiding xaxis since they become unreadable\n",
    "    row_2[index].get_xaxis().set_visible(False)\n",
    "    \n",
    "fig.suptitle(\"Count of unique instances per feature\");"
   ]
  },
  {
   "cell_type": "markdown",
   "id": "cac89cd8-ed80-40c6-ab87-bc01ac954749",
   "metadata": {},
   "source": [
    "At first glance there are some interesting findings:\n",
    "* **TITLE_STATUS, FUEL & TRANSMISSION**: are HIGHLY unbalanced features. Although there is a large number of samples from which to draw conclusions, these imbalances make me think these variables will have negligible predicting power.\n",
    "* **MODEL**: This feature does not display large counts. Let's do a deep dive and see what we find.\n",
    "* **REGION & STATE**: Hold very similar (if not the same) information, yet they have different distributions. Let's see if we can choose to keep only one of them, but for now we'll hold it."
   ]
  },
  {
   "cell_type": "code",
   "execution_count": 46,
   "id": "dea71c08-0c87-4663-b30a-6763c7bc743d",
   "metadata": {},
   "outputs": [
    {
     "data": {
      "text/plain": [
       "20825"
      ]
     },
     "execution_count": 46,
     "metadata": {},
     "output_type": "execute_result"
    }
   ],
   "source": [
    "df[\"model\"].nunique()"
   ]
  },
  {
   "cell_type": "code",
   "execution_count": 47,
   "id": "998e0b1f-8b5f-4d80-ad11-8bb79259bec7",
   "metadata": {},
   "outputs": [
    {
     "data": {
      "text/plain": [
       "f-150                         6599\n",
       "silverado 1500                4167\n",
       "1500                          3510\n",
       "camry                         2655\n",
       "silverado                     2569\n",
       "                              ... \n",
       "f-250 super duty king ranc       1\n",
       "corolla..le                      1\n",
       "q50 3.0t signature edition       1\n",
       "commander limited awd            1\n",
       "journey fwdsxt                   1\n",
       "Name: model, Length: 20825, dtype: int64"
      ]
     },
     "execution_count": 47,
     "metadata": {},
     "output_type": "execute_result"
    }
   ],
   "source": [
    "df[\"model\"].value_counts()"
   ]
  },
  {
   "cell_type": "markdown",
   "id": "fca4be6a-267a-4a90-95e6-91d55c6fa70e",
   "metadata": {},
   "source": [
    "It seems we have an important problem with model.\n",
    "\n",
    "There are too many unique models! And it's not a topic of unique vehicle models, but, the model description is far too heterogenous. Let's see what we can do about it!\n",
    "\n",
    "**A POSTERIORI CORRECTION** \n",
    "In this case I will be looking at how many models have less than 30 samples"
   ]
  },
  {
   "cell_type": "code",
   "execution_count": 48,
   "id": "6913c58a-4228-4064-9e7e-c3d1f841e156",
   "metadata": {},
   "outputs": [
    {
     "data": {
      "text/plain": [
       "cargo van                     29\n",
       "elantra se sedan 4d           29\n",
       "impreza wrx sti               29\n",
       "5 series 535i gran turismo    29\n",
       "promaster                     29\n",
       "                              ..\n",
       "f-250 super duty king ranc     1\n",
       "corolla..le                    1\n",
       "q50 3.0t signature edition     1\n",
       "commander limited awd          1\n",
       "journey fwdsxt                 1\n",
       "Name: model, Length: 19168, dtype: int64"
      ]
     },
     "execution_count": 48,
     "metadata": {},
     "output_type": "execute_result"
    }
   ],
   "source": [
    "df[\"model\"].value_counts()[df[\"model\"].value_counts() < 30]"
   ]
  },
  {
   "cell_type": "markdown",
   "id": "804fcdca-cb8b-4543-a7a3-a53b16c4f751",
   "metadata": {},
   "source": [
    "Wow, there are over 19,000 unique instances of models with less than 21 appearances. This kind of information will definitely pollute our models' learning\n",
    "\n",
    "Let's remove all these features from the base."
   ]
  },
  {
   "cell_type": "code",
   "execution_count": 49,
   "id": "75f243e4-47ae-4b6d-ae1e-889da3037c14",
   "metadata": {},
   "outputs": [
    {
     "data": {
      "text/plain": [
       "72347"
      ]
     },
     "execution_count": 49,
     "metadata": {},
     "output_type": "execute_result"
    }
   ],
   "source": [
    "# To be sure, let's find out exactly how many records we are going to delete\n",
    "df[\"model\"].value_counts()[df[\"model\"].value_counts() < 30].sum()"
   ]
  },
  {
   "cell_type": "code",
   "execution_count": 50,
   "id": "03b7546d-b262-4649-81a2-4d9d098e5884",
   "metadata": {},
   "outputs": [
    {
     "data": {
      "text/plain": [
       "72347"
      ]
     },
     "execution_count": 50,
     "metadata": {},
     "output_type": "execute_result"
    }
   ],
   "source": [
    "# extracting the string representation of all the models which less than 30 appearances\n",
    "bad_models = list(df[\"model\"].value_counts()[df[\"model\"].value_counts() < 30].index)\n",
    "\n",
    "# converting into an array for faster processing\n",
    "bad_models = np.array(bad_models)\n",
    "\n",
    "# creating a boolean mask. Before further processing we'll verify if this number matches what we expect\n",
    "mask = df[\"model\"].isin(bad_models)\n",
    "mask.sum()"
   ]
  },
  {
   "cell_type": "code",
   "execution_count": 51,
   "id": "826c8219-61f8-420a-b3e3-368237706e19",
   "metadata": {},
   "outputs": [
    {
     "data": {
      "text/plain": [
       "274508"
      ]
     },
     "execution_count": 51,
     "metadata": {},
     "output_type": "execute_result"
    }
   ],
   "source": [
    "# Let's also precalculate how many rows we'll have at the hend\n",
    "df.shape[0] - mask.sum()"
   ]
  },
  {
   "cell_type": "code",
   "execution_count": 52,
   "id": "7ddfc58c-93bf-48d4-8721-0732ee113f8f",
   "metadata": {},
   "outputs": [
    {
     "data": {
      "text/plain": [
       "274508"
      ]
     },
     "execution_count": 52,
     "metadata": {},
     "output_type": "execute_result"
    }
   ],
   "source": [
    "# Now that i'm sure the mask is ok, I'll reserve it.\n",
    "mask = ~mask\n",
    "\n",
    "# Finally, let's do the filtering out the polluting models from the data\n",
    "df = df[mask]\n",
    "\n",
    "# verifying correct shape\n",
    "df.shape[0]"
   ]
  },
  {
   "cell_type": "code",
   "execution_count": 53,
   "id": "6feafe53-5d1b-4bfc-938a-62e8e82e9410",
   "metadata": {},
   "outputs": [
    {
     "data": {
      "text/plain": [
       "1657"
      ]
     },
     "execution_count": 53,
     "metadata": {},
     "output_type": "execute_result"
    }
   ],
   "source": [
    "df[\"model\"].nunique()"
   ]
  },
  {
   "cell_type": "markdown",
   "id": "b697653b-bb36-4c0f-8da0-ba1dfa9263d1",
   "metadata": {},
   "source": [
    "Now it's time to do the same but for manufacturers, let's see how many (if any) have less than 150 samples"
   ]
  },
  {
   "cell_type": "code",
   "execution_count": 54,
   "id": "87ef6ad3-046e-4f6f-a149-5a966006159d",
   "metadata": {},
   "outputs": [
    {
     "data": {
      "text/plain": [
       "ford               48499\n",
       "chevrolet          38535\n",
       "toyota             24485\n",
       "honda              15749\n",
       "jeep               13876\n",
       "nissan             13058\n",
       "ram                10871\n",
       "gmc                10434\n",
       "bmw                 8965\n",
       "dodge               8780\n",
       "hyundai             7223\n",
       "subaru              6688\n",
       "volkswagen          6070\n",
       "mercedes-benz       5816\n",
       "lexus               5712\n",
       "kia                 5669\n",
       "audi                4750\n",
       "acura               4594\n",
       "cadillac            4502\n",
       "chrysler            4270\n",
       "buick               3764\n",
       "mazda               3345\n",
       "infiniti            3106\n",
       "lincoln             3009\n",
       "mitsubishi          2093\n",
       "volvo               1748\n",
       "mini                1589\n",
       "pontiac             1471\n",
       "rover               1073\n",
       "jaguar              1011\n",
       "alfa-romeo           709\n",
       "saturn               680\n",
       "mercury              672\n",
       "tesla                575\n",
       "porsche              561\n",
       "fiat                 497\n",
       "harley-davidson       50\n",
       "land rover             5\n",
       "datsun                 4\n",
       "Name: manufacturer, dtype: int64"
      ]
     },
     "execution_count": 54,
     "metadata": {},
     "output_type": "execute_result"
    }
   ],
   "source": [
    "df[\"manufacturer\"].value_counts()"
   ]
  },
  {
   "cell_type": "markdown",
   "id": "c25dc010-37b8-4f71-9237-a183981179d7",
   "metadata": {},
   "source": [
    "Fortunately it seems only 3 manufacturers match our criteria for elimination!\n",
    "\n",
    "As such, I will exclude these manufacturers from the predictions models."
   ]
  },
  {
   "cell_type": "code",
   "execution_count": 55,
   "id": "860ec9b6-7fb3-43b8-bd5a-3af31fa60d33",
   "metadata": {},
   "outputs": [
    {
     "data": {
      "text/plain": [
       "(274449, 15)"
      ]
     },
     "execution_count": 55,
     "metadata": {},
     "output_type": "execute_result"
    }
   ],
   "source": [
    "# let's extract only those with less than 150 samples\n",
    "bad_mfg = list(df[\"manufacturer\"].value_counts()[df[\"manufacturer\"].value_counts() < 150].index)\n",
    "#once again, convert to array\n",
    "bad_mfg = np.array(bad_mfg)\n",
    "\n",
    "# Let's create the mask\n",
    "mask_mfg = df[\"manufacturer\"].isin(bad_mfg)\n",
    "\n",
    "# Let's invert it\n",
    "mask_mfg = ~mask_mfg\n",
    "\n",
    "# finally let's pass it\n",
    "\n",
    "df = df[mask_mfg]\n",
    "\n",
    "# Let's see our final shape\n",
    "df.shape"
   ]
  },
  {
   "cell_type": "code",
   "execution_count": 56,
   "id": "261c0912-1acb-4578-884f-9245c2defc3d",
   "metadata": {},
   "outputs": [
    {
     "data": {
      "text/plain": [
       "manufacturer\n",
       "ford             247\n",
       "chevrolet        202\n",
       "toyota           115\n",
       "bmw               92\n",
       "nissan            76\n",
       "mercedes-benz     73\n",
       "gmc               72\n",
       "dodge             72\n",
       "honda             71\n",
       "ram               66\n",
       "jeep              61\n",
       "lexus             57\n",
       "volkswagen        55\n",
       "audi              51\n",
       "hyundai           43\n",
       "subaru            40\n",
       "kia               39\n",
       "infiniti          35\n",
       "acura             34\n",
       "cadillac          32\n",
       "buick             31\n",
       "chrysler          29\n",
       "lincoln           26\n",
       "mazda             25\n",
       "volvo             21\n",
       "mitsubishi        21\n",
       "mini              19\n",
       "jaguar            17\n",
       "pontiac           16\n",
       "rover             14\n",
       "mercury           11\n",
       "saturn            10\n",
       "porsche            9\n",
       "fiat               8\n",
       "alfa-romeo         7\n",
       "tesla              6\n",
       "Name: model, dtype: int64"
      ]
     },
     "execution_count": 56,
     "metadata": {},
     "output_type": "execute_result"
    }
   ],
   "source": [
    "# Finding unique models per manufacturer\n",
    "df.groupby(\"manufacturer\")[\"model\"].nunique().sort_values(ascending = False)"
   ]
  },
  {
   "cell_type": "markdown",
   "id": "71cb456f-0ce9-440b-ae6c-cf2d9781653b",
   "metadata": {},
   "source": [
    "I have greatly reduced the complexity of the information contained in model! Hopefully this is enough to move forward!"
   ]
  },
  {
   "cell_type": "code",
   "execution_count": null,
   "id": "a2c7c458-dcb3-4142-b219-86fc43968a62",
   "metadata": {
    "jupyter": {
     "source_hidden": true
    },
    "tags": []
   },
   "outputs": [],
   "source": []
  },
  {
   "cell_type": "markdown",
   "id": "4abf598a-f12d-4424-8bfc-c40e625c8e1e",
   "metadata": {},
   "source": [
    "After our findings and explorations\n",
    "\n",
    "Fortunately, Scikit-learn provides some convenient tools for this:\n",
    "* f_regression -> which is basically a one-way Anova.\n",
    "* mutual_info_regression -> Analogue to its class counterpart, but for continuous variables\n",
    "\n",
    "but first, from this point onwards, I will create the Train, Validation and Test splits! This is necessary as we **want to avoid inferences that we are not sure would apply to a ML / DL model that has not seen new data**. As such, the relevant statistics will be obtained using training sets only!"
   ]
  },
  {
   "cell_type": "code",
   "execution_count": 57,
   "id": "96c33665-a143-49b6-be71-87809da7e3c0",
   "metadata": {},
   "outputs": [],
   "source": [
    "# Separating target and features\n",
    "y = df[\"price\"]\n",
    "X_parent = df.drop(columns = \"price\")"
   ]
  },
  {
   "cell_type": "code",
   "execution_count": 58,
   "id": "6d7b425e-27c6-4f7e-9ca2-5476d7b5e005",
   "metadata": {},
   "outputs": [],
   "source": [
    "# creating first split. The result here is the untouched test splits. The \"splits\" are a preliminary split that will be separated again for train and validation\n",
    "X_split, X_test, y_split, y_test = train_test_split(X_parent, y, train_size = 0.8, random_state = 20) # adding random state for reproducibility"
   ]
  },
  {
   "cell_type": "code",
   "execution_count": 59,
   "id": "529dadd0-1e69-428c-8cf8-4bf1c770ef6e",
   "metadata": {},
   "outputs": [],
   "source": [
    "# creating the 2nd split. This one creates the train and validation splits\n",
    "X_train, X_val, y_train, y_val = train_test_split(X_split, y_split, train_size = 0.75, random_state = 20) # adding random state for reproducibility"
   ]
  },
  {
   "cell_type": "code",
   "execution_count": 60,
   "id": "7bd63db1-5840-48f9-a730-8d3d2e55a072",
   "metadata": {},
   "outputs": [],
   "source": [
    "# first we need to encode the categorical and features since we can't process them as it is\n",
    "## instantiating scalers\n",
    "ord_enc = OrdinalEncoder()\n",
    "norm_sca = StandardScaler()\n",
    "\n",
    "## separating categorical and numerical features\n",
    "cat_feats = X_train.select_dtypes(include=\"object\")\n",
    "num_feats = X_train.select_dtypes(include=\"float64\")\n",
    "\n",
    "## fitting scalers\n",
    "ord_enc.fit(cat_feats)\n",
    "norm_sca.fit(num_feats)\n",
    "\n",
    "## re-assigning variables\n",
    "cat_feats = ord_enc.transform(cat_feats)\n",
    "num_feats = norm_sca.transform(num_feats)\n",
    "\n",
    "## concatenating arrays\n",
    "X_stats = np.concatenate([cat_feats, num_feats], axis=1)"
   ]
  },
  {
   "cell_type": "code",
   "execution_count": 61,
   "id": "93ac1e73-23f4-460d-8fdc-7cf534ed7e0b",
   "metadata": {},
   "outputs": [],
   "source": [
    "f_arrray = f_regression(X_stats, y_train)"
   ]
  },
  {
   "cell_type": "code",
   "execution_count": 62,
   "id": "61a45771-e960-4895-bfb1-176f620c95c0",
   "metadata": {},
   "outputs": [],
   "source": [
    "mut_info = mutual_info_regression(X_stats, y_train)"
   ]
  },
  {
   "cell_type": "code",
   "execution_count": 63,
   "id": "c3965156-a82c-4d81-be99-3e165a8d638b",
   "metadata": {},
   "outputs": [
    {
     "data": {
      "text/html": [
       "<div>\n",
       "<style scoped>\n",
       "    .dataframe tbody tr th:only-of-type {\n",
       "        vertical-align: middle;\n",
       "    }\n",
       "\n",
       "    .dataframe tbody tr th {\n",
       "        vertical-align: top;\n",
       "    }\n",
       "\n",
       "    .dataframe thead th {\n",
       "        text-align: right;\n",
       "    }\n",
       "</style>\n",
       "<table border=\"1\" class=\"dataframe\">\n",
       "  <thead>\n",
       "    <tr style=\"text-align: right;\">\n",
       "      <th></th>\n",
       "      <th>region</th>\n",
       "      <th>manufacturer</th>\n",
       "      <th>model</th>\n",
       "      <th>condition</th>\n",
       "      <th>cylinders</th>\n",
       "      <th>fuel</th>\n",
       "      <th>title_status</th>\n",
       "      <th>transmission</th>\n",
       "      <th>drive</th>\n",
       "      <th>type</th>\n",
       "      <th>paint_color</th>\n",
       "      <th>state</th>\n",
       "      <th>odometer</th>\n",
       "      <th>age</th>\n",
       "    </tr>\n",
       "  </thead>\n",
       "  <tbody>\n",
       "    <tr>\n",
       "      <th>f_regression</th>\n",
       "      <td>1.550722e-21</td>\n",
       "      <td>1.895116e-116</td>\n",
       "      <td>5.280705e-139</td>\n",
       "      <td>0.00000</td>\n",
       "      <td>0.000000</td>\n",
       "      <td>9.884584e-61</td>\n",
       "      <td>0.000000</td>\n",
       "      <td>0.000000</td>\n",
       "      <td>0.000000</td>\n",
       "      <td>0.000000</td>\n",
       "      <td>6.293069e-119</td>\n",
       "      <td>4.093171e-11</td>\n",
       "      <td>0.000000</td>\n",
       "      <td>0.000000</td>\n",
       "    </tr>\n",
       "    <tr>\n",
       "      <th>mutual_regre</th>\n",
       "      <td>3.880221e-01</td>\n",
       "      <td>3.761803e-01</td>\n",
       "      <td>1.531388e+00</td>\n",
       "      <td>0.35764</td>\n",
       "      <td>0.173992</td>\n",
       "      <td>1.323056e-01</td>\n",
       "      <td>0.035753</td>\n",
       "      <td>0.324893</td>\n",
       "      <td>0.169369</td>\n",
       "      <td>0.338564</td>\n",
       "      <td>1.662242e-01</td>\n",
       "      <td>3.075173e-01</td>\n",
       "      <td>2.113924</td>\n",
       "      <td>0.602543</td>\n",
       "    </tr>\n",
       "  </tbody>\n",
       "</table>\n",
       "</div>"
      ],
      "text/plain": [
       "                    region   manufacturer          model  condition  \\\n",
       "f_regression  1.550722e-21  1.895116e-116  5.280705e-139    0.00000   \n",
       "mutual_regre  3.880221e-01   3.761803e-01   1.531388e+00    0.35764   \n",
       "\n",
       "              cylinders          fuel  title_status  transmission     drive  \\\n",
       "f_regression   0.000000  9.884584e-61      0.000000      0.000000  0.000000   \n",
       "mutual_regre   0.173992  1.323056e-01      0.035753      0.324893  0.169369   \n",
       "\n",
       "                  type    paint_color         state  odometer       age  \n",
       "f_regression  0.000000  6.293069e-119  4.093171e-11  0.000000  0.000000  \n",
       "mutual_regre  0.338564   1.662242e-01  3.075173e-01  2.113924  0.602543  "
      ]
     },
     "execution_count": 63,
     "metadata": {},
     "output_type": "execute_result"
    }
   ],
   "source": [
    "# creating a results table\n",
    "cat_cols = list(X_train.select_dtypes(include=\"object\").columns) # extreacting categorical columns\n",
    "num_cols = list(X_train.select_dtypes(include=\"float64\")) # extracting numerical columns\n",
    "cols = cat_cols + num_cols # setting columns in correct order and then merging lists\n",
    "pd.DataFrame([f_arrray[1], mut_info], index = [\"f_regression\", \"mutual_regre\"], columns = cols) #I'm only keeping the p-values of f_regression"
   ]
  },
  {
   "cell_type": "markdown",
   "id": "58714c66-0a14-4052-96b1-467beafd050b",
   "metadata": {},
   "source": [
    "Before explaining the results found from this analysis I will provide some contextual information:\n",
    "* f_regression from sklearn is an univariate test that mimics an ANOVA F-TEST but for a continuous problem (like price). More importantly, and as outlined in the functions page itself **IT SHOULDNT BE USED AS A STAND ALONE SELECTION METHOD**. In essence, this trains to calculate how much of the variance of target (price) is explained by the variance of a feature. The value presented in the results table is the p-value associated to the test.\n",
    "* mutual information for regression is a nonparametrics (does not assume any distribution for the data) test that attempts to find the features that contribute to most to a change in the target feature (price)\n",
    "* Interestingly, while many of the features had large amounts of missing values which were replaced with placeholder strings, they reflect different behaviours, providing some confidence that the transformation's did not distort the results too much.\n",
    "\n",
    "That said, the results of both tests provide some interesting, but inconclusive insights:\n",
    "1. Both methods lack consistency in determining which features might be relevant / contribute more to the variation in price, HOWEVER they do have some agreement into **which features DO NOT contribute much to the variation of the price**. In this sense, the results can be used in reverse to remove features that add little prediction power.\n",
    "2. Based on the previous point the following features could be considered of LOW relevance:\n",
    "    1. **TITLE_STATUS**: Has a high p-value and low mutual_information score; by both metrics this feature does not contribute much to price. Unfortunately I'm unfamiliar with these intricancies of this feature and what it represents. **On principle, this feature will be deleted from all splits** \n",
    "    2. **Region / State**: Has a high p-value and low mutual_information score. by both metrics this feature does not contribute much to price. Interestingly both features capture very similar (if not the same information), as such, one can consider it to be slightly redundant. **On principle, one of these features will be deleted from all splits.\n",
    "   \n",
    "After these analysis, we have some strong signals about which features to get rid of. These inputs can be combined with the observed in the EDA to finally get rid of some features!"
   ]
  },
  {
   "cell_type": "code",
   "execution_count": 64,
   "id": "d34898c4-099f-4437-8926-4493b061cb31",
   "metadata": {},
   "outputs": [],
   "source": [
    "# deleting unnecessary vars and cleaning namespace\n",
    "del ord_enc \n",
    "del norm_sca\n",
    "del cat_feats\n",
    "del num_feats\n",
    "del X_stats\n",
    "del cat_cols\n",
    "del num_cols\n",
    "del cols\n",
    "del X_parent\n",
    "del X_train\n",
    "del X_val\n",
    "del X_test\n",
    "del y\n",
    "del y_val\n",
    "del y_train\n",
    "del y_test"
   ]
  },
  {
   "cell_type": "markdown",
   "id": "ea4e8d10-18d6-4d7e-acbd-ca69421b1c29",
   "metadata": {},
   "source": [
    "All that said, the following features will not be considered any further for the purposes of this analysis:\n",
    "* Region\n",
    "* Title Status"
   ]
  },
  {
   "cell_type": "code",
   "execution_count": 65,
   "id": "829b5b6c-3da0-43d3-b436-8be85e8dd29f",
   "metadata": {},
   "outputs": [],
   "source": [
    "df = df.drop(columns = [\"region\", \"title_status\"])"
   ]
  },
  {
   "cell_type": "markdown",
   "id": "56d17e5d-7e9b-4486-a8f7-7fee4f3c5ef6",
   "metadata": {},
   "source": [
    "At this point I consider the EDA and feature selection process finished and I can start training models!"
   ]
  },
  {
   "cell_type": "markdown",
   "id": "dd1e597a-2e6c-40a4-b075-a58f087ab990",
   "metadata": {},
   "source": [
    "# Model_training"
   ]
  },
  {
   "cell_type": "markdown",
   "id": "c4287c69-c4b0-4086-bb59-1eebbed36a45",
   "metadata": {},
   "source": [
    "A few considerations will be explained before entering the training, fitting and evaluating models phase.\n",
    "\n",
    "Although I'm not aiming for a specific model or solution, one the sub-goals of this project is to build a Neural Network with Keras to create the prediction model. Nevertheless, training a Neural Network is computationally expensive, thus I chose the following approach:\n",
    "\n",
    "* I would first training sklearn Linear models (with default parameters) and use them to:\n",
    "    * Find out baseline performance\n",
    "    * Estimate feature weights and possible run a 2nd trial of feature selection\n",
    "* Then I would run ensemble models (with default parameters) to:\n",
    "    * Obtain a secondary baseline performance based on averaged results\n",
    "    * Obtain feature weights (often included in the attributes of tree-based models\n",
    "* Later, after performing some final adjustments, I would create the neural network.\n",
    "* Finally, I would compare the results of all models and choose what works best and fine-tune hyperparameters if necessary."
   ]
  },
  {
   "cell_type": "code",
   "execution_count": 66,
   "id": "33b8aa3b-ad30-4e15-a98b-f49d4a458736",
   "metadata": {},
   "outputs": [],
   "source": [
    "## Separating target and features\n",
    "y = df[\"price\"]\n",
    "X_parent = df.drop(columns = \"price\")\n",
    "\n",
    "## creating TRUE SPLITS. The result here is the untouched test splits. The \"splits\" are a preliminary split that will be separated again for train and validation\n",
    "X_split, X_test, y_split, y_test = train_test_split(X_parent, y, train_size = 0.8, random_state = 40) # adding random state for reproducibility\n",
    "\n",
    "## creating the 2nd split. This one creates the train and validation splits\n",
    "X_train, X_val, y_train, y_val = train_test_split(X_split, y_split, train_size = 0.75, random_state = 40) # adding random state for reproducibility"
   ]
  },
  {
   "cell_type": "code",
   "execution_count": 67,
   "id": "02ab4d15-7149-40d9-bb39-e705cde11506",
   "metadata": {},
   "outputs": [],
   "source": [
    "# encoding training arrays \n",
    "X_train, cat_encoder, num_encoder = gen_array(X_train)"
   ]
  },
  {
   "cell_type": "code",
   "execution_count": 68,
   "id": "ee7af0c0-ab43-491a-b2e0-2e85b86ed469",
   "metadata": {},
   "outputs": [],
   "source": [
    "# encoding valdition array with pre-trained encoders\n",
    "X_val, cat_encoder, num_encoder = gen_array(X_val, cat_enc = cat_encoder, num_enc = num_encoder)"
   ]
  },
  {
   "cell_type": "code",
   "execution_count": 69,
   "id": "85c0b905-29f3-4457-9dee-8445ec4c8645",
   "metadata": {},
   "outputs": [],
   "source": [
    "# recreating standarized indexes to be able to explore faulty values\n",
    "y_val2 = y_val.reset_index().drop(columns = \"index\").squeeze()\n",
    "y_test2 = y_test.reset_index().drop(columns = \"index\").squeeze()"
   ]
  },
  {
   "cell_type": "code",
   "execution_count": 70,
   "id": "33d5e136-8900-4024-b6cb-2e80c61ec9d7",
   "metadata": {},
   "outputs": [],
   "source": [
    "# creating a list of column names in the order of concatenation for easier analysis\n",
    "cat_cols = list(X_parent.select_dtypes(include = \"object\").columns)\n",
    "num_cols = list(X_parent.select_dtypes(exclude = \"object\").columns)\n",
    "cols = cat_cols + num_cols"
   ]
  },
  {
   "cell_type": "markdown",
   "id": "335ae67c-0987-46f3-9e0a-5716909731f3",
   "metadata": {},
   "source": [
    "## Linear_models"
   ]
  },
  {
   "cell_type": "markdown",
   "id": "72f35b76-859f-4dd4-87e0-30dd3cdc2d26",
   "metadata": {},
   "source": [
    "These are the steps I will follow with the linear models:\n",
    "* Instantiate every model in a corresponding variable\n",
    "* Fit all models, one by one\n",
    "* Use the fitted models to generate predictions\n",
    "* Calculate and store residuals for visualization purposes\n",
    "* Calculate the following errors for each model:\n",
    "    * Mean Absolute Error (MAE)\n",
    "    * Mean Squared Error (MSE)\n",
    "    * Root Mean Squared Error (RMSE)"
   ]
  },
  {
   "cell_type": "code",
   "execution_count": 71,
   "id": "02289e0d-65a7-4b41-8f18-d5511bdcfa78",
   "metadata": {},
   "outputs": [],
   "source": [
    "lasso = LassoCV(verbose = 1, n_jobs = -1)\n",
    "linear = LinearRegression(n_jobs = -1)"
   ]
  },
  {
   "cell_type": "code",
   "execution_count": 72,
   "id": "f65c952a-c422-4c51-bb3e-465b292ab5ec",
   "metadata": {},
   "outputs": [
    {
     "name": "stderr",
     "output_type": "stream",
     "text": [
      "[Parallel(n_jobs=-1)]: Using backend ThreadingBackend with 12 concurrent workers.\n",
      "....................................................................................................................................................................................................................................................................................................................................................................................................................................................................................................................[Parallel(n_jobs=-1)]: Done   5 out of   5 | elapsed:  1.1min finished\n"
     ]
    },
    {
     "data": {
      "text/plain": [
       "LassoCV(n_jobs=-1, verbose=1)"
      ]
     },
     "execution_count": 72,
     "metadata": {},
     "output_type": "execute_result"
    }
   ],
   "source": [
    "lasso.fit(X_train, y_train)"
   ]
  },
  {
   "cell_type": "code",
   "execution_count": 73,
   "id": "9db30c4a-4700-41ec-a827-49e564fbff9f",
   "metadata": {},
   "outputs": [
    {
     "data": {
      "text/plain": [
       "LinearRegression(n_jobs=-1)"
      ]
     },
     "execution_count": 73,
     "metadata": {},
     "output_type": "execute_result"
    }
   ],
   "source": [
    "linear.fit(X_train, y_train)"
   ]
  },
  {
   "cell_type": "code",
   "execution_count": 74,
   "id": "354c1427-42a1-41d7-940d-093e0f9d4945",
   "metadata": {},
   "outputs": [],
   "source": [
    "# obtaining predictions\n",
    "lasso_pred = lasso.predict(X_val)\n",
    "linear_pred = linear.predict(X_val)"
   ]
  },
  {
   "cell_type": "code",
   "execution_count": 75,
   "id": "3d40e4cc-a79d-4002-8b37-d4e806fba89f",
   "metadata": {},
   "outputs": [],
   "source": [
    "# calculating residuals\n",
    "lasso_res = lasso_pred - y_val2\n",
    "linear_res = linear_pred - y_val2"
   ]
  },
  {
   "cell_type": "code",
   "execution_count": 76,
   "id": "336fd539-196f-45ff-bd6d-db5d3e0284ae",
   "metadata": {},
   "outputs": [
    {
     "data": {
      "text/html": [
       "<div>\n",
       "<style scoped>\n",
       "    .dataframe tbody tr th:only-of-type {\n",
       "        vertical-align: middle;\n",
       "    }\n",
       "\n",
       "    .dataframe tbody tr th {\n",
       "        vertical-align: top;\n",
       "    }\n",
       "\n",
       "    .dataframe thead th {\n",
       "        text-align: right;\n",
       "    }\n",
       "</style>\n",
       "<table border=\"1\" class=\"dataframe\">\n",
       "  <thead>\n",
       "    <tr style=\"text-align: right;\">\n",
       "      <th></th>\n",
       "      <th>MAE</th>\n",
       "      <th>MSE</th>\n",
       "      <th>RMSE</th>\n",
       "    </tr>\n",
       "  </thead>\n",
       "  <tbody>\n",
       "    <tr>\n",
       "      <th>Lasso</th>\n",
       "      <td>5274.361308</td>\n",
       "      <td>5.258470e+07</td>\n",
       "      <td>7251.530725</td>\n",
       "    </tr>\n",
       "    <tr>\n",
       "      <th>Linear</th>\n",
       "      <td>3839.395956</td>\n",
       "      <td>3.413143e+07</td>\n",
       "      <td>5842.211326</td>\n",
       "    </tr>\n",
       "  </tbody>\n",
       "</table>\n",
       "</div>"
      ],
      "text/plain": [
       "                MAE           MSE         RMSE\n",
       "Lasso   5274.361308  5.258470e+07  7251.530725\n",
       "Linear  3839.395956  3.413143e+07  5842.211326"
      ]
     },
     "execution_count": 76,
     "metadata": {},
     "output_type": "execute_result"
    }
   ],
   "source": [
    "# creating a summary table to visualize results\n",
    "MAE = [mean_absolute_error(y_val, lasso_pred), mean_absolute_error(y_val, linear_pred)]\n",
    "MSE = [mean_squared_error(y_val, lasso_pred), mean_squared_error(y_val, linear_pred)]\n",
    "RMSE = [np.sqrt(mean_squared_error(y_val, lasso_pred)), np.sqrt(mean_squared_error(y_val, linear_pred))]\n",
    "\n",
    "pd.DataFrame({\"MAE\": MAE, \"MSE\": MSE, \"RMSE\": RMSE}, index = [\"Lasso\", \"Linear\"])"
   ]
  },
  {
   "cell_type": "markdown",
   "id": "8ecde5ca-f565-48b3-a51b-9f4cfe47f4f6",
   "metadata": {},
   "source": [
    "Interestingly it seems a simple linear model with no regularization is better at finding relationships within the data! \n",
    "Let's try plotting the residuals to see how this looks!"
   ]
  },
  {
   "cell_type": "code",
   "execution_count": 77,
   "id": "0a873b0a-94ee-4410-a9cd-f8564c3c38ed",
   "metadata": {},
   "outputs": [
    {
     "data": {
      "image/png": "[encoded data removed]",
      "text/plain": [
       "<Figure size 1728x576 with 2 Axes>"
      ]
     },
     "metadata": {
      "needs_background": "light"
     },
     "output_type": "display_data"
    }
   ],
   "source": [
    "fig, ax = plt.subplots(1,2, figsize=(24,8))\n",
    "sns.lineplot(ax = ax[0], data = lasso_res, color = \"green\")\n",
    "sns.lineplot(ax = ax[1], data = linear_res, color = \"purple\");"
   ]
  },
  {
   "cell_type": "markdown",
   "id": "e45a92fb-5e2a-4fef-a3a9-b68bddf91cb0",
   "metadata": {},
   "source": [
    "Observing our results, and more importantly the residuals we can observe there are some MASSIVE outliers. This tells me two things:\n",
    "\n",
    "* The model's are currently unstable, but it seems to be related to some very specific values that may be fixable or that can be omitted from the training sets..\n",
    "* Unstability aside, linear models seem to describe the data decently well. Strangely, though, the linear model with NO regularization seems to be more effective at predictions.\n",
    "\n",
    "That said, let's explore the causes of this instability and if we can fix our process a-posteriori."
   ]
  },
  {
   "cell_type": "code",
   "execution_count": 78,
   "id": "df1eae2d-1d05-4aea-9653-15b94c253cf8",
   "metadata": {},
   "outputs": [],
   "source": [
    "# Let's find the data points that are causing massive instability in our models.\n",
    "## The outlier detection will be generated bi-directionally although the plots indicate the problem is that rediction understimates value.\n",
    "## We only want the indeces since i'm only interested in retrieving them from the parent array\n",
    "unstable_vals_idx = lasso_res[(lasso_res < -50000) | (lasso_res > 50000)].index\n",
    "\n",
    "## retriving the actual unstable values\n",
    "unstable_features = X_val[unstable_vals_idx,:]"
   ]
  },
  {
   "cell_type": "code",
   "execution_count": 79,
   "id": "fb198ce8-2f8d-4883-a30f-68480586ce23",
   "metadata": {},
   "outputs": [
    {
     "data": {
      "text/html": [
       "<div>\n",
       "<style scoped>\n",
       "    .dataframe tbody tr th:only-of-type {\n",
       "        vertical-align: middle;\n",
       "    }\n",
       "\n",
       "    .dataframe tbody tr th {\n",
       "        vertical-align: top;\n",
       "    }\n",
       "\n",
       "    .dataframe thead th {\n",
       "        text-align: right;\n",
       "    }\n",
       "</style>\n",
       "<table border=\"1\" class=\"dataframe\">\n",
       "  <thead>\n",
       "    <tr style=\"text-align: right;\">\n",
       "      <th></th>\n",
       "      <th>manufacturer</th>\n",
       "      <th>model</th>\n",
       "      <th>condition</th>\n",
       "      <th>cylinders</th>\n",
       "      <th>fuel</th>\n",
       "      <th>transmission</th>\n",
       "      <th>drive</th>\n",
       "      <th>type</th>\n",
       "      <th>paint_color</th>\n",
       "      <th>state</th>\n",
       "      <th>odometer</th>\n",
       "      <th>age</th>\n",
       "    </tr>\n",
       "  </thead>\n",
       "  <tbody>\n",
       "    <tr>\n",
       "      <th>0</th>\n",
       "      <td>ford</td>\n",
       "      <td>roadster</td>\n",
       "      <td>good</td>\n",
       "      <td>8 cylinders</td>\n",
       "      <td>gas</td>\n",
       "      <td>automatic</td>\n",
       "      <td>rwd</td>\n",
       "      <td>coupe</td>\n",
       "      <td>black</td>\n",
       "      <td>hi</td>\n",
       "      <td>21220.0</td>\n",
       "      <td>89.0</td>\n",
       "    </tr>\n",
       "    <tr>\n",
       "      <th>1</th>\n",
       "      <td>gmc</td>\n",
       "      <td>yukon</td>\n",
       "      <td>fair</td>\n",
       "      <td>8 cylinders</td>\n",
       "      <td>gas</td>\n",
       "      <td>automatic</td>\n",
       "      <td>fwd</td>\n",
       "      <td>SUV</td>\n",
       "      <td>white</td>\n",
       "      <td>ca</td>\n",
       "      <td>9750924.0</td>\n",
       "      <td>23.0</td>\n",
       "    </tr>\n",
       "    <tr>\n",
       "      <th>2</th>\n",
       "      <td>chevrolet</td>\n",
       "      <td>malibu</td>\n",
       "      <td>Not relevant</td>\n",
       "      <td>Not relevant</td>\n",
       "      <td>gas</td>\n",
       "      <td>automatic</td>\n",
       "      <td>Not relevant</td>\n",
       "      <td>Not relevant</td>\n",
       "      <td>Not relevant</td>\n",
       "      <td>tx</td>\n",
       "      <td>5555555.0</td>\n",
       "      <td>29.0</td>\n",
       "    </tr>\n",
       "    <tr>\n",
       "      <th>3</th>\n",
       "      <td>ford</td>\n",
       "      <td>f-250</td>\n",
       "      <td>like new</td>\n",
       "      <td>4 cylinders</td>\n",
       "      <td>gas</td>\n",
       "      <td>manual</td>\n",
       "      <td>rwd</td>\n",
       "      <td>truck</td>\n",
       "      <td>black</td>\n",
       "      <td>ks</td>\n",
       "      <td>12999.0</td>\n",
       "      <td>94.0</td>\n",
       "    </tr>\n",
       "    <tr>\n",
       "      <th>4</th>\n",
       "      <td>buick</td>\n",
       "      <td>century</td>\n",
       "      <td>excellent</td>\n",
       "      <td>8 cylinders</td>\n",
       "      <td>gas</td>\n",
       "      <td>manual</td>\n",
       "      <td>rwd</td>\n",
       "      <td>sedan</td>\n",
       "      <td>black</td>\n",
       "      <td>co</td>\n",
       "      <td>55000.0</td>\n",
       "      <td>80.0</td>\n",
       "    </tr>\n",
       "    <tr>\n",
       "      <th>5</th>\n",
       "      <td>pontiac</td>\n",
       "      <td>sedan</td>\n",
       "      <td>Not relevant</td>\n",
       "      <td>Not relevant</td>\n",
       "      <td>gas</td>\n",
       "      <td>automatic</td>\n",
       "      <td>Not relevant</td>\n",
       "      <td>Not relevant</td>\n",
       "      <td>Not relevant</td>\n",
       "      <td>pa</td>\n",
       "      <td>100000.0</td>\n",
       "      <td>84.0</td>\n",
       "    </tr>\n",
       "    <tr>\n",
       "      <th>6</th>\n",
       "      <td>chevrolet</td>\n",
       "      <td>roadster</td>\n",
       "      <td>excellent</td>\n",
       "      <td>8 cylinders</td>\n",
       "      <td>gas</td>\n",
       "      <td>automatic</td>\n",
       "      <td>rwd</td>\n",
       "      <td>pickup</td>\n",
       "      <td>black</td>\n",
       "      <td>ca</td>\n",
       "      <td>1.0</td>\n",
       "      <td>91.0</td>\n",
       "    </tr>\n",
       "    <tr>\n",
       "      <th>7</th>\n",
       "      <td>ford</td>\n",
       "      <td>mustang</td>\n",
       "      <td>fair</td>\n",
       "      <td>6 cylinders</td>\n",
       "      <td>gas</td>\n",
       "      <td>automatic</td>\n",
       "      <td>rwd</td>\n",
       "      <td>Not relevant</td>\n",
       "      <td>yellow</td>\n",
       "      <td>tx</td>\n",
       "      <td>5000000.0</td>\n",
       "      <td>56.0</td>\n",
       "    </tr>\n",
       "    <tr>\n",
       "      <th>8</th>\n",
       "      <td>ford</td>\n",
       "      <td>roadster</td>\n",
       "      <td>excellent</td>\n",
       "      <td>8 cylinders</td>\n",
       "      <td>gas</td>\n",
       "      <td>automatic</td>\n",
       "      <td>rwd</td>\n",
       "      <td>convertible</td>\n",
       "      <td>red</td>\n",
       "      <td>in</td>\n",
       "      <td>22000.0</td>\n",
       "      <td>89.0</td>\n",
       "    </tr>\n",
       "    <tr>\n",
       "      <th>9</th>\n",
       "      <td>ford</td>\n",
       "      <td>roadster</td>\n",
       "      <td>Not relevant</td>\n",
       "      <td>8 cylinders</td>\n",
       "      <td>gas</td>\n",
       "      <td>automatic</td>\n",
       "      <td>rwd</td>\n",
       "      <td>Not relevant</td>\n",
       "      <td>Not relevant</td>\n",
       "      <td>or</td>\n",
       "      <td>13231.0</td>\n",
       "      <td>89.0</td>\n",
       "    </tr>\n",
       "    <tr>\n",
       "      <th>10</th>\n",
       "      <td>chevrolet</td>\n",
       "      <td>malibu</td>\n",
       "      <td>good</td>\n",
       "      <td>Not relevant</td>\n",
       "      <td>gas</td>\n",
       "      <td>automatic</td>\n",
       "      <td>Not relevant</td>\n",
       "      <td>sedan</td>\n",
       "      <td>silver</td>\n",
       "      <td>va</td>\n",
       "      <td>7603892.0</td>\n",
       "      <td>16.0</td>\n",
       "    </tr>\n",
       "    <tr>\n",
       "      <th>11</th>\n",
       "      <td>chevrolet</td>\n",
       "      <td>camaro</td>\n",
       "      <td>excellent</td>\n",
       "      <td>8 cylinders</td>\n",
       "      <td>gas</td>\n",
       "      <td>automatic</td>\n",
       "      <td>rwd</td>\n",
       "      <td>coupe</td>\n",
       "      <td>grey</td>\n",
       "      <td>ct</td>\n",
       "      <td>300.0</td>\n",
       "      <td>52.0</td>\n",
       "    </tr>\n",
       "    <tr>\n",
       "      <th>12</th>\n",
       "      <td>ford</td>\n",
       "      <td>mustang</td>\n",
       "      <td>fair</td>\n",
       "      <td>6 cylinders</td>\n",
       "      <td>gas</td>\n",
       "      <td>automatic</td>\n",
       "      <td>rwd</td>\n",
       "      <td>coupe</td>\n",
       "      <td>Not relevant</td>\n",
       "      <td>ca</td>\n",
       "      <td>9999999.0</td>\n",
       "      <td>56.0</td>\n",
       "    </tr>\n",
       "    <tr>\n",
       "      <th>13</th>\n",
       "      <td>ford</td>\n",
       "      <td>sedan</td>\n",
       "      <td>excellent</td>\n",
       "      <td>8 cylinders</td>\n",
       "      <td>gas</td>\n",
       "      <td>automatic</td>\n",
       "      <td>rwd</td>\n",
       "      <td>sedan</td>\n",
       "      <td>yellow</td>\n",
       "      <td>ca</td>\n",
       "      <td>750.0</td>\n",
       "      <td>86.0</td>\n",
       "    </tr>\n",
       "    <tr>\n",
       "      <th>14</th>\n",
       "      <td>chevrolet</td>\n",
       "      <td>blazer</td>\n",
       "      <td>excellent</td>\n",
       "      <td>8 cylinders</td>\n",
       "      <td>gas</td>\n",
       "      <td>automatic</td>\n",
       "      <td>4wd</td>\n",
       "      <td>SUV</td>\n",
       "      <td>orange</td>\n",
       "      <td>nc</td>\n",
       "      <td>0.0</td>\n",
       "      <td>46.0</td>\n",
       "    </tr>\n",
       "    <tr>\n",
       "      <th>15</th>\n",
       "      <td>ford</td>\n",
       "      <td>pickup</td>\n",
       "      <td>excellent</td>\n",
       "      <td>8 cylinders</td>\n",
       "      <td>gas</td>\n",
       "      <td>manual</td>\n",
       "      <td>rwd</td>\n",
       "      <td>convertible</td>\n",
       "      <td>black</td>\n",
       "      <td>tn</td>\n",
       "      <td>2700.0</td>\n",
       "      <td>94.0</td>\n",
       "    </tr>\n",
       "    <tr>\n",
       "      <th>16</th>\n",
       "      <td>chevrolet</td>\n",
       "      <td>camaro</td>\n",
       "      <td>excellent</td>\n",
       "      <td>8 cylinders</td>\n",
       "      <td>gas</td>\n",
       "      <td>automatic</td>\n",
       "      <td>rwd</td>\n",
       "      <td>Not relevant</td>\n",
       "      <td>Not relevant</td>\n",
       "      <td>ia</td>\n",
       "      <td>50000.0</td>\n",
       "      <td>54.0</td>\n",
       "    </tr>\n",
       "    <tr>\n",
       "      <th>17</th>\n",
       "      <td>volkswagen</td>\n",
       "      <td>beetle</td>\n",
       "      <td>fair</td>\n",
       "      <td>4 cylinders</td>\n",
       "      <td>gas</td>\n",
       "      <td>manual</td>\n",
       "      <td>rwd</td>\n",
       "      <td>offroad</td>\n",
       "      <td>orange</td>\n",
       "      <td>az</td>\n",
       "      <td>9999999.0</td>\n",
       "      <td>46.0</td>\n",
       "    </tr>\n",
       "    <tr>\n",
       "      <th>18</th>\n",
       "      <td>ford</td>\n",
       "      <td>pickup</td>\n",
       "      <td>excellent</td>\n",
       "      <td>Not relevant</td>\n",
       "      <td>gas</td>\n",
       "      <td>automatic</td>\n",
       "      <td>Not relevant</td>\n",
       "      <td>truck</td>\n",
       "      <td>red</td>\n",
       "      <td>wa</td>\n",
       "      <td>11000.0</td>\n",
       "      <td>81.0</td>\n",
       "    </tr>\n",
       "    <tr>\n",
       "      <th>19</th>\n",
       "      <td>chevrolet</td>\n",
       "      <td>camaro</td>\n",
       "      <td>Not relevant</td>\n",
       "      <td>Not relevant</td>\n",
       "      <td>gas</td>\n",
       "      <td>manual</td>\n",
       "      <td>Not relevant</td>\n",
       "      <td>Not relevant</td>\n",
       "      <td>Not relevant</td>\n",
       "      <td>ia</td>\n",
       "      <td>43320.0</td>\n",
       "      <td>53.0</td>\n",
       "    </tr>\n",
       "    <tr>\n",
       "      <th>20</th>\n",
       "      <td>ford</td>\n",
       "      <td>mustang</td>\n",
       "      <td>Not relevant</td>\n",
       "      <td>Not relevant</td>\n",
       "      <td>gas</td>\n",
       "      <td>automatic</td>\n",
       "      <td>Not relevant</td>\n",
       "      <td>Not relevant</td>\n",
       "      <td>Not relevant</td>\n",
       "      <td>oh</td>\n",
       "      <td>28000.0</td>\n",
       "      <td>57.0</td>\n",
       "    </tr>\n",
       "    <tr>\n",
       "      <th>21</th>\n",
       "      <td>ford</td>\n",
       "      <td>mustang</td>\n",
       "      <td>Not relevant</td>\n",
       "      <td>Not relevant</td>\n",
       "      <td>gas</td>\n",
       "      <td>automatic</td>\n",
       "      <td>Not relevant</td>\n",
       "      <td>Not relevant</td>\n",
       "      <td>Not relevant</td>\n",
       "      <td>pa</td>\n",
       "      <td>98140.0</td>\n",
       "      <td>55.0</td>\n",
       "    </tr>\n",
       "    <tr>\n",
       "      <th>22</th>\n",
       "      <td>volkswagen</td>\n",
       "      <td>beetle</td>\n",
       "      <td>good</td>\n",
       "      <td>4 cylinders</td>\n",
       "      <td>gas</td>\n",
       "      <td>manual</td>\n",
       "      <td>Not relevant</td>\n",
       "      <td>Not relevant</td>\n",
       "      <td>white</td>\n",
       "      <td>co</td>\n",
       "      <td>9999999.0</td>\n",
       "      <td>64.0</td>\n",
       "    </tr>\n",
       "    <tr>\n",
       "      <th>23</th>\n",
       "      <td>ford</td>\n",
       "      <td>mustang convertible</td>\n",
       "      <td>excellent</td>\n",
       "      <td>8 cylinders</td>\n",
       "      <td>gas</td>\n",
       "      <td>automatic</td>\n",
       "      <td>rwd</td>\n",
       "      <td>convertible</td>\n",
       "      <td>blue</td>\n",
       "      <td>mi</td>\n",
       "      <td>99000.0</td>\n",
       "      <td>55.0</td>\n",
       "    </tr>\n",
       "    <tr>\n",
       "      <th>24</th>\n",
       "      <td>chevrolet</td>\n",
       "      <td>impala ss</td>\n",
       "      <td>Not relevant</td>\n",
       "      <td>Not relevant</td>\n",
       "      <td>gas</td>\n",
       "      <td>automatic</td>\n",
       "      <td>Not relevant</td>\n",
       "      <td>Not relevant</td>\n",
       "      <td>Not relevant</td>\n",
       "      <td>tx</td>\n",
       "      <td>96452.0</td>\n",
       "      <td>56.0</td>\n",
       "    </tr>\n",
       "    <tr>\n",
       "      <th>25</th>\n",
       "      <td>chevrolet</td>\n",
       "      <td>impala ss</td>\n",
       "      <td>excellent</td>\n",
       "      <td>8 cylinders</td>\n",
       "      <td>gas</td>\n",
       "      <td>automatic</td>\n",
       "      <td>rwd</td>\n",
       "      <td>coupe</td>\n",
       "      <td>white</td>\n",
       "      <td>mi</td>\n",
       "      <td>122300.0</td>\n",
       "      <td>55.0</td>\n",
       "    </tr>\n",
       "    <tr>\n",
       "      <th>26</th>\n",
       "      <td>chevrolet</td>\n",
       "      <td>malibu</td>\n",
       "      <td>excellent</td>\n",
       "      <td>8 cylinders</td>\n",
       "      <td>gas</td>\n",
       "      <td>automatic</td>\n",
       "      <td>rwd</td>\n",
       "      <td>coupe</td>\n",
       "      <td>white</td>\n",
       "      <td>ca</td>\n",
       "      <td>59200.0</td>\n",
       "      <td>56.0</td>\n",
       "    </tr>\n",
       "    <tr>\n",
       "      <th>27</th>\n",
       "      <td>ford</td>\n",
       "      <td>mustang</td>\n",
       "      <td>Not relevant</td>\n",
       "      <td>Not relevant</td>\n",
       "      <td>gas</td>\n",
       "      <td>automatic</td>\n",
       "      <td>Not relevant</td>\n",
       "      <td>Not relevant</td>\n",
       "      <td>Not relevant</td>\n",
       "      <td>oh</td>\n",
       "      <td>28000.0</td>\n",
       "      <td>57.0</td>\n",
       "    </tr>\n",
       "    <tr>\n",
       "      <th>28</th>\n",
       "      <td>pontiac</td>\n",
       "      <td>gto</td>\n",
       "      <td>Not relevant</td>\n",
       "      <td>Not relevant</td>\n",
       "      <td>gas</td>\n",
       "      <td>manual</td>\n",
       "      <td>Not relevant</td>\n",
       "      <td>convertible</td>\n",
       "      <td>Not relevant</td>\n",
       "      <td>ca</td>\n",
       "      <td>0.0</td>\n",
       "      <td>57.0</td>\n",
       "    </tr>\n",
       "    <tr>\n",
       "      <th>29</th>\n",
       "      <td>chevrolet</td>\n",
       "      <td>corvette convertible</td>\n",
       "      <td>Not relevant</td>\n",
       "      <td>8 cylinders</td>\n",
       "      <td>gas</td>\n",
       "      <td>manual</td>\n",
       "      <td>rwd</td>\n",
       "      <td>convertible</td>\n",
       "      <td>blue</td>\n",
       "      <td>fl</td>\n",
       "      <td>3392.0</td>\n",
       "      <td>58.0</td>\n",
       "    </tr>\n",
       "    <tr>\n",
       "      <th>30</th>\n",
       "      <td>volkswagen</td>\n",
       "      <td>bus</td>\n",
       "      <td>good</td>\n",
       "      <td>4 cylinders</td>\n",
       "      <td>gas</td>\n",
       "      <td>automatic</td>\n",
       "      <td>Not relevant</td>\n",
       "      <td>Not relevant</td>\n",
       "      <td>brown</td>\n",
       "      <td>wa</td>\n",
       "      <td>9999999.0</td>\n",
       "      <td>43.0</td>\n",
       "    </tr>\n",
       "    <tr>\n",
       "      <th>31</th>\n",
       "      <td>chevrolet</td>\n",
       "      <td>impala ss</td>\n",
       "      <td>excellent</td>\n",
       "      <td>8 cylinders</td>\n",
       "      <td>gas</td>\n",
       "      <td>manual</td>\n",
       "      <td>rwd</td>\n",
       "      <td>coupe</td>\n",
       "      <td>white</td>\n",
       "      <td>ca</td>\n",
       "      <td>42000.0</td>\n",
       "      <td>56.0</td>\n",
       "    </tr>\n",
       "    <tr>\n",
       "      <th>32</th>\n",
       "      <td>jeep</td>\n",
       "      <td>cj5</td>\n",
       "      <td>fair</td>\n",
       "      <td>6 cylinders</td>\n",
       "      <td>gas</td>\n",
       "      <td>manual</td>\n",
       "      <td>4wd</td>\n",
       "      <td>Not relevant</td>\n",
       "      <td>grey</td>\n",
       "      <td>mi</td>\n",
       "      <td>9999999.0</td>\n",
       "      <td>41.0</td>\n",
       "    </tr>\n",
       "    <tr>\n",
       "      <th>33</th>\n",
       "      <td>ford</td>\n",
       "      <td>roadster</td>\n",
       "      <td>Not relevant</td>\n",
       "      <td>Not relevant</td>\n",
       "      <td>gas</td>\n",
       "      <td>automatic</td>\n",
       "      <td>Not relevant</td>\n",
       "      <td>Not relevant</td>\n",
       "      <td>Not relevant</td>\n",
       "      <td>tn</td>\n",
       "      <td>14000.0</td>\n",
       "      <td>89.0</td>\n",
       "    </tr>\n",
       "    <tr>\n",
       "      <th>34</th>\n",
       "      <td>ford</td>\n",
       "      <td>roadster</td>\n",
       "      <td>good</td>\n",
       "      <td>4 cylinders</td>\n",
       "      <td>gas</td>\n",
       "      <td>manual</td>\n",
       "      <td>rwd</td>\n",
       "      <td>Not relevant</td>\n",
       "      <td>grey</td>\n",
       "      <td>pa</td>\n",
       "      <td>1.0</td>\n",
       "      <td>91.0</td>\n",
       "    </tr>\n",
       "    <tr>\n",
       "      <th>35</th>\n",
       "      <td>ford</td>\n",
       "      <td>model a</td>\n",
       "      <td>excellent</td>\n",
       "      <td>8 cylinders</td>\n",
       "      <td>gas</td>\n",
       "      <td>automatic</td>\n",
       "      <td>Not relevant</td>\n",
       "      <td>Not relevant</td>\n",
       "      <td>Not relevant</td>\n",
       "      <td>oh</td>\n",
       "      <td>2000.0</td>\n",
       "      <td>93.0</td>\n",
       "    </tr>\n",
       "    <tr>\n",
       "      <th>36</th>\n",
       "      <td>buick</td>\n",
       "      <td>century</td>\n",
       "      <td>Not relevant</td>\n",
       "      <td>Not relevant</td>\n",
       "      <td>gas</td>\n",
       "      <td>automatic</td>\n",
       "      <td>Not relevant</td>\n",
       "      <td>Not relevant</td>\n",
       "      <td>Not relevant</td>\n",
       "      <td>az</td>\n",
       "      <td>30500.0</td>\n",
       "      <td>82.0</td>\n",
       "    </tr>\n",
       "    <tr>\n",
       "      <th>37</th>\n",
       "      <td>toyota</td>\n",
       "      <td>tacoma prerunner</td>\n",
       "      <td>Not relevant</td>\n",
       "      <td>Not relevant</td>\n",
       "      <td>gas</td>\n",
       "      <td>automatic</td>\n",
       "      <td>Not relevant</td>\n",
       "      <td>Not relevant</td>\n",
       "      <td>Not relevant</td>\n",
       "      <td>fl</td>\n",
       "      <td>7777777.0</td>\n",
       "      <td>15.0</td>\n",
       "    </tr>\n",
       "    <tr>\n",
       "      <th>38</th>\n",
       "      <td>chevrolet</td>\n",
       "      <td>impala</td>\n",
       "      <td>Not relevant</td>\n",
       "      <td>Not relevant</td>\n",
       "      <td>gas</td>\n",
       "      <td>automatic</td>\n",
       "      <td>Not relevant</td>\n",
       "      <td>Not relevant</td>\n",
       "      <td>Not relevant</td>\n",
       "      <td>co</td>\n",
       "      <td>2000.0</td>\n",
       "      <td>61.0</td>\n",
       "    </tr>\n",
       "    <tr>\n",
       "      <th>39</th>\n",
       "      <td>ford</td>\n",
       "      <td>mustang</td>\n",
       "      <td>Not relevant</td>\n",
       "      <td>Not relevant</td>\n",
       "      <td>gas</td>\n",
       "      <td>automatic</td>\n",
       "      <td>Not relevant</td>\n",
       "      <td>Not relevant</td>\n",
       "      <td>Not relevant</td>\n",
       "      <td>oh</td>\n",
       "      <td>28000.0</td>\n",
       "      <td>57.0</td>\n",
       "    </tr>\n",
       "  </tbody>\n",
       "</table>\n",
       "</div>"
      ],
      "text/plain": [
       "   manufacturer                 model     condition     cylinders fuel  \\\n",
       "0          ford              roadster          good   8 cylinders  gas   \n",
       "1           gmc                 yukon          fair   8 cylinders  gas   \n",
       "2     chevrolet                malibu  Not relevant  Not relevant  gas   \n",
       "3          ford                 f-250      like new   4 cylinders  gas   \n",
       "4         buick               century     excellent   8 cylinders  gas   \n",
       "5       pontiac                 sedan  Not relevant  Not relevant  gas   \n",
       "6     chevrolet              roadster     excellent   8 cylinders  gas   \n",
       "7          ford               mustang          fair   6 cylinders  gas   \n",
       "8          ford              roadster     excellent   8 cylinders  gas   \n",
       "9          ford              roadster  Not relevant   8 cylinders  gas   \n",
       "10    chevrolet                malibu          good  Not relevant  gas   \n",
       "11    chevrolet                camaro     excellent   8 cylinders  gas   \n",
       "12         ford               mustang          fair   6 cylinders  gas   \n",
       "13         ford                 sedan     excellent   8 cylinders  gas   \n",
       "14    chevrolet                blazer     excellent   8 cylinders  gas   \n",
       "15         ford                pickup     excellent   8 cylinders  gas   \n",
       "16    chevrolet                camaro     excellent   8 cylinders  gas   \n",
       "17   volkswagen                beetle          fair   4 cylinders  gas   \n",
       "18         ford                pickup     excellent  Not relevant  gas   \n",
       "19    chevrolet                camaro  Not relevant  Not relevant  gas   \n",
       "20         ford               mustang  Not relevant  Not relevant  gas   \n",
       "21         ford               mustang  Not relevant  Not relevant  gas   \n",
       "22   volkswagen                beetle          good   4 cylinders  gas   \n",
       "23         ford   mustang convertible     excellent   8 cylinders  gas   \n",
       "24    chevrolet             impala ss  Not relevant  Not relevant  gas   \n",
       "25    chevrolet             impala ss     excellent   8 cylinders  gas   \n",
       "26    chevrolet                malibu     excellent   8 cylinders  gas   \n",
       "27         ford               mustang  Not relevant  Not relevant  gas   \n",
       "28      pontiac                   gto  Not relevant  Not relevant  gas   \n",
       "29    chevrolet  corvette convertible  Not relevant   8 cylinders  gas   \n",
       "30   volkswagen                   bus          good   4 cylinders  gas   \n",
       "31    chevrolet             impala ss     excellent   8 cylinders  gas   \n",
       "32         jeep                   cj5          fair   6 cylinders  gas   \n",
       "33         ford              roadster  Not relevant  Not relevant  gas   \n",
       "34         ford              roadster          good   4 cylinders  gas   \n",
       "35         ford               model a     excellent   8 cylinders  gas   \n",
       "36        buick               century  Not relevant  Not relevant  gas   \n",
       "37       toyota      tacoma prerunner  Not relevant  Not relevant  gas   \n",
       "38    chevrolet                impala  Not relevant  Not relevant  gas   \n",
       "39         ford               mustang  Not relevant  Not relevant  gas   \n",
       "\n",
       "   transmission         drive          type   paint_color state   odometer  \\\n",
       "0     automatic           rwd         coupe         black    hi    21220.0   \n",
       "1     automatic           fwd           SUV         white    ca  9750924.0   \n",
       "2     automatic  Not relevant  Not relevant  Not relevant    tx  5555555.0   \n",
       "3        manual           rwd         truck         black    ks    12999.0   \n",
       "4        manual           rwd         sedan         black    co    55000.0   \n",
       "5     automatic  Not relevant  Not relevant  Not relevant    pa   100000.0   \n",
       "6     automatic           rwd        pickup         black    ca        1.0   \n",
       "7     automatic           rwd  Not relevant        yellow    tx  5000000.0   \n",
       "8     automatic           rwd   convertible           red    in    22000.0   \n",
       "9     automatic           rwd  Not relevant  Not relevant    or    13231.0   \n",
       "10    automatic  Not relevant         sedan        silver    va  7603892.0   \n",
       "11    automatic           rwd         coupe          grey    ct      300.0   \n",
       "12    automatic           rwd         coupe  Not relevant    ca  9999999.0   \n",
       "13    automatic           rwd         sedan        yellow    ca      750.0   \n",
       "14    automatic           4wd           SUV        orange    nc        0.0   \n",
       "15       manual           rwd   convertible         black    tn     2700.0   \n",
       "16    automatic           rwd  Not relevant  Not relevant    ia    50000.0   \n",
       "17       manual           rwd       offroad        orange    az  9999999.0   \n",
       "18    automatic  Not relevant         truck           red    wa    11000.0   \n",
       "19       manual  Not relevant  Not relevant  Not relevant    ia    43320.0   \n",
       "20    automatic  Not relevant  Not relevant  Not relevant    oh    28000.0   \n",
       "21    automatic  Not relevant  Not relevant  Not relevant    pa    98140.0   \n",
       "22       manual  Not relevant  Not relevant         white    co  9999999.0   \n",
       "23    automatic           rwd   convertible          blue    mi    99000.0   \n",
       "24    automatic  Not relevant  Not relevant  Not relevant    tx    96452.0   \n",
       "25    automatic           rwd         coupe         white    mi   122300.0   \n",
       "26    automatic           rwd         coupe         white    ca    59200.0   \n",
       "27    automatic  Not relevant  Not relevant  Not relevant    oh    28000.0   \n",
       "28       manual  Not relevant   convertible  Not relevant    ca        0.0   \n",
       "29       manual           rwd   convertible          blue    fl     3392.0   \n",
       "30    automatic  Not relevant  Not relevant         brown    wa  9999999.0   \n",
       "31       manual           rwd         coupe         white    ca    42000.0   \n",
       "32       manual           4wd  Not relevant          grey    mi  9999999.0   \n",
       "33    automatic  Not relevant  Not relevant  Not relevant    tn    14000.0   \n",
       "34       manual           rwd  Not relevant          grey    pa        1.0   \n",
       "35    automatic  Not relevant  Not relevant  Not relevant    oh     2000.0   \n",
       "36    automatic  Not relevant  Not relevant  Not relevant    az    30500.0   \n",
       "37    automatic  Not relevant  Not relevant  Not relevant    fl  7777777.0   \n",
       "38    automatic  Not relevant  Not relevant  Not relevant    co     2000.0   \n",
       "39    automatic  Not relevant  Not relevant  Not relevant    oh    28000.0   \n",
       "\n",
       "     age  \n",
       "0   89.0  \n",
       "1   23.0  \n",
       "2   29.0  \n",
       "3   94.0  \n",
       "4   80.0  \n",
       "5   84.0  \n",
       "6   91.0  \n",
       "7   56.0  \n",
       "8   89.0  \n",
       "9   89.0  \n",
       "10  16.0  \n",
       "11  52.0  \n",
       "12  56.0  \n",
       "13  86.0  \n",
       "14  46.0  \n",
       "15  94.0  \n",
       "16  54.0  \n",
       "17  46.0  \n",
       "18  81.0  \n",
       "19  53.0  \n",
       "20  57.0  \n",
       "21  55.0  \n",
       "22  64.0  \n",
       "23  55.0  \n",
       "24  56.0  \n",
       "25  55.0  \n",
       "26  56.0  \n",
       "27  57.0  \n",
       "28  57.0  \n",
       "29  58.0  \n",
       "30  43.0  \n",
       "31  56.0  \n",
       "32  41.0  \n",
       "33  89.0  \n",
       "34  91.0  \n",
       "35  93.0  \n",
       "36  82.0  \n",
       "37  15.0  \n",
       "38  61.0  \n",
       "39  57.0  "
      ]
     },
     "execution_count": 79,
     "metadata": {},
     "output_type": "execute_result"
    }
   ],
   "source": [
    "unstable = inverse_trans(unstable_features, cat_enc = cat_encoder, num_enc = num_encoder)\n",
    "pd.DataFrame(unstable, columns = cols)"
   ]
  },
  {
   "cell_type": "markdown",
   "id": "bd6a8dbb-201b-4f6c-8f02-d147ea861945",
   "metadata": {},
   "source": [
    "Unfortunately analyzing the outliers yielded no results of significance. From observing this points I can't detect any considerable trends, so I will move forward with what i have."
   ]
  },
  {
   "cell_type": "markdown",
   "id": "b8e2d9f0-7511-4af6-ae1f-bc25bed76d19",
   "metadata": {},
   "source": [
    "## Ensemble_regressors"
   ]
  },
  {
   "cell_type": "markdown",
   "id": "bd6d2b64-d621-4b66-af8d-793d9130c4f1",
   "metadata": {
    "tags": []
   },
   "source": [
    "These are the steps I will follow ensemble regressors:\n",
    "* Instantiate every model in a corresponding variable\n",
    "* Fit all models, one by one\n",
    "* Use the fitted models to generate predictions\n",
    "* Calculate and store residuals for visualization purposes\n",
    "* Calculate the following errors for each model:\n",
    "    * Mean Absolute Error (MAE)\n",
    "    * Mean Squared Error (MSE)\n",
    "    * Root Mean Squared Error (RMSE)"
   ]
  },
  {
   "cell_type": "code",
   "execution_count": 80,
   "id": "ea71039e-b3a8-4ea1-befc-7939ad77a4e2",
   "metadata": {},
   "outputs": [],
   "source": [
    "forest = RandomForestRegressor(verbose = 1, n_jobs = -1, random_state = 20) #Random state for reproducibility\n",
    "boost = GradientBoostingRegressor(verbose = 1, random_state = 20) #Random state for reproducibility"
   ]
  },
  {
   "cell_type": "code",
   "execution_count": 81,
   "id": "ddcf3189-2681-4fce-be17-920470e11ba7",
   "metadata": {},
   "outputs": [
    {
     "name": "stderr",
     "output_type": "stream",
     "text": [
      "[Parallel(n_jobs=-1)]: Using backend ThreadingBackend with 12 concurrent workers.\n",
      "[Parallel(n_jobs=-1)]: Done  26 tasks      | elapsed:  2.6min\n",
      "[Parallel(n_jobs=-1)]: Done 100 out of 100 | elapsed:  7.8min finished\n"
     ]
    },
    {
     "data": {
      "text/plain": [
       "RandomForestRegressor(n_jobs=-1, random_state=20, verbose=1)"
      ]
     },
     "execution_count": 81,
     "metadata": {},
     "output_type": "execute_result"
    }
   ],
   "source": [
    "forest.fit(X_train, y_train)"
   ]
  },
  {
   "cell_type": "code",
   "execution_count": 82,
   "id": "2c1d723d-61d7-40f6-9678-b62073a608ff",
   "metadata": {},
   "outputs": [
    {
     "name": "stdout",
     "output_type": "stream",
     "text": [
      "      Iter       Train Loss   Remaining Time \n",
      "         1   125739852.7815           18.03m\n",
      "         2   113512564.6389           17.82m\n",
      "         3   103215639.5117           17.66m\n",
      "         4    94452410.5891           17.45m\n",
      "         5    87218829.3059           17.26m\n",
      "         6    81101662.3794           17.06m\n",
      "         7    75344330.3171           16.87m\n",
      "         8    70593719.8439           16.68m\n",
      "         9    66693509.5755           16.44m\n",
      "        10    63222570.1250           16.22m\n",
      "        20    44343580.5155           15.24m\n",
      "        30    37834279.4788           13.21m\n",
      "        40    34891914.6935           11.28m\n",
      "        50    33123077.6663            9.42m\n",
      "        60    31984390.2444            7.60m\n",
      "        70    31105859.3285            5.75m\n",
      "        80    30389975.8403            3.92m\n",
      "        90    29786014.8833            1.98m\n",
      "       100    29222767.7673            0.00s\n"
     ]
    },
    {
     "data": {
      "text/plain": [
       "GradientBoostingRegressor(random_state=20, verbose=1)"
      ]
     },
     "execution_count": 82,
     "metadata": {},
     "output_type": "execute_result"
    }
   ],
   "source": [
    "boost.fit(X_train, y_train)"
   ]
  },
  {
   "cell_type": "code",
   "execution_count": 83,
   "id": "c21636dd-e94f-460f-afc8-caeb7e12c53f",
   "metadata": {},
   "outputs": [
    {
     "name": "stderr",
     "output_type": "stream",
     "text": [
      "[Parallel(n_jobs=12)]: Using backend ThreadingBackend with 12 concurrent workers.\n",
      "[Parallel(n_jobs=12)]: Done  26 tasks      | elapsed:    0.2s\n",
      "[Parallel(n_jobs=12)]: Done 100 out of 100 | elapsed:    0.6s finished\n"
     ]
    }
   ],
   "source": [
    "# obtaining predictions\n",
    "forest_pred = forest.predict(X_val)\n",
    "boost_pred = boost.predict(X_val)"
   ]
  },
  {
   "cell_type": "code",
   "execution_count": 84,
   "id": "760e5a1f-2adf-4771-9708-684d4909fe26",
   "metadata": {},
   "outputs": [],
   "source": [
    "# calculating residuals\n",
    "forest_res = forest_pred - y_val2.values\n",
    "boost_res = boost_pred - y_val2.values"
   ]
  },
  {
   "cell_type": "code",
   "execution_count": 85,
   "id": "a97c89b1-9553-44e7-8a42-8f07b1a778f7",
   "metadata": {},
   "outputs": [
    {
     "data": {
      "text/html": [
       "<div>\n",
       "<style scoped>\n",
       "    .dataframe tbody tr th:only-of-type {\n",
       "        vertical-align: middle;\n",
       "    }\n",
       "\n",
       "    .dataframe tbody tr th {\n",
       "        vertical-align: top;\n",
       "    }\n",
       "\n",
       "    .dataframe thead th {\n",
       "        text-align: right;\n",
       "    }\n",
       "</style>\n",
       "<table border=\"1\" class=\"dataframe\">\n",
       "  <thead>\n",
       "    <tr style=\"text-align: right;\">\n",
       "      <th></th>\n",
       "      <th>MAE</th>\n",
       "      <th>MSE</th>\n",
       "      <th>RMSE</th>\n",
       "    </tr>\n",
       "  </thead>\n",
       "  <tbody>\n",
       "    <tr>\n",
       "      <th>Random_Forest</th>\n",
       "      <td>1562.011509</td>\n",
       "      <td>9.017245e+06</td>\n",
       "      <td>3002.872813</td>\n",
       "    </tr>\n",
       "    <tr>\n",
       "      <th>Boosted_Trees</th>\n",
       "      <td>3918.951535</td>\n",
       "      <td>2.925794e+07</td>\n",
       "      <td>5409.061142</td>\n",
       "    </tr>\n",
       "  </tbody>\n",
       "</table>\n",
       "</div>"
      ],
      "text/plain": [
       "                       MAE           MSE         RMSE\n",
       "Random_Forest  1562.011509  9.017245e+06  3002.872813\n",
       "Boosted_Trees  3918.951535  2.925794e+07  5409.061142"
      ]
     },
     "execution_count": 85,
     "metadata": {},
     "output_type": "execute_result"
    }
   ],
   "source": [
    "# creating a summary table to visualize results\n",
    "MAE = [mean_absolute_error(y_val, forest_pred), mean_absolute_error(y_val, boost_pred)]\n",
    "MSE = [mean_squared_error(y_val, forest_pred), mean_squared_error(y_val, boost_pred)]\n",
    "RMSE = [np.sqrt(mean_squared_error(y_val, forest_pred)), np.sqrt(mean_squared_error(y_val, boost_pred))]\n",
    "\n",
    "pd.DataFrame({\"MAE\": MAE, \"MSE\": MSE, \"RMSE\": RMSE}, index = [\"Random_Forest\", \"Boosted_Trees\"])"
   ]
  },
  {
   "cell_type": "code",
   "execution_count": 86,
   "id": "cbd610dc-bdb0-49fe-a941-30d8f8ba5d35",
   "metadata": {},
   "outputs": [
    {
     "data": {
      "image/png": "[encoded data removed]",
      "text/plain": [
       "<Figure size 1728x576 with 2 Axes>"
      ]
     },
     "metadata": {
      "needs_background": "light"
     },
     "output_type": "display_data"
    }
   ],
   "source": [
    "fig, ax = plt.subplots(1,2, figsize=(24,8))\n",
    "sns.lineplot(ax = ax[0], data = forest_res, color = \"green\")\n",
    "sns.lineplot(ax = ax[1], data = boost_res, color = \"purple\");"
   ]
  },
  {
   "cell_type": "markdown",
   "id": "f4ed02b9-f472-4a9b-ab17-8d6b9e18f2b0",
   "metadata": {},
   "source": [
    "Interestingly, the non-parametric seem to be much better at detecting trends in the underlying data. This leads me to two conclusions\n",
    "* the data is NOT linearly-related, which means linear models are bad estimators.\n",
    "* The exact nature of the relation is undefined, so we need something that can approximate anything...\n",
    "\n",
    "a Neural Network!"
   ]
  },
  {
   "cell_type": "markdown",
   "id": "0cad792d-8199-4bcb-a29d-a60beb9d2944",
   "metadata": {},
   "source": [
    "## Keras_model"
   ]
  },
  {
   "cell_type": "code",
   "execution_count": 119,
   "id": "93b04474-d1f3-4e03-b527-09e3c681343b",
   "metadata": {},
   "outputs": [],
   "source": [
    "model = Sequential()\n",
    "\n",
    "# Creating input layer\n",
    "model.add(Input(shape = (1802,), name = \"input_lay\"))\n",
    "\n",
    "# creating first layer\n",
    "model.add(Dense(900, activation = \"relu\"))\n",
    "# regularization on first one to dropout all the possibly useless attributes\n",
    "model.add(Dropout(0.4))\n",
    "\n",
    "# creating a second layer with a substantially smaller size\n",
    "model.add(Dense(100, activation = \"relu\"))\n",
    "# regularizing\n",
    "model.add(Dropout(0.1))\n",
    "\n",
    "# third layer with a substantially smaller size\n",
    "model.add(Dense(11, activation = \"relu\"))\n",
    "# no regularization in the third layer\n",
    "\n",
    "# final layer\n",
    "model.add(Dense(1))\n",
    "\n",
    "# compiling\n",
    "model.compile(optimizer = \"adam\", loss = \"mse\", metrics = [tf.keras.metrics.MeanAbsoluteError(), tf.keras.metrics.RootMeanSquaredError()])"
   ]
  },
  {
   "cell_type": "code",
   "execution_count": 120,
   "id": "afcc2113-2939-46ff-84b0-2c225c3e2bac",
   "metadata": {},
   "outputs": [],
   "source": [
    "stop = EarlyStopping(monitor = \"val_loss\", patience = 3, mode = \"min\")"
   ]
  },
  {
   "cell_type": "code",
   "execution_count": 121,
   "id": "4bbc2d18-f53b-4977-b643-ea5e82aa4945",
   "metadata": {},
   "outputs": [
    {
     "name": "stdout",
     "output_type": "stream",
     "text": [
      "Epoch 1/100\n",
      "1287/1287 [==============================] - 20s 16ms/step - loss: 68727584.0000 - mean_absolute_error: 5289.6025 - root_mean_squared_error: 8290.2100 - val_loss: 19639276.0000 - val_mean_absolute_error: 2947.0520 - val_root_mean_squared_error: 4431.6221\n",
      "Epoch 2/100\n",
      "1287/1287 [==============================] - 20s 15ms/step - loss: 18088816.0000 - mean_absolute_error: 2840.9019 - root_mean_squared_error: 4253.0947 - val_loss: 15109528.0000 - val_mean_absolute_error: 2508.0359 - val_root_mean_squared_error: 3887.0977\n",
      "Epoch 3/100\n",
      "1287/1287 [==============================] - 20s 15ms/step - loss: 15470683.0000 - mean_absolute_error: 2594.5283 - root_mean_squared_error: 3933.2788 - val_loss: 13837034.0000 - val_mean_absolute_error: 2396.9192 - val_root_mean_squared_error: 3719.8164\n",
      "Epoch 4/100\n",
      "1287/1287 [==============================] - 20s 15ms/step - loss: 14489422.0000 - mean_absolute_error: 2500.2266 - root_mean_squared_error: 3806.4973 - val_loss: 12964396.0000 - val_mean_absolute_error: 2285.7046 - val_root_mean_squared_error: 3600.6106\n",
      "Epoch 5/100\n",
      "1287/1287 [==============================] - 20s 16ms/step - loss: 13932281.0000 - mean_absolute_error: 2446.8010 - root_mean_squared_error: 3732.5972 - val_loss: 12522135.0000 - val_mean_absolute_error: 2239.8945 - val_root_mean_squared_error: 3538.6628\n",
      "Epoch 6/100\n",
      "1287/1287 [==============================] - 20s 16ms/step - loss: 13467546.0000 - mean_absolute_error: 2401.4192 - root_mean_squared_error: 3669.8154 - val_loss: 12128604.0000 - val_mean_absolute_error: 2199.1519 - val_root_mean_squared_error: 3482.6145\n",
      "Epoch 7/100\n",
      "1287/1287 [==============================] - 20s 15ms/step - loss: 13052628.0000 - mean_absolute_error: 2360.5173 - root_mean_squared_error: 3612.8420 - val_loss: 11970088.0000 - val_mean_absolute_error: 2214.7666 - val_root_mean_squared_error: 3459.7815\n",
      "Epoch 8/100\n",
      "1287/1287 [==============================] - 20s 15ms/step - loss: 12748647.0000 - mean_absolute_error: 2330.3071 - root_mean_squared_error: 3570.5247 - val_loss: 11474428.0000 - val_mean_absolute_error: 2136.2600 - val_root_mean_squared_error: 3387.3926\n",
      "Epoch 9/100\n",
      "1287/1287 [==============================] - 20s 15ms/step - loss: 12407679.0000 - mean_absolute_error: 2297.7556 - root_mean_squared_error: 3522.4536 - val_loss: 11266854.0000 - val_mean_absolute_error: 2107.8401 - val_root_mean_squared_error: 3356.6135\n",
      "Epoch 10/100\n",
      "1287/1287 [==============================] - 20s 16ms/step - loss: 12084449.0000 - mean_absolute_error: 2263.9978 - root_mean_squared_error: 3476.2693 - val_loss: 11027554.0000 - val_mean_absolute_error: 2071.3706 - val_root_mean_squared_error: 3320.7761\n",
      "Epoch 11/100\n",
      "1287/1287 [==============================] - 21s 16ms/step - loss: 11870614.0000 - mean_absolute_error: 2246.4792 - root_mean_squared_error: 3445.3757 - val_loss: 10763269.0000 - val_mean_absolute_error: 2048.2136 - val_root_mean_squared_error: 3280.7422\n",
      "Epoch 12/100\n",
      "1287/1287 [==============================] - 21s 16ms/step - loss: 11594147.0000 - mean_absolute_error: 2217.9163 - root_mean_squared_error: 3405.0178 - val_loss: 10598371.0000 - val_mean_absolute_error: 2026.5494 - val_root_mean_squared_error: 3255.5139\n",
      "Epoch 13/100\n",
      "1287/1287 [==============================] - 20s 16ms/step - loss: 11355804.0000 - mean_absolute_error: 2194.7061 - root_mean_squared_error: 3369.8374 - val_loss: 10395380.0000 - val_mean_absolute_error: 1997.5146 - val_root_mean_squared_error: 3224.1868\n",
      "Epoch 14/100\n",
      "1287/1287 [==============================] - 21s 16ms/step - loss: 11106624.0000 - mean_absolute_error: 2172.9360 - root_mean_squared_error: 3332.6602 - val_loss: 10276993.0000 - val_mean_absolute_error: 1998.8842 - val_root_mean_squared_error: 3205.7749\n",
      "Epoch 15/100\n",
      "1287/1287 [==============================] - 20s 16ms/step - loss: 10888208.0000 - mean_absolute_error: 2155.2256 - root_mean_squared_error: 3299.7285 - val_loss: 10122547.0000 - val_mean_absolute_error: 1975.6318 - val_root_mean_squared_error: 3181.5950\n",
      "Epoch 16/100\n",
      "1287/1287 [==============================] - 20s 16ms/step - loss: 10777306.0000 - mean_absolute_error: 2139.3655 - root_mean_squared_error: 3282.8809 - val_loss: 10000159.0000 - val_mean_absolute_error: 1960.1448 - val_root_mean_squared_error: 3162.3027\n",
      "Epoch 17/100\n",
      "1287/1287 [==============================] - 21s 16ms/step - loss: 10565786.0000 - mean_absolute_error: 2119.8323 - root_mean_squared_error: 3250.5056 - val_loss: 9922058.0000 - val_mean_absolute_error: 1949.2958 - val_root_mean_squared_error: 3149.9299\n",
      "Epoch 18/100\n",
      "1287/1287 [==============================] - 21s 16ms/step - loss: 10369622.0000 - mean_absolute_error: 2099.2778 - root_mean_squared_error: 3220.1897 - val_loss: 9753770.0000 - val_mean_absolute_error: 1935.5913 - val_root_mean_squared_error: 3123.1025\n",
      "Epoch 19/100\n",
      "1287/1287 [==============================] - 20s 16ms/step - loss: 10238313.0000 - mean_absolute_error: 2092.4253 - root_mean_squared_error: 3199.7363 - val_loss: 9644873.0000 - val_mean_absolute_error: 1917.7477 - val_root_mean_squared_error: 3105.6196\n",
      "Epoch 20/100\n",
      "1287/1287 [==============================] - 20s 16ms/step - loss: 10069345.0000 - mean_absolute_error: 2074.8176 - root_mean_squared_error: 3173.2231 - val_loss: 9599500.0000 - val_mean_absolute_error: 1916.3525 - val_root_mean_squared_error: 3098.3059\n",
      "Epoch 21/100\n",
      "1287/1287 [==============================] - 20s 16ms/step - loss: 9925290.0000 - mean_absolute_error: 2062.5879 - root_mean_squared_error: 3150.4429 - val_loss: 9519639.0000 - val_mean_absolute_error: 1911.3116 - val_root_mean_squared_error: 3085.3911\n",
      "Epoch 22/100\n",
      "1287/1287 [==============================] - 21s 16ms/step - loss: 9796169.0000 - mean_absolute_error: 2049.4419 - root_mean_squared_error: 3129.8833 - val_loss: 9403890.0000 - val_mean_absolute_error: 1888.7101 - val_root_mean_squared_error: 3066.5762\n",
      "Epoch 23/100\n",
      "1287/1287 [==============================] - 21s 16ms/step - loss: 9657822.0000 - mean_absolute_error: 2035.6925 - root_mean_squared_error: 3107.7036 - val_loss: 9414589.0000 - val_mean_absolute_error: 1896.6034 - val_root_mean_squared_error: 3068.3203\n",
      "Epoch 24/100\n",
      "1287/1287 [==============================] - 21s 16ms/step - loss: 9561969.0000 - mean_absolute_error: 2031.4677 - root_mean_squared_error: 3092.2434 - val_loss: 9276576.0000 - val_mean_absolute_error: 1877.4187 - val_root_mean_squared_error: 3045.7473\n",
      "Epoch 25/100\n",
      "1287/1287 [==============================] - 20s 16ms/step - loss: 9408355.0000 - mean_absolute_error: 2015.4406 - root_mean_squared_error: 3067.3042 - val_loss: 9411367.0000 - val_mean_absolute_error: 1929.4025 - val_root_mean_squared_error: 3067.7952\n",
      "Epoch 26/100\n",
      "1287/1287 [==============================] - 20s 16ms/step - loss: 9283629.0000 - mean_absolute_error: 1999.6486 - root_mean_squared_error: 3046.9048 - val_loss: 9132088.0000 - val_mean_absolute_error: 1861.4434 - val_root_mean_squared_error: 3021.9346\n",
      "Epoch 27/100\n",
      "1287/1287 [==============================] - 20s 16ms/step - loss: 9184168.0000 - mean_absolute_error: 1990.8015 - root_mean_squared_error: 3030.5393 - val_loss: 9137460.0000 - val_mean_absolute_error: 1862.4789 - val_root_mean_squared_error: 3022.8232\n",
      "Epoch 28/100\n",
      "1287/1287 [==============================] - 21s 16ms/step - loss: 9063344.0000 - mean_absolute_error: 1983.7686 - root_mean_squared_error: 3010.5388 - val_loss: 9232636.0000 - val_mean_absolute_error: 1904.4115 - val_root_mean_squared_error: 3038.5254\n",
      "Epoch 29/100\n",
      "1287/1287 [==============================] - 21s 16ms/step - loss: 8978921.0000 - mean_absolute_error: 1975.9270 - root_mean_squared_error: 2996.4849 - val_loss: 9035126.0000 - val_mean_absolute_error: 1851.4501 - val_root_mean_squared_error: 3005.8486\n",
      "Epoch 30/100\n",
      "1287/1287 [==============================] - 21s 16ms/step - loss: 8841191.0000 - mean_absolute_error: 1964.1199 - root_mean_squared_error: 2973.4141 - val_loss: 9007527.0000 - val_mean_absolute_error: 1847.3721 - val_root_mean_squared_error: 3001.2542\n",
      "Epoch 31/100\n",
      "1287/1287 [==============================] - 20s 16ms/step - loss: 8757616.0000 - mean_absolute_error: 1955.8077 - root_mean_squared_error: 2959.3269 - val_loss: 8926674.0000 - val_mean_absolute_error: 1832.4961 - val_root_mean_squared_error: 2987.7539\n",
      "Epoch 32/100\n",
      "1287/1287 [==============================] - 20s 16ms/step - loss: 8615670.0000 - mean_absolute_error: 1944.3854 - root_mean_squared_error: 2935.2461 - val_loss: 8888128.0000 - val_mean_absolute_error: 1832.1576 - val_root_mean_squared_error: 2981.2964\n",
      "Epoch 33/100\n",
      "1287/1287 [==============================] - 20s 16ms/step - loss: 8595124.0000 - mean_absolute_error: 1942.7058 - root_mean_squared_error: 2931.7441 - val_loss: 8827789.0000 - val_mean_absolute_error: 1819.3885 - val_root_mean_squared_error: 2971.1594\n",
      "Epoch 34/100\n",
      "1287/1287 [==============================] - 21s 16ms/step - loss: 8505977.0000 - mean_absolute_error: 1934.8285 - root_mean_squared_error: 2916.5007 - val_loss: 8915386.0000 - val_mean_absolute_error: 1857.4175 - val_root_mean_squared_error: 2985.8643\n",
      "Epoch 35/100\n",
      "1287/1287 [==============================] - 21s 17ms/step - loss: 8340053.0000 - mean_absolute_error: 1915.4099 - root_mean_squared_error: 2887.9150 - val_loss: 8798366.0000 - val_mean_absolute_error: 1817.0253 - val_root_mean_squared_error: 2966.2039\n",
      "Epoch 36/100\n",
      "1287/1287 [==============================] - 21s 16ms/step - loss: 8334303.5000 - mean_absolute_error: 1915.8380 - root_mean_squared_error: 2886.9194 - val_loss: 8829725.0000 - val_mean_absolute_error: 1833.2625 - val_root_mean_squared_error: 2971.4854\n",
      "Epoch 37/100\n",
      "1287/1287 [==============================] - 21s 16ms/step - loss: 8223716.5000 - mean_absolute_error: 1904.6814 - root_mean_squared_error: 2867.7024 - val_loss: 8725772.0000 - val_mean_absolute_error: 1812.0586 - val_root_mean_squared_error: 2953.9419\n",
      "Epoch 38/100\n",
      "1287/1287 [==============================] - 20s 16ms/step - loss: 8115217.0000 - mean_absolute_error: 1893.3182 - root_mean_squared_error: 2848.7219 - val_loss: 8918664.0000 - val_mean_absolute_error: 1862.8696 - val_root_mean_squared_error: 2986.4133\n",
      "Epoch 39/100\n",
      "1287/1287 [==============================] - 20s 16ms/step - loss: 8079025.0000 - mean_absolute_error: 1890.9868 - root_mean_squared_error: 2842.3625 - val_loss: 8653616.0000 - val_mean_absolute_error: 1801.5975 - val_root_mean_squared_error: 2941.7029\n",
      "Epoch 40/100\n",
      "1287/1287 [==============================] - 21s 16ms/step - loss: 8005988.0000 - mean_absolute_error: 1887.9478 - root_mean_squared_error: 2829.4854 - val_loss: 8617299.0000 - val_mean_absolute_error: 1795.9662 - val_root_mean_squared_error: 2935.5237\n",
      "Epoch 41/100\n",
      "1287/1287 [==============================] - 21s 16ms/step - loss: 7979109.5000 - mean_absolute_error: 1880.1635 - root_mean_squared_error: 2824.7317 - val_loss: 8594159.0000 - val_mean_absolute_error: 1788.2657 - val_root_mean_squared_error: 2931.5796\n",
      "Epoch 42/100\n",
      "1287/1287 [==============================] - 21s 16ms/step - loss: 7841751.0000 - mean_absolute_error: 1869.0358 - root_mean_squared_error: 2800.3127 - val_loss: 8638618.0000 - val_mean_absolute_error: 1817.2314 - val_root_mean_squared_error: 2939.1526\n",
      "Epoch 43/100\n",
      "1287/1287 [==============================] - 20s 16ms/step - loss: 7755658.0000 - mean_absolute_error: 1864.7424 - root_mean_squared_error: 2784.8982 - val_loss: 8544351.0000 - val_mean_absolute_error: 1787.3223 - val_root_mean_squared_error: 2923.0723\n",
      "Epoch 44/100\n",
      "1287/1287 [==============================] - 21s 16ms/step - loss: 7716155.5000 - mean_absolute_error: 1854.7616 - root_mean_squared_error: 2777.7969 - val_loss: 8514379.0000 - val_mean_absolute_error: 1786.3608 - val_root_mean_squared_error: 2917.9409\n",
      "Epoch 45/100\n",
      "1287/1287 [==============================] - 20s 16ms/step - loss: 7645372.0000 - mean_absolute_error: 1850.4187 - root_mean_squared_error: 2765.0266 - val_loss: 8498090.0000 - val_mean_absolute_error: 1782.2290 - val_root_mean_squared_error: 2915.1484\n",
      "Epoch 46/100\n",
      "1287/1287 [==============================] - 21s 16ms/step - loss: 7652790.5000 - mean_absolute_error: 1850.8668 - root_mean_squared_error: 2766.3677 - val_loss: 8490430.0000 - val_mean_absolute_error: 1785.5472 - val_root_mean_squared_error: 2913.8342\n",
      "Epoch 47/100\n",
      "1287/1287 [==============================] - 21s 16ms/step - loss: 7477651.0000 - mean_absolute_error: 1830.7904 - root_mean_squared_error: 2734.5293 - val_loss: 8453857.0000 - val_mean_absolute_error: 1767.4910 - val_root_mean_squared_error: 2907.5518\n",
      "Epoch 48/100\n",
      "1287/1287 [==============================] - 20s 16ms/step - loss: 7500907.5000 - mean_absolute_error: 1833.9337 - root_mean_squared_error: 2738.7786 - val_loss: 8411633.0000 - val_mean_absolute_error: 1778.7340 - val_root_mean_squared_error: 2900.2815\n",
      "Epoch 49/100\n",
      "1287/1287 [==============================] - 21s 16ms/step - loss: 7436656.5000 - mean_absolute_error: 1827.5057 - root_mean_squared_error: 2727.0234 - val_loss: 8408151.0000 - val_mean_absolute_error: 1766.6022 - val_root_mean_squared_error: 2899.6812\n",
      "Epoch 50/100\n",
      "1287/1287 [==============================] - 21s 16ms/step - loss: 7356040.0000 - mean_absolute_error: 1822.6711 - root_mean_squared_error: 2712.2021 - val_loss: 8413645.0000 - val_mean_absolute_error: 1770.2917 - val_root_mean_squared_error: 2900.6284\n",
      "Epoch 51/100\n",
      "1287/1287 [==============================] - 21s 16ms/step - loss: 7348199.5000 - mean_absolute_error: 1819.6708 - root_mean_squared_error: 2710.7563 - val_loss: 8351374.0000 - val_mean_absolute_error: 1757.8757 - val_root_mean_squared_error: 2889.8745\n",
      "Epoch 52/100\n",
      "1287/1287 [==============================] - 21s 16ms/step - loss: 7226597.0000 - mean_absolute_error: 1811.3661 - root_mean_squared_error: 2688.2332 - val_loss: 8336683.5000 - val_mean_absolute_error: 1752.8799 - val_root_mean_squared_error: 2887.3315\n",
      "Epoch 53/100\n",
      "1287/1287 [==============================] - 21s 16ms/step - loss: 7210913.5000 - mean_absolute_error: 1807.4109 - root_mean_squared_error: 2685.3145 - val_loss: 8415690.0000 - val_mean_absolute_error: 1777.3724 - val_root_mean_squared_error: 2900.9810\n",
      "Epoch 54/100\n",
      "1287/1287 [==============================] - 21s 16ms/step - loss: 7249714.0000 - mean_absolute_error: 1808.2881 - root_mean_squared_error: 2692.5293 - val_loss: 8292905.0000 - val_mean_absolute_error: 1750.5422 - val_root_mean_squared_error: 2879.7405\n",
      "Epoch 55/100\n",
      "1287/1287 [==============================] - 20s 16ms/step - loss: 7148748.0000 - mean_absolute_error: 1797.2825 - root_mean_squared_error: 2673.7144 - val_loss: 8289085.0000 - val_mean_absolute_error: 1753.3361 - val_root_mean_squared_error: 2879.0771\n",
      "Epoch 56/100\n",
      "1287/1287 [==============================] - 21s 16ms/step - loss: 7022589.5000 - mean_absolute_error: 1787.2122 - root_mean_squared_error: 2650.0168 - val_loss: 8319745.5000 - val_mean_absolute_error: 1755.2141 - val_root_mean_squared_error: 2884.3970\n",
      "Epoch 57/100\n",
      "1287/1287 [==============================] - 21s 16ms/step - loss: 7056132.5000 - mean_absolute_error: 1789.6346 - root_mean_squared_error: 2656.3381 - val_loss: 8396042.0000 - val_mean_absolute_error: 1777.2368 - val_root_mean_squared_error: 2897.5925\n",
      "Epoch 58/100\n",
      "1287/1287 [==============================] - 22s 17ms/step - loss: 6975402.5000 - mean_absolute_error: 1782.0052 - root_mean_squared_error: 2641.0986 - val_loss: 8209535.5000 - val_mean_absolute_error: 1743.3927 - val_root_mean_squared_error: 2865.2288\n",
      "Epoch 59/100\n",
      "1287/1287 [==============================] - 21s 16ms/step - loss: 6920925.5000 - mean_absolute_error: 1775.1542 - root_mean_squared_error: 2630.7651 - val_loss: 8229358.5000 - val_mean_absolute_error: 1736.5326 - val_root_mean_squared_error: 2868.6858\n",
      "Epoch 60/100\n",
      "1287/1287 [==============================] - 21s 16ms/step - loss: 6884288.5000 - mean_absolute_error: 1768.0581 - root_mean_squared_error: 2623.7927 - val_loss: 8200925.0000 - val_mean_absolute_error: 1746.1792 - val_root_mean_squared_error: 2863.7258\n",
      "Epoch 61/100\n",
      "1287/1287 [==============================] - 20s 16ms/step - loss: 6844932.5000 - mean_absolute_error: 1767.3418 - root_mean_squared_error: 2616.2822 - val_loss: 8188882.5000 - val_mean_absolute_error: 1739.8889 - val_root_mean_squared_error: 2861.6223\n",
      "Epoch 62/100\n",
      "1287/1287 [==============================] - 21s 16ms/step - loss: 6850611.5000 - mean_absolute_error: 1766.4181 - root_mean_squared_error: 2617.3672 - val_loss: 8180864.0000 - val_mean_absolute_error: 1737.2301 - val_root_mean_squared_error: 2860.2209\n",
      "Epoch 63/100\n",
      "1287/1287 [==============================] - 21s 16ms/step - loss: 6865843.5000 - mean_absolute_error: 1762.9767 - root_mean_squared_error: 2620.2754 - val_loss: 8385293.5000 - val_mean_absolute_error: 1789.2219 - val_root_mean_squared_error: 2895.7371\n",
      "Epoch 64/100\n",
      "1287/1287 [==============================] - 22s 17ms/step - loss: 6746170.5000 - mean_absolute_error: 1759.4625 - root_mean_squared_error: 2597.3391 - val_loss: 8104334.0000 - val_mean_absolute_error: 1724.0931 - val_root_mean_squared_error: 2846.8113\n",
      "Epoch 65/100\n",
      "1287/1287 [==============================] - 20s 15ms/step - loss: 6717887.0000 - mean_absolute_error: 1754.1997 - root_mean_squared_error: 2591.8887 - val_loss: 8183508.0000 - val_mean_absolute_error: 1756.4238 - val_root_mean_squared_error: 2860.6831\n",
      "Epoch 66/100\n",
      "1287/1287 [==============================] - 19s 15ms/step - loss: 6647093.5000 - mean_absolute_error: 1744.4486 - root_mean_squared_error: 2578.1958 - val_loss: 8163044.5000 - val_mean_absolute_error: 1732.5050 - val_root_mean_squared_error: 2857.1042\n",
      "Epoch 67/100\n",
      "1287/1287 [==============================] - 19s 15ms/step - loss: 6605753.5000 - mean_absolute_error: 1743.4449 - root_mean_squared_error: 2570.1660 - val_loss: 8233264.0000 - val_mean_absolute_error: 1772.7965 - val_root_mean_squared_error: 2869.3665\n"
     ]
    },
    {
     "data": {
      "text/plain": [
       "<tensorflow.python.keras.callbacks.History at 0x2247643eb48>"
      ]
     },
     "execution_count": 121,
     "metadata": {},
     "output_type": "execute_result"
    }
   ],
   "source": [
    "model.fit(x = X_train, y = y_train.values, validation_data = (X_val, y_val.values), batch_size = 128, epochs = 100, callbacks = [stop])"
   ]
  },
  {
   "cell_type": "markdown",
   "id": "366e6136-88d3-4fa3-9272-f8a99f6f869c",
   "metadata": {},
   "source": [
    "# Model_evaluation"
   ]
  },
  {
   "cell_type": "markdown",
   "id": "bfb0011b-09f3-4d67-9829-a1ba36999050",
   "metadata": {},
   "source": [
    "Now that we have trained a couple of models we can go ahead test all of them versus the test set to determine which is / are the best for our task."
   ]
  },
  {
   "cell_type": "code",
   "execution_count": 123,
   "id": "54026c23-d4fa-40bc-9059-a6c22dde8cb7",
   "metadata": {},
   "outputs": [],
   "source": [
    "# Encoding the test set for processing.\n",
    "\n",
    "X_test, cat_encoder, num_encoder = gen_array(X_test, cat_enc = cat_encoder, num_enc = num_encoder)"
   ]
  },
  {
   "cell_type": "code",
   "execution_count": 125,
   "id": "4d40fdc3-2d86-43d0-9b30-d2591af664ab",
   "metadata": {},
   "outputs": [
    {
     "name": "stderr",
     "output_type": "stream",
     "text": [
      "[Parallel(n_jobs=8)]: Using backend ThreadingBackend with 8 concurrent workers.\n",
      "[Parallel(n_jobs=8)]: Done  34 tasks      | elapsed:    0.3s\n",
      "[Parallel(n_jobs=8)]: Done 100 out of 100 | elapsed:    1.0s finished\n"
     ]
    }
   ],
   "source": [
    "# creating predictions\n",
    "forest_test_pred = forest.predict(X_test)\n",
    "boost_test_pred = boost.predict(X_test)\n",
    "lasso_test_pred = lasso.predict(X_test)\n",
    "Keras_test_pred = model.predict(X_test)"
   ]
  },
  {
   "cell_type": "code",
   "execution_count": 128,
   "id": "37686eab-4d5e-4a55-beef-4d858c7b4d36",
   "metadata": {},
   "outputs": [],
   "source": [
    "# list of results \n",
    "MAE = [mean_absolute_error(y_test, forest_test_pred), mean_absolute_error(y_test, boost_test_pred), \n",
    "       mean_absolute_error(y_test, lasso_test_pred), mean_absolute_error(y_test, Keras_test_pred)]\n",
    "MSE = [mean_squared_error(y_test, forest_test_pred), mean_squared_error(y_test, boost_test_pred), \n",
    "       mean_squared_error(y_test, lasso_test_pred), mean_squared_error(y_test, Keras_test_pred)]\n",
    "RMSE = [np.sqrt(mean_squared_error(y_test, forest_test_pred)), np.sqrt(mean_squared_error(y_test, boost_test_pred)), \n",
    "       np.sqrt(mean_squared_error(y_test, lasso_test_pred)), np.sqrt(mean_squared_error(y_test, Keras_test_pred))]"
   ]
  },
  {
   "cell_type": "code",
   "execution_count": 130,
   "id": "f76da3f6-0900-44fc-b0b8-c8303ea07d45",
   "metadata": {},
   "outputs": [
    {
     "data": {
      "text/html": [
       "<div>\n",
       "<style scoped>\n",
       "    .dataframe tbody tr th:only-of-type {\n",
       "        vertical-align: middle;\n",
       "    }\n",
       "\n",
       "    .dataframe tbody tr th {\n",
       "        vertical-align: top;\n",
       "    }\n",
       "\n",
       "    .dataframe thead th {\n",
       "        text-align: right;\n",
       "    }\n",
       "</style>\n",
       "<table border=\"1\" class=\"dataframe\">\n",
       "  <thead>\n",
       "    <tr style=\"text-align: right;\">\n",
       "      <th></th>\n",
       "      <th>MAE</th>\n",
       "      <th>MSE</th>\n",
       "      <th>RMSE</th>\n",
       "    </tr>\n",
       "  </thead>\n",
       "  <tbody>\n",
       "    <tr>\n",
       "      <th>Forest</th>\n",
       "      <td>1560.997345</td>\n",
       "      <td>9.137435e+06</td>\n",
       "      <td>3022.818992</td>\n",
       "    </tr>\n",
       "    <tr>\n",
       "      <th>Gradient Trees</th>\n",
       "      <td>3942.934158</td>\n",
       "      <td>2.958701e+07</td>\n",
       "      <td>5439.394535</td>\n",
       "    </tr>\n",
       "    <tr>\n",
       "      <th>Lasso</th>\n",
       "      <td>5302.855908</td>\n",
       "      <td>5.369887e+07</td>\n",
       "      <td>7327.951454</td>\n",
       "    </tr>\n",
       "    <tr>\n",
       "      <th>Keras</th>\n",
       "      <td>1775.763338</td>\n",
       "      <td>8.379168e+06</td>\n",
       "      <td>2894.679202</td>\n",
       "    </tr>\n",
       "  </tbody>\n",
       "</table>\n",
       "</div>"
      ],
      "text/plain": [
       "                        MAE           MSE         RMSE\n",
       "Forest          1560.997345  9.137435e+06  3022.818992\n",
       "Gradient Trees  3942.934158  2.958701e+07  5439.394535\n",
       "Lasso           5302.855908  5.369887e+07  7327.951454\n",
       "Keras           1775.763338  8.379168e+06  2894.679202"
      ]
     },
     "execution_count": 130,
     "metadata": {},
     "output_type": "execute_result"
    }
   ],
   "source": [
    "pd.DataFrame({\"MAE\": MAE, \"MSE\": MSE, \"RMSE\": RMSE}, index = [\"Forest\", \"Gradient Trees\", \"Lasso\", \"Keras\"])"
   ]
  },
  {
   "cell_type": "code",
   "execution_count": 159,
   "id": "743756e6-0333-45de-b5ba-2724f4ecd6ab",
   "metadata": {},
   "outputs": [],
   "source": [
    "# Interestingly our models produce the expected results as per the validation sets behaviour. As such, I will attempt to find the best model via residual visualization\n",
    "forest_test_res = y_test.values - forest_test_pred\n",
    "boost_test_res = y_test.values - boost_test_pred\n",
    "lasso_test_res = y_test.values - lasso_test_pred\n",
    "Keras_test_res = y_test.values - Keras_test_pred.reshape(-1,)"
   ]
  },
  {
   "cell_type": "code",
   "execution_count": 160,
   "id": "7ba3dfa6-f7d3-4f93-bb49-46fb49d46c1c",
   "metadata": {},
   "outputs": [
    {
     "data": {
      "text/plain": [
       "Text(0.5, 1.0, 'Keras Feed-Forward NN Estimator')"
      ]
     },
     "execution_count": 160,
     "metadata": {},
     "output_type": "execute_result"
    },
    {
     "data": {
      "image/png": "[encoded data removed]",
      "text/plain": [
       "<Figure size 1728x432 with 4 Axes>"
      ]
     },
     "metadata": {
      "needs_background": "light"
     },
     "output_type": "display_data"
    }
   ],
   "source": [
    "fig, ax = plt.subplots(1,4, figsize = (24,6))\n",
    "\n",
    "sns.lineplot(ax = ax[0], data = forest_test_res, color = \"green\")\n",
    "ax[0].set_title(\"Forest Estimator\")\n",
    "\n",
    "sns.lineplot(ax = ax[1], data = boost_test_res, color = \"red\")\n",
    "ax[1].set_title(\"Gradient Boosted Trees Estimator\")\n",
    "\n",
    "sns.lineplot(ax = ax[2], data = lasso_test_res, color = \"purple\")\n",
    "ax[2].set_title(\"Lasso Regression Estimator\")\n",
    "\n",
    "sns.lineplot(ax = ax[3], data = Keras_test_res, color = \"blue\")\n",
    "ax[3].set_title(\"Keras Feed-Forward NN Estimator\")"
   ]
  },
  {
   "cell_type": "code",
   "execution_count": 169,
   "id": "04c798f1-df11-45a0-b697-962996491133",
   "metadata": {},
   "outputs": [
    {
     "name": "stdout",
     "output_type": "stream",
     "text": [
      "INFO:tensorflow:Assets written to: Keras Model\\assets\n"
     ]
    }
   ],
   "source": [
    "# saving keras model\n",
    "save_model(model = model, filepath = \"Keras Model\")"
   ]
  },
  {
   "cell_type": "code",
   "execution_count": 87,
   "id": "7d6a7314-f429-4ed1-b67e-dbe8f756a0ee",
   "metadata": {},
   "outputs": [],
   "source": [
    "# saving categorical and numerical encoders\n",
    "cat_encoder_file = \"categorical_encoder.pkl\"\n",
    "num_encoder_file = \"numerical_encoder.pkl\"\n",
    "\n",
    "with open(cat_encoder_file, \"wb\") as file:\n",
    "    dump(cat_encoder, file)\n",
    "\n",
    "with open(num_encoder_file, \"wb\") as file:\n",
    "    dump(num_encoder, \"file\")"
   ]
  },
  {
   "cell_type": "markdown",
   "id": "a6e3f1b3-474b-4cf9-8056-8309780fb079",
   "metadata": {},
   "source": [
    "# Feature_Importance"
   ]
  },
  {
   "cell_type": "code",
   "execution_count": 107,
   "id": "dc43e75e-9194-47c4-991c-297db8e85667",
   "metadata": {},
   "outputs": [],
   "source": [
    "features_imp = pd.DataFrame(data = forest.feature_importances_[:-2].reshape(1,-1), columns = cat_encoder.get_feature_names())"
   ]
  },
  {
   "cell_type": "code",
   "execution_count": 173,
   "id": "7c9c5d7a-ae55-4a53-aab0-96ff9ae6ba6e",
   "metadata": {},
   "outputs": [],
   "source": [
    "# For every column we will consider the feature importance to be the sum of the feature importance of all its members\n",
    "manuf_imp = features_imp.iloc[:,:36].T.sum() \n",
    "model_imp = features_imp.iloc[:,36:1692].T.sum() \n",
    "condition_imp = features_imp.iloc[:,1692:1699].T.sum() \n",
    "cylinders_imp = features_imp.iloc[:,1699:1708].T.sum()\n",
    "fuel_imp = features_imp.iloc[:,1708:1714].T.sum()\n",
    "transmission_imp = features_imp.iloc[:,1714:1718].T.sum()\n",
    "drive_imp = features_imp.iloc[:,1718:1722].T.sum()\n",
    "type_imp = features_imp.iloc[:,1722:1736].T.sum()\n",
    "color_imp = features_imp.iloc[:,1736:1749].T.sum()\n",
    "state_imp = features_imp.iloc[:,1749:1800].T.sum()\n",
    "\n",
    "values = {\"manufacturer\": manuf_imp, \"model\":model_imp, \"condition\": condition_imp, \"cylinders\":cylinders_imp,\n",
    "         \"fuel\": fuel_imp, \"transmission\":transmission_imp, \"drive\":drive_imp, \"type\":type_imp, \"color\":color_imp, \"state\":state_imp}"
   ]
  },
  {
   "cell_type": "code",
   "execution_count": 181,
   "id": "9e3f56ef-fc3a-4add-bba8-0459b9a064b8",
   "metadata": {},
   "outputs": [
    {
     "data": {
      "text/html": [
       "<div>\n",
       "<style scoped>\n",
       "    .dataframe tbody tr th:only-of-type {\n",
       "        vertical-align: middle;\n",
       "    }\n",
       "\n",
       "    .dataframe tbody tr th {\n",
       "        vertical-align: top;\n",
       "    }\n",
       "\n",
       "    .dataframe thead th {\n",
       "        text-align: right;\n",
       "    }\n",
       "</style>\n",
       "<table border=\"1\" class=\"dataframe\">\n",
       "  <thead>\n",
       "    <tr style=\"text-align: right;\">\n",
       "      <th></th>\n",
       "      <th>manufacturer</th>\n",
       "      <th>model</th>\n",
       "      <th>condition</th>\n",
       "      <th>cylinders</th>\n",
       "      <th>fuel</th>\n",
       "      <th>transmission</th>\n",
       "      <th>drive</th>\n",
       "      <th>type</th>\n",
       "      <th>color</th>\n",
       "      <th>state</th>\n",
       "      <th>odometer</th>\n",
       "      <th>age</th>\n",
       "    </tr>\n",
       "  </thead>\n",
       "  <tbody>\n",
       "    <tr>\n",
       "      <th>0</th>\n",
       "      <td>0.044739</td>\n",
       "      <td>0.085959</td>\n",
       "      <td>0.011905</td>\n",
       "      <td>0.057028</td>\n",
       "      <td>0.055851</td>\n",
       "      <td>0.012075</td>\n",
       "      <td>0.102366</td>\n",
       "      <td>0.03439</td>\n",
       "      <td>0.010769</td>\n",
       "      <td>0.019112</td>\n",
       "      <td>0.127824</td>\n",
       "      <td>0.437981</td>\n",
       "    </tr>\n",
       "  </tbody>\n",
       "</table>\n",
       "</div>"
      ],
      "text/plain": [
       "   manufacturer     model  condition  cylinders      fuel  transmission  \\\n",
       "0      0.044739  0.085959   0.011905   0.057028  0.055851      0.012075   \n",
       "\n",
       "      drive     type     color     state  odometer       age  \n",
       "0  0.102366  0.03439  0.010769  0.019112  0.127824  0.437981  "
      ]
     },
     "execution_count": 181,
     "metadata": {},
     "output_type": "execute_result"
    }
   ],
   "source": [
    "# creating the final visualization dataframe\n",
    "feature_importance = pd.DataFrame(values)\n",
    "numerical_importance = pd.DataFrame(forest.feature_importances_[-2:].reshape(1,-1),columns = [\"odometer\", \"age\"])"
   ]
  },
  {
   "cell_type": "code",
   "execution_count": 182,
   "id": "749ccf5e-3b1f-4772-ae7c-93eaf9f0ea86",
   "metadata": {},
   "outputs": [
    {
     "data": {
      "text/html": [
       "<div>\n",
       "<style scoped>\n",
       "    .dataframe tbody tr th:only-of-type {\n",
       "        vertical-align: middle;\n",
       "    }\n",
       "\n",
       "    .dataframe tbody tr th {\n",
       "        vertical-align: top;\n",
       "    }\n",
       "\n",
       "    .dataframe thead th {\n",
       "        text-align: right;\n",
       "    }\n",
       "</style>\n",
       "<table border=\"1\" class=\"dataframe\">\n",
       "  <thead>\n",
       "    <tr style=\"text-align: right;\">\n",
       "      <th></th>\n",
       "      <th>manufacturer</th>\n",
       "      <th>model</th>\n",
       "      <th>condition</th>\n",
       "      <th>cylinders</th>\n",
       "      <th>fuel</th>\n",
       "      <th>transmission</th>\n",
       "      <th>drive</th>\n",
       "      <th>type</th>\n",
       "      <th>color</th>\n",
       "      <th>state</th>\n",
       "      <th>odometer</th>\n",
       "      <th>age</th>\n",
       "    </tr>\n",
       "  </thead>\n",
       "  <tbody>\n",
       "    <tr>\n",
       "      <th>0</th>\n",
       "      <td>0.044739</td>\n",
       "      <td>0.085959</td>\n",
       "      <td>0.011905</td>\n",
       "      <td>0.057028</td>\n",
       "      <td>0.055851</td>\n",
       "      <td>0.012075</td>\n",
       "      <td>0.102366</td>\n",
       "      <td>0.03439</td>\n",
       "      <td>0.010769</td>\n",
       "      <td>0.019112</td>\n",
       "      <td>0.127824</td>\n",
       "      <td>0.437981</td>\n",
       "    </tr>\n",
       "  </tbody>\n",
       "</table>\n",
       "</div>"
      ],
      "text/plain": [
       "   manufacturer     model  condition  cylinders      fuel  transmission  \\\n",
       "0      0.044739  0.085959   0.011905   0.057028  0.055851      0.012075   \n",
       "\n",
       "      drive     type     color     state  odometer       age  \n",
       "0  0.102366  0.03439  0.010769  0.019112  0.127824  0.437981  "
      ]
     },
     "execution_count": 182,
     "metadata": {},
     "output_type": "execute_result"
    }
   ],
   "source": [
    "feature_importances = pd.concat([feature_importance, numerical_importance], axis=1)\n",
    "feature_importances"
   ]
  },
  {
   "cell_type": "markdown",
   "id": "6c2b16e3-fb46-4309-9448-b83ccd8c0c6d",
   "metadata": {},
   "source": [
    "One must always be careful when analyzing feature importances as we may suffer from many mathematical and logical issues.\n",
    "For example, in this case we are assuming that a feature's importance can be obtained simply by adding the relative weight of every category into its parent column, ignoring any possible collinearity (basically, redundancy) between features.\n",
    "\n",
    "Moreover, feature importance **does not necesarilly indicate the true importance or predicting power of these variables** but simply their importance for the model.\n",
    "\n",
    "That said, we can see that **MANUFACTURER & AGE** are, in general terms, the most important features to predict the price of a vehicle. "
   ]
  },
  {
   "cell_type": "markdown",
   "id": "b954c7b1-4d8e-4a52-8783-59e6de628049",
   "metadata": {},
   "source": [
    "# Conclusion"
   ]
  },
  {
   "cell_type": "markdown",
   "id": "74362595-d459-4655-b328-89dae3a22b8b",
   "metadata": {},
   "source": [
    "This project served to provide an insight into the lifecycle of a typical data scientific project and offered the possibility to apply the previously learned theory on a real-life example and on a project of personal interest.\n",
    "\n",
    "In total, five different methods, supported through two libraries, were used for model construction. Ultimately I decided to keep the Tensorflow / Keras model as Artificial Neural Networks and DL have risen to prominency in recent times and more importantly, ANN and the universal approximation theorem allow this model to extrapolate any non-linear relationship.\n",
    "\n",
    "The best (chosen) method was the Keras ANN with three hidden layers.\n",
    "\n",
    "Additionally, based on the results of the found feature importances, we confirm that **building prediction models for each manufacturer would be an excellent approach for a more in-depth study**"
   ]
  },
  {
   "cell_type": "markdown",
   "id": "f3d09d0e-935a-4c22-b442-3beaaa9c97e7",
   "metadata": {},
   "source": [
    "# Limitations"
   ]
  },
  {
   "cell_type": "markdown",
   "id": "d3f81487-7fd3-4be0-959c-cbec0d08c462",
   "metadata": {},
   "source": [
    "* Due to limited computational power the final base used for training, validation and testing had to be reduced to an acceptable load.\n",
    "* Due to the nature of the data (obtained from scraping via Craiglist) there may be hidden biases in the data, for example, over representation of certain models or brands. This can be mitigated by obtaining more data from other sources.\n",
    "* Due to time constraints, a simplified one-fit-all approach had to be used for this task. A manufacturer-specific model would have been a stronger representation and much more effective at generating accurate results, as explained in the conclusions. "
   ]
  }
 ],
 "metadata": {
  "kernelspec": {
   "display_name": "Python 3 (ipykernel)",
   "language": "python",
   "name": "python3"
  },
  "language_info": {
   "codemirror_mode": {
    "name": "ipython",
    "version": 3
   },
   "file_extension": ".py",
   "mimetype": "text/x-python",
   "name": "python",
   "nbconvert_exporter": "python",
   "pygments_lexer": "ipython3",
   "version": "3.7.6"
  }
 },
 "nbformat": 4,
 "nbformat_minor": 5
}
