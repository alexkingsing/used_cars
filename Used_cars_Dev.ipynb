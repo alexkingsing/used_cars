{
 "cells": [
  {
   "cell_type": "markdown",
   "id": "fe64f84d-fed1-4860-99ff-6e693f0d0d46",
   "metadata": {},
   "source": [
    "# Used vehicles price prediction - A Machine Learning Project\n",
    "### by Alexander Justin King Sing Ortiz\n",
    "*first full ML project*"
   ]
  },
  {
   "cell_type": "markdown",
   "id": "aafbf28d-ec2e-4bd1-a9e3-20a98eb01472",
   "metadata": {},
   "source": [
    "# ABSTRACT"
   ]
  },
  {
   "cell_type": "markdown",
   "id": "3d576fc4-a8b6-4c20-9e7c-ea61c53c8fe5",
   "metadata": {},
   "source": [
    "This project was a born from a curiosity question of mine as I prepared for my MBA in the U.S. As many know, cars are the most common method of transportation in the U.S as trains, buses, as public transportation varies heavily by state and city, and, for most purposes, is not the preferred form of transport for many.\n",
    "\n",
    "Considering that, I asked myself: \"How much would it cost to buy a car in the U.S?\" I immediately discarded new vehicles because they're substantially more expensive, depreciate rapidly and simply didn't adjust to my budget. The only option was an **used vehicles**. \n",
    "\n",
    "The question then changed to: \"How much would it cost to buy a used car in the U.S?\" It's sometimes difficult to find information that one considers both reliable and scalable and that has relevance over time, specially when P2P (Peer-to-Peer) markets are so heterogenous. Now, answering this question for myself would be relatively trivial: I just need to look for a car model I like and search for it. Simple, right? But I wanted to do more.\n",
    "\n",
    "What if I wanted to check multiple vehicles? With multiple manufacture (MFG) dates? or vehicles with within a certain odometer range? These questions and more led me to think beyond a simple for this question. In light of this, and building on my curiosity about ML / DL, I decided to build a model to **estimate the value / price of a used vehicle in the U.S**.\n",
    "\n",
    "Now, due to my current limited expertise in certain aspects of ML, I decided to limit the scope of the project.\n",
    "\n",
    "**SCOPE**: \n",
    "* For time reasons I will **exclude** any kind of **image analysis**. Vehicle images (could be extracted from each post) will be ignored.\n",
    "* In-depth NLP tasks are not in scope of this analysis, but some simple tasks may be used for feature extraction.\n",
    "* Unique data points such as VIN, which are used in history analysis, will also be excluded.\n",
    "\n",
    "In general, this exercise attempts to create a prediction model with minimal inputs and without complex encodings & transformations and without having to perform internet queries with some of the data.\n",
    "\n",
    "Basically: **if the input cannot be directly inferred or understood with the provided data, it will be discarded**."
   ]
  },
  {
   "cell_type": "code",
   "execution_count": null,
   "id": "d47303d5-7345-4814-9e49-c7c99d7c162e",
   "metadata": {
    "jupyter": {
     "source_hidden": true
    },
    "tags": []
   },
   "outputs": [],
   "source": []
  },
  {
   "cell_type": "markdown",
   "id": "1e30b388-3c55-4cd5-a55e-21019889b338",
   "metadata": {},
   "source": [
    "# Table of Contents\n",
    "1. [Introduction](#Introduction)\n",
    "2. [Initialization](#Initialization)\n",
    "    1. [Imports](#Imports)\n",
    "3. [Data_exploration](#Data_exploration)\n",
    "    1. [Handling_missing_data](#Handling_missing_data)\n",
    "    2. [EDA](#EDA)"
   ]
  },
  {
   "cell_type": "code",
   "execution_count": null,
   "id": "a3a057b7-7f4d-428d-aae7-e635e4306c0b",
   "metadata": {
    "jupyter": {
     "source_hidden": true
    },
    "tags": []
   },
   "outputs": [],
   "source": []
  },
  {
   "cell_type": "markdown",
   "id": "f04edaab-d942-4458-8c62-446d508873a8",
   "metadata": {},
   "source": [
    "# Introduction"
   ]
  },
  {
   "cell_type": "markdown",
   "id": "2f4a809c-9583-405f-9e58-6f209bfbd735",
   "metadata": {},
   "source": []
  },
  {
   "cell_type": "code",
   "execution_count": null,
   "id": "45da864f-cc60-4418-916d-0cdd35c72c77",
   "metadata": {
    "jupyter": {
     "source_hidden": true
    },
    "tags": []
   },
   "outputs": [],
   "source": []
  },
  {
   "cell_type": "markdown",
   "id": "99a9b122-9d79-4f0f-9d68-5dc919a1a197",
   "metadata": {},
   "source": [
    "# Initialization"
   ]
  },
  {
   "cell_type": "markdown",
   "id": "3fe5f931-80c3-4948-b896-f5e380d648eb",
   "metadata": {},
   "source": [
    "## Imports"
   ]
  },
  {
   "cell_type": "code",
   "execution_count": 1,
   "id": "featured-calvin",
   "metadata": {},
   "outputs": [],
   "source": [
    "# standard imports\n",
    "import numpy as np\n",
    "import pandas as pd\n",
    "import matplotlib.pyplot as plt\n",
    "from matplotlib.ticker import MultipleLocator\n",
    "import seaborn as sns\n",
    "\n",
    "# scikit-learn imports\n",
    "from sklearn.feature_selection import mutual_info_regression, f_regression\n",
    "from sklearn.preprocessing import OneHotEncoder, OrdinalEncoder, StandardScaler\n",
    "from sklearn.linear_model import Lasso, Ridge, LinearRegression, ElasticNet\n",
    "from sklearn.model_selection import train_test_split\n",
    "\n",
    "# tensorflow imports\n",
    "import tensorflow as tf\n",
    "from tensorflow.keras.models import load_model, save_model, Sequential\n",
    "from tensorflow.keras.layers import Dense, Dropout\n",
    "\n",
    "# setting style\n",
    "plt.style.use(\"seaborn-colorblind\")"
   ]
  },
  {
   "cell_type": "markdown",
   "id": "australian-overview",
   "metadata": {},
   "source": [
    "The first thing I'll do after loading the data will be to analyze and discover columns that only have 1 value OR where each value is unique. Excluding geographical coordinates, features such as \"ID\" or otherwise unique identifiers do not assist for analysis."
   ]
  },
  {
   "cell_type": "code",
   "execution_count": 2,
   "id": "cellular-theorem",
   "metadata": {},
   "outputs": [
    {
     "data": {
      "text/plain": [
       "id              426880\n",
       "url             426880\n",
       "region             404\n",
       "region_url         413\n",
       "price            15655\n",
       "year               114\n",
       "manufacturer        42\n",
       "model            29667\n",
       "condition            6\n",
       "cylinders            8\n",
       "fuel                 5\n",
       "odometer        104870\n",
       "title_status         6\n",
       "transmission         3\n",
       "VIN             118264\n",
       "drive                3\n",
       "size                 4\n",
       "type                13\n",
       "paint_color         12\n",
       "image_url       241899\n",
       "description     360911\n",
       "county               0\n",
       "state               51\n",
       "lat              53181\n",
       "long             53772\n",
       "posting_date    381536\n",
       "dtype: int64"
      ]
     },
     "execution_count": 2,
     "metadata": {},
     "output_type": "execute_result"
    }
   ],
   "source": [
    "# reading file and info\n",
    "df = pd.read_csv(\"data/vehicles.csv\")\n",
    "df.nunique()"
   ]
  },
  {
   "cell_type": "code",
   "execution_count": null,
   "id": "animated-college",
   "metadata": {
    "jupyter": {
     "source_hidden": true
    },
    "tags": []
   },
   "outputs": [],
   "source": []
  },
  {
   "cell_type": "markdown",
   "id": "historical-african",
   "metadata": {},
   "source": [
    "We can observe that **ID** and **URL** are unique for each vehicle posting, so we can go ahead and discard them since they do not provide any useful insights.\n",
    "\n",
    "Additionally, image analysis is not in the scope of this review, so I will also ignore **image_url**.\n",
    "\n",
    "Finally, as mentioned in scope, I will delete VIN, since for the scope for of this project I will not be querying the car's history."
   ]
  },
  {
   "cell_type": "code",
   "execution_count": 3,
   "id": "fantastic-terminal",
   "metadata": {},
   "outputs": [],
   "source": [
    "# deleting useless columns.\n",
    "df = df.drop(columns = [\"id\", \"url\", \"image_url\", \"VIN\"])"
   ]
  },
  {
   "cell_type": "markdown",
   "id": "ultimate-looking",
   "metadata": {},
   "source": [
    "Next, I'll analyze and discover missing data points and find out what to do with these columns!"
   ]
  },
  {
   "cell_type": "markdown",
   "id": "b5c77a99-891e-4f62-abcc-9327fd442209",
   "metadata": {},
   "source": [
    "# Data_exploration"
   ]
  },
  {
   "cell_type": "markdown",
   "id": "645714d3-4bc9-4b13-a8d4-9da9c7b905d5",
   "metadata": {},
   "source": [
    "## Handling_missing_data"
   ]
  },
  {
   "cell_type": "code",
   "execution_count": 4,
   "id": "positive-handle",
   "metadata": {},
   "outputs": [
    {
     "name": "stdout",
     "output_type": "stream",
     "text": [
      "<class 'pandas.core.frame.DataFrame'>\n",
      "RangeIndex: 426880 entries, 0 to 426879\n",
      "Data columns (total 22 columns):\n",
      " #   Column        Non-Null Count   Dtype  \n",
      "---  ------        --------------   -----  \n",
      " 0   region        426880 non-null  object \n",
      " 1   region_url    426880 non-null  object \n",
      " 2   price         426880 non-null  int64  \n",
      " 3   year          425675 non-null  float64\n",
      " 4   manufacturer  409234 non-null  object \n",
      " 5   model         421603 non-null  object \n",
      " 6   condition     252776 non-null  object \n",
      " 7   cylinders     249202 non-null  object \n",
      " 8   fuel          423867 non-null  object \n",
      " 9   odometer      422480 non-null  float64\n",
      " 10  title_status  418638 non-null  object \n",
      " 11  transmission  424324 non-null  object \n",
      " 12  drive         296313 non-null  object \n",
      " 13  size          120519 non-null  object \n",
      " 14  type          334022 non-null  object \n",
      " 15  paint_color   296677 non-null  object \n",
      " 16  description   426810 non-null  object \n",
      " 17  county        0 non-null       float64\n",
      " 18  state         426880 non-null  object \n",
      " 19  lat           420331 non-null  float64\n",
      " 20  long          420331 non-null  float64\n",
      " 21  posting_date  426812 non-null  object \n",
      "dtypes: float64(5), int64(1), object(16)\n",
      "memory usage: 71.7+ MB\n"
     ]
    }
   ],
   "source": [
    "df.info()"
   ]
  },
  {
   "cell_type": "code",
   "execution_count": null,
   "id": "sudden-genome",
   "metadata": {
    "jupyter": {
     "source_hidden": true
    },
    "tags": []
   },
   "outputs": [],
   "source": []
  },
  {
   "cell_type": "markdown",
   "id": "administrative-mercury",
   "metadata": {},
   "source": [
    "Df.info() provides a good insight into the missing information, but let's try a different way to see how much missing data do we really have"
   ]
  },
  {
   "cell_type": "code",
   "execution_count": 5,
   "id": "directed-directory",
   "metadata": {},
   "outputs": [
    {
     "data": {
      "text/html": [
       "<div>\n",
       "<style scoped>\n",
       "    .dataframe tbody tr th:only-of-type {\n",
       "        vertical-align: middle;\n",
       "    }\n",
       "\n",
       "    .dataframe tbody tr th {\n",
       "        vertical-align: top;\n",
       "    }\n",
       "\n",
       "    .dataframe thead th {\n",
       "        text-align: right;\n",
       "    }\n",
       "</style>\n",
       "<table border=\"1\" class=\"dataframe\">\n",
       "  <thead>\n",
       "    <tr style=\"text-align: right;\">\n",
       "      <th></th>\n",
       "      <th>region</th>\n",
       "      <th>region_url</th>\n",
       "      <th>price</th>\n",
       "      <th>year</th>\n",
       "      <th>manufacturer</th>\n",
       "      <th>model</th>\n",
       "      <th>condition</th>\n",
       "      <th>cylinders</th>\n",
       "      <th>fuel</th>\n",
       "      <th>odometer</th>\n",
       "      <th>...</th>\n",
       "      <th>drive</th>\n",
       "      <th>size</th>\n",
       "      <th>type</th>\n",
       "      <th>paint_color</th>\n",
       "      <th>description</th>\n",
       "      <th>county</th>\n",
       "      <th>state</th>\n",
       "      <th>lat</th>\n",
       "      <th>long</th>\n",
       "      <th>posting_date</th>\n",
       "    </tr>\n",
       "  </thead>\n",
       "  <tbody>\n",
       "    <tr>\n",
       "      <th>0</th>\n",
       "      <td>0.0</td>\n",
       "      <td>0.0</td>\n",
       "      <td>0.0</td>\n",
       "      <td>0.282281</td>\n",
       "      <td>4.133714</td>\n",
       "      <td>1.236179</td>\n",
       "      <td>40.785232</td>\n",
       "      <td>41.62247</td>\n",
       "      <td>0.705819</td>\n",
       "      <td>1.030735</td>\n",
       "      <td>...</td>\n",
       "      <td>30.586347</td>\n",
       "      <td>71.767476</td>\n",
       "      <td>21.752717</td>\n",
       "      <td>30.501078</td>\n",
       "      <td>0.016398</td>\n",
       "      <td>100.0</td>\n",
       "      <td>0.0</td>\n",
       "      <td>1.534155</td>\n",
       "      <td>1.534155</td>\n",
       "      <td>0.01593</td>\n",
       "    </tr>\n",
       "  </tbody>\n",
       "</table>\n",
       "<p>1 rows × 22 columns</p>\n",
       "</div>"
      ],
      "text/plain": [
       "   region  region_url  price      year  manufacturer     model  condition  \\\n",
       "0     0.0         0.0    0.0  0.282281      4.133714  1.236179  40.785232   \n",
       "\n",
       "   cylinders      fuel  odometer  ...      drive       size       type  \\\n",
       "0   41.62247  0.705819  1.030735  ...  30.586347  71.767476  21.752717   \n",
       "\n",
       "   paint_color  description  county  state       lat      long  posting_date  \n",
       "0    30.501078     0.016398   100.0    0.0  1.534155  1.534155       0.01593  \n",
       "\n",
       "[1 rows x 22 columns]"
      ]
     },
     "execution_count": 5,
     "metadata": {},
     "output_type": "execute_result"
    }
   ],
   "source": [
    "# calculating all missing data points and normalizing to df size\n",
    "(df.isna().sum() * 100 / df.shape[0]).to_frame().T # setting the count as an horizontally-oriented frame for better visualization"
   ]
  },
  {
   "cell_type": "code",
   "execution_count": null,
   "id": "domestic-render",
   "metadata": {
    "jupyter": {
     "source_hidden": true
    },
    "tags": []
   },
   "outputs": [],
   "source": []
  },
  {
   "cell_type": "markdown",
   "id": "complete-stick",
   "metadata": {},
   "source": [
    "As we can see, columns such as:\n",
    "* County -> 100% missing data\n",
    "* size -> 71.76% missing data\n",
    "\n",
    "have large amounts of missing data that we can outright consider impossible to fix, so we will just delete them."
   ]
  },
  {
   "cell_type": "code",
   "execution_count": 6,
   "id": "tender-webmaster",
   "metadata": {},
   "outputs": [],
   "source": [
    "# I'll delete the columns with too much missing data to be recoverable\n",
    "df = df.drop(columns = [\"county\", \"size\"])"
   ]
  },
  {
   "cell_type": "code",
   "execution_count": 7,
   "id": "governing-fraud",
   "metadata": {},
   "outputs": [
    {
     "name": "stdout",
     "output_type": "stream",
     "text": [
      "<class 'pandas.core.frame.DataFrame'>\n",
      "RangeIndex: 426880 entries, 0 to 426879\n",
      "Data columns (total 20 columns):\n",
      " #   Column        Non-Null Count   Dtype  \n",
      "---  ------        --------------   -----  \n",
      " 0   region        426880 non-null  object \n",
      " 1   region_url    426880 non-null  object \n",
      " 2   price         426880 non-null  int64  \n",
      " 3   year          425675 non-null  float64\n",
      " 4   manufacturer  409234 non-null  object \n",
      " 5   model         421603 non-null  object \n",
      " 6   condition     252776 non-null  object \n",
      " 7   cylinders     249202 non-null  object \n",
      " 8   fuel          423867 non-null  object \n",
      " 9   odometer      422480 non-null  float64\n",
      " 10  title_status  418638 non-null  object \n",
      " 11  transmission  424324 non-null  object \n",
      " 12  drive         296313 non-null  object \n",
      " 13  type          334022 non-null  object \n",
      " 14  paint_color   296677 non-null  object \n",
      " 15  description   426810 non-null  object \n",
      " 16  state         426880 non-null  object \n",
      " 17  lat           420331 non-null  float64\n",
      " 18  long          420331 non-null  float64\n",
      " 19  posting_date  426812 non-null  object \n",
      "dtypes: float64(4), int64(1), object(15)\n",
      "memory usage: 65.1+ MB\n"
     ]
    }
   ],
   "source": [
    "# let's start exploring some of the remaining information to understand what kind of information do we have at hand\n",
    "## To begin with, let's start exploring REGION & REGION_URL\n",
    "df.info()"
   ]
  },
  {
   "cell_type": "code",
   "execution_count": 8,
   "id": "progressive-baptist",
   "metadata": {},
   "outputs": [
    {
     "data": {
      "text/plain": [
       "array(['prescott', 'fayetteville', 'florida keys',\n",
       "       'worcester / central MA', 'greensboro', 'hudson valley',\n",
       "       'medford-ashland', 'erie', 'el paso', 'bellingham'], dtype=object)"
      ]
     },
     "execution_count": 8,
     "metadata": {},
     "output_type": "execute_result"
    }
   ],
   "source": [
    "# Top 10 records in region\n",
    "df[\"region\"].unique()[:10]"
   ]
  },
  {
   "cell_type": "code",
   "execution_count": 9,
   "id": "tropical-superior",
   "metadata": {},
   "outputs": [
    {
     "data": {
      "text/plain": [
       "array(['https://prescott.craigslist.org', 'https://fayar.craigslist.org',\n",
       "       'https://keys.craigslist.org', 'https://worcester.craigslist.org',\n",
       "       'https://greensboro.craigslist.org',\n",
       "       'https://hudsonvalley.craigslist.org',\n",
       "       'https://medford.craigslist.org', 'https://erie.craigslist.org',\n",
       "       'https://elpaso.craigslist.org',\n",
       "       'https://bellingham.craigslist.org'], dtype=object)"
      ]
     },
     "execution_count": 9,
     "metadata": {},
     "output_type": "execute_result"
    }
   ],
   "source": [
    "# top 10 records in region URL\n",
    "df[\"region_url\"].unique()[:10]"
   ]
  },
  {
   "cell_type": "code",
   "execution_count": null,
   "id": "urban-relative",
   "metadata": {
    "jupyter": {
     "source_hidden": true
    },
    "tags": []
   },
   "outputs": [],
   "source": []
  },
  {
   "cell_type": "markdown",
   "id": "differential-example",
   "metadata": {},
   "source": [
    "In general, region and region_url seems to be related to the seller's location and both hold pretty much the same information.\n",
    "So, for the time being, I will delete only one of them.\n",
    "\n",
    "Additionally, since region already holds geographical information, we will discard lat and long."
   ]
  },
  {
   "cell_type": "code",
   "execution_count": 10,
   "id": "finished-expression",
   "metadata": {},
   "outputs": [],
   "source": [
    "df = df.drop(columns=[\"region_url\", \"lat\", \"long\"])"
   ]
  },
  {
   "cell_type": "markdown",
   "id": "statewide-retreat",
   "metadata": {},
   "source": [
    "Now, before we continue exploring the rest of columns with missing data or with possibly relevant features, let's verify if the description column holds any easily extractable information.\n",
    "\n",
    "Remember we won't any in-depth NLP tasks for this project"
   ]
  },
  {
   "cell_type": "code",
   "execution_count": 11,
   "id": "phantom-manhattan",
   "metadata": {},
   "outputs": [
    {
     "data": {
      "text/plain": [
       "array([nan,\n",
       "       \"Carvana is the safer way to buy a car During these uncertain times, Carvana is dedicated to ensuring safety for all of our customers. In addition to our 100% online shopping and selling experience that allows all customers to buy and trade their cars without ever leaving the safety of their house, we’re providing touchless delivery that make all aspects of our process even safer. Now, you can get the car you want, and trade in your old one, while avoiding person-to-person contact with our friendly advocates. There are some things that can’t be put off. And if buying a car is one of them, know that we’re doing everything we can to keep you keep moving while continuing to put your health safety, and happiness first. Vehicle Stock# 2000909557📱 Want to instantly check this car’s availability? Call us at  334-758-9176Just text that stock number to 855-976-4304 or head to http://www.carvanaauto.com/7171237-74502 and plug it into the search bar!Get PRE-QUALIFIED for your auto loan in 2 minutes - no hit to your credit:http://finance.carvanaauto.com/7171237-74502Looking for more cars like this one? We have 63 GMC Sierra 1500 Crew Cab in stock for as low as $23990!Why buy with Carvana? We have one standard: the highest. Take a look at just some of the qualifications all of our cars must meet before we list them.150-POINT INSPECTION: We put each vehicle through a 150-point inspection so that you can be 100% confident in its quality and safety. See everything that goes into our inspections at:http://www.carvanaauto.com/7171237-74502NO REPORTED ACCIDENTS: We do not sell cars that have been in a reported accident or have a frame or structural damage.7 DAY TEST OWN MONEY BACK GUARANTEE: Every Carvana car comes with a 7-day money-back guarantee. Why? It takes more than 15-minutes to make a decision on your next car. Learn more about test owning at http://about.carvanaauto.comFLEXIBLE FINANCING, TRADE INS WELCOME: We’re all about real-time financing without the middle man. Need financing? Pick a combination of down and monthly payments that work for you. Have a trade-in? We’ll give you a value in 2 minutes. Check out everything about our financing at:http://finance.carvanaauto.com/7171237-74502COST SAVINGS: Carvana's business model has fewer expenses and no bloated fees compared to your local dealership. See how much we can save you at http://about.carvanaauto.comPREMIUM DETAIL: We go the extra mile so that your car is looking as good as new. There are a lot of specifics that we won’t list here (we wash, clean, buff, paint, polish, wax, seal), but trust us that when your car arrives, it’s going to look sweet.Vehicle Info for Stock# 2000909557Trim: SLT Pickup 4D 5 3/4 ft pickupMileage: 57k milesExterior Color: WhiteInterior Color: Lt. BrownEngine: EcoTec3 5.3L Flex Fuel V8 355hp 383ft. lbs.Drive: Two Wheel DriveTransmission: VIN: 3GTP1VEC4EG551563Dealer Disclosure: Price excludes tax, title, and registration (which we handle for you).Disclaimer: You agree that by providing your phone number, Carvana, or Carvana’s authorized representatives*, may call and/or send text messages (including by using equipment to automatically dial telephone numbers) about your interest in a purchase, for marketing/sales purposes, or for any other servicing or informational purpose related to your account. You do not have to consent to receiving calls or texts to purchase from Carvana. While every reasonable effort is made to ensure the accuracy of the information for this GMC Sierra 1500 Crew Cab, we are not responsible for any errors or omissions contained in this ad. Please verify any information in question with Carvana at 334-758-9176*Including, but not limited to, Bridgecrest Credit Company, GO Financial and SilverRock Automotive.*GMC* *Sierra* *1500* *Crew* *Cab* *Base* *GMC* *Sierra* *1500* *Crew* *Cab* *SLE* *GMC* *Sierra* *1500* *Crew* *Cab* *SLT* *GMC* *Sierra* *1500* *Crew* *Cab* *Denali* *GMC* *Sierra* *1500* *Crew* *Cab* *Work* *Truck* *4x2* *GMC* *Sierra* *1500* *Crew* *Cab* *4x4* *Crew* *Cab* *GMC* *Sierra* *1500* *Crew* *Cab* *Regular* *Cab* *Extended* *Cab* *Truck* 2022  2021  2020  2019  2018  2017  2016  2015  2014  2013  2012  2011  2010  2009  2008  2007  2006  2005  2004  2003  2002  2001  2000   22  21    19  18  17  16  15  14  13  12  11  10  09  08  07  06  05  04  03  02  01  00\"],\n",
       "      dtype=object)"
      ]
     },
     "execution_count": 11,
     "metadata": {},
     "output_type": "execute_result"
    }
   ],
   "source": [
    "df[\"description\"].unique()[:2]"
   ]
  },
  {
   "cell_type": "code",
   "execution_count": null,
   "id": "related-circle",
   "metadata": {
    "jupyter": {
     "source_hidden": true
    },
    "tags": []
   },
   "outputs": [],
   "source": []
  },
  {
   "cell_type": "markdown",
   "id": "royal-disorder",
   "metadata": {},
   "source": [
    "Unfortunately it seems the description field holds a lot of information, but at this point i'm not considering using BERT for Named Entity Recognizition, Sentiment Analysis, or any other kind of relevant NLP task.\n",
    "\n",
    "As such, I will delete description."
   ]
  },
  {
   "cell_type": "code",
   "execution_count": 12,
   "id": "liquid-balloon",
   "metadata": {},
   "outputs": [],
   "source": [
    "df = df.drop(columns = \"description\")"
   ]
  },
  {
   "cell_type": "markdown",
   "id": "radical-cruise",
   "metadata": {},
   "source": [
    "Now, **price** is our target so we will not perform any analysis in it.\n",
    "\n",
    "Let's explore some more features!"
   ]
  },
  {
   "cell_type": "code",
   "execution_count": 13,
   "id": "studied-candidate",
   "metadata": {},
   "outputs": [
    {
     "data": {
      "text/plain": [
       "NaN          174104\n",
       "good         121456\n",
       "excellent    101467\n",
       "like new      21178\n",
       "fair           6769\n",
       "new            1305\n",
       "salvage         601\n",
       "Name: condition, dtype: int64"
      ]
     },
     "execution_count": 13,
     "metadata": {},
     "output_type": "execute_result"
    }
   ],
   "source": [
    "# Analyzing condition\n",
    "df[\"condition\"].value_counts(dropna = False)"
   ]
  },
  {
   "cell_type": "code",
   "execution_count": 14,
   "id": "awful-anatomy",
   "metadata": {},
   "outputs": [
    {
     "data": {
      "text/plain": [
       "not_provided    174104\n",
       "good            121456\n",
       "excellent       101467\n",
       "like new         21178\n",
       "fair              6769\n",
       "new               1305\n",
       "salvage            601\n",
       "Name: condition, dtype: int64"
      ]
     },
     "execution_count": 14,
     "metadata": {},
     "output_type": "execute_result"
    }
   ],
   "source": [
    "# It seems condition is a simply a string describing the state of the vehicle, possibly from a dropdown menu. \n",
    "# In this case, instead of getting rid of the non-provided data we can fill with a placeholder string\n",
    "df[\"condition\"] = df[\"condition\"].fillna(value = \"not_provided\")\n",
    "df[\"condition\"].value_counts(dropna = False)"
   ]
  },
  {
   "cell_type": "code",
   "execution_count": 15,
   "id": "cathedral-keeping",
   "metadata": {},
   "outputs": [
    {
     "data": {
      "text/plain": [
       "NaN             177678\n",
       "6 cylinders      94169\n",
       "4 cylinders      77642\n",
       "8 cylinders      72062\n",
       "5 cylinders       1712\n",
       "10 cylinders      1455\n",
       "other             1298\n",
       "3 cylinders        655\n",
       "12 cylinders       209\n",
       "Name: cylinders, dtype: int64"
      ]
     },
     "execution_count": 15,
     "metadata": {},
     "output_type": "execute_result"
    }
   ],
   "source": [
    "df[\"cylinders\"].value_counts(dropna = False)"
   ]
  },
  {
   "cell_type": "code",
   "execution_count": null,
   "id": "apparent-watts",
   "metadata": {
    "jupyter": {
     "source_hidden": true
    },
    "tags": []
   },
   "outputs": [],
   "source": []
  },
  {
   "cell_type": "markdown",
   "id": "passive-burke",
   "metadata": {},
   "source": [
    "For simplicity's sake, I'll provide cylinders the same treatment as \"condition\"."
   ]
  },
  {
   "cell_type": "code",
   "execution_count": 16,
   "id": "underlying-parameter",
   "metadata": {},
   "outputs": [
    {
     "data": {
      "text/plain": [
       "not_provided    177678\n",
       "6 cylinders      94169\n",
       "4 cylinders      77642\n",
       "8 cylinders      72062\n",
       "5 cylinders       1712\n",
       "10 cylinders      1455\n",
       "other             1298\n",
       "3 cylinders        655\n",
       "12 cylinders       209\n",
       "Name: cylinders, dtype: int64"
      ]
     },
     "execution_count": 16,
     "metadata": {},
     "output_type": "execute_result"
    }
   ],
   "source": [
    "df[\"cylinders\"] = df[\"cylinders\"].fillna(value = \"not_provided\")\n",
    "df[\"cylinders\"].value_counts(dropna = False)"
   ]
  },
  {
   "cell_type": "code",
   "execution_count": 17,
   "id": "subsequent-bible",
   "metadata": {},
   "outputs": [
    {
     "data": {
      "text/plain": [
       "4wd    131904\n",
       "NaN    130567\n",
       "fwd    105517\n",
       "rwd     58892\n",
       "Name: drive, dtype: int64"
      ]
     },
     "execution_count": 17,
     "metadata": {},
     "output_type": "execute_result"
    }
   ],
   "source": [
    "df[\"drive\"].value_counts(dropna = False)"
   ]
  },
  {
   "cell_type": "code",
   "execution_count": 18,
   "id": "innovative-starter",
   "metadata": {},
   "outputs": [
    {
     "data": {
      "text/plain": [
       "NaN            92858\n",
       "sedan          87056\n",
       "SUV            77284\n",
       "pickup         43510\n",
       "truck          35279\n",
       "other          22110\n",
       "coupe          19204\n",
       "hatchback      16598\n",
       "wagon          10751\n",
       "van             8548\n",
       "convertible     7731\n",
       "mini-van        4825\n",
       "offroad          609\n",
       "bus              517\n",
       "Name: type, dtype: int64"
      ]
     },
     "execution_count": 18,
     "metadata": {},
     "output_type": "execute_result"
    }
   ],
   "source": [
    "df[\"type\"].value_counts(dropna = False)"
   ]
  },
  {
   "cell_type": "code",
   "execution_count": 19,
   "id": "material-rocket",
   "metadata": {},
   "outputs": [
    {
     "data": {
      "text/plain": [
       "NaN       130203\n",
       "white      79285\n",
       "black      62861\n",
       "silver     42970\n",
       "blue       31223\n",
       "red        30473\n",
       "grey       24416\n",
       "green       7343\n",
       "custom      6700\n",
       "brown       6593\n",
       "yellow      2142\n",
       "orange      1984\n",
       "purple       687\n",
       "Name: paint_color, dtype: int64"
      ]
     },
     "execution_count": 19,
     "metadata": {},
     "output_type": "execute_result"
    }
   ],
   "source": [
    "df[\"paint_color\"].value_counts(dropna = False)"
   ]
  },
  {
   "cell_type": "code",
   "execution_count": 20,
   "id": "unnecessary-attachment",
   "metadata": {},
   "outputs": [
    {
     "data": {
      "text/plain": [
       "gas         356209\n",
       "other        30728\n",
       "diesel       30062\n",
       "hybrid        5170\n",
       "NaN           3013\n",
       "electric      1698\n",
       "Name: fuel, dtype: int64"
      ]
     },
     "execution_count": 20,
     "metadata": {},
     "output_type": "execute_result"
    }
   ],
   "source": [
    "df[\"fuel\"].value_counts(dropna = False)"
   ]
  },
  {
   "cell_type": "code",
   "execution_count": 21,
   "id": "danish-adventure",
   "metadata": {},
   "outputs": [
    {
     "data": {
      "text/plain": [
       "clean         405117\n",
       "NaN             8242\n",
       "rebuilt         7219\n",
       "salvage         3868\n",
       "lien            1422\n",
       "missing          814\n",
       "parts only       198\n",
       "Name: title_status, dtype: int64"
      ]
     },
     "execution_count": 21,
     "metadata": {},
     "output_type": "execute_result"
    }
   ],
   "source": [
    "df[\"title_status\"].value_counts(dropna = False)"
   ]
  },
  {
   "cell_type": "code",
   "execution_count": 22,
   "id": "perceived-buying",
   "metadata": {},
   "outputs": [
    {
     "data": {
      "text/plain": [
       "automatic    336524\n",
       "other         62682\n",
       "manual        25118\n",
       "NaN            2556\n",
       "Name: transmission, dtype: int64"
      ]
     },
     "execution_count": 22,
     "metadata": {},
     "output_type": "execute_result"
    }
   ],
   "source": [
    "df[\"transmission\"].value_counts(dropna = False)"
   ]
  },
  {
   "cell_type": "code",
   "execution_count": null,
   "id": "personal-financing",
   "metadata": {
    "jupyter": {
     "source_hidden": true
    },
    "tags": []
   },
   "outputs": [],
   "source": []
  },
  {
   "cell_type": "markdown",
   "id": "supported-nature",
   "metadata": {},
   "source": [
    "Drive, type, fuel, paint_color and the like have similarly high amounts of missing data, however we won't want to discard them as they might hold relevance for many sellers, so we will give them the same treatment as both condition and cylinders."
   ]
  },
  {
   "cell_type": "code",
   "execution_count": 23,
   "id": "temporal-jones",
   "metadata": {},
   "outputs": [],
   "source": [
    "df[\"drive\"] = df[\"drive\"].fillna(value = \"not_provided\")\n",
    "df[\"type\"] = df[\"type\"].fillna(value = \"not_provided\")\n",
    "df[\"paint_color\"] = df[\"paint_color\"].fillna(value = \"not_provided\")\n",
    "df[\"fuel\"] = df[\"fuel\"].fillna(value = \"not_provided\")\n",
    "df[\"title_status\"] = df[\"title_status\"].fillna(value = \"not_provided\")\n",
    "df[\"transmission\"] = df[\"transmission\"].fillna(value = \"not_provided\")"
   ]
  },
  {
   "cell_type": "code",
   "execution_count": 24,
   "id": "banned-example",
   "metadata": {},
   "outputs": [
    {
     "data": {
      "text/html": [
       "<div>\n",
       "<style scoped>\n",
       "    .dataframe tbody tr th:only-of-type {\n",
       "        vertical-align: middle;\n",
       "    }\n",
       "\n",
       "    .dataframe tbody tr th {\n",
       "        vertical-align: top;\n",
       "    }\n",
       "\n",
       "    .dataframe thead th {\n",
       "        text-align: right;\n",
       "    }\n",
       "</style>\n",
       "<table border=\"1\" class=\"dataframe\">\n",
       "  <thead>\n",
       "    <tr style=\"text-align: right;\">\n",
       "      <th></th>\n",
       "      <th>region</th>\n",
       "      <th>price</th>\n",
       "      <th>year</th>\n",
       "      <th>manufacturer</th>\n",
       "      <th>model</th>\n",
       "      <th>condition</th>\n",
       "      <th>cylinders</th>\n",
       "      <th>fuel</th>\n",
       "      <th>odometer</th>\n",
       "      <th>title_status</th>\n",
       "      <th>transmission</th>\n",
       "      <th>drive</th>\n",
       "      <th>type</th>\n",
       "      <th>paint_color</th>\n",
       "      <th>state</th>\n",
       "      <th>posting_date</th>\n",
       "    </tr>\n",
       "  </thead>\n",
       "  <tbody>\n",
       "    <tr>\n",
       "      <th>0</th>\n",
       "      <td>0.0</td>\n",
       "      <td>0.0</td>\n",
       "      <td>0.282281</td>\n",
       "      <td>4.133714</td>\n",
       "      <td>1.236179</td>\n",
       "      <td>0.0</td>\n",
       "      <td>0.0</td>\n",
       "      <td>0.0</td>\n",
       "      <td>1.030735</td>\n",
       "      <td>0.0</td>\n",
       "      <td>0.0</td>\n",
       "      <td>0.0</td>\n",
       "      <td>0.0</td>\n",
       "      <td>0.0</td>\n",
       "      <td>0.0</td>\n",
       "      <td>0.01593</td>\n",
       "    </tr>\n",
       "  </tbody>\n",
       "</table>\n",
       "</div>"
      ],
      "text/plain": [
       "   region  price      year  manufacturer     model  condition  cylinders  \\\n",
       "0     0.0    0.0  0.282281      4.133714  1.236179        0.0        0.0   \n",
       "\n",
       "   fuel  odometer  title_status  transmission  drive  type  paint_color  \\\n",
       "0   0.0  1.030735           0.0           0.0    0.0   0.0          0.0   \n",
       "\n",
       "   state  posting_date  \n",
       "0    0.0       0.01593  "
      ]
     },
     "execution_count": 24,
     "metadata": {},
     "output_type": "execute_result"
    }
   ],
   "source": [
    "# Let's recalculate the missing to see how much we have done\n",
    "(df.isna().sum() * 100 / df.shape[0]).to_frame().T"
   ]
  },
  {
   "cell_type": "markdown",
   "id": "adjustable-dodge",
   "metadata": {},
   "source": [
    "We have gotten rid of remarkable amount of missing data, but we still have some missing data. At this point I evaluated my options:\n",
    "\n",
    "The largest amount of remaining missing data comes from \"MANUFACTURER\". Now, in general terms this is considered a CRITICAL FEATURE: Regardless of statistical signals, due to SME everyone knows you can't possibly buy a car without knowing its manufacturer.\n",
    "\n",
    "Let's see if it's possible to infer the manufacturer from the model."
   ]
  },
  {
   "cell_type": "code",
   "execution_count": 25,
   "id": "identical-evaluation",
   "metadata": {},
   "outputs": [
    {
     "data": {
      "text/plain": [
       "Scion iM Hatchback 4D             640\n",
       "smart fortwo Passion Hatchback    168\n",
       "Genesis G80 3.8 Sedan 4D          163\n",
       "Freightliner Cascadia             153\n",
       "International 4300                148\n",
       "                                 ... \n",
       "97 F250 HD                          1\n",
       "JN1BZ36AX8M852539                   1\n",
       "F250 Super Duty 7.3                 1\n",
       "WRX SPORT WAGON 4D                  1\n",
       "Murcury Mountaineer                 1\n",
       "Name: model, Length: 6055, dtype: int64"
      ]
     },
     "execution_count": 25,
     "metadata": {},
     "output_type": "execute_result"
    }
   ],
   "source": [
    "missing_manf = df[df[\"manufacturer\"].isna()] # creating a new df just to explore this posibility\n",
    "missing_manf[\"model\"].value_counts()"
   ]
  },
  {
   "cell_type": "markdown",
   "id": "about-houston",
   "metadata": {},
   "source": [
    "It seems we have 6055 different \"models\" to possibly infer the manufacturer. Although technically possible, I will consider this **unfeasible** for a one person, exploratory project. As such, **I have decided to delete all the rows where we have no manufacturer information**"
   ]
  },
  {
   "cell_type": "code",
   "execution_count": 26,
   "id": "dedicated-runner",
   "metadata": {},
   "outputs": [],
   "source": [
    "del missing_manf # let's get rid of this memory space\n",
    "df = df.dropna(subset = [\"manufacturer\"]) # deleting all rows where there is no manufacturer information"
   ]
  },
  {
   "cell_type": "code",
   "execution_count": 27,
   "id": "guided-characterization",
   "metadata": {},
   "outputs": [
    {
     "data": {
      "text/html": [
       "<div>\n",
       "<style scoped>\n",
       "    .dataframe tbody tr th:only-of-type {\n",
       "        vertical-align: middle;\n",
       "    }\n",
       "\n",
       "    .dataframe tbody tr th {\n",
       "        vertical-align: top;\n",
       "    }\n",
       "\n",
       "    .dataframe thead th {\n",
       "        text-align: right;\n",
       "    }\n",
       "</style>\n",
       "<table border=\"1\" class=\"dataframe\">\n",
       "  <thead>\n",
       "    <tr style=\"text-align: right;\">\n",
       "      <th></th>\n",
       "      <th>region</th>\n",
       "      <th>price</th>\n",
       "      <th>year</th>\n",
       "      <th>manufacturer</th>\n",
       "      <th>model</th>\n",
       "      <th>condition</th>\n",
       "      <th>cylinders</th>\n",
       "      <th>fuel</th>\n",
       "      <th>odometer</th>\n",
       "      <th>title_status</th>\n",
       "      <th>transmission</th>\n",
       "      <th>drive</th>\n",
       "      <th>type</th>\n",
       "      <th>paint_color</th>\n",
       "      <th>state</th>\n",
       "      <th>posting_date</th>\n",
       "    </tr>\n",
       "  </thead>\n",
       "  <tbody>\n",
       "    <tr>\n",
       "      <th>0</th>\n",
       "      <td>0.0</td>\n",
       "      <td>0.0</td>\n",
       "      <td>0.001466</td>\n",
       "      <td>0.0</td>\n",
       "      <td>1.272622</td>\n",
       "      <td>0.0</td>\n",
       "      <td>0.0</td>\n",
       "      <td>0.0</td>\n",
       "      <td>1.014334</td>\n",
       "      <td>0.0</td>\n",
       "      <td>0.0</td>\n",
       "      <td>0.0</td>\n",
       "      <td>0.0</td>\n",
       "      <td>0.0</td>\n",
       "      <td>0.0</td>\n",
       "      <td>0.0</td>\n",
       "    </tr>\n",
       "  </tbody>\n",
       "</table>\n",
       "</div>"
      ],
      "text/plain": [
       "   region  price      year  manufacturer     model  condition  cylinders  \\\n",
       "0     0.0    0.0  0.001466           0.0  1.272622        0.0        0.0   \n",
       "\n",
       "   fuel  odometer  title_status  transmission  drive  type  paint_color  \\\n",
       "0   0.0  1.014334           0.0           0.0    0.0   0.0          0.0   \n",
       "\n",
       "   state  posting_date  \n",
       "0    0.0           0.0  "
      ]
     },
     "execution_count": 27,
     "metadata": {},
     "output_type": "execute_result"
    }
   ],
   "source": [
    "# Let's recalculate the missing to see how much we have done\n",
    "(df.isna().sum() * 100 / df.shape[0]).to_frame().T"
   ]
  },
  {
   "cell_type": "markdown",
   "id": "relative-opening",
   "metadata": {},
   "source": [
    "At this point I don't there's any other actionable in regards to missing data, so I will drop whatever is left."
   ]
  },
  {
   "cell_type": "code",
   "execution_count": 28,
   "id": "sharing-niger",
   "metadata": {},
   "outputs": [],
   "source": [
    "df = df.dropna()"
   ]
  },
  {
   "cell_type": "markdown",
   "id": "b4e3a8c3-14cf-4fe0-96d9-89f192ed9ff4",
   "metadata": {},
   "source": [
    "## EDA"
   ]
  },
  {
   "cell_type": "markdown",
   "id": "d2a09033-5cf0-49c5-af18-f313311911a4",
   "metadata": {},
   "source": [
    "To start the exploratory data analysis, let's explore how does our target variable (price) is distributed!\n",
    "\n",
    "As always, remember that we can only perform our analysis on the split data!"
   ]
  },
  {
   "cell_type": "code",
   "execution_count": 29,
   "id": "10984947-a8e7-4748-8b27-1a6885fcf0cc",
   "metadata": {},
   "outputs": [
    {
     "data": {
      "image/png": "[encoded data removed]",
      "text/plain": [
       "<Figure size 1440x432 with 1 Axes>"
      ]
     },
     "metadata": {
      "needs_background": "light"
     },
     "output_type": "display_data"
    }
   ],
   "source": [
    "plt.figure(figsize=(20,6))\n",
    "sns.histplot(data = df[\"price\"], bins = 20)\n",
    "plt.ticklabel_format(style='plain', axis='x')"
   ]
  },
  {
   "cell_type": "markdown",
   "id": "f430584e-ce5f-4228-992d-89e6708953de",
   "metadata": {},
   "source": [
    "Strangely enough we can see that something's with how our data is being represented. Why is our X axis going so far away? At first glance it seems we have some massive **OUTLIERS** that are preventing an accurate representation of the data.\n",
    "\n",
    "At this point, and based on personal criteria, I decided to visualize an outlier as **any vehicle worth more than 50,000**."
   ]
  },
  {
   "cell_type": "code",
   "execution_count": 30,
   "id": "bac9f22e-4ae8-46d1-ab32-f3d1475995f8",
   "metadata": {},
   "outputs": [
    {
     "data": {
      "text/plain": [
       "2.780313241623175"
      ]
     },
     "execution_count": 30,
     "metadata": {},
     "output_type": "execute_result"
    }
   ],
   "source": [
    "# Let's find out how many outliers we have, as a percentage\n",
    "df[\"price\"][df[\"price\"] > 50000].shape[0] / df.shape[0] * 100"
   ]
  },
  {
   "cell_type": "raw",
   "id": "ddb0122b-775e-40fb-aa50-0c3c68c4284e",
   "metadata": {},
   "source": [
    "Based on these results we can say that 2.78% of our data consists of outliers. In this respect, and considering my personal definition of outliers in regards to price, **I will delete all records for vehicles whose prices is above 50,000**. These prices are either typos, placeholders, or vehicles that cannot be trivially valued (classics, restorations, etc)."
   ]
  },
  {
   "cell_type": "code",
   "execution_count": 31,
   "id": "6ad9d744-0308-474d-ac84-02e2d2f2ce86",
   "metadata": {},
   "outputs": [],
   "source": [
    "df = df[df[\"price\"] < 50000]"
   ]
  },
  {
   "cell_type": "code",
   "execution_count": 32,
   "id": "1c0b3544-9b49-41a1-9048-0a6d0d3f0e87",
   "metadata": {},
   "outputs": [
    {
     "data": {
      "image/png": "[encoded data removed]",
      "text/plain": [
       "<Figure size 1440x432 with 1 Axes>"
      ]
     },
     "metadata": {
      "needs_background": "light"
     },
     "output_type": "display_data"
    }
   ],
   "source": [
    "# Let's try visualizing the price distribution now that are rid of outliers \n",
    "plt.figure(figsize=(20,6))\n",
    "ax = sns.histplot(data = df[\"price\"], bins = 20, kde = True, stat = \"probability\")\n",
    "# adding ticks every 5,000 USD\n",
    "ax.xaxis.set_major_locator(MultipleLocator(5000)) "
   ]
  },
  {
   "cell_type": "markdown",
   "id": "2d6b67c7-9a25-4a26-8843-1d322877f99e",
   "metadata": {},
   "source": [
    "As it happens with most price related distributions, we can see that the majority of sales / prices are on the left side, cheaper side. In particular, ~42% of sales are below 10,000 USD. A  mental sanity check says this is reasonable as these are used vehicles.\n",
    "\n",
    "Another interesting insight is that, despite the right-skew of the distribution, the descent or in other words, how far the data goes to the other side, is not very steep. I interpret this as good because it seems we have a captured and understood the underlying behaviour of the data.\n",
    "\n",
    "Now, my next step would to dive deeper into some of the features and see what else we can find and learn!"
   ]
  },
  {
   "cell_type": "code",
   "execution_count": 33,
   "id": "dependent-rolling",
   "metadata": {},
   "outputs": [
    {
     "name": "stdout",
     "output_type": "stream",
     "text": [
      "<class 'pandas.core.frame.DataFrame'>\n",
      "Int64Index: 388689 entries, 27 to 426879\n",
      "Data columns (total 16 columns):\n",
      " #   Column        Non-Null Count   Dtype  \n",
      "---  ------        --------------   -----  \n",
      " 0   region        388689 non-null  object \n",
      " 1   price         388689 non-null  int64  \n",
      " 2   year          388689 non-null  float64\n",
      " 3   manufacturer  388689 non-null  object \n",
      " 4   model         388689 non-null  object \n",
      " 5   condition     388689 non-null  object \n",
      " 6   cylinders     388689 non-null  object \n",
      " 7   fuel          388689 non-null  object \n",
      " 8   odometer      388689 non-null  float64\n",
      " 9   title_status  388689 non-null  object \n",
      " 10  transmission  388689 non-null  object \n",
      " 11  drive         388689 non-null  object \n",
      " 12  type          388689 non-null  object \n",
      " 13  paint_color   388689 non-null  object \n",
      " 14  state         388689 non-null  object \n",
      " 15  posting_date  388689 non-null  object \n",
      "dtypes: float64(2), int64(1), object(13)\n",
      "memory usage: 50.4+ MB\n"
     ]
    }
   ],
   "source": [
    "df.info()"
   ]
  },
  {
   "cell_type": "code",
   "execution_count": null,
   "id": "420aa4ad-05db-4cb4-a929-29c4f7e2f6a8",
   "metadata": {
    "jupyter": {
     "source_hidden": true
    },
    "tags": []
   },
   "outputs": [],
   "source": []
  },
  {
   "cell_type": "markdown",
   "id": "surprising-spiritual",
   "metadata": {},
   "source": [
    "Although most of our data is in text strings, let's try running a correlation analysis to see any / importance of the few numerical features we have"
   ]
  },
  {
   "cell_type": "code",
   "execution_count": 34,
   "id": "6735685c-ee09-45bb-bc9f-0f9118c79783",
   "metadata": {},
   "outputs": [
    {
     "data": {
      "text/plain": [
       "<AxesSubplot:>"
      ]
     },
     "execution_count": 34,
     "metadata": {},
     "output_type": "execute_result"
    },
    {
     "data": {
      "image/png": "[encoded data removed]",
      "text/plain": [
       "<Figure size 1440x432 with 2 Axes>"
      ]
     },
     "metadata": {
      "needs_background": "light"
     },
     "output_type": "display_data"
    }
   ],
   "source": [
    "plt.figure(figsize=(20,6))\n",
    "sns.heatmap(df.corr(), annot = True, cmap=\"PuOr\")"
   ]
  },
  {
   "cell_type": "code",
   "execution_count": null,
   "id": "1b60df67-fd79-4b8f-9c14-7d23f140cc28",
   "metadata": {
    "jupyter": {
     "source_hidden": true
    },
    "tags": []
   },
   "outputs": [],
   "source": []
  },
  {
   "cell_type": "markdown",
   "id": "8d1ae05f-55a0-46c3-b6f4-01e3593962c9",
   "metadata": {},
   "source": [
    "These preliminary observations are interesting and the results for odometer align with one would expect! That is, the more a car has been on the road, the less it is worth.\n",
    "\n",
    "Nevertheless, there is a problem with year here. Year's correlation is OK, but the direction is counter to logic. The problem might stem that, since these records do not belong a specific year, the car's manufacturing year isn't the most accurate metric for the cars age. In this case we need to calculate a proxy for the vehicles age."
   ]
  },
  {
   "cell_type": "code",
   "execution_count": null,
   "id": "730bcb6a-3d77-468d-be0f-229974f1c541",
   "metadata": {
    "jupyter": {
     "source_hidden": true
    },
    "tags": []
   },
   "outputs": [],
   "source": []
  },
  {
   "cell_type": "code",
   "execution_count": 35,
   "id": "12b86c35-8806-4623-9b16-0690009b81e8",
   "metadata": {},
   "outputs": [
    {
     "data": {
      "text/plain": [
       "27       2021-05-04 17:31:18+00:00\n",
       "28       2021-05-04 17:31:08+00:00\n",
       "29       2021-05-04 17:31:25+00:00\n",
       "30       2021-05-04 15:41:31+00:00\n",
       "31       2021-05-03 19:02:03+00:00\n",
       "                    ...           \n",
       "426875   2021-04-04 09:21:31+00:00\n",
       "426876   2021-04-04 09:21:29+00:00\n",
       "426877   2021-04-04 09:21:17+00:00\n",
       "426878   2021-04-04 09:21:11+00:00\n",
       "426879   2021-04-04 09:21:07+00:00\n",
       "Name: posting_date, Length: 388689, dtype: datetime64[ns, UTC]"
      ]
     },
     "execution_count": 35,
     "metadata": {},
     "output_type": "execute_result"
    }
   ],
   "source": [
    "# first, we'll convert the posting date to an actual timestamp\n",
    "df[\"posting_date\"] = pd.to_datetime(df[\"posting_date\"], utc = True)\n",
    "df[\"posting_date\"]"
   ]
  },
  {
   "cell_type": "code",
   "execution_count": 36,
   "id": "2e786ffd-0c2f-4cbf-9afe-09a0fc9bb4d8",
   "metadata": {},
   "outputs": [
    {
     "data": {
      "text/plain": [
       "4.0      33705\n",
       "3.0      33646\n",
       "6.0      29372\n",
       "8.0      29119\n",
       "7.0      28600\n",
       "         ...  \n",
       "76.0         1\n",
       "103.0        1\n",
       "108.0        1\n",
       "99.0         1\n",
       "106.0        1\n",
       "Name: age, Length: 107, dtype: int64"
      ]
     },
     "execution_count": 36,
     "metadata": {},
     "output_type": "execute_result"
    }
   ],
   "source": [
    "# In this case what we really care is neither the cars year of manufacture NOR the posting date (this would always be *now* for a new prediction)\n",
    "# The real variable is the cars AGE which would be -> Current_year - cars_mfg_year\n",
    "df[\"age\"] = df[\"posting_date\"].dt.year - df[\"year\"] # Extract the year from posting date and substract the cars MFG age to get its \"age\" at sale time\n",
    "df[\"age\"].value_counts()"
   ]
  },
  {
   "cell_type": "code",
   "execution_count": 37,
   "id": "3796eec9-32db-4260-bfa2-6df9322768ab",
   "metadata": {},
   "outputs": [
    {
     "data": {
      "text/plain": [
       "<AxesSubplot:>"
      ]
     },
     "execution_count": 37,
     "metadata": {},
     "output_type": "execute_result"
    },
    {
     "data": {
      "image/png": "[encoded data removed]",
      "text/plain": [
       "<Figure size 1440x432 with 2 Axes>"
      ]
     },
     "metadata": {
      "needs_background": "light"
     },
     "output_type": "display_data"
    }
   ],
   "source": [
    "# Let's run correlations again to see if there's any difference\n",
    "plt.figure(figsize=(20,6))\n",
    "sns.heatmap(df.corr(), annot = True, cmap=\"PuOr\")"
   ]
  },
  {
   "cell_type": "code",
   "execution_count": null,
   "id": "6445b387-223c-49d0-b32b-8e5f92cdf02f",
   "metadata": {
    "jupyter": {
     "source_hidden": true
    },
    "tags": []
   },
   "outputs": [],
   "source": []
  },
  {
   "cell_type": "markdown",
   "id": "6dfd4f58-fed5-490e-b50f-736bd20769e4",
   "metadata": {},
   "source": [
    "As desired, the feature \"age\" captures the correct direction of the relationship as one would expect.\n",
    "\n",
    "In this situation, as the designer of this exercise, I have chosen to preserve **age** as the real predicting variable to maintain as it:\n",
    "* contains both MFG Year and year of inquire as part of a single variable\n",
    "* reduces the complexity (even if only by 1 feature) of the model\n",
    "\n",
    "As such, I will delete both \"year\" and \"posting date\""
   ]
  },
  {
   "cell_type": "code",
   "execution_count": 38,
   "id": "19150ed4-3e51-4874-b313-5cb4d2ea6b6a",
   "metadata": {},
   "outputs": [],
   "source": [
    "df = df.drop(columns = [\"year\", \"posting_date\"])"
   ]
  },
  {
   "cell_type": "markdown",
   "id": "c5462c14-398f-453c-bd5e-1fe3e870ae6b",
   "metadata": {},
   "source": [
    "Now that we have created the correct proxy variable, let's try visualizing how price behaves in regards to our numerical variables!"
   ]
  },
  {
   "cell_type": "code",
   "execution_count": 55,
   "id": "c96d674e-774b-420e-ac11-ec82f9f101e1",
   "metadata": {},
   "outputs": [
    {
     "data": {
      "image/png": "[encoded data removed]",
      "text/plain": [
       "<Figure size 720x720 with 3 Axes>"
      ]
     },
     "metadata": {
      "needs_background": "light"
     },
     "output_type": "display_data"
    }
   ],
   "source": [
    "sns.jointplot(data = df, x = \"odometer\", y = \"price\", height = 10);"
   ]
  },
  {
   "cell_type": "code",
   "execution_count": null,
   "id": "c5a118af-844c-4b57-9e80-8386a0d60593",
   "metadata": {
    "jupyter": {
     "source_hidden": true
    },
    "tags": []
   },
   "outputs": [],
   "source": []
  },
  {
   "cell_type": "markdown",
   "id": "82e70b6b-a058-4b49-b0cc-b98b5105543e",
   "metadata": {},
   "source": [
    "BALBLBLABLABLA"
   ]
  },
  {
   "cell_type": "code",
   "execution_count": 39,
   "id": "faae72b4-ee35-4b04-b435-ec7829bbef93",
   "metadata": {},
   "outputs": [],
   "source": [
    "# separating column names for easier plotting\n",
    "cat_cols = list(df.select_dtypes(include=\"object\").columns)\n",
    "num_cols = list(df.select_dtypes(include=\"float64\"))"
   ]
  },
  {
   "cell_type": "code",
   "execution_count": 43,
   "id": "b860fda3-3261-4511-8ed2-336c3e481802",
   "metadata": {},
   "outputs": [
    {
     "data": {
      "image/png": "[encoded data removed]",
      "text/plain": [
       "<Figure size 1800x720 with 12 Axes>"
      ]
     },
     "metadata": {
      "needs_background": "light"
     },
     "output_type": "display_data"
    }
   ],
   "source": [
    "# This will be used only to plot the categorical columns so 6 x 2\n",
    "fig, ax = plt.subplots(2,6, figsize=(25,10))\n",
    "\n",
    "# separating rows for easier processing\n",
    "row_1 = ax[0]\n",
    "row_2 = ax[1]\n",
    "\n",
    "# creating plots for the first row\n",
    "for index, column in enumerate(cat_cols[:6]):\n",
    "    # creating ax figure in order of value\n",
    "    sns.countplot(ax=row_1[index], data = df, x=column, order = df[column].value_counts().index)\n",
    "    # setting plot title\n",
    "    row_1[index].set_title(column)\n",
    "    # hiding xaxis since they become unreadable\n",
    "    row_1[index].get_xaxis().set_visible(False)\n",
    "\n",
    "# creating plots for the second row\n",
    "for index, column in enumerate(cat_cols[6:]):\n",
    "    # creating ax figure in order of value\n",
    "    sns.countplot(ax=row_2[index], data = df, x=column, order = df[column].value_counts().index)\n",
    "    # setting plot title\n",
    "    row_2[index].set_title(column)\n",
    "    # hiding xaxis since they become unreadable\n",
    "    row_2[index].get_xaxis().set_visible(False)\n",
    "    \n",
    "fig.suptitle(\"SUPER TITLE\");"
   ]
  },
  {
   "cell_type": "markdown",
   "id": "cac89cd8-ed80-40c6-ab87-bc01ac954749",
   "metadata": {},
   "source": [
    "HERE COMES THE ANALYSIS"
   ]
  },
  {
   "cell_type": "code",
   "execution_count": null,
   "id": "a2c7c458-dcb3-4142-b219-86fc43968a62",
   "metadata": {
    "jupyter": {
     "source_hidden": true
    },
    "tags": []
   },
   "outputs": [],
   "source": []
  },
  {
   "cell_type": "markdown",
   "id": "4abf598a-f12d-4424-8bfc-c40e625c8e1e",
   "metadata": {},
   "source": [
    "These visualizations and exploration, let's see what else we can find through statistical analysis!\n",
    "\n",
    "Fortunately, Scikit-learn provides some convenient tools for this:\n",
    "* f_regression -> which is basically a one-way Anova.\n",
    "* mutual_info_regression -> Analogue to its class counterpart, but for continuous variables\n",
    "\n",
    "but first, from this point onwards, I will create the Train, Validation and Test splits! This is necessary as we **want to avoid inferences that we are not sure would apply to a ML / DL model that has not seen new data**. As such, the relevant statistics will be obtained using training sets!"
   ]
  },
  {
   "cell_type": "code",
   "execution_count": 35,
   "id": "96c33665-a143-49b6-be71-87809da7e3c0",
   "metadata": {},
   "outputs": [],
   "source": [
    "# Separating target and features\n",
    "y = df[\"price\"]\n",
    "X_parent = df.drop(columns = \"price\")"
   ]
  },
  {
   "cell_type": "code",
   "execution_count": 36,
   "id": "6d7b425e-27c6-4f7e-9ca2-5476d7b5e005",
   "metadata": {},
   "outputs": [],
   "source": [
    "# creating first split. The result here is the untouched test splits. The \"splits\" are a preliminary split that will be separated again for train and validation\n",
    "X_split, X_test, y_split, y_test = train_test_split(X_parent, y, train_size = 0.8)"
   ]
  },
  {
   "cell_type": "code",
   "execution_count": 37,
   "id": "529dadd0-1e69-428c-8cf8-4bf1c770ef6e",
   "metadata": {},
   "outputs": [],
   "source": [
    "# creating the 2nd split. This one creates the train and validation splits\n",
    "X_train, X_val, y_train, y_val = train_test_split(X_split, y_split, train_size = 0.75)"
   ]
  },
  {
   "cell_type": "code",
   "execution_count": null,
   "id": "d950a196-8d4c-459a-834d-3ce35b7af8dd",
   "metadata": {
    "jupyter": {
     "source_hidden": true
    },
    "tags": []
   },
   "outputs": [],
   "source": []
  },
  {
   "cell_type": "code",
   "execution_count": 38,
   "id": "7bd63db1-5840-48f9-a730-8d3d2e55a072",
   "metadata": {},
   "outputs": [],
   "source": [
    "# first we need to encode the categorical and features since we can't process them as it is\n",
    "## instantiating scalers\n",
    "ord_enc = OrdinalEncoder()\n",
    "norm_sca = StandardScaler()\n",
    "\n",
    "## separating categorical and numerical features\n",
    "cat_feats = X_train.select_dtypes(include=\"object\")\n",
    "num_feats = X_train.select_dtypes(include=\"float64\")\n",
    "\n",
    "## fitting scalers\n",
    "ord_enc.fit(cat_feats)\n",
    "norm_sca.fit(num_feats)\n",
    "\n",
    "## re-assigning variables\n",
    "cat_feats = ord_enc.transform(cat_feats)\n",
    "num_feats = norm_sca.transform(num_feats)\n",
    "\n",
    "## concatenating arrays\n",
    "X_stats = np.concatenate([cat_feats, num_feats], axis=1)"
   ]
  },
  {
   "cell_type": "code",
   "execution_count": 39,
   "id": "93ac1e73-23f4-460d-8fdc-7cf534ed7e0b",
   "metadata": {},
   "outputs": [],
   "source": [
    "f_arrray = f_regression(X_stats, y_train)"
   ]
  },
  {
   "cell_type": "code",
   "execution_count": 40,
   "id": "61a45771-e960-4895-bfb1-176f620c95c0",
   "metadata": {},
   "outputs": [],
   "source": [
    "mut_info = mutual_info_regression(X_stats, y_train)"
   ]
  },
  {
   "cell_type": "code",
   "execution_count": 41,
   "id": "c3965156-a82c-4d81-be99-3e165a8d638b",
   "metadata": {},
   "outputs": [
    {
     "data": {
      "text/html": [
       "<div>\n",
       "<style scoped>\n",
       "    .dataframe tbody tr th:only-of-type {\n",
       "        vertical-align: middle;\n",
       "    }\n",
       "\n",
       "    .dataframe tbody tr th {\n",
       "        vertical-align: top;\n",
       "    }\n",
       "\n",
       "    .dataframe thead th {\n",
       "        text-align: right;\n",
       "    }\n",
       "</style>\n",
       "<table border=\"1\" class=\"dataframe\">\n",
       "  <thead>\n",
       "    <tr style=\"text-align: right;\">\n",
       "      <th></th>\n",
       "      <th>region</th>\n",
       "      <th>manufacturer</th>\n",
       "      <th>model</th>\n",
       "      <th>condition</th>\n",
       "      <th>cylinders</th>\n",
       "      <th>fuel</th>\n",
       "      <th>title_status</th>\n",
       "      <th>transmission</th>\n",
       "      <th>drive</th>\n",
       "      <th>type</th>\n",
       "      <th>paint_color</th>\n",
       "      <th>state</th>\n",
       "      <th>odometer</th>\n",
       "      <th>age</th>\n",
       "    </tr>\n",
       "  </thead>\n",
       "  <tbody>\n",
       "    <tr>\n",
       "      <th>f_regression</th>\n",
       "      <td>0.216168</td>\n",
       "      <td>0.010436</td>\n",
       "      <td>0.785732</td>\n",
       "      <td>0.312715</td>\n",
       "      <td>0.455632</td>\n",
       "      <td>0.995189</td>\n",
       "      <td>0.627461</td>\n",
       "      <td>0.502258</td>\n",
       "      <td>0.484876</td>\n",
       "      <td>0.696317</td>\n",
       "      <td>0.858397</td>\n",
       "      <td>0.670374</td>\n",
       "      <td>0.483783</td>\n",
       "      <td>0.024191</td>\n",
       "    </tr>\n",
       "    <tr>\n",
       "      <th>mutual_regre</th>\n",
       "      <td>0.425953</td>\n",
       "      <td>0.343351</td>\n",
       "      <td>1.652358</td>\n",
       "      <td>0.352634</td>\n",
       "      <td>0.173883</td>\n",
       "      <td>0.138583</td>\n",
       "      <td>0.044684</td>\n",
       "      <td>0.294615</td>\n",
       "      <td>0.164569</td>\n",
       "      <td>0.317453</td>\n",
       "      <td>0.154778</td>\n",
       "      <td>0.321059</td>\n",
       "      <td>2.039659</td>\n",
       "      <td>0.574376</td>\n",
       "    </tr>\n",
       "  </tbody>\n",
       "</table>\n",
       "</div>"
      ],
      "text/plain": [
       "                region  manufacturer     model  condition  cylinders  \\\n",
       "f_regression  0.216168      0.010436  0.785732   0.312715   0.455632   \n",
       "mutual_regre  0.425953      0.343351  1.652358   0.352634   0.173883   \n",
       "\n",
       "                  fuel  title_status  transmission     drive      type  \\\n",
       "f_regression  0.995189      0.627461      0.502258  0.484876  0.696317   \n",
       "mutual_regre  0.138583      0.044684      0.294615  0.164569  0.317453   \n",
       "\n",
       "              paint_color     state  odometer       age  \n",
       "f_regression     0.858397  0.670374  0.483783  0.024191  \n",
       "mutual_regre     0.154778  0.321059  2.039659  0.574376  "
      ]
     },
     "execution_count": 41,
     "metadata": {},
     "output_type": "execute_result"
    }
   ],
   "source": [
    "# creating a results table\n",
    "cat_cols = list(X_train.select_dtypes(include=\"object\").columns) # extreacting categorical columns\n",
    "num_cols = list(X_train.select_dtypes(include=\"float64\")) # extracting numerical columns\n",
    "cols = cat_cols + num_cols # setting columns in correct order and then merging lists\n",
    "pd.DataFrame([f_arrray[1], mut_info], index = [\"f_regression\", \"mutual_regre\"], columns = cols) #I'm only keeping the p-values of f_regression"
   ]
  },
  {
   "cell_type": "code",
   "execution_count": null,
   "id": "94f0d13d-86ae-4ad5-9cd5-08c5e6544af9",
   "metadata": {
    "jupyter": {
     "source_hidden": true
    },
    "tags": []
   },
   "outputs": [],
   "source": []
  },
  {
   "cell_type": "markdown",
   "id": "58714c66-0a14-4052-96b1-467beafd050b",
   "metadata": {},
   "source": [
    "Before explaining the resulkts found from this analysis I will provide some contextual information:\n",
    "* f_regression from sklearn is an univariate test that mimics an ANOVA F-TEST but for a continuous problem (like price). More importantly, and as outlined in the functions page itself **IT SHOULDNT BE USED AS A STAND ALONE SELECTION METHOD**. In essence, this trains to calculate how much of the variance of target (price) is explained by the variance of a feature. The value presented in the results table is the p-value associated to the test.\n",
    "* mutual information for regression is a nonparametrics (does not assume any distribution for the data) test that attempts to find the features that contribute to most to a change in the target feature (price)\n",
    "* Interestingly, while many of the features had large amounts of missing values which were replaced with placeholder strings, they reflect different behaviours, providing some confidence that the transformation's did not distort the results too much.\n",
    "\n",
    "That said, the results of both tests provide some interesting, but inconclusive insights:\n",
    "1. Both methods lack consistency in determining which features might be relevant / contribute more to the variation in price, HOWEVER they do have some agreement into **which features DO NOT contribute much to the variation of the price**. In this sense, the results can be used in reverse to remove features that add little prediction power.\n",
    "2. Based on the previous point the following features could be considered of LOW relevance:\n",
    "    1. **TRANSMISSION**: Has a high p-value and low-medium mutual_information score; by both metrics this feature does not contribute much to price. On an individual assessment I find this result accurate as transmission, while important, is not necessarily one's primary concern when choosing a vehicle. **On principle, this feature will be deleted from all splits**\n",
    "    2. **TITLE_STATUS**: Has a high p-value and low mutual_information score; by both metrics this feature does not contribute much to price. Unfortunately I'm unfamiliar with these intricancies of this feature and what it represents. **On principle, this feature will be deleted from all splits** \n",
    "    3. **Region / State**: Has a high p-value and low mutual_information score. by both metrics this feature does not contribute much to price. Interestingly both features capture very similar (if not the same information), as such, one can consider it to be slightly redundant. **On principle, one of these features will be deleted from all splits.\n",
    "   \n",
    "After these analysis, we have some strong signals about which features to get rid of, but before any decisive action, let's do some **EXPLORATORY DATA ANALYSIS**."
   ]
  },
  {
   "cell_type": "code",
   "execution_count": 42,
   "id": "d34898c4-099f-4437-8926-4493b061cb31",
   "metadata": {},
   "outputs": [],
   "source": [
    "# deleting unnecessary vars\n",
    "del ord_enc\n",
    "del norm_sca\n",
    "del cat_feats\n",
    "del num_feats\n",
    "del X_stats\n",
    "del cat_cols\n",
    "del num_cols\n",
    "del cols"
   ]
  },
  {
   "cell_type": "markdown",
   "id": "1e54c955-20ab-4d17-a035-1848e55ecf81",
   "metadata": {},
   "source": []
  }
 ],
 "metadata": {
  "kernelspec": {
   "display_name": "cars",
   "language": "python",
   "name": "cars"
  },
  "language_info": {
   "codemirror_mode": {
    "name": "ipython",
    "version": 3
   },
   "file_extension": ".py",
   "mimetype": "text/x-python",
   "name": "python",
   "nbconvert_exporter": "python",
   "pygments_lexer": "ipython3",
   "version": "3.7.6"
  }
 },
 "nbformat": 4,
 "nbformat_minor": 5
}
