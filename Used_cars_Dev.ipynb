{
 "cells": [
  {
   "cell_type": "code",
   "execution_count": 1,
   "id": "quiet-watson",
   "metadata": {},
   "outputs": [],
   "source": [
    "# standard imports\n",
    "import numpy as np\n",
    "import pandas as pd\n",
    "import matplotlib.pyplot as plt\n",
    "import seaborn as sns\n",
    "\n",
    "# tensorflow imports\n",
    "import tensorflow as tf\n",
    "from tensorflow.keras.models import load_model, save_model, Sequential\n",
    "from tensorflow.keras.layers import Dense, Dropout\n",
    "\n",
    "# setting style\n",
    "plt.style.use(\"seaborn-colorblind\")"
   ]
  },
  {
   "cell_type": "markdown",
   "id": "764079e2-26f0-443c-ae77-facbdc2eb52a",
   "metadata": {
    "tags": []
   },
   "source": [
    "# DATA CLEANING & PREPARATION"
   ]
  },
  {
   "cell_type": "markdown",
   "id": "fb0bec98-56cf-45c1-a00b-25206ffdbad4",
   "metadata": {},
   "source": [
    "## DATA CLEANING"
   ]
  },
  {
   "cell_type": "markdown",
   "id": "f004b037-82f7-4fe2-84c5-4cd8d2c9793a",
   "metadata": {},
   "source": [
    "The first thing I'll do after loading the data will be to analyze and discover columns that only have 1 value OR where each value is unique. Excluding geographical coordinates, features such as \"ID\" or otherwise unique identifiers do not assist for analysis."
   ]
  },
  {
   "cell_type": "code",
   "execution_count": 16,
   "id": "e9d6cabd-5991-4244-b207-1075379e0f61",
   "metadata": {},
   "outputs": [
    {
     "data": {
      "text/plain": [
       "id              426880\n",
       "url             426880\n",
       "region             404\n",
       "region_url         413\n",
       "price            15655\n",
       "year               114\n",
       "manufacturer        42\n",
       "model            29667\n",
       "condition            6\n",
       "cylinders            8\n",
       "fuel                 5\n",
       "odometer        104870\n",
       "title_status         6\n",
       "transmission         3\n",
       "VIN             118264\n",
       "drive                3\n",
       "size                 4\n",
       "type                13\n",
       "paint_color         12\n",
       "image_url       241899\n",
       "description     360911\n",
       "county               0\n",
       "state               51\n",
       "lat              53181\n",
       "long             53772\n",
       "posting_date    381536\n",
       "dtype: int64"
      ]
     },
     "execution_count": 16,
     "metadata": {},
     "output_type": "execute_result"
    }
   ],
   "source": [
    "# reading file and info\n",
    "df = pd.read_csv(\"data/vehicles.csv\")\n",
    "df.nunique()"
   ]
  },
  {
   "cell_type": "code",
   "execution_count": null,
   "id": "e4364452-0c72-4999-9608-41159a828f1e",
   "metadata": {
    "jupyter": {
     "source_hidden": true
    },
    "tags": []
   },
   "outputs": [],
   "source": []
  },
  {
   "cell_type": "markdown",
   "id": "e4b436d1-a278-4dc7-a08a-cb5e3f0e676a",
   "metadata": {},
   "source": [
    "We can observe that ID and URL are unique for each vehicle posting, so we can go ahead and discard them since they do not provide any useful insights."
   ]
  },
  {
   "cell_type": "code",
   "execution_count": 17,
   "id": "1a94f31a-179e-43af-a770-5732f5320a50",
   "metadata": {},
   "outputs": [],
   "source": [
    "# deleting useless columns.\n",
    "df = df.drop(columns = [\"id\", \"url\"])"
   ]
  },
  {
   "cell_type": "markdown",
   "id": "efdbd355-5300-4e4d-9404-7f0bc05e44aa",
   "metadata": {},
   "source": [
    "Next, I'll analyze and discover missing data points and find out what to do with these columns!"
   ]
  },
  {
   "cell_type": "code",
   "execution_count": 18,
   "id": "9b42d400-a9d5-479d-8355-63d4eeb8efa7",
   "metadata": {},
   "outputs": [
    {
     "name": "stdout",
     "output_type": "stream",
     "text": [
      "<class 'pandas.core.frame.DataFrame'>\n",
      "RangeIndex: 426880 entries, 0 to 426879\n",
      "Data columns (total 24 columns):\n",
      " #   Column        Non-Null Count   Dtype  \n",
      "---  ------        --------------   -----  \n",
      " 0   region        426880 non-null  object \n",
      " 1   region_url    426880 non-null  object \n",
      " 2   price         426880 non-null  int64  \n",
      " 3   year          425675 non-null  float64\n",
      " 4   manufacturer  409234 non-null  object \n",
      " 5   model         421603 non-null  object \n",
      " 6   condition     252776 non-null  object \n",
      " 7   cylinders     249202 non-null  object \n",
      " 8   fuel          423867 non-null  object \n",
      " 9   odometer      422480 non-null  float64\n",
      " 10  title_status  418638 non-null  object \n",
      " 11  transmission  424324 non-null  object \n",
      " 12  VIN           265838 non-null  object \n",
      " 13  drive         296313 non-null  object \n",
      " 14  size          120519 non-null  object \n",
      " 15  type          334022 non-null  object \n",
      " 16  paint_color   296677 non-null  object \n",
      " 17  image_url     426812 non-null  object \n",
      " 18  description   426810 non-null  object \n",
      " 19  county        0 non-null       float64\n",
      " 20  state         426880 non-null  object \n",
      " 21  lat           420331 non-null  float64\n",
      " 22  long          420331 non-null  float64\n",
      " 23  posting_date  426812 non-null  object \n",
      "dtypes: float64(5), int64(1), object(18)\n",
      "memory usage: 78.2+ MB\n"
     ]
    }
   ],
   "source": [
    "df.info()"
   ]
  },
  {
   "cell_type": "code",
   "execution_count": null,
   "id": "67b6ecab-3aa0-45b5-a908-ade6f13c8fef",
   "metadata": {
    "jupyter": {
     "source_hidden": true
    },
    "tags": []
   },
   "outputs": [],
   "source": []
  },
  {
   "cell_type": "markdown",
   "id": "40216d15-e218-4251-8b4d-b35947fde9cf",
   "metadata": {},
   "source": [
    "Df.info() provides a good insight into the missing information, but let's try a different way to see how much missing data do we really have"
   ]
  },
  {
   "cell_type": "code",
   "execution_count": 8,
   "id": "aae8c4f3-2669-4d8d-bf7b-27d9689229a4",
   "metadata": {},
   "outputs": [
    {
     "data": {
      "text/plain": [
       "id              0.000000\n",
       "url             0.000000\n",
       "region          0.000000\n",
       "region_url      0.000000\n",
       "price           0.000000\n",
       "year            0.002823\n",
       "manufacturer    0.041337\n",
       "model           0.012362\n",
       "condition       0.407852\n",
       "cylinders       0.416225\n",
       "fuel            0.007058\n",
       "odometer        0.010307\n",
       "title_status    0.019308\n",
       "transmission    0.005988\n",
       "VIN             0.377254\n",
       "drive           0.305863\n",
       "size            0.717675\n",
       "type            0.217527\n",
       "paint_color     0.305011\n",
       "image_url       0.000159\n",
       "description     0.000164\n",
       "county          1.000000\n",
       "state           0.000000\n",
       "lat             0.015342\n",
       "long            0.015342\n",
       "posting_date    0.000159\n",
       "dtype: float64"
      ]
     },
     "execution_count": 8,
     "metadata": {},
     "output_type": "execute_result"
    }
   ],
   "source": [
    "# calculating all missing data points and normalizing to df size\n",
    "df.isna().sum() / df.shape[0]"
   ]
  },
  {
   "cell_type": "code",
   "execution_count": null,
   "id": "4dee2c06-88fb-4799-8b61-4f333574f120",
   "metadata": {
    "jupyter": {
     "source_hidden": true
    },
    "tags": []
   },
   "outputs": [],
   "source": []
  },
  {
   "cell_type": "markdown",
   "id": "ac5891a4-32cf-400c-8885-7f2552bc4550",
   "metadata": {},
   "source": [
    "As we can see, columns such as:\n",
    "* County -> 100% missing data\n",
    "* size -> 71.76% missing data\n",
    "\n",
    "have large amounts of missing data that we can outright consider impossible to fix, so we will just delete them."
   ]
  },
  {
   "cell_type": "code",
   "execution_count": 19,
   "id": "31301bb6-3d0d-4357-86f7-34f330b71ef2",
   "metadata": {},
   "outputs": [],
   "source": [
    "# I'll delete the columns that don't add any info\n",
    "df = df.drop(columns = [\"county\", \"size\"])"
   ]
  },
  {
   "cell_type": "code",
   "execution_count": 20,
   "id": "e2da5413-536e-40f5-81e3-bed792915371",
   "metadata": {},
   "outputs": [
    {
     "name": "stdout",
     "output_type": "stream",
     "text": [
      "<class 'pandas.core.frame.DataFrame'>\n",
      "RangeIndex: 426880 entries, 0 to 426879\n",
      "Data columns (total 22 columns):\n",
      " #   Column        Non-Null Count   Dtype  \n",
      "---  ------        --------------   -----  \n",
      " 0   region        426880 non-null  object \n",
      " 1   region_url    426880 non-null  object \n",
      " 2   price         426880 non-null  int64  \n",
      " 3   year          425675 non-null  float64\n",
      " 4   manufacturer  409234 non-null  object \n",
      " 5   model         421603 non-null  object \n",
      " 6   condition     252776 non-null  object \n",
      " 7   cylinders     249202 non-null  object \n",
      " 8   fuel          423867 non-null  object \n",
      " 9   odometer      422480 non-null  float64\n",
      " 10  title_status  418638 non-null  object \n",
      " 11  transmission  424324 non-null  object \n",
      " 12  VIN           265838 non-null  object \n",
      " 13  drive         296313 non-null  object \n",
      " 14  type          334022 non-null  object \n",
      " 15  paint_color   296677 non-null  object \n",
      " 16  image_url     426812 non-null  object \n",
      " 17  description   426810 non-null  object \n",
      " 18  state         426880 non-null  object \n",
      " 19  lat           420331 non-null  float64\n",
      " 20  long          420331 non-null  float64\n",
      " 21  posting_date  426812 non-null  object \n",
      "dtypes: float64(4), int64(1), object(17)\n",
      "memory usage: 71.7+ MB\n"
     ]
    }
   ],
   "source": [
    "df.info()"
   ]
  },
  {
   "cell_type": "code",
   "execution_count": null,
   "id": "c53ea132-7607-4033-b7d0-c9c898d29b94",
   "metadata": {},
   "outputs": [],
   "source": []
  }
 ],
 "metadata": {
  "kernelspec": {
   "display_name": "Python 3",
   "language": "python",
   "name": "python3"
  },
  "language_info": {
   "codemirror_mode": {
    "name": "ipython",
    "version": 3
   },
   "file_extension": ".py",
   "mimetype": "text/x-python",
   "name": "python",
   "nbconvert_exporter": "python",
   "pygments_lexer": "ipython3",
   "version": "3.8.0"
  }
 },
 "nbformat": 4,
 "nbformat_minor": 5
}
