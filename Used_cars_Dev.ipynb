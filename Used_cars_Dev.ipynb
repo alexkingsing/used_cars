{
 "cells": [
  {
   "cell_type": "markdown",
   "id": "fe64f84d-fed1-4860-99ff-6e693f0d0d46",
   "metadata": {},
   "source": [
    "# Used vehicles price prediction - A Machine Learning Project\n",
    "### by Alexander Justin King Sing Ortiz\n",
    "*first full ML project*"
   ]
  },
  {
   "cell_type": "markdown",
   "id": "aafbf28d-ec2e-4bd1-a9e3-20a98eb01472",
   "metadata": {},
   "source": [
    "# ABSTRACT"
   ]
  },
  {
   "cell_type": "markdown",
   "id": "3d576fc4-a8b6-4c20-9e7c-ea61c53c8fe5",
   "metadata": {},
   "source": [
    "This project was a born from a curiosity question of mine as I prepared for my MBA in the U.S. As many know, cars are the most common method of transportation in the U.S as trains, buses, as public transportation varies heavily by state and city, and, for most purposes, is not the preferred form of transport for many.\n",
    "\n",
    "Considering that, I asked myself: \"How much would it cost to buy a car in the U.S?\" I immediately discarded new vehicles because they're substantially more expensive, depreciate rapidly and simply didn't adjust to my budget. The only option was an **used vehicles**. \n",
    "\n",
    "The question then changed to: \"How much would it cost to buy a used car in the U.S?\" It's sometimes difficult to find information that one considers both reliable and scalable and that has relevance over time, specially when P2P (Peer-to-Peer) markets are so heterogenous. Now, answering this question for myself would be relatively trivial: I just need to look for a car model I like and search for it. Simple, right? But I wanted to do more.\n",
    "\n",
    "What if I wanted to check multiple vehicles? With multiple manufacture (MFG) dates? or vehicles with within a certain odometer range? These questions and more led me to think beyond a simple for this question. In light of this, and building on my curiosity about ML / DL, I decided to build a model to **estimate the value / price of a used vehicle in the U.S**.\n",
    "\n",
    "Now, due to my current limited expertise in certain aspects of ML, I decided to limit the scope of the project.\n",
    "\n",
    "**SCOPE**: \n",
    "* For time reasons I will **exclude** any kind of **image analysis**. Vehicle images (could be extracted from each post) will be ignored.\n",
    "* In-depth NLP tasks are not in scope of this analysis, but some simple tasks may be used for feature extraction.\n",
    "* Unique data points such as VIN, which are used in history analysis, will also be excluded.\n",
    "\n",
    "In general, this exercise attempts to create a prediction model with minimal inputs and without complex encodings & transformations and without having to perform internet queries with some of the data.\n",
    "\n",
    "Basically: **if the input cannot be directly inferred or understood with the provided data, it will be discarded**."
   ]
  },
  {
   "cell_type": "code",
   "execution_count": null,
   "id": "d47303d5-7345-4814-9e49-c7c99d7c162e",
   "metadata": {
    "jupyter": {
     "source_hidden": true
    },
    "tags": []
   },
   "outputs": [],
   "source": []
  },
  {
   "cell_type": "markdown",
   "id": "1e30b388-3c55-4cd5-a55e-21019889b338",
   "metadata": {},
   "source": [
    "# Table of Contents\n",
    "1. [Introduction](#Introduction)\n",
    "2. [Initialization](#Initialization)\n",
    "    1. [Imports](#Imports)\n",
    "    1. [Functions](#Functions)\n",
    "3. [Data_exploration](#Data_exploration)\n",
    "    1. [Handling_missing_data](#Handling_missing_data)\n",
    "    2. [Exploratory_data_analysis](#Exploratory_data_analysis)\n",
    "1. [Model_training](#Model_training)\n",
    "    1. [Linear_models](#Linear_models)\n",
    "    2. [Ensemble_regressors](#Ensemble_regressors)\n",
    "    3. [Keras_model](#Keras_model)"
   ]
  },
  {
   "cell_type": "code",
   "execution_count": null,
   "id": "a3a057b7-7f4d-428d-aae7-e635e4306c0b",
   "metadata": {
    "jupyter": {
     "source_hidden": true
    },
    "tags": []
   },
   "outputs": [],
   "source": []
  },
  {
   "cell_type": "markdown",
   "id": "f04edaab-d942-4458-8c62-446d508873a8",
   "metadata": {},
   "source": [
    "# Introduction"
   ]
  },
  {
   "cell_type": "markdown",
   "id": "2f4a809c-9583-405f-9e58-6f209bfbd735",
   "metadata": {},
   "source": []
  },
  {
   "cell_type": "code",
   "execution_count": null,
   "id": "45da864f-cc60-4418-916d-0cdd35c72c77",
   "metadata": {
    "jupyter": {
     "source_hidden": true
    },
    "tags": []
   },
   "outputs": [],
   "source": []
  },
  {
   "cell_type": "markdown",
   "id": "99a9b122-9d79-4f0f-9d68-5dc919a1a197",
   "metadata": {},
   "source": [
    "# Initialization"
   ]
  },
  {
   "cell_type": "markdown",
   "id": "3fe5f931-80c3-4948-b896-f5e380d648eb",
   "metadata": {},
   "source": [
    "## Imports"
   ]
  },
  {
   "cell_type": "code",
   "execution_count": 1,
   "id": "featured-calvin",
   "metadata": {},
   "outputs": [],
   "source": [
    "# standard imports\n",
    "import numpy as np\n",
    "import pandas as pd\n",
    "import matplotlib.pyplot as plt\n",
    "from matplotlib.ticker import MultipleLocator\n",
    "import seaborn as sns\n",
    "\n",
    "# scikit-learn imports\n",
    "## scikit tools\n",
    "from sklearn.feature_selection import mutual_info_regression, f_regression\n",
    "from sklearn.preprocessing import OneHotEncoder, OrdinalEncoder, StandardScaler\n",
    "from sklearn.model_selection import train_test_split\n",
    "from sklearn.metrics import mean_absolute_error, mean_squared_error\n",
    "\n",
    "## scikit models\n",
    "from sklearn.linear_model import LassoCV, LinearRegression\n",
    "from sklearn.ensemble import RandomForestRegressor, GradientBoostingRegressor\n",
    "\n",
    "\n",
    "# tensorflow imports\n",
    "import tensorflow as tf\n",
    "from tensorflow.keras.models import load_model, save_model, Sequential\n",
    "from tensorflow.keras.layers import Dense, Dropout\n",
    "\n",
    "# setting style\n",
    "plt.style.use(\"seaborn-colorblind\")"
   ]
  },
  {
   "cell_type": "markdown",
   "id": "australian-overview",
   "metadata": {},
   "source": [
    "The first thing I'll do after loading the data will be to analyze and discover columns that only have 1 value OR where each value is unique. Excluding geographical coordinates, features such as \"ID\" or otherwise unique identifiers do not assist for analysis."
   ]
  },
  {
   "cell_type": "code",
   "execution_count": 2,
   "id": "cellular-theorem",
   "metadata": {},
   "outputs": [
    {
     "data": {
      "text/plain": [
       "id              426880\n",
       "url             426880\n",
       "region             404\n",
       "region_url         413\n",
       "price            15655\n",
       "year               114\n",
       "manufacturer        42\n",
       "model            29667\n",
       "condition            6\n",
       "cylinders            8\n",
       "fuel                 5\n",
       "odometer        104870\n",
       "title_status         6\n",
       "transmission         3\n",
       "VIN             118264\n",
       "drive                3\n",
       "size                 4\n",
       "type                13\n",
       "paint_color         12\n",
       "image_url       241899\n",
       "description     360911\n",
       "county               0\n",
       "state               51\n",
       "lat              53181\n",
       "long             53772\n",
       "posting_date    381536\n",
       "dtype: int64"
      ]
     },
     "execution_count": 2,
     "metadata": {},
     "output_type": "execute_result"
    }
   ],
   "source": [
    "# reading file and info\n",
    "df = pd.read_csv(\"data/vehicles.csv\")\n",
    "df.nunique()"
   ]
  },
  {
   "cell_type": "code",
   "execution_count": null,
   "id": "animated-college",
   "metadata": {
    "jupyter": {
     "source_hidden": true
    },
    "tags": []
   },
   "outputs": [],
   "source": []
  },
  {
   "cell_type": "markdown",
   "id": "historical-african",
   "metadata": {},
   "source": [
    "We can observe that **ID** and **URL** are unique for each vehicle posting, so we can go ahead and discard them since they do not provide any useful insights.\n",
    "\n",
    "Additionally, image analysis is not in the scope of this review, so I will also ignore **image_url**.\n",
    "\n",
    "Finally, as mentioned in scope, I will delete VIN, since for the scope for of this project I will not be querying the car's history."
   ]
  },
  {
   "cell_type": "code",
   "execution_count": 3,
   "id": "fantastic-terminal",
   "metadata": {},
   "outputs": [],
   "source": [
    "# deleting useless columns.\n",
    "df = df.drop(columns = [\"id\", \"url\", \"image_url\", \"VIN\"])"
   ]
  },
  {
   "cell_type": "markdown",
   "id": "ultimate-looking",
   "metadata": {},
   "source": [
    "Next, I'll analyze and discover missing data points and find out what to do with these columns!"
   ]
  },
  {
   "cell_type": "markdown",
   "id": "b14c51f8-5585-4b3a-ae6f-ae0aa4186406",
   "metadata": {},
   "source": [
    "## Functions"
   ]
  },
  {
   "cell_type": "code",
   "execution_count": 153,
   "id": "10c3cd58-0945-43a5-8a1e-0a512f1d0d17",
   "metadata": {},
   "outputs": [],
   "source": [
    "# Defining function to encode a dataframe.\n",
    "\n",
    "def gen_array(dataframe : pd.DataFrame, cat_enc = None, num_enc = None) -> np.array:\n",
    "    '''\n",
    "    Generate a fit-ready array based on a dataframe.\n",
    "    \n",
    "    This function takes a pandas dataframe, separates it into \"object\" and \"not object\" slices.\n",
    "    The slices are fit to their respect encoders, and finally both slices are concatenated.\n",
    "    \n",
    "    If encoders are not provided, they are instantiated inside the function, otherwise, use the provided encoders.\n",
    "    \n",
    "    Parameters\n",
    "    ----------\n",
    "    dataframe : Pandas Dataframe object\n",
    "        Data structure to slice and encode.\n",
    "    cat_enc : Scikit-learn categorical encoder (OneHot, Ordinal, or other.)\n",
    "        Encoder for categorical data.\n",
    "    num_enc : Scikit-learn numerical encoder (StandardScaler, MinMaxScaler, or other.)\n",
    "        Encoder for numerical data.\n",
    "    Returns\n",
    "    -------\n",
    "    a numpy array with the encoded attributes\n",
    "    generated encoders\n",
    "    \n",
    "    '''\n",
    "    if cat_enc is None and num_enc is None:\n",
    "        \n",
    "        # creating encoders for the data\n",
    "        cat_encoder = OneHotEncoder(sparse = False) # setting Sparse to false because i'll need to concatenate the numerical variables later\n",
    "        num_encoder = StandardScaler()\n",
    "        \n",
    "        cat_encoder.fit(dataframe.select_dtypes(include = \"object\"))\n",
    "        num_encoder.fit(dataframe.select_dtypes(exclude = \"object\"))\n",
    "        \n",
    "    else:\n",
    "        cat_encoder = cat_enc\n",
    "        num_encoder = num_enc\n",
    "\n",
    "    cat_slice = cat_encoder.transform(dataframe.select_dtypes(include = \"object\"))\n",
    "    num_slice = num_encoder.transform(dataframe.select_dtypes(exclude = \"object\"))\n",
    "    \n",
    "    array = np.concatenate([cat_slice, num_slice], axis=1)\n",
    "    \n",
    "    return array, cat_encoder, num_encoder\n",
    "\n",
    "def inverse_trans(array : np.array, cat_enc, num_enc):\n",
    "    '''\n",
    "    Inverse an encoded array or arrays into it's parent un-encoded parent object or a Pandas Dataframe (more than one sample).\n",
    "    \n",
    "    This function takes an array as an input and performs inverse transforms to return the array to its parent components.\n",
    "    The design of this function is limited to the transformations made in the function gen_array, thus this function is EXTREMELY LIMITED IN SCOPE.\n",
    "    \n",
    "    Parameters\n",
    "    ----------\n",
    "    array : numpy array object\n",
    "        Data structure to slice and inverse_encode.\n",
    "    cat_enc : Scikit-learn categorical encoder (OneHot, Ordinal, or other.)\n",
    "        Encoder for categorical data.\n",
    "    num_enc : Scikit-learn numerical encoder (StandardScaler, MinMaxScaler, or other.)\n",
    "        Encoder for numerical data.   \n",
    "    Returns\n",
    "    -------\n",
    "    a numpy array with the inversed_encoded attributes\n",
    "    '''\n",
    "    cat_features = array[:,:-2]\n",
    "    num_features = array[:,-2:]\n",
    "    \n",
    "    if cat_features.shape[0] == 1:\n",
    "        \n",
    "        cat_features = cat_enc.inverse_transform(cat_features.reshape(1, -1))\n",
    "        num_features = num_enc.inverse_transform(num_features.reshape(1, -1))\n",
    "        \n",
    "        fin_array = np.concatenate([cat_features, num_features], axis=1)\n",
    "        \n",
    "        return fin_array\n",
    "        \n",
    "    else:\n",
    "        \n",
    "        cat_features = cat_enc.inverse_transform(cat_features)\n",
    "        num_features = num_enc.inverse_transform(num_features)\n",
    "        \n",
    "        fin_array = np.concatenate([cat_features, num_features], axis=1)\n",
    "        \n",
    "        return fin_array"
   ]
  },
  {
   "cell_type": "markdown",
   "id": "b5c77a99-891e-4f62-abcc-9327fd442209",
   "metadata": {},
   "source": [
    "# Data_exploration"
   ]
  },
  {
   "cell_type": "markdown",
   "id": "645714d3-4bc9-4b13-a8d4-9da9c7b905d5",
   "metadata": {},
   "source": [
    "## Handling_missing_data"
   ]
  },
  {
   "cell_type": "code",
   "execution_count": 5,
   "id": "positive-handle",
   "metadata": {},
   "outputs": [
    {
     "name": "stdout",
     "output_type": "stream",
     "text": [
      "<class 'pandas.core.frame.DataFrame'>\n",
      "RangeIndex: 426880 entries, 0 to 426879\n",
      "Data columns (total 22 columns):\n",
      " #   Column        Non-Null Count   Dtype  \n",
      "---  ------        --------------   -----  \n",
      " 0   region        426880 non-null  object \n",
      " 1   region_url    426880 non-null  object \n",
      " 2   price         426880 non-null  int64  \n",
      " 3   year          425675 non-null  float64\n",
      " 4   manufacturer  409234 non-null  object \n",
      " 5   model         421603 non-null  object \n",
      " 6   condition     252776 non-null  object \n",
      " 7   cylinders     249202 non-null  object \n",
      " 8   fuel          423867 non-null  object \n",
      " 9   odometer      422480 non-null  float64\n",
      " 10  title_status  418638 non-null  object \n",
      " 11  transmission  424324 non-null  object \n",
      " 12  drive         296313 non-null  object \n",
      " 13  size          120519 non-null  object \n",
      " 14  type          334022 non-null  object \n",
      " 15  paint_color   296677 non-null  object \n",
      " 16  description   426810 non-null  object \n",
      " 17  county        0 non-null       float64\n",
      " 18  state         426880 non-null  object \n",
      " 19  lat           420331 non-null  float64\n",
      " 20  long          420331 non-null  float64\n",
      " 21  posting_date  426812 non-null  object \n",
      "dtypes: float64(5), int64(1), object(16)\n",
      "memory usage: 71.7+ MB\n"
     ]
    }
   ],
   "source": [
    "df.info()"
   ]
  },
  {
   "cell_type": "code",
   "execution_count": null,
   "id": "sudden-genome",
   "metadata": {
    "jupyter": {
     "source_hidden": true
    },
    "tags": []
   },
   "outputs": [],
   "source": []
  },
  {
   "cell_type": "markdown",
   "id": "administrative-mercury",
   "metadata": {},
   "source": [
    "Df.info() provides a good insight into the missing information, but let's try a different way to see how much missing data do we really have"
   ]
  },
  {
   "cell_type": "code",
   "execution_count": 6,
   "id": "directed-directory",
   "metadata": {},
   "outputs": [
    {
     "data": {
      "text/html": [
       "<div>\n",
       "<style scoped>\n",
       "    .dataframe tbody tr th:only-of-type {\n",
       "        vertical-align: middle;\n",
       "    }\n",
       "\n",
       "    .dataframe tbody tr th {\n",
       "        vertical-align: top;\n",
       "    }\n",
       "\n",
       "    .dataframe thead th {\n",
       "        text-align: right;\n",
       "    }\n",
       "</style>\n",
       "<table border=\"1\" class=\"dataframe\">\n",
       "  <thead>\n",
       "    <tr style=\"text-align: right;\">\n",
       "      <th></th>\n",
       "      <th>region</th>\n",
       "      <th>region_url</th>\n",
       "      <th>price</th>\n",
       "      <th>year</th>\n",
       "      <th>manufacturer</th>\n",
       "      <th>model</th>\n",
       "      <th>condition</th>\n",
       "      <th>cylinders</th>\n",
       "      <th>fuel</th>\n",
       "      <th>odometer</th>\n",
       "      <th>...</th>\n",
       "      <th>drive</th>\n",
       "      <th>size</th>\n",
       "      <th>type</th>\n",
       "      <th>paint_color</th>\n",
       "      <th>description</th>\n",
       "      <th>county</th>\n",
       "      <th>state</th>\n",
       "      <th>lat</th>\n",
       "      <th>long</th>\n",
       "      <th>posting_date</th>\n",
       "    </tr>\n",
       "  </thead>\n",
       "  <tbody>\n",
       "    <tr>\n",
       "      <th>0</th>\n",
       "      <td>0.0</td>\n",
       "      <td>0.0</td>\n",
       "      <td>0.0</td>\n",
       "      <td>0.282281</td>\n",
       "      <td>4.133714</td>\n",
       "      <td>1.236179</td>\n",
       "      <td>40.785232</td>\n",
       "      <td>41.62247</td>\n",
       "      <td>0.705819</td>\n",
       "      <td>1.030735</td>\n",
       "      <td>...</td>\n",
       "      <td>30.586347</td>\n",
       "      <td>71.767476</td>\n",
       "      <td>21.752717</td>\n",
       "      <td>30.501078</td>\n",
       "      <td>0.016398</td>\n",
       "      <td>100.0</td>\n",
       "      <td>0.0</td>\n",
       "      <td>1.534155</td>\n",
       "      <td>1.534155</td>\n",
       "      <td>0.01593</td>\n",
       "    </tr>\n",
       "  </tbody>\n",
       "</table>\n",
       "<p>1 rows × 22 columns</p>\n",
       "</div>"
      ],
      "text/plain": [
       "   region  region_url  price      year  manufacturer     model  condition  \\\n",
       "0     0.0         0.0    0.0  0.282281      4.133714  1.236179  40.785232   \n",
       "\n",
       "   cylinders      fuel  odometer  ...      drive       size       type  \\\n",
       "0   41.62247  0.705819  1.030735  ...  30.586347  71.767476  21.752717   \n",
       "\n",
       "   paint_color  description  county  state       lat      long  posting_date  \n",
       "0    30.501078     0.016398   100.0    0.0  1.534155  1.534155       0.01593  \n",
       "\n",
       "[1 rows x 22 columns]"
      ]
     },
     "execution_count": 6,
     "metadata": {},
     "output_type": "execute_result"
    }
   ],
   "source": [
    "# calculating all missing data points and normalizing to df size\n",
    "(df.isna().sum() * 100 / df.shape[0]).to_frame().T # setting the count as an horizontally-oriented frame for better visualization"
   ]
  },
  {
   "cell_type": "code",
   "execution_count": null,
   "id": "domestic-render",
   "metadata": {
    "jupyter": {
     "source_hidden": true
    },
    "tags": []
   },
   "outputs": [],
   "source": []
  },
  {
   "cell_type": "markdown",
   "id": "complete-stick",
   "metadata": {},
   "source": [
    "As we can see, columns such as:\n",
    "* County -> 100% missing data\n",
    "* size -> 71.76% missing data\n",
    "\n",
    "have large amounts of missing data that we can outright consider impossible to fix, so we will just delete them."
   ]
  },
  {
   "cell_type": "code",
   "execution_count": 7,
   "id": "tender-webmaster",
   "metadata": {},
   "outputs": [],
   "source": [
    "# I'll delete the columns with too much missing data to be recoverable\n",
    "df = df.drop(columns = [\"county\", \"size\"])"
   ]
  },
  {
   "cell_type": "code",
   "execution_count": 8,
   "id": "governing-fraud",
   "metadata": {},
   "outputs": [
    {
     "name": "stdout",
     "output_type": "stream",
     "text": [
      "<class 'pandas.core.frame.DataFrame'>\n",
      "RangeIndex: 426880 entries, 0 to 426879\n",
      "Data columns (total 20 columns):\n",
      " #   Column        Non-Null Count   Dtype  \n",
      "---  ------        --------------   -----  \n",
      " 0   region        426880 non-null  object \n",
      " 1   region_url    426880 non-null  object \n",
      " 2   price         426880 non-null  int64  \n",
      " 3   year          425675 non-null  float64\n",
      " 4   manufacturer  409234 non-null  object \n",
      " 5   model         421603 non-null  object \n",
      " 6   condition     252776 non-null  object \n",
      " 7   cylinders     249202 non-null  object \n",
      " 8   fuel          423867 non-null  object \n",
      " 9   odometer      422480 non-null  float64\n",
      " 10  title_status  418638 non-null  object \n",
      " 11  transmission  424324 non-null  object \n",
      " 12  drive         296313 non-null  object \n",
      " 13  type          334022 non-null  object \n",
      " 14  paint_color   296677 non-null  object \n",
      " 15  description   426810 non-null  object \n",
      " 16  state         426880 non-null  object \n",
      " 17  lat           420331 non-null  float64\n",
      " 18  long          420331 non-null  float64\n",
      " 19  posting_date  426812 non-null  object \n",
      "dtypes: float64(4), int64(1), object(15)\n",
      "memory usage: 65.1+ MB\n"
     ]
    }
   ],
   "source": [
    "# let's start exploring some of the remaining information to understand what kind of information do we have at hand\n",
    "## To begin with, let's start exploring REGION & REGION_URL\n",
    "df.info()"
   ]
  },
  {
   "cell_type": "code",
   "execution_count": 9,
   "id": "progressive-baptist",
   "metadata": {},
   "outputs": [
    {
     "data": {
      "text/plain": [
       "array(['prescott', 'fayetteville', 'florida keys',\n",
       "       'worcester / central MA', 'greensboro', 'hudson valley',\n",
       "       'medford-ashland', 'erie', 'el paso', 'bellingham'], dtype=object)"
      ]
     },
     "execution_count": 9,
     "metadata": {},
     "output_type": "execute_result"
    }
   ],
   "source": [
    "# Top 10 records in region\n",
    "df[\"region\"].unique()[:10]"
   ]
  },
  {
   "cell_type": "code",
   "execution_count": 10,
   "id": "tropical-superior",
   "metadata": {},
   "outputs": [
    {
     "data": {
      "text/plain": [
       "array(['https://prescott.craigslist.org', 'https://fayar.craigslist.org',\n",
       "       'https://keys.craigslist.org', 'https://worcester.craigslist.org',\n",
       "       'https://greensboro.craigslist.org',\n",
       "       'https://hudsonvalley.craigslist.org',\n",
       "       'https://medford.craigslist.org', 'https://erie.craigslist.org',\n",
       "       'https://elpaso.craigslist.org',\n",
       "       'https://bellingham.craigslist.org'], dtype=object)"
      ]
     },
     "execution_count": 10,
     "metadata": {},
     "output_type": "execute_result"
    }
   ],
   "source": [
    "# top 10 records in region URL\n",
    "df[\"region_url\"].unique()[:10]"
   ]
  },
  {
   "cell_type": "markdown",
   "id": "differential-example",
   "metadata": {},
   "source": [
    "In general, region and region_url seems to be related to the seller's location and both hold pretty much the same information.\n",
    "So, for the time being, I will delete only one of them.\n",
    "\n",
    "Additionally, since region already holds geographical information, we will discard lat and long."
   ]
  },
  {
   "cell_type": "code",
   "execution_count": 11,
   "id": "finished-expression",
   "metadata": {},
   "outputs": [],
   "source": [
    "df = df.drop(columns=[\"region_url\", \"lat\", \"long\"])"
   ]
  },
  {
   "cell_type": "markdown",
   "id": "statewide-retreat",
   "metadata": {},
   "source": [
    "Now, before we continue exploring the rest of columns with missing data or with possibly relevant features, let's verify if the description column holds any easily extractable information.\n",
    "\n",
    "Remember we won't any in-depth NLP tasks for this project"
   ]
  },
  {
   "cell_type": "code",
   "execution_count": 12,
   "id": "phantom-manhattan",
   "metadata": {},
   "outputs": [
    {
     "data": {
      "text/plain": [
       "array([nan,\n",
       "       \"Carvana is the safer way to buy a car During these uncertain times, Carvana is dedicated to ensuring safety for all of our customers. In addition to our 100% online shopping and selling experience that allows all customers to buy and trade their cars without ever leaving the safety of their house, we’re providing touchless delivery that make all aspects of our process even safer. Now, you can get the car you want, and trade in your old one, while avoiding person-to-person contact with our friendly advocates. There are some things that can’t be put off. And if buying a car is one of them, know that we’re doing everything we can to keep you keep moving while continuing to put your health safety, and happiness first. Vehicle Stock# 2000909557📱 Want to instantly check this car’s availability? Call us at  334-758-9176Just text that stock number to 855-976-4304 or head to http://www.carvanaauto.com/7171237-74502 and plug it into the search bar!Get PRE-QUALIFIED for your auto loan in 2 minutes - no hit to your credit:http://finance.carvanaauto.com/7171237-74502Looking for more cars like this one? We have 63 GMC Sierra 1500 Crew Cab in stock for as low as $23990!Why buy with Carvana? We have one standard: the highest. Take a look at just some of the qualifications all of our cars must meet before we list them.150-POINT INSPECTION: We put each vehicle through a 150-point inspection so that you can be 100% confident in its quality and safety. See everything that goes into our inspections at:http://www.carvanaauto.com/7171237-74502NO REPORTED ACCIDENTS: We do not sell cars that have been in a reported accident or have a frame or structural damage.7 DAY TEST OWN MONEY BACK GUARANTEE: Every Carvana car comes with a 7-day money-back guarantee. Why? It takes more than 15-minutes to make a decision on your next car. Learn more about test owning at http://about.carvanaauto.comFLEXIBLE FINANCING, TRADE INS WELCOME: We’re all about real-time financing without the middle man. Need financing? Pick a combination of down and monthly payments that work for you. Have a trade-in? We’ll give you a value in 2 minutes. Check out everything about our financing at:http://finance.carvanaauto.com/7171237-74502COST SAVINGS: Carvana's business model has fewer expenses and no bloated fees compared to your local dealership. See how much we can save you at http://about.carvanaauto.comPREMIUM DETAIL: We go the extra mile so that your car is looking as good as new. There are a lot of specifics that we won’t list here (we wash, clean, buff, paint, polish, wax, seal), but trust us that when your car arrives, it’s going to look sweet.Vehicle Info for Stock# 2000909557Trim: SLT Pickup 4D 5 3/4 ft pickupMileage: 57k milesExterior Color: WhiteInterior Color: Lt. BrownEngine: EcoTec3 5.3L Flex Fuel V8 355hp 383ft. lbs.Drive: Two Wheel DriveTransmission: VIN: 3GTP1VEC4EG551563Dealer Disclosure: Price excludes tax, title, and registration (which we handle for you).Disclaimer: You agree that by providing your phone number, Carvana, or Carvana’s authorized representatives*, may call and/or send text messages (including by using equipment to automatically dial telephone numbers) about your interest in a purchase, for marketing/sales purposes, or for any other servicing or informational purpose related to your account. You do not have to consent to receiving calls or texts to purchase from Carvana. While every reasonable effort is made to ensure the accuracy of the information for this GMC Sierra 1500 Crew Cab, we are not responsible for any errors or omissions contained in this ad. Please verify any information in question with Carvana at 334-758-9176*Including, but not limited to, Bridgecrest Credit Company, GO Financial and SilverRock Automotive.*GMC* *Sierra* *1500* *Crew* *Cab* *Base* *GMC* *Sierra* *1500* *Crew* *Cab* *SLE* *GMC* *Sierra* *1500* *Crew* *Cab* *SLT* *GMC* *Sierra* *1500* *Crew* *Cab* *Denali* *GMC* *Sierra* *1500* *Crew* *Cab* *Work* *Truck* *4x2* *GMC* *Sierra* *1500* *Crew* *Cab* *4x4* *Crew* *Cab* *GMC* *Sierra* *1500* *Crew* *Cab* *Regular* *Cab* *Extended* *Cab* *Truck* 2022  2021  2020  2019  2018  2017  2016  2015  2014  2013  2012  2011  2010  2009  2008  2007  2006  2005  2004  2003  2002  2001  2000   22  21    19  18  17  16  15  14  13  12  11  10  09  08  07  06  05  04  03  02  01  00\"],\n",
       "      dtype=object)"
      ]
     },
     "execution_count": 12,
     "metadata": {},
     "output_type": "execute_result"
    }
   ],
   "source": [
    "df[\"description\"].unique()[:2]"
   ]
  },
  {
   "cell_type": "code",
   "execution_count": null,
   "id": "related-circle",
   "metadata": {
    "jupyter": {
     "source_hidden": true
    },
    "tags": []
   },
   "outputs": [],
   "source": []
  },
  {
   "cell_type": "markdown",
   "id": "royal-disorder",
   "metadata": {},
   "source": [
    "Unfortunately it seems the description field holds a lot of information, but at this point i'm not considering using BERT for Named Entity Recognizition, Sentiment Analysis, or any other kind of relevant NLP task.\n",
    "\n",
    "As such, I will delete description."
   ]
  },
  {
   "cell_type": "code",
   "execution_count": 13,
   "id": "liquid-balloon",
   "metadata": {},
   "outputs": [],
   "source": [
    "df = df.drop(columns = \"description\")"
   ]
  },
  {
   "cell_type": "markdown",
   "id": "radical-cruise",
   "metadata": {},
   "source": [
    "Now, **price** is our target so we will not perform any analysis in it.\n",
    "\n",
    "Let's explore some more features!"
   ]
  },
  {
   "cell_type": "code",
   "execution_count": 14,
   "id": "studied-candidate",
   "metadata": {},
   "outputs": [
    {
     "data": {
      "text/plain": [
       "NaN          174104\n",
       "good         121456\n",
       "excellent    101467\n",
       "like new      21178\n",
       "fair           6769\n",
       "new            1305\n",
       "salvage         601\n",
       "Name: condition, dtype: int64"
      ]
     },
     "execution_count": 14,
     "metadata": {},
     "output_type": "execute_result"
    }
   ],
   "source": [
    "# Analyzing condition\n",
    "df[\"condition\"].value_counts(dropna = False)"
   ]
  },
  {
   "cell_type": "code",
   "execution_count": 15,
   "id": "awful-anatomy",
   "metadata": {},
   "outputs": [
    {
     "data": {
      "text/plain": [
       "Not relevant    174104\n",
       "good            121456\n",
       "excellent       101467\n",
       "like new         21178\n",
       "fair              6769\n",
       "new               1305\n",
       "salvage            601\n",
       "Name: condition, dtype: int64"
      ]
     },
     "execution_count": 15,
     "metadata": {},
     "output_type": "execute_result"
    }
   ],
   "source": [
    "# It seems condition is a simply a string describing the state of the vehicle, possibly from a dropdown menu. \n",
    "# In this case, instead of getting rid of the non-provided data we can fill with a placeholder string\n",
    "df[\"condition\"] = df[\"condition\"].fillna(value = \"Not relevant\")\n",
    "df[\"condition\"].value_counts(dropna = False)"
   ]
  },
  {
   "cell_type": "code",
   "execution_count": 16,
   "id": "cathedral-keeping",
   "metadata": {},
   "outputs": [
    {
     "data": {
      "text/plain": [
       "NaN             177678\n",
       "6 cylinders      94169\n",
       "4 cylinders      77642\n",
       "8 cylinders      72062\n",
       "5 cylinders       1712\n",
       "10 cylinders      1455\n",
       "other             1298\n",
       "3 cylinders        655\n",
       "12 cylinders       209\n",
       "Name: cylinders, dtype: int64"
      ]
     },
     "execution_count": 16,
     "metadata": {},
     "output_type": "execute_result"
    }
   ],
   "source": [
    "df[\"cylinders\"].value_counts(dropna = False)"
   ]
  },
  {
   "cell_type": "code",
   "execution_count": null,
   "id": "apparent-watts",
   "metadata": {
    "jupyter": {
     "source_hidden": true
    },
    "tags": []
   },
   "outputs": [],
   "source": []
  },
  {
   "cell_type": "markdown",
   "id": "passive-burke",
   "metadata": {},
   "source": [
    "For simplicity's sake, I'll provide cylinders the same treatment as \"condition\"."
   ]
  },
  {
   "cell_type": "code",
   "execution_count": 17,
   "id": "underlying-parameter",
   "metadata": {},
   "outputs": [
    {
     "data": {
      "text/plain": [
       "Not relevant    177678\n",
       "6 cylinders      94169\n",
       "4 cylinders      77642\n",
       "8 cylinders      72062\n",
       "5 cylinders       1712\n",
       "10 cylinders      1455\n",
       "other             1298\n",
       "3 cylinders        655\n",
       "12 cylinders       209\n",
       "Name: cylinders, dtype: int64"
      ]
     },
     "execution_count": 17,
     "metadata": {},
     "output_type": "execute_result"
    }
   ],
   "source": [
    "df[\"cylinders\"] = df[\"cylinders\"].fillna(value = \"Not relevant\")\n",
    "df[\"cylinders\"].value_counts(dropna = False)"
   ]
  },
  {
   "cell_type": "code",
   "execution_count": 18,
   "id": "subsequent-bible",
   "metadata": {},
   "outputs": [
    {
     "data": {
      "text/plain": [
       "4wd    131904\n",
       "NaN    130567\n",
       "fwd    105517\n",
       "rwd     58892\n",
       "Name: drive, dtype: int64"
      ]
     },
     "execution_count": 18,
     "metadata": {},
     "output_type": "execute_result"
    }
   ],
   "source": [
    "df[\"drive\"].value_counts(dropna = False)"
   ]
  },
  {
   "cell_type": "code",
   "execution_count": 19,
   "id": "innovative-starter",
   "metadata": {},
   "outputs": [
    {
     "data": {
      "text/plain": [
       "NaN            92858\n",
       "sedan          87056\n",
       "SUV            77284\n",
       "pickup         43510\n",
       "truck          35279\n",
       "other          22110\n",
       "coupe          19204\n",
       "hatchback      16598\n",
       "wagon          10751\n",
       "van             8548\n",
       "convertible     7731\n",
       "mini-van        4825\n",
       "offroad          609\n",
       "bus              517\n",
       "Name: type, dtype: int64"
      ]
     },
     "execution_count": 19,
     "metadata": {},
     "output_type": "execute_result"
    }
   ],
   "source": [
    "df[\"type\"].value_counts(dropna = False)"
   ]
  },
  {
   "cell_type": "code",
   "execution_count": 20,
   "id": "material-rocket",
   "metadata": {},
   "outputs": [
    {
     "data": {
      "text/plain": [
       "NaN       130203\n",
       "white      79285\n",
       "black      62861\n",
       "silver     42970\n",
       "blue       31223\n",
       "red        30473\n",
       "grey       24416\n",
       "green       7343\n",
       "custom      6700\n",
       "brown       6593\n",
       "yellow      2142\n",
       "orange      1984\n",
       "purple       687\n",
       "Name: paint_color, dtype: int64"
      ]
     },
     "execution_count": 20,
     "metadata": {},
     "output_type": "execute_result"
    }
   ],
   "source": [
    "df[\"paint_color\"].value_counts(dropna = False)"
   ]
  },
  {
   "cell_type": "code",
   "execution_count": 21,
   "id": "unnecessary-attachment",
   "metadata": {},
   "outputs": [
    {
     "data": {
      "text/plain": [
       "gas         356209\n",
       "other        30728\n",
       "diesel       30062\n",
       "hybrid        5170\n",
       "NaN           3013\n",
       "electric      1698\n",
       "Name: fuel, dtype: int64"
      ]
     },
     "execution_count": 21,
     "metadata": {},
     "output_type": "execute_result"
    }
   ],
   "source": [
    "df[\"fuel\"].value_counts(dropna = False)"
   ]
  },
  {
   "cell_type": "code",
   "execution_count": 22,
   "id": "danish-adventure",
   "metadata": {},
   "outputs": [
    {
     "data": {
      "text/plain": [
       "clean         405117\n",
       "NaN             8242\n",
       "rebuilt         7219\n",
       "salvage         3868\n",
       "lien            1422\n",
       "missing          814\n",
       "parts only       198\n",
       "Name: title_status, dtype: int64"
      ]
     },
     "execution_count": 22,
     "metadata": {},
     "output_type": "execute_result"
    }
   ],
   "source": [
    "df[\"title_status\"].value_counts(dropna = False)"
   ]
  },
  {
   "cell_type": "code",
   "execution_count": 23,
   "id": "perceived-buying",
   "metadata": {},
   "outputs": [
    {
     "data": {
      "text/plain": [
       "automatic    336524\n",
       "other         62682\n",
       "manual        25118\n",
       "NaN            2556\n",
       "Name: transmission, dtype: int64"
      ]
     },
     "execution_count": 23,
     "metadata": {},
     "output_type": "execute_result"
    }
   ],
   "source": [
    "df[\"transmission\"].value_counts(dropna = False)"
   ]
  },
  {
   "cell_type": "code",
   "execution_count": null,
   "id": "personal-financing",
   "metadata": {
    "jupyter": {
     "source_hidden": true
    },
    "tags": []
   },
   "outputs": [],
   "source": []
  },
  {
   "cell_type": "markdown",
   "id": "supported-nature",
   "metadata": {},
   "source": [
    "Drive, type, fuel, paint_color and the like have similarly high amounts of missing data, however we won't want to discard them as they might hold relevance for many sellers, so we will give them the same treatment as both condition and cylinders."
   ]
  },
  {
   "cell_type": "code",
   "execution_count": 24,
   "id": "temporal-jones",
   "metadata": {},
   "outputs": [],
   "source": [
    "df[\"drive\"] = df[\"drive\"].fillna(value = \"Not relevant\")\n",
    "df[\"type\"] = df[\"type\"].fillna(value = \"Not relevant\")\n",
    "df[\"paint_color\"] = df[\"paint_color\"].fillna(value = \"Not relevant\")\n",
    "df[\"fuel\"] = df[\"fuel\"].fillna(value = \"Not relevant\")\n",
    "df[\"title_status\"] = df[\"title_status\"].fillna(value = \"Not relevant\")\n",
    "df[\"transmission\"] = df[\"transmission\"].fillna(value = \"Not relevant\")"
   ]
  },
  {
   "cell_type": "code",
   "execution_count": 25,
   "id": "banned-example",
   "metadata": {},
   "outputs": [
    {
     "data": {
      "text/html": [
       "<div>\n",
       "<style scoped>\n",
       "    .dataframe tbody tr th:only-of-type {\n",
       "        vertical-align: middle;\n",
       "    }\n",
       "\n",
       "    .dataframe tbody tr th {\n",
       "        vertical-align: top;\n",
       "    }\n",
       "\n",
       "    .dataframe thead th {\n",
       "        text-align: right;\n",
       "    }\n",
       "</style>\n",
       "<table border=\"1\" class=\"dataframe\">\n",
       "  <thead>\n",
       "    <tr style=\"text-align: right;\">\n",
       "      <th></th>\n",
       "      <th>region</th>\n",
       "      <th>price</th>\n",
       "      <th>year</th>\n",
       "      <th>manufacturer</th>\n",
       "      <th>model</th>\n",
       "      <th>condition</th>\n",
       "      <th>cylinders</th>\n",
       "      <th>fuel</th>\n",
       "      <th>odometer</th>\n",
       "      <th>title_status</th>\n",
       "      <th>transmission</th>\n",
       "      <th>drive</th>\n",
       "      <th>type</th>\n",
       "      <th>paint_color</th>\n",
       "      <th>state</th>\n",
       "      <th>posting_date</th>\n",
       "    </tr>\n",
       "  </thead>\n",
       "  <tbody>\n",
       "    <tr>\n",
       "      <th>0</th>\n",
       "      <td>0.0</td>\n",
       "      <td>0.0</td>\n",
       "      <td>0.282281</td>\n",
       "      <td>4.133714</td>\n",
       "      <td>1.236179</td>\n",
       "      <td>0.0</td>\n",
       "      <td>0.0</td>\n",
       "      <td>0.0</td>\n",
       "      <td>1.030735</td>\n",
       "      <td>0.0</td>\n",
       "      <td>0.0</td>\n",
       "      <td>0.0</td>\n",
       "      <td>0.0</td>\n",
       "      <td>0.0</td>\n",
       "      <td>0.0</td>\n",
       "      <td>0.01593</td>\n",
       "    </tr>\n",
       "  </tbody>\n",
       "</table>\n",
       "</div>"
      ],
      "text/plain": [
       "   region  price      year  manufacturer     model  condition  cylinders  \\\n",
       "0     0.0    0.0  0.282281      4.133714  1.236179        0.0        0.0   \n",
       "\n",
       "   fuel  odometer  title_status  transmission  drive  type  paint_color  \\\n",
       "0   0.0  1.030735           0.0           0.0    0.0   0.0          0.0   \n",
       "\n",
       "   state  posting_date  \n",
       "0    0.0       0.01593  "
      ]
     },
     "execution_count": 25,
     "metadata": {},
     "output_type": "execute_result"
    }
   ],
   "source": [
    "# Let's recalculate the missing to see how much we have done\n",
    "(df.isna().sum() * 100 / df.shape[0]).to_frame().T"
   ]
  },
  {
   "cell_type": "markdown",
   "id": "adjustable-dodge",
   "metadata": {},
   "source": [
    "We have gotten rid of remarkable amount of missing data, but we still have some missing data. At this point I evaluated my options:\n",
    "\n",
    "The largest amount of remaining missing data comes from \"MANUFACTURER\". Now, in general terms this is considered a CRITICAL FEATURE: Regardless of statistical signals, due to SME everyone knows you can't possibly buy a car without knowing its manufacturer.\n",
    "\n",
    "Let's see if it's possible to infer the manufacturer from the model."
   ]
  },
  {
   "cell_type": "code",
   "execution_count": 26,
   "id": "identical-evaluation",
   "metadata": {},
   "outputs": [
    {
     "data": {
      "text/plain": [
       "Scion iM Hatchback 4D             640\n",
       "smart fortwo Passion Hatchback    168\n",
       "Genesis G80 3.8 Sedan 4D          163\n",
       "Freightliner Cascadia             153\n",
       "International 4300                148\n",
       "                                 ... \n",
       "1996 civic                          1\n",
       "1975 Triumph Spitfire               1\n",
       "crysler sebring                     1\n",
       "amc concord wagon                   1\n",
       "HINO 258 ALP                        1\n",
       "Name: model, Length: 6055, dtype: int64"
      ]
     },
     "execution_count": 26,
     "metadata": {},
     "output_type": "execute_result"
    }
   ],
   "source": [
    "missing_manf = df[df[\"manufacturer\"].isna()] # creating a new df just to explore this posibility\n",
    "missing_manf[\"model\"].value_counts()"
   ]
  },
  {
   "cell_type": "markdown",
   "id": "about-houston",
   "metadata": {},
   "source": [
    "It seems we have 6055 different \"models\" to possibly infer the manufacturer. Although technically possible, I will consider this **unfeasible** for a one person, exploratory project. As such, **I have decided to delete all the rows where we have no manufacturer information**"
   ]
  },
  {
   "cell_type": "code",
   "execution_count": 27,
   "id": "dedicated-runner",
   "metadata": {},
   "outputs": [],
   "source": [
    "del missing_manf # let's get rid of this memory space\n",
    "df = df.dropna(subset = [\"manufacturer\"]) # deleting all rows where there is no manufacturer information"
   ]
  },
  {
   "cell_type": "code",
   "execution_count": 28,
   "id": "guided-characterization",
   "metadata": {},
   "outputs": [
    {
     "data": {
      "text/html": [
       "<div>\n",
       "<style scoped>\n",
       "    .dataframe tbody tr th:only-of-type {\n",
       "        vertical-align: middle;\n",
       "    }\n",
       "\n",
       "    .dataframe tbody tr th {\n",
       "        vertical-align: top;\n",
       "    }\n",
       "\n",
       "    .dataframe thead th {\n",
       "        text-align: right;\n",
       "    }\n",
       "</style>\n",
       "<table border=\"1\" class=\"dataframe\">\n",
       "  <thead>\n",
       "    <tr style=\"text-align: right;\">\n",
       "      <th></th>\n",
       "      <th>region</th>\n",
       "      <th>price</th>\n",
       "      <th>year</th>\n",
       "      <th>manufacturer</th>\n",
       "      <th>model</th>\n",
       "      <th>condition</th>\n",
       "      <th>cylinders</th>\n",
       "      <th>fuel</th>\n",
       "      <th>odometer</th>\n",
       "      <th>title_status</th>\n",
       "      <th>transmission</th>\n",
       "      <th>drive</th>\n",
       "      <th>type</th>\n",
       "      <th>paint_color</th>\n",
       "      <th>state</th>\n",
       "      <th>posting_date</th>\n",
       "    </tr>\n",
       "  </thead>\n",
       "  <tbody>\n",
       "    <tr>\n",
       "      <th>0</th>\n",
       "      <td>0.0</td>\n",
       "      <td>0.0</td>\n",
       "      <td>0.001466</td>\n",
       "      <td>0.0</td>\n",
       "      <td>1.272622</td>\n",
       "      <td>0.0</td>\n",
       "      <td>0.0</td>\n",
       "      <td>0.0</td>\n",
       "      <td>1.014334</td>\n",
       "      <td>0.0</td>\n",
       "      <td>0.0</td>\n",
       "      <td>0.0</td>\n",
       "      <td>0.0</td>\n",
       "      <td>0.0</td>\n",
       "      <td>0.0</td>\n",
       "      <td>0.0</td>\n",
       "    </tr>\n",
       "  </tbody>\n",
       "</table>\n",
       "</div>"
      ],
      "text/plain": [
       "   region  price      year  manufacturer     model  condition  cylinders  \\\n",
       "0     0.0    0.0  0.001466           0.0  1.272622        0.0        0.0   \n",
       "\n",
       "   fuel  odometer  title_status  transmission  drive  type  paint_color  \\\n",
       "0   0.0  1.014334           0.0           0.0    0.0   0.0          0.0   \n",
       "\n",
       "   state  posting_date  \n",
       "0    0.0           0.0  "
      ]
     },
     "execution_count": 28,
     "metadata": {},
     "output_type": "execute_result"
    }
   ],
   "source": [
    "# Let's recalculate the missing to see how much we have done\n",
    "(df.isna().sum() * 100 / df.shape[0]).to_frame().T"
   ]
  },
  {
   "cell_type": "markdown",
   "id": "relative-opening",
   "metadata": {},
   "source": [
    "At this point I don't there's any other actionable in regards to missing data, so I will drop whatever is left."
   ]
  },
  {
   "cell_type": "code",
   "execution_count": 29,
   "id": "sharing-niger",
   "metadata": {},
   "outputs": [],
   "source": [
    "df = df.dropna()"
   ]
  },
  {
   "cell_type": "markdown",
   "id": "b4e3a8c3-14cf-4fe0-96d9-89f192ed9ff4",
   "metadata": {},
   "source": [
    "## Exploratory_data_analysis"
   ]
  },
  {
   "cell_type": "markdown",
   "id": "d2a09033-5cf0-49c5-af18-f313311911a4",
   "metadata": {},
   "source": [
    "To start the exploratory data analysis, let's explore how does our target variable (price) is distributed!\n",
    "\n",
    "As always, remember that we can only perform our analysis on the split data!"
   ]
  },
  {
   "cell_type": "code",
   "execution_count": 30,
   "id": "10984947-a8e7-4748-8b27-1a6885fcf0cc",
   "metadata": {},
   "outputs": [
    {
     "data": {
      "image/png": "[encoded data removed]",
      "text/plain": [
       "<Figure size 1440x432 with 1 Axes>"
      ]
     },
     "metadata": {
      "needs_background": "light"
     },
     "output_type": "display_data"
    }
   ],
   "source": [
    "plt.figure(figsize=(20,6))\n",
    "sns.histplot(data = df[\"price\"], bins = 20)\n",
    "plt.ticklabel_format(style='plain', axis='x')"
   ]
  },
  {
   "cell_type": "markdown",
   "id": "f430584e-ce5f-4228-992d-89e6708953de",
   "metadata": {},
   "source": [
    "Strangely enough we can see that something's with how our data is being represented. Why is our X axis going so far away? At first glance it seems we have some massive **OUTLIERS** that are preventing an accurate representation of the data.\n",
    "\n",
    "At this point, and based on personal criteria, I decided to visualize an outlier as **any vehicle worth more than 50,000**."
   ]
  },
  {
   "cell_type": "code",
   "execution_count": 31,
   "id": "bac9f22e-4ae8-46d1-ab32-f3d1475995f8",
   "metadata": {},
   "outputs": [
    {
     "data": {
      "text/plain": [
       "2.780313241623175"
      ]
     },
     "execution_count": 31,
     "metadata": {},
     "output_type": "execute_result"
    }
   ],
   "source": [
    "# Let's find out how many outliers we have, as a percentage\n",
    "df[\"price\"][df[\"price\"] > 50000].shape[0] / df.shape[0] * 100"
   ]
  },
  {
   "cell_type": "markdown",
   "id": "035d4dc2-f613-4d8b-98aa-9cb4cd11014c",
   "metadata": {},
   "source": [
    "Based on these results we can say that 2.78% of our data consists of outliers. In this respect, and considering my personal definition of outliers in regards to price, **I will delete all records for vehicles whose prices is above 50,000**. These prices are either typos, placeholders, or vehicles that cannot be trivially valued (classics, restorations, etc)."
   ]
  },
  {
   "cell_type": "code",
   "execution_count": 32,
   "id": "6ad9d744-0308-474d-ac84-02e2d2f2ce86",
   "metadata": {},
   "outputs": [],
   "source": [
    "df = df[df[\"price\"] < 50000]"
   ]
  },
  {
   "cell_type": "markdown",
   "id": "ee35c667-a8e2-486a-97dc-5b8b95fc7f57",
   "metadata": {},
   "source": [
    "I'll also do an additional sanity check and see how many vehicles are worth less than 1000 USD. I'll consider vehicles below 1k outliers if they are less than 5% of the remaining info."
   ]
  },
  {
   "cell_type": "code",
   "execution_count": 33,
   "id": "83d1722c-1e66-487a-92fd-0420e7804ead",
   "metadata": {},
   "outputs": [
    {
     "data": {
      "text/plain": [
       "10.514575920594615"
      ]
     },
     "execution_count": 33,
     "metadata": {},
     "output_type": "execute_result"
    }
   ],
   "source": [
    "df[df[\"price\"] < 1000].shape[0] / df.shape[0] * 100"
   ]
  },
  {
   "cell_type": "markdown",
   "id": "9137c462-d419-4f15-b317-a2f0e063e205",
   "metadata": {},
   "source": [
    "It's a difficult decision since **10%** of ALL samples are below 1,000 USD.\n",
    "\n",
    "After thoughtful consideration I decided to eliminate these samples because:\n",
    "* Vehicles worth / being sold at less than 1,000 USD are mostly broken cars or vehicles with major faults\n",
    "* There's a high possibility these are typos here (put 900 instead of 9,000) but this cannot be corrected if true.\n",
    "\n",
    "Among other things. As such, I will **delete ALL VEHICLES WITH A LISTED SALES PRICE OF LESS THAN 1,000 USD**"
   ]
  },
  {
   "cell_type": "code",
   "execution_count": 34,
   "id": "684d47bb-7aaf-4077-bb5b-aedf2c418d76",
   "metadata": {},
   "outputs": [],
   "source": [
    "df = df[df[\"price\"] > 1000]"
   ]
  },
  {
   "cell_type": "code",
   "execution_count": 35,
   "id": "1c0b3544-9b49-41a1-9048-0a6d0d3f0e87",
   "metadata": {},
   "outputs": [
    {
     "data": {
      "image/png": "[encoded data removed]",
      "text/plain": [
       "<Figure size 1440x432 with 1 Axes>"
      ]
     },
     "metadata": {
      "needs_background": "light"
     },
     "output_type": "display_data"
    }
   ],
   "source": [
    "# Let's try visualizing the price distribution now that are rid of outliers \n",
    "plt.figure(figsize=(20,6))\n",
    "ax = sns.histplot(data = df[\"price\"], bins = 30, kde = True, stat = \"probability\")\n",
    "# adding ticks every 5,000 USD\n",
    "ax.xaxis.set_major_locator(MultipleLocator(2500)) "
   ]
  },
  {
   "cell_type": "markdown",
   "id": "2d6b67c7-9a25-4a26-8843-1d322877f99e",
   "metadata": {},
   "source": [
    "As it happens with most price related distributions, we can see that the majority of sales / prices are on the left side, cheaper side. In particular, ~42% of sales are below 10,000 USD. A  mental sanity check says this is reasonable as these are used vehicles.\n",
    "\n",
    "Another interesting insight is that, despite the right-skew of the distribution, the descent or in other words, how far the data goes to the other side, is not very steep. I interpret this as good because it seems we have a captured and understood the underlying behaviour of the data.\n",
    "\n",
    "Now, my next step would to dive deeper into some of the features and see what else we can find and learn!"
   ]
  },
  {
   "cell_type": "code",
   "execution_count": 36,
   "id": "dependent-rolling",
   "metadata": {},
   "outputs": [
    {
     "name": "stdout",
     "output_type": "stream",
     "text": [
      "<class 'pandas.core.frame.DataFrame'>\n",
      "Int64Index: 346855 entries, 27 to 426879\n",
      "Data columns (total 16 columns):\n",
      " #   Column        Non-Null Count   Dtype  \n",
      "---  ------        --------------   -----  \n",
      " 0   region        346855 non-null  object \n",
      " 1   price         346855 non-null  int64  \n",
      " 2   year          346855 non-null  float64\n",
      " 3   manufacturer  346855 non-null  object \n",
      " 4   model         346855 non-null  object \n",
      " 5   condition     346855 non-null  object \n",
      " 6   cylinders     346855 non-null  object \n",
      " 7   fuel          346855 non-null  object \n",
      " 8   odometer      346855 non-null  float64\n",
      " 9   title_status  346855 non-null  object \n",
      " 10  transmission  346855 non-null  object \n",
      " 11  drive         346855 non-null  object \n",
      " 12  type          346855 non-null  object \n",
      " 13  paint_color   346855 non-null  object \n",
      " 14  state         346855 non-null  object \n",
      " 15  posting_date  346855 non-null  object \n",
      "dtypes: float64(2), int64(1), object(13)\n",
      "memory usage: 45.0+ MB\n"
     ]
    }
   ],
   "source": [
    "df.info()"
   ]
  },
  {
   "cell_type": "code",
   "execution_count": null,
   "id": "420aa4ad-05db-4cb4-a929-29c4f7e2f6a8",
   "metadata": {
    "jupyter": {
     "source_hidden": true
    },
    "tags": []
   },
   "outputs": [],
   "source": []
  },
  {
   "cell_type": "markdown",
   "id": "surprising-spiritual",
   "metadata": {},
   "source": [
    "Although most of our data is in text strings, let's try running a correlation analysis to see any / importance of the few numerical features we have"
   ]
  },
  {
   "cell_type": "code",
   "execution_count": 37,
   "id": "6735685c-ee09-45bb-bc9f-0f9118c79783",
   "metadata": {},
   "outputs": [
    {
     "data": {
      "text/plain": [
       "<AxesSubplot:>"
      ]
     },
     "execution_count": 37,
     "metadata": {},
     "output_type": "execute_result"
    },
    {
     "data": {
      "image/png": "[encoded data removed]",
      "text/plain": [
       "<Figure size 1440x432 with 2 Axes>"
      ]
     },
     "metadata": {
      "needs_background": "light"
     },
     "output_type": "display_data"
    }
   ],
   "source": [
    "plt.figure(figsize=(20,6))\n",
    "sns.heatmap(df.corr(), annot = True, cmap=\"PuOr\")"
   ]
  },
  {
   "cell_type": "markdown",
   "id": "8d1ae05f-55a0-46c3-b6f4-01e3593962c9",
   "metadata": {},
   "source": [
    "These preliminary observations are interesting and the results for odometer align with one would expect! That is, the more a car has been on the road, the less it is worth.\n",
    "\n",
    "Nevertheless, there is a problem with year here. Year's correlation is OK, but the direction is counter to logic. The problem might stem that, since these records do not belong a specific year, the car's manufacturing year isn't the most accurate metric for the cars age. In this case we need to calculate a proxy for the vehicles age."
   ]
  },
  {
   "cell_type": "code",
   "execution_count": 38,
   "id": "12b86c35-8806-4623-9b16-0690009b81e8",
   "metadata": {},
   "outputs": [
    {
     "data": {
      "text/plain": [
       "27       2021-05-04 17:31:18+00:00\n",
       "28       2021-05-04 17:31:08+00:00\n",
       "29       2021-05-04 17:31:25+00:00\n",
       "30       2021-05-04 15:41:31+00:00\n",
       "31       2021-05-03 19:02:03+00:00\n",
       "                    ...           \n",
       "426875   2021-04-04 09:21:31+00:00\n",
       "426876   2021-04-04 09:21:29+00:00\n",
       "426877   2021-04-04 09:21:17+00:00\n",
       "426878   2021-04-04 09:21:11+00:00\n",
       "426879   2021-04-04 09:21:07+00:00\n",
       "Name: posting_date, Length: 346855, dtype: datetime64[ns, UTC]"
      ]
     },
     "execution_count": 38,
     "metadata": {},
     "output_type": "execute_result"
    }
   ],
   "source": [
    "# first, we'll convert the posting date to an actual timestamp\n",
    "df[\"posting_date\"] = pd.to_datetime(df[\"posting_date\"], utc = True)\n",
    "df[\"posting_date\"]"
   ]
  },
  {
   "cell_type": "code",
   "execution_count": 39,
   "id": "2e786ffd-0c2f-4cbf-9afe-09a0fc9bb4d8",
   "metadata": {},
   "outputs": [
    {
     "data": {
      "text/plain": [
       "3.0      28812\n",
       "4.0      28698\n",
       "8.0      25986\n",
       "6.0      25240\n",
       "7.0      24860\n",
       "         ...  \n",
       "78.0         1\n",
       "121.0        1\n",
       "116.0        1\n",
       "99.0         1\n",
       "106.0        1\n",
       "Name: age, Length: 107, dtype: int64"
      ]
     },
     "execution_count": 39,
     "metadata": {},
     "output_type": "execute_result"
    }
   ],
   "source": [
    "# In this case what we really care is neither the cars year of manufacture NOR the posting date (this would always be *now* for a new prediction)\n",
    "# The real variable is the cars AGE which would be -> Current_year - cars_mfg_year\n",
    "df[\"age\"] = df[\"posting_date\"].dt.year - df[\"year\"] # Extract the year from posting date and substract the cars MFG age to get its \"age\" at sale time\n",
    "df[\"age\"].value_counts()"
   ]
  },
  {
   "cell_type": "code",
   "execution_count": 40,
   "id": "3796eec9-32db-4260-bfa2-6df9322768ab",
   "metadata": {},
   "outputs": [
    {
     "data": {
      "text/plain": [
       "<AxesSubplot:>"
      ]
     },
     "execution_count": 40,
     "metadata": {},
     "output_type": "execute_result"
    },
    {
     "data": {
      "image/png": "[encoded data removed]",
      "text/plain": [
       "<Figure size 1440x432 with 2 Axes>"
      ]
     },
     "metadata": {
      "needs_background": "light"
     },
     "output_type": "display_data"
    }
   ],
   "source": [
    "# Let's run correlations again to see if there's any difference\n",
    "plt.figure(figsize=(20,6))\n",
    "sns.heatmap(df.corr(), annot = True, cmap=\"PuOr\")"
   ]
  },
  {
   "cell_type": "code",
   "execution_count": null,
   "id": "6445b387-223c-49d0-b32b-8e5f92cdf02f",
   "metadata": {
    "jupyter": {
     "source_hidden": true
    },
    "tags": []
   },
   "outputs": [],
   "source": []
  },
  {
   "cell_type": "markdown",
   "id": "6dfd4f58-fed5-490e-b50f-736bd20769e4",
   "metadata": {},
   "source": [
    "As desired, the feature \"age\" captures the correct direction of the relationship as one would expect.\n",
    "\n",
    "In this situation, as the designer of this exercise, I have chosen to preserve **age** as the real predicting variable to maintain as it:\n",
    "* contains both MFG Year and year of inquire as part of a single variable\n",
    "* reduces the complexity (even if only by 1 feature) of the model\n",
    "\n",
    "As such, I will delete both \"year\" and \"posting date\""
   ]
  },
  {
   "cell_type": "code",
   "execution_count": 41,
   "id": "19150ed4-3e51-4874-b313-5cb4d2ea6b6a",
   "metadata": {},
   "outputs": [],
   "source": [
    "df = df.drop(columns = [\"year\", \"posting_date\"])"
   ]
  },
  {
   "cell_type": "markdown",
   "id": "c5462c14-398f-453c-bd5e-1fe3e870ae6b",
   "metadata": {},
   "source": [
    "Now that we have created the correct proxy variable, let's try visualizing how price behaves in regards to our numerical variables!"
   ]
  },
  {
   "cell_type": "code",
   "execution_count": 42,
   "id": "c96d674e-774b-420e-ac11-ec82f9f101e1",
   "metadata": {},
   "outputs": [
    {
     "data": {
      "image/png": "[encoded data removed]",
      "text/plain": [
       "<Figure size 432x432 with 3 Axes>"
      ]
     },
     "metadata": {
      "needs_background": "light"
     },
     "output_type": "display_data"
    }
   ],
   "source": [
    "sns.jointplot(data = df, x = \"odometer\", y = \"price\", height = 6);"
   ]
  },
  {
   "cell_type": "code",
   "execution_count": 43,
   "id": "9dd9c92f-642c-414a-9711-e2b46882a6f3",
   "metadata": {},
   "outputs": [
    {
     "data": {
      "image/png": "[encoded data removed]",
      "text/plain": [
       "<Figure size 432x432 with 3 Axes>"
      ]
     },
     "metadata": {
      "needs_background": "light"
     },
     "output_type": "display_data"
    }
   ],
   "source": [
    "sns.jointplot(data = df, x = \"age\", y = \"price\", height = 6);"
   ]
  },
  {
   "cell_type": "markdown",
   "id": "d2db92db-3dbe-4625-bf11-86aea023aede",
   "metadata": {},
   "source": [
    "The relationships are difficult to visualize with the jointplots, but with some effort we can observe hints at the relationships captured by the correlations."
   ]
  },
  {
   "cell_type": "code",
   "execution_count": null,
   "id": "c5a118af-844c-4b57-9e80-8386a0d60593",
   "metadata": {
    "jupyter": {
     "source_hidden": true
    },
    "tags": []
   },
   "outputs": [],
   "source": []
  },
  {
   "cell_type": "markdown",
   "id": "82e70b6b-a058-4b49-b0cc-b98b5105543e",
   "metadata": {},
   "source": [
    "After analyzing the numerical features, I will now start exploring the categorical data!\n",
    "\n",
    "In this case there's no correlations, but I will start by visualizing distributions based on countplots."
   ]
  },
  {
   "cell_type": "code",
   "execution_count": 44,
   "id": "faae72b4-ee35-4b04-b435-ec7829bbef93",
   "metadata": {},
   "outputs": [],
   "source": [
    "# separating column names for easier plotting\n",
    "cat_cols = list(df.select_dtypes(include=\"object\").columns)\n",
    "num_cols = list(df.select_dtypes(include=\"float64\"))"
   ]
  },
  {
   "cell_type": "code",
   "execution_count": 45,
   "id": "b860fda3-3261-4511-8ed2-336c3e481802",
   "metadata": {},
   "outputs": [
    {
     "data": {
      "image/png": "[encoded data removed]",
      "text/plain": [
       "<Figure size 1800x720 with 12 Axes>"
      ]
     },
     "metadata": {
      "needs_background": "light"
     },
     "output_type": "display_data"
    }
   ],
   "source": [
    "# This will be used only to plot the categorical columns so 6 x 2\n",
    "fig, ax = plt.subplots(2,6, figsize=(25,10))\n",
    "\n",
    "# separating rows for easier processing\n",
    "row_1 = ax[0]\n",
    "row_2 = ax[1]\n",
    "\n",
    "# creating plots for the first row\n",
    "for index, column in enumerate(cat_cols[:6]):\n",
    "    # creating ax figure in order of value\n",
    "    sns.countplot(ax=row_1[index], data = df, x=column, order = df[column].value_counts().index)\n",
    "    # setting plot title\n",
    "    row_1[index].set_title(column)\n",
    "    # hiding xaxis since they become unreadable\n",
    "    row_1[index].get_xaxis().set_visible(False)\n",
    "\n",
    "# creating plots for the second row\n",
    "for index, column in enumerate(cat_cols[6:]):\n",
    "    # creating ax figure in order of value\n",
    "    sns.countplot(ax=row_2[index], data = df, x=column, order = df[column].value_counts().index)\n",
    "    # setting plot title\n",
    "    row_2[index].set_title(column)\n",
    "    # hiding xaxis since they become unreadable\n",
    "    row_2[index].get_xaxis().set_visible(False)\n",
    "    \n",
    "fig.suptitle(\"Count of unique instances per feature\");"
   ]
  },
  {
   "cell_type": "markdown",
   "id": "cac89cd8-ed80-40c6-ab87-bc01ac954749",
   "metadata": {},
   "source": [
    "At first glance there are some interesting findings:\n",
    "* **TITLE_STATUS, FUEL & TRANSMISSION**: are HIGHLY unbalanced features. Although there is a large number of samples from which to draw conclusions, these imbalances make me think these variables will have negligible predicting power.\n",
    "* **MODEL**: This feature does not display large counts. Let's do a deep dive and see what we find.\n",
    "* **REGION & STATE**: Hold very similar (if not the same) information, yet they have different distributions. Let's see if we can choose to keep only one of them, but for now we'll hold it."
   ]
  },
  {
   "cell_type": "code",
   "execution_count": 46,
   "id": "dea71c08-0c87-4663-b30a-6763c7bc743d",
   "metadata": {},
   "outputs": [
    {
     "data": {
      "text/plain": [
       "20825"
      ]
     },
     "execution_count": 46,
     "metadata": {},
     "output_type": "execute_result"
    }
   ],
   "source": [
    "df[\"model\"].nunique()"
   ]
  },
  {
   "cell_type": "code",
   "execution_count": 47,
   "id": "998e0b1f-8b5f-4d80-ad11-8bb79259bec7",
   "metadata": {},
   "outputs": [
    {
     "data": {
      "text/plain": [
       "f-150                   6599\n",
       "silverado 1500          4167\n",
       "1500                    3510\n",
       "camry                   2655\n",
       "silverado               2569\n",
       "                        ... \n",
       "e 250 bluetec 4matic       1\n",
       "durango st                 1\n",
       "f-350 dually diesel        1\n",
       "mkz, 4d sedan              1\n",
       "g6 4dr sedan               1\n",
       "Name: model, Length: 20825, dtype: int64"
      ]
     },
     "execution_count": 47,
     "metadata": {},
     "output_type": "execute_result"
    }
   ],
   "source": [
    "df[\"model\"].value_counts()"
   ]
  },
  {
   "cell_type": "markdown",
   "id": "fca4be6a-267a-4a90-95e6-91d55c6fa70e",
   "metadata": {},
   "source": [
    "It seems we have an important problem with model.\n",
    "\n",
    "There are too many unique models! And it's not a topic of unique vehicle models, but, the model description is far too heterogenous. Let's see what we can do about it!\n",
    "\n",
    "First, I'll try seeing how many models have less than 21 appearances (A good rule of thumb says we need 10 samples per feature for relevance). In this case I will apply twice the rule of thumb since we have many possible models. The logic here is that one hot encoding will create a feature out of every single one of these so I want sufficient samples for the models to learn."
   ]
  },
  {
   "cell_type": "code",
   "execution_count": 48,
   "id": "6913c58a-4228-4064-9e7e-c3d1f841e156",
   "metadata": {},
   "outputs": [
    {
     "data": {
      "text/plain": [
       "cayman                  20\n",
       "crv awd                 20\n",
       "cruze rs                20\n",
       "express cutaway 3500    20\n",
       "patriot sport 4x4       20\n",
       "                        ..\n",
       "e 250 bluetec 4matic     1\n",
       "durango st               1\n",
       "f-350 dually diesel      1\n",
       "mkz, 4d sedan            1\n",
       "g6 4dr sedan             1\n",
       "Name: model, Length: 18644, dtype: int64"
      ]
     },
     "execution_count": 48,
     "metadata": {},
     "output_type": "execute_result"
    }
   ],
   "source": [
    "df[\"model\"].value_counts()[df[\"model\"].value_counts() < 21]"
   ]
  },
  {
   "cell_type": "markdown",
   "id": "804fcdca-cb8b-4543-a7a3-a53b16c4f751",
   "metadata": {},
   "source": [
    "Wow, there are over 20,000 unique instances of models with less than 21 appearances. This kind of information will definitely pollute our models' learning\n",
    "\n",
    "Let's removing all these features from the base."
   ]
  },
  {
   "cell_type": "code",
   "execution_count": 49,
   "id": "75f243e4-47ae-4b6d-ae1e-889da3037c14",
   "metadata": {},
   "outputs": [
    {
     "data": {
      "text/plain": [
       "59504"
      ]
     },
     "execution_count": 49,
     "metadata": {},
     "output_type": "execute_result"
    }
   ],
   "source": [
    "# To be sure, let's find out exactly how many records we are going to delete\n",
    "df[\"model\"].value_counts()[df[\"model\"].value_counts() < 21].sum()"
   ]
  },
  {
   "cell_type": "code",
   "execution_count": 50,
   "id": "03b7546d-b262-4649-81a2-4d9d098e5884",
   "metadata": {},
   "outputs": [
    {
     "data": {
      "text/plain": [
       "59504"
      ]
     },
     "execution_count": 50,
     "metadata": {},
     "output_type": "execute_result"
    }
   ],
   "source": [
    "# extracting the string representation of all the models which less than 10 appearances\n",
    "bad_models = list(df[\"model\"].value_counts()[df[\"model\"].value_counts() < 21].index)\n",
    "\n",
    "# converting into an array for faster processing\n",
    "bad_models = np.array(bad_models)\n",
    "\n",
    "# creating a boolean mask. Before further processing we'll verify if this number matches what we expect\n",
    "mask = df[\"model\"].isin(bad_models)\n",
    "mask.sum()"
   ]
  },
  {
   "cell_type": "code",
   "execution_count": 51,
   "id": "826c8219-61f8-420a-b3e3-368237706e19",
   "metadata": {},
   "outputs": [
    {
     "data": {
      "text/plain": [
       "287351"
      ]
     },
     "execution_count": 51,
     "metadata": {},
     "output_type": "execute_result"
    }
   ],
   "source": [
    "# Let's also precalculate how many rows we'll have at the hend\n",
    "df.shape[0] - mask.sum()"
   ]
  },
  {
   "cell_type": "code",
   "execution_count": 52,
   "id": "7ddfc58c-93bf-48d4-8721-0732ee113f8f",
   "metadata": {},
   "outputs": [
    {
     "data": {
      "text/plain": [
       "287351"
      ]
     },
     "execution_count": 52,
     "metadata": {},
     "output_type": "execute_result"
    }
   ],
   "source": [
    "# Now that i'm sure the mask is ok, I'll reserve it.\n",
    "mask = ~mask\n",
    "\n",
    "# Finally, let's do the filtering out the polluting models from the data\n",
    "df = df[mask]\n",
    "\n",
    "# verifying correct shape\n",
    "df.shape[0]"
   ]
  },
  {
   "cell_type": "code",
   "execution_count": 53,
   "id": "6feafe53-5d1b-4bfc-938a-62e8e82e9410",
   "metadata": {},
   "outputs": [
    {
     "data": {
      "text/plain": [
       "2181"
      ]
     },
     "execution_count": 53,
     "metadata": {},
     "output_type": "execute_result"
    }
   ],
   "source": [
    "df[\"model\"].nunique()"
   ]
  },
  {
   "cell_type": "code",
   "execution_count": 167,
   "id": "261c0912-1acb-4578-884f-9245c2defc3d",
   "metadata": {},
   "outputs": [
    {
     "data": {
      "text/plain": [
       "manufacturer\n",
       "ford               312\n",
       "chevrolet          259\n",
       "toyota             157\n",
       "bmw                125\n",
       "nissan             106\n",
       "gmc                102\n",
       "dodge               95\n",
       "honda               95\n",
       "mercedes-benz       93\n",
       "ram                 90\n",
       "lexus               72\n",
       "jeep                69\n",
       "volkswagen          68\n",
       "audi                66\n",
       "subaru              56\n",
       "hyundai             56\n",
       "kia                 51\n",
       "cadillac            45\n",
       "infiniti            44\n",
       "mazda               40\n",
       "acura               38\n",
       "chrysler            38\n",
       "buick               36\n",
       "volvo               32\n",
       "lincoln             32\n",
       "mitsubishi          29\n",
       "mini                27\n",
       "jaguar              22\n",
       "pontiac             21\n",
       "rover               16\n",
       "saturn              13\n",
       "porsche             13\n",
       "mercury             13\n",
       "fiat                 9\n",
       "alfa-romeo           9\n",
       "tesla                6\n",
       "datsun               4\n",
       "land rover           3\n",
       "harley-davidson      1\n",
       "Name: model, dtype: int64"
      ]
     },
     "execution_count": 167,
     "metadata": {},
     "output_type": "execute_result"
    }
   ],
   "source": [
    "# Finding unique models per manufacturer\n",
    "df.groupby(\"manufacturer\")[\"model\"].nunique().sort_values(ascending = False)"
   ]
  },
  {
   "cell_type": "markdown",
   "id": "71cb456f-0ce9-440b-ae6c-cf2d9781653b",
   "metadata": {},
   "source": [
    "I have greatly reduced the complexity of the information contained in model! Hopefully this is enough to move forward!"
   ]
  },
  {
   "cell_type": "code",
   "execution_count": null,
   "id": "a2c7c458-dcb3-4142-b219-86fc43968a62",
   "metadata": {
    "jupyter": {
     "source_hidden": true
    },
    "tags": []
   },
   "outputs": [],
   "source": []
  },
  {
   "cell_type": "markdown",
   "id": "4abf598a-f12d-4424-8bfc-c40e625c8e1e",
   "metadata": {},
   "source": [
    "After our findings and explorations\n",
    "\n",
    "Fortunately, Scikit-learn provides some convenient tools for this:\n",
    "* f_regression -> which is basically a one-way Anova.\n",
    "* mutual_info_regression -> Analogue to its class counterpart, but for continuous variables\n",
    "\n",
    "but first, from this point onwards, I will create the Train, Validation and Test splits! This is necessary as we **want to avoid inferences that we are not sure would apply to a ML / DL model that has not seen new data**. As such, the relevant statistics will be obtained using training sets only!"
   ]
  },
  {
   "cell_type": "code",
   "execution_count": 55,
   "id": "96c33665-a143-49b6-be71-87809da7e3c0",
   "metadata": {},
   "outputs": [],
   "source": [
    "# Separating target and features\n",
    "y = df[\"price\"]\n",
    "X_parent = df.drop(columns = \"price\")"
   ]
  },
  {
   "cell_type": "code",
   "execution_count": 104,
   "id": "6d7b425e-27c6-4f7e-9ca2-5476d7b5e005",
   "metadata": {},
   "outputs": [],
   "source": [
    "# creating first split. The result here is the untouched test splits. The \"splits\" are a preliminary split that will be separated again for train and validation\n",
    "X_split, X_test, y_split, y_test = train_test_split(X_parent, y, train_size = 0.8, random_state = 20) # adding random state for reproducibility"
   ]
  },
  {
   "cell_type": "code",
   "execution_count": 105,
   "id": "529dadd0-1e69-428c-8cf8-4bf1c770ef6e",
   "metadata": {},
   "outputs": [],
   "source": [
    "# creating the 2nd split. This one creates the train and validation splits\n",
    "X_train, X_val, y_train, y_val = train_test_split(X_split, y_split, train_size = 0.75, random_state = 20) # adding random state for reproducibility"
   ]
  },
  {
   "cell_type": "code",
   "execution_count": 58,
   "id": "7bd63db1-5840-48f9-a730-8d3d2e55a072",
   "metadata": {},
   "outputs": [],
   "source": [
    "# first we need to encode the categorical and features since we can't process them as it is\n",
    "## instantiating scalers\n",
    "ord_enc = OrdinalEncoder()\n",
    "norm_sca = StandardScaler()\n",
    "\n",
    "## separating categorical and numerical features\n",
    "cat_feats = X_train.select_dtypes(include=\"object\")\n",
    "num_feats = X_train.select_dtypes(include=\"float64\")\n",
    "\n",
    "## fitting scalers\n",
    "ord_enc.fit(cat_feats)\n",
    "norm_sca.fit(num_feats)\n",
    "\n",
    "## re-assigning variables\n",
    "cat_feats = ord_enc.transform(cat_feats)\n",
    "num_feats = norm_sca.transform(num_feats)\n",
    "\n",
    "## concatenating arrays\n",
    "X_stats = np.concatenate([cat_feats, num_feats], axis=1)"
   ]
  },
  {
   "cell_type": "code",
   "execution_count": 59,
   "id": "93ac1e73-23f4-460d-8fdc-7cf534ed7e0b",
   "metadata": {},
   "outputs": [],
   "source": [
    "f_arrray = f_regression(X_stats, y_train)"
   ]
  },
  {
   "cell_type": "code",
   "execution_count": 60,
   "id": "61a45771-e960-4895-bfb1-176f620c95c0",
   "metadata": {},
   "outputs": [],
   "source": [
    "mut_info = mutual_info_regression(X_stats, y_train)"
   ]
  },
  {
   "cell_type": "code",
   "execution_count": 61,
   "id": "c3965156-a82c-4d81-be99-3e165a8d638b",
   "metadata": {},
   "outputs": [
    {
     "data": {
      "text/html": [
       "<div>\n",
       "<style scoped>\n",
       "    .dataframe tbody tr th:only-of-type {\n",
       "        vertical-align: middle;\n",
       "    }\n",
       "\n",
       "    .dataframe tbody tr th {\n",
       "        vertical-align: top;\n",
       "    }\n",
       "\n",
       "    .dataframe thead th {\n",
       "        text-align: right;\n",
       "    }\n",
       "</style>\n",
       "<table border=\"1\" class=\"dataframe\">\n",
       "  <thead>\n",
       "    <tr style=\"text-align: right;\">\n",
       "      <th></th>\n",
       "      <th>region</th>\n",
       "      <th>manufacturer</th>\n",
       "      <th>model</th>\n",
       "      <th>condition</th>\n",
       "      <th>cylinders</th>\n",
       "      <th>fuel</th>\n",
       "      <th>title_status</th>\n",
       "      <th>transmission</th>\n",
       "      <th>drive</th>\n",
       "      <th>type</th>\n",
       "      <th>paint_color</th>\n",
       "      <th>state</th>\n",
       "      <th>odometer</th>\n",
       "      <th>age</th>\n",
       "    </tr>\n",
       "  </thead>\n",
       "  <tbody>\n",
       "    <tr>\n",
       "      <th>f_regression</th>\n",
       "      <td>3.680676e-21</td>\n",
       "      <td>1.515155e-100</td>\n",
       "      <td>5.324752e-116</td>\n",
       "      <td>0.000000</td>\n",
       "      <td>0.00000</td>\n",
       "      <td>5.550199e-48</td>\n",
       "      <td>0.000000</td>\n",
       "      <td>0.000000</td>\n",
       "      <td>0.000000</td>\n",
       "      <td>0.000000</td>\n",
       "      <td>4.163902e-102</td>\n",
       "      <td>4.727380e-11</td>\n",
       "      <td>0.000000</td>\n",
       "      <td>0.000000</td>\n",
       "    </tr>\n",
       "    <tr>\n",
       "      <th>mutual_regre</th>\n",
       "      <td>3.866153e-01</td>\n",
       "      <td>3.813254e-01</td>\n",
       "      <td>1.576743e+00</td>\n",
       "      <td>0.357589</td>\n",
       "      <td>0.17354</td>\n",
       "      <td>1.341724e-01</td>\n",
       "      <td>0.038351</td>\n",
       "      <td>0.328683</td>\n",
       "      <td>0.169177</td>\n",
       "      <td>0.336731</td>\n",
       "      <td>1.668073e-01</td>\n",
       "      <td>3.067028e-01</td>\n",
       "      <td>2.136468</td>\n",
       "      <td>0.603593</td>\n",
       "    </tr>\n",
       "  </tbody>\n",
       "</table>\n",
       "</div>"
      ],
      "text/plain": [
       "                    region   manufacturer          model  condition  \\\n",
       "f_regression  3.680676e-21  1.515155e-100  5.324752e-116   0.000000   \n",
       "mutual_regre  3.866153e-01   3.813254e-01   1.576743e+00   0.357589   \n",
       "\n",
       "              cylinders          fuel  title_status  transmission     drive  \\\n",
       "f_regression    0.00000  5.550199e-48      0.000000      0.000000  0.000000   \n",
       "mutual_regre    0.17354  1.341724e-01      0.038351      0.328683  0.169177   \n",
       "\n",
       "                  type    paint_color         state  odometer       age  \n",
       "f_regression  0.000000  4.163902e-102  4.727380e-11  0.000000  0.000000  \n",
       "mutual_regre  0.336731   1.668073e-01  3.067028e-01  2.136468  0.603593  "
      ]
     },
     "execution_count": 61,
     "metadata": {},
     "output_type": "execute_result"
    }
   ],
   "source": [
    "# creating a results table\n",
    "cat_cols = list(X_train.select_dtypes(include=\"object\").columns) # extreacting categorical columns\n",
    "num_cols = list(X_train.select_dtypes(include=\"float64\")) # extracting numerical columns\n",
    "cols = cat_cols + num_cols # setting columns in correct order and then merging lists\n",
    "pd.DataFrame([f_arrray[1], mut_info], index = [\"f_regression\", \"mutual_regre\"], columns = cols) #I'm only keeping the p-values of f_regression"
   ]
  },
  {
   "cell_type": "markdown",
   "id": "58714c66-0a14-4052-96b1-467beafd050b",
   "metadata": {},
   "source": [
    "Before explaining the results found from this analysis I will provide some contextual information:\n",
    "* f_regression from sklearn is an univariate test that mimics an ANOVA F-TEST but for a continuous problem (like price). More importantly, and as outlined in the functions page itself **IT SHOULDNT BE USED AS A STAND ALONE SELECTION METHOD**. In essence, this trains to calculate how much of the variance of target (price) is explained by the variance of a feature. The value presented in the results table is the p-value associated to the test.\n",
    "* mutual information for regression is a nonparametrics (does not assume any distribution for the data) test that attempts to find the features that contribute to most to a change in the target feature (price)\n",
    "* Interestingly, while many of the features had large amounts of missing values which were replaced with placeholder strings, they reflect different behaviours, providing some confidence that the transformation's did not distort the results too much.\n",
    "\n",
    "That said, the results of both tests provide some interesting, but inconclusive insights:\n",
    "1. Both methods lack consistency in determining which features might be relevant / contribute more to the variation in price, HOWEVER they do have some agreement into **which features DO NOT contribute much to the variation of the price**. In this sense, the results can be used in reverse to remove features that add little prediction power.\n",
    "2. Based on the previous point the following features could be considered of LOW relevance:\n",
    "    1. **TITLE_STATUS**: Has a high p-value and low mutual_information score; by both metrics this feature does not contribute much to price. Unfortunately I'm unfamiliar with these intricancies of this feature and what it represents. **On principle, this feature will be deleted from all splits** \n",
    "    2. **Region / State**: Has a high p-value and low mutual_information score. by both metrics this feature does not contribute much to price. Interestingly both features capture very similar (if not the same information), as such, one can consider it to be slightly redundant. **On principle, one of these features will be deleted from all splits.\n",
    "   \n",
    "After these analysis, we have some strong signals about which features to get rid of. These inputs can be combined with the observed in the EDA to finally get rid of some features!"
   ]
  },
  {
   "cell_type": "code",
   "execution_count": 170,
   "id": "d34898c4-099f-4437-8926-4493b061cb31",
   "metadata": {},
   "outputs": [
    {
     "ename": "NameError",
     "evalue": "name 'ord_enc' is not defined",
     "output_type": "error",
     "traceback": [
      "\u001b[1;31m---------------------------------------------------------------------------\u001b[0m",
      "\u001b[1;31mNameError\u001b[0m                                 Traceback (most recent call last)",
      "\u001b[1;32m<ipython-input-170-30424915a7bf>\u001b[0m in \u001b[0;36m<module>\u001b[1;34m\u001b[0m\n\u001b[0;32m      1\u001b[0m \u001b[1;31m# deleting unnecessary vars and cleaning namespace\u001b[0m\u001b[1;33m\u001b[0m\u001b[1;33m\u001b[0m\u001b[1;33m\u001b[0m\u001b[0m\n\u001b[1;32m----> 2\u001b[1;33m \u001b[1;32mdel\u001b[0m \u001b[0mord_enc\u001b[0m\u001b[1;33m\u001b[0m\u001b[1;33m\u001b[0m\u001b[0m\n\u001b[0m\u001b[0;32m      3\u001b[0m \u001b[1;32mdel\u001b[0m \u001b[0mnorm_sca\u001b[0m\u001b[1;33m\u001b[0m\u001b[1;33m\u001b[0m\u001b[0m\n\u001b[0;32m      4\u001b[0m \u001b[1;32mdel\u001b[0m \u001b[0mcat_feats\u001b[0m\u001b[1;33m\u001b[0m\u001b[1;33m\u001b[0m\u001b[0m\n\u001b[0;32m      5\u001b[0m \u001b[1;32mdel\u001b[0m \u001b[0mnum_feats\u001b[0m\u001b[1;33m\u001b[0m\u001b[1;33m\u001b[0m\u001b[0m\n",
      "\u001b[1;31mNameError\u001b[0m: name 'ord_enc' is not defined"
     ]
    }
   ],
   "source": [
    "# deleting unnecessary vars and cleaning namespace\n",
    "del ord_enc \n",
    "del norm_sca\n",
    "del cat_feats\n",
    "del num_feats\n",
    "del X_stats\n",
    "del cat_cols\n",
    "del num_cols\n",
    "del cols\n",
    "del X_parent\n",
    "del X_train\n",
    "del X_val\n",
    "del X_test\n",
    "del y\n",
    "del y_val\n",
    "del y_train\n",
    "del y_test"
   ]
  },
  {
   "cell_type": "markdown",
   "id": "ea4e8d10-18d6-4d7e-acbd-ca69421b1c29",
   "metadata": {},
   "source": [
    "All that said, the following features will not be considered any further for the purposes of this analysis:\n",
    "* Region\n",
    "* Title Status"
   ]
  },
  {
   "cell_type": "code",
   "execution_count": 168,
   "id": "829b5b6c-3da0-43d3-b436-8be85e8dd29f",
   "metadata": {},
   "outputs": [],
   "source": [
    "df = df.drop(columns = [\"region\", \"title_status\"])"
   ]
  },
  {
   "cell_type": "markdown",
   "id": "56d17e5d-7e9b-4486-a8f7-7fee4f3c5ef6",
   "metadata": {},
   "source": [
    "At this point I consider the EDA and feature selection process finished and I can start training models!"
   ]
  },
  {
   "cell_type": "markdown",
   "id": "dd1e597a-2e6c-40a4-b075-a58f087ab990",
   "metadata": {},
   "source": [
    "# Model_training"
   ]
  },
  {
   "cell_type": "markdown",
   "id": "c4287c69-c4b0-4086-bb59-1eebbed36a45",
   "metadata": {},
   "source": [
    "A few considerations will be explained before entering the training, fitting and evaluating models phase.\n",
    "\n",
    "Although I'm not aiming for a specific model or solution, one the sub-goals of this project is to build a Neural Network with Keras to create the prediction model. Nevertheless, training a Neural Network is computationally expensive, thus I chose the following approach:\n",
    "\n",
    "* I would first training sklearn Linear models (with default parameters) and use them to:\n",
    "    * Find out baseline performance\n",
    "    * Estimate feature weights and possible run a 2nd trial of feature selection\n",
    "* Then I would run ensemble models (with default parameters) to:\n",
    "    * Obtain a secondary baseline performance based on averaged results\n",
    "    * Obtain feature weights (often included in the attributes of tree-based models\n",
    "* Later, after performing some final adjustments, I would create the neural network.\n",
    "* Finally, I would compare the results of all models and choose what works best and fine-tune hyperparameters if necessary."
   ]
  },
  {
   "cell_type": "code",
   "execution_count": null,
   "id": "33b8aa3b-ad30-4e15-a98b-f49d4a458736",
   "metadata": {},
   "outputs": [],
   "source": [
    "## Separating target and features\n",
    "y = df[\"price\"]\n",
    "X_parent = df.drop(columns = \"price\")\n",
    "\n",
    "## creating TRUE SPLITS. The result here is the untouched test splits. The \"splits\" are a preliminary split that will be separated again for train and validation\n",
    "X_split, X_test, y_split, y_test = train_test_split(X_parent, y, train_size = 0.8, random_state = 40) # adding random state for reproducibility\n",
    "\n",
    "## creating the 2nd split. This one creates the train and validation splits\n",
    "X_train, X_val, y_train, y_val = train_test_split(X_split, y_split, train_size = 0.75, random_state = 40) # adding random state for reproducibility"
   ]
  },
  {
   "cell_type": "code",
   "execution_count": 106,
   "id": "02ab4d15-7149-40d9-bb39-e705cde11506",
   "metadata": {},
   "outputs": [],
   "source": [
    "# encoding training arrays \n",
    "X_train, cat_encoder, num_encoder = gen_array(X_train)"
   ]
  },
  {
   "cell_type": "code",
   "execution_count": 107,
   "id": "ee7af0c0-ab43-491a-b2e0-2e85b86ed469",
   "metadata": {},
   "outputs": [],
   "source": [
    "# encoding valdition array with pre-trained encoders\n",
    "X_val, cat_encoder, num_encoder = gen_array(X_val, cat_enc = cat_encoder, num_enc = num_encoder)"
   ]
  },
  {
   "cell_type": "code",
   "execution_count": 113,
   "id": "85c0b905-29f3-4457-9dee-8445ec4c8645",
   "metadata": {},
   "outputs": [],
   "source": [
    "# recreating standarized indexes to be able to explore faulty values\n",
    "y_val2 = y_val.reset_index().drop(columns = \"index\").squeeze()\n",
    "y_test2 = y_test.reset_index().drop(columns = \"index\").squeeze()"
   ]
  },
  {
   "cell_type": "code",
   "execution_count": 163,
   "id": "33d5e136-8900-4024-b6cb-2e80c61ec9d7",
   "metadata": {},
   "outputs": [],
   "source": [
    "# creating a list of column names in the order of concatenation for easier analysis\n",
    "cat_cols = list(X_parent.select_dtypes(include = \"object\").columns)\n",
    "num_cols = list(X_parent.select_dtypes(exclude = \"object\").columns)\n",
    "cols = cat_cols + num_cols"
   ]
  },
  {
   "cell_type": "markdown",
   "id": "335ae67c-0987-46f3-9e0a-5716909731f3",
   "metadata": {},
   "source": [
    "## Linear_models"
   ]
  },
  {
   "cell_type": "markdown",
   "id": "72f35b76-859f-4dd4-87e0-30dd3cdc2d26",
   "metadata": {},
   "source": [
    "These are the steps I will follow with the linear models:\n",
    "* Instantiate every model in a corresponding variable\n",
    "* Fit all models, one by one\n",
    "* Use the fitted models to generate predictions\n",
    "* Calculate and store residuals for visualization purposes\n",
    "* Calculate the following errors for each model:\n",
    "    * Mean Absolute Error (MAE)\n",
    "    * Mean Squared Error (MSE)\n",
    "    * Root Mean Squared Error (RMSE)"
   ]
  },
  {
   "cell_type": "code",
   "execution_count": 66,
   "id": "02289e0d-65a7-4b41-8f18-d5511bdcfa78",
   "metadata": {},
   "outputs": [],
   "source": [
    "lasso = LassoCV(verbose = 1, n_jobs = -1)\n",
    "linear = LinearRegression(n_jobs = -1)"
   ]
  },
  {
   "cell_type": "code",
   "execution_count": 67,
   "id": "f65c952a-c422-4c51-bb3e-465b292ab5ec",
   "metadata": {},
   "outputs": [
    {
     "name": "stderr",
     "output_type": "stream",
     "text": [
      "[Parallel(n_jobs=-1)]: Using backend ThreadingBackend with 8 concurrent workers.\n",
      ".............................................................................................................................................................................................................................................................................................................................................................................................................................................................................................................[Parallel(n_jobs=-1)]: Done   2 out of   5 | elapsed:  1.9min remaining:  2.8min\n",
      ".......[Parallel(n_jobs=-1)]: Done   5 out of   5 | elapsed:  2.1min finished\n"
     ]
    },
    {
     "data": {
      "text/plain": [
       "LassoCV(n_jobs=-1, verbose=1)"
      ]
     },
     "execution_count": 67,
     "metadata": {},
     "output_type": "execute_result"
    }
   ],
   "source": [
    "lasso.fit(X_train, y_train)"
   ]
  },
  {
   "cell_type": "code",
   "execution_count": 68,
   "id": "9db30c4a-4700-41ec-a827-49e564fbff9f",
   "metadata": {},
   "outputs": [
    {
     "data": {
      "text/plain": [
       "LinearRegression(n_jobs=-1)"
      ]
     },
     "execution_count": 68,
     "metadata": {},
     "output_type": "execute_result"
    }
   ],
   "source": [
    "linear.fit(X_train, y_train)"
   ]
  },
  {
   "cell_type": "code",
   "execution_count": 69,
   "id": "354c1427-42a1-41d7-940d-093e0f9d4945",
   "metadata": {},
   "outputs": [],
   "source": [
    "# obtaining predictions\n",
    "lasso_pred = lasso.predict(X_val)\n",
    "linear_pred = linear.predict(X_val)"
   ]
  },
  {
   "cell_type": "code",
   "execution_count": 118,
   "id": "3d40e4cc-a79d-4002-8b37-d4e806fba89f",
   "metadata": {},
   "outputs": [],
   "source": [
    "# calculating residuals\n",
    "lasso_res = lasso_pred - y_val2\n",
    "linear_res = linear_pred - y_val2"
   ]
  },
  {
   "cell_type": "code",
   "execution_count": 119,
   "id": "336fd539-196f-45ff-bd6d-db5d3e0284ae",
   "metadata": {},
   "outputs": [
    {
     "data": {
      "text/html": [
       "<div>\n",
       "<style scoped>\n",
       "    .dataframe tbody tr th:only-of-type {\n",
       "        vertical-align: middle;\n",
       "    }\n",
       "\n",
       "    .dataframe tbody tr th {\n",
       "        vertical-align: top;\n",
       "    }\n",
       "\n",
       "    .dataframe thead th {\n",
       "        text-align: right;\n",
       "    }\n",
       "</style>\n",
       "<table border=\"1\" class=\"dataframe\">\n",
       "  <thead>\n",
       "    <tr style=\"text-align: right;\">\n",
       "      <th></th>\n",
       "      <th>MAE</th>\n",
       "      <th>MSE</th>\n",
       "      <th>RMSE</th>\n",
       "    </tr>\n",
       "  </thead>\n",
       "  <tbody>\n",
       "    <tr>\n",
       "      <th>Lasso</th>\n",
       "      <td>5356.885068</td>\n",
       "      <td>5.548350e+07</td>\n",
       "      <td>7448.724488</td>\n",
       "    </tr>\n",
       "    <tr>\n",
       "      <th>Linear</th>\n",
       "      <td>3754.989438</td>\n",
       "      <td>3.349580e+07</td>\n",
       "      <td>5787.555451</td>\n",
       "    </tr>\n",
       "  </tbody>\n",
       "</table>\n",
       "</div>"
      ],
      "text/plain": [
       "                MAE           MSE         RMSE\n",
       "Lasso   5356.885068  5.548350e+07  7448.724488\n",
       "Linear  3754.989438  3.349580e+07  5787.555451"
      ]
     },
     "execution_count": 119,
     "metadata": {},
     "output_type": "execute_result"
    }
   ],
   "source": [
    "# creating a summary table to visualize results\n",
    "MAE = [mean_absolute_error(y_val, lasso_pred), mean_absolute_error(y_val, linear_pred)]\n",
    "MSE = [mean_squared_error(y_val, lasso_pred), mean_squared_error(y_val, linear_pred)]\n",
    "RMSE = [np.sqrt(mean_squared_error(y_val, lasso_pred)), np.sqrt(mean_squared_error(y_val, linear_pred))]\n",
    "\n",
    "pd.DataFrame({\"MAE\": MAE, \"MSE\": MSE, \"RMSE\": RMSE}, index = [\"Lasso\", \"Linear\"])"
   ]
  },
  {
   "cell_type": "markdown",
   "id": "8ecde5ca-f565-48b3-a51b-9f4cfe47f4f6",
   "metadata": {},
   "source": [
    "Interestingly it seems a simple linear model with no regularization is better at finding relationships within the data! \n",
    "Let's try plotting the residuals to see how this looks!"
   ]
  },
  {
   "cell_type": "code",
   "execution_count": 120,
   "id": "0a873b0a-94ee-4410-a9cd-f8564c3c38ed",
   "metadata": {},
   "outputs": [
    {
     "data": {
      "image/png": "[encoded data removed]",
      "text/plain": [
       "<Figure size 1728x576 with 2 Axes>"
      ]
     },
     "metadata": {
      "needs_background": "light"
     },
     "output_type": "display_data"
    }
   ],
   "source": [
    "fig, ax = plt.subplots(1,2, figsize=(24,8))\n",
    "sns.lineplot(ax = ax[0], data = lasso_res, color = \"green\")\n",
    "sns.lineplot(ax = ax[1], data = linear_res, color = \"purple\");"
   ]
  },
  {
   "cell_type": "markdown",
   "id": "e45a92fb-5e2a-4fef-a3a9-b68bddf91cb0",
   "metadata": {},
   "source": [
    "Observing our results, and more importantly the residuals we can observe there are some MASSIVE outliers. This tells me two things:\n",
    "\n",
    "* The model's are currently unstable, but it seems to be related to some very specific values that may be fixable.\n",
    "* Unstability aside, linear models seem to describe the data decently well. Strangely, though, the linear model with NO regularization seems to be more effective at predictions.\n",
    "\n",
    "That said, let's explore the causes of this instability and if we can fix our process a-posteriori."
   ]
  },
  {
   "cell_type": "code",
   "execution_count": 143,
   "id": "df1eae2d-1d05-4aea-9653-15b94c253cf8",
   "metadata": {},
   "outputs": [],
   "source": [
    "# Let's find the data points that are causing massive instability in our models.\n",
    "## The outlier detection will be generated bi-directionally although the plots indicate the problem is that rediction understimates value.\n",
    "## We only want the indeces since i'm only interested in retrieving them from the parent array\n",
    "unstable_vals_idx = lasso_res[(lasso_res < -50000) | (lasso_res > 50000)].index\n",
    "\n",
    "## retriving the actual unstable values\n",
    "unstable_features = X_val[unstable_vals_idx,:]"
   ]
  },
  {
   "cell_type": "code",
   "execution_count": 165,
   "id": "fb198ce8-2f8d-4883-a30f-68480586ce23",
   "metadata": {},
   "outputs": [
    {
     "data": {
      "text/html": [
       "<div>\n",
       "<style scoped>\n",
       "    .dataframe tbody tr th:only-of-type {\n",
       "        vertical-align: middle;\n",
       "    }\n",
       "\n",
       "    .dataframe tbody tr th {\n",
       "        vertical-align: top;\n",
       "    }\n",
       "\n",
       "    .dataframe thead th {\n",
       "        text-align: right;\n",
       "    }\n",
       "</style>\n",
       "<table border=\"1\" class=\"dataframe\">\n",
       "  <thead>\n",
       "    <tr style=\"text-align: right;\">\n",
       "      <th></th>\n",
       "      <th>region</th>\n",
       "      <th>manufacturer</th>\n",
       "      <th>model</th>\n",
       "      <th>condition</th>\n",
       "      <th>cylinders</th>\n",
       "      <th>fuel</th>\n",
       "      <th>title_status</th>\n",
       "      <th>transmission</th>\n",
       "      <th>drive</th>\n",
       "      <th>type</th>\n",
       "      <th>paint_color</th>\n",
       "      <th>state</th>\n",
       "      <th>odometer</th>\n",
       "      <th>age</th>\n",
       "    </tr>\n",
       "  </thead>\n",
       "  <tbody>\n",
       "    <tr>\n",
       "      <th>0</th>\n",
       "      <td>bowling green</td>\n",
       "      <td>ford</td>\n",
       "      <td>f100</td>\n",
       "      <td>excellent</td>\n",
       "      <td>8 cylinders</td>\n",
       "      <td>gas</td>\n",
       "      <td>clean</td>\n",
       "      <td>automatic</td>\n",
       "      <td>rwd</td>\n",
       "      <td>Not relevant</td>\n",
       "      <td>Not relevant</td>\n",
       "      <td>ky</td>\n",
       "      <td>1234.0</td>\n",
       "      <td>68.0</td>\n",
       "    </tr>\n",
       "    <tr>\n",
       "      <th>1</th>\n",
       "      <td>austin</td>\n",
       "      <td>ford</td>\n",
       "      <td>thunderbird</td>\n",
       "      <td>Not relevant</td>\n",
       "      <td>Not relevant</td>\n",
       "      <td>gas</td>\n",
       "      <td>clean</td>\n",
       "      <td>automatic</td>\n",
       "      <td>Not relevant</td>\n",
       "      <td>coupe</td>\n",
       "      <td>Not relevant</td>\n",
       "      <td>tx</td>\n",
       "      <td>0.0</td>\n",
       "      <td>64.0</td>\n",
       "    </tr>\n",
       "    <tr>\n",
       "      <th>2</th>\n",
       "      <td>palm springs</td>\n",
       "      <td>ford</td>\n",
       "      <td>roadster</td>\n",
       "      <td>excellent</td>\n",
       "      <td>8 cylinders</td>\n",
       "      <td>gas</td>\n",
       "      <td>clean</td>\n",
       "      <td>manual</td>\n",
       "      <td>rwd</td>\n",
       "      <td>Not relevant</td>\n",
       "      <td>black</td>\n",
       "      <td>ca</td>\n",
       "      <td>8000.0</td>\n",
       "      <td>89.0</td>\n",
       "    </tr>\n",
       "    <tr>\n",
       "      <th>3</th>\n",
       "      <td>indianapolis</td>\n",
       "      <td>ford</td>\n",
       "      <td>model a</td>\n",
       "      <td>excellent</td>\n",
       "      <td>8 cylinders</td>\n",
       "      <td>gas</td>\n",
       "      <td>clean</td>\n",
       "      <td>automatic</td>\n",
       "      <td>Not relevant</td>\n",
       "      <td>Not relevant</td>\n",
       "      <td>Not relevant</td>\n",
       "      <td>in</td>\n",
       "      <td>1000.0</td>\n",
       "      <td>93.0</td>\n",
       "    </tr>\n",
       "    <tr>\n",
       "      <th>4</th>\n",
       "      <td>south florida</td>\n",
       "      <td>ford</td>\n",
       "      <td>f150 lariat 4x4</td>\n",
       "      <td>Not relevant</td>\n",
       "      <td>Not relevant</td>\n",
       "      <td>gas</td>\n",
       "      <td>clean</td>\n",
       "      <td>automatic</td>\n",
       "      <td>Not relevant</td>\n",
       "      <td>Not relevant</td>\n",
       "      <td>Not relevant</td>\n",
       "      <td>fl</td>\n",
       "      <td>7777777.0</td>\n",
       "      <td>4.0</td>\n",
       "    </tr>\n",
       "    <tr>\n",
       "      <th>5</th>\n",
       "      <td>hickory / lenoir</td>\n",
       "      <td>honda</td>\n",
       "      <td>accord</td>\n",
       "      <td>good</td>\n",
       "      <td>6 cylinders</td>\n",
       "      <td>gas</td>\n",
       "      <td>clean</td>\n",
       "      <td>automatic</td>\n",
       "      <td>Not relevant</td>\n",
       "      <td>sedan</td>\n",
       "      <td>green</td>\n",
       "      <td>nc</td>\n",
       "      <td>9999999.0</td>\n",
       "      <td>19.0</td>\n",
       "    </tr>\n",
       "    <tr>\n",
       "      <th>6</th>\n",
       "      <td>albuquerque</td>\n",
       "      <td>ford</td>\n",
       "      <td>roadster</td>\n",
       "      <td>like new</td>\n",
       "      <td>8 cylinders</td>\n",
       "      <td>gas</td>\n",
       "      <td>clean</td>\n",
       "      <td>automatic</td>\n",
       "      <td>Not relevant</td>\n",
       "      <td>convertible</td>\n",
       "      <td>white</td>\n",
       "      <td>nm</td>\n",
       "      <td>9500.0</td>\n",
       "      <td>89.0</td>\n",
       "    </tr>\n",
       "    <tr>\n",
       "      <th>7</th>\n",
       "      <td>sacramento</td>\n",
       "      <td>ford</td>\n",
       "      <td>bronco</td>\n",
       "      <td>Not relevant</td>\n",
       "      <td>Not relevant</td>\n",
       "      <td>gas</td>\n",
       "      <td>clean</td>\n",
       "      <td>manual</td>\n",
       "      <td>Not relevant</td>\n",
       "      <td>Not relevant</td>\n",
       "      <td>Not relevant</td>\n",
       "      <td>ca</td>\n",
       "      <td>69000.0</td>\n",
       "      <td>52.0</td>\n",
       "    </tr>\n",
       "    <tr>\n",
       "      <th>8</th>\n",
       "      <td>hickory / lenoir</td>\n",
       "      <td>honda</td>\n",
       "      <td>accord</td>\n",
       "      <td>good</td>\n",
       "      <td>6 cylinders</td>\n",
       "      <td>gas</td>\n",
       "      <td>clean</td>\n",
       "      <td>automatic</td>\n",
       "      <td>Not relevant</td>\n",
       "      <td>sedan</td>\n",
       "      <td>green</td>\n",
       "      <td>nc</td>\n",
       "      <td>9999999.0</td>\n",
       "      <td>19.0</td>\n",
       "    </tr>\n",
       "    <tr>\n",
       "      <th>9</th>\n",
       "      <td>omaha / council bluffs</td>\n",
       "      <td>chevrolet</td>\n",
       "      <td>camaro</td>\n",
       "      <td>Not relevant</td>\n",
       "      <td>Not relevant</td>\n",
       "      <td>gas</td>\n",
       "      <td>clean</td>\n",
       "      <td>manual</td>\n",
       "      <td>Not relevant</td>\n",
       "      <td>Not relevant</td>\n",
       "      <td>Not relevant</td>\n",
       "      <td>ia</td>\n",
       "      <td>43320.0</td>\n",
       "      <td>53.0</td>\n",
       "    </tr>\n",
       "    <tr>\n",
       "      <th>10</th>\n",
       "      <td>memphis</td>\n",
       "      <td>chevrolet</td>\n",
       "      <td>camaro</td>\n",
       "      <td>Not relevant</td>\n",
       "      <td>Not relevant</td>\n",
       "      <td>gas</td>\n",
       "      <td>clean</td>\n",
       "      <td>manual</td>\n",
       "      <td>Not relevant</td>\n",
       "      <td>Not relevant</td>\n",
       "      <td>Not relevant</td>\n",
       "      <td>tn</td>\n",
       "      <td>43320.0</td>\n",
       "      <td>53.0</td>\n",
       "    </tr>\n",
       "    <tr>\n",
       "      <th>11</th>\n",
       "      <td>los angeles</td>\n",
       "      <td>chevrolet</td>\n",
       "      <td>impala</td>\n",
       "      <td>Not relevant</td>\n",
       "      <td>Not relevant</td>\n",
       "      <td>gas</td>\n",
       "      <td>clean</td>\n",
       "      <td>automatic</td>\n",
       "      <td>Not relevant</td>\n",
       "      <td>Not relevant</td>\n",
       "      <td>Not relevant</td>\n",
       "      <td>ca</td>\n",
       "      <td>8393929.0</td>\n",
       "      <td>56.0</td>\n",
       "    </tr>\n",
       "    <tr>\n",
       "      <th>12</th>\n",
       "      <td>kansas city, MO</td>\n",
       "      <td>chevrolet</td>\n",
       "      <td>camaro</td>\n",
       "      <td>Not relevant</td>\n",
       "      <td>Not relevant</td>\n",
       "      <td>gas</td>\n",
       "      <td>clean</td>\n",
       "      <td>manual</td>\n",
       "      <td>Not relevant</td>\n",
       "      <td>Not relevant</td>\n",
       "      <td>Not relevant</td>\n",
       "      <td>ks</td>\n",
       "      <td>43320.0</td>\n",
       "      <td>53.0</td>\n",
       "    </tr>\n",
       "    <tr>\n",
       "      <th>13</th>\n",
       "      <td>tampa bay area</td>\n",
       "      <td>chevrolet</td>\n",
       "      <td>impala ss</td>\n",
       "      <td>excellent</td>\n",
       "      <td>Not relevant</td>\n",
       "      <td>gas</td>\n",
       "      <td>clean</td>\n",
       "      <td>automatic</td>\n",
       "      <td>Not relevant</td>\n",
       "      <td>Not relevant</td>\n",
       "      <td>white</td>\n",
       "      <td>fl</td>\n",
       "      <td>63101.0</td>\n",
       "      <td>57.0</td>\n",
       "    </tr>\n",
       "    <tr>\n",
       "      <th>14</th>\n",
       "      <td>tyler / east TX</td>\n",
       "      <td>ford</td>\n",
       "      <td>model a</td>\n",
       "      <td>Not relevant</td>\n",
       "      <td>Not relevant</td>\n",
       "      <td>gas</td>\n",
       "      <td>clean</td>\n",
       "      <td>automatic</td>\n",
       "      <td>Not relevant</td>\n",
       "      <td>Not relevant</td>\n",
       "      <td>Not relevant</td>\n",
       "      <td>tx</td>\n",
       "      <td>1.0</td>\n",
       "      <td>91.0</td>\n",
       "    </tr>\n",
       "    <tr>\n",
       "      <th>15</th>\n",
       "      <td>albuquerque</td>\n",
       "      <td>ford</td>\n",
       "      <td>roadster</td>\n",
       "      <td>Not relevant</td>\n",
       "      <td>Not relevant</td>\n",
       "      <td>gas</td>\n",
       "      <td>clean</td>\n",
       "      <td>automatic</td>\n",
       "      <td>Not relevant</td>\n",
       "      <td>convertible</td>\n",
       "      <td>black</td>\n",
       "      <td>nm</td>\n",
       "      <td>17706.0</td>\n",
       "      <td>84.0</td>\n",
       "    </tr>\n",
       "    <tr>\n",
       "      <th>16</th>\n",
       "      <td>st augustine</td>\n",
       "      <td>chevrolet</td>\n",
       "      <td>deluxe</td>\n",
       "      <td>Not relevant</td>\n",
       "      <td>Not relevant</td>\n",
       "      <td>gas</td>\n",
       "      <td>clean</td>\n",
       "      <td>automatic</td>\n",
       "      <td>Not relevant</td>\n",
       "      <td>Not relevant</td>\n",
       "      <td>Not relevant</td>\n",
       "      <td>fl</td>\n",
       "      <td>8201.0</td>\n",
       "      <td>81.0</td>\n",
       "    </tr>\n",
       "    <tr>\n",
       "      <th>17</th>\n",
       "      <td>colorado springs</td>\n",
       "      <td>chevrolet</td>\n",
       "      <td>impala</td>\n",
       "      <td>Not relevant</td>\n",
       "      <td>Not relevant</td>\n",
       "      <td>gas</td>\n",
       "      <td>clean</td>\n",
       "      <td>automatic</td>\n",
       "      <td>Not relevant</td>\n",
       "      <td>Not relevant</td>\n",
       "      <td>Not relevant</td>\n",
       "      <td>co</td>\n",
       "      <td>2000.0</td>\n",
       "      <td>61.0</td>\n",
       "    </tr>\n",
       "    <tr>\n",
       "      <th>18</th>\n",
       "      <td>las vegas</td>\n",
       "      <td>ford</td>\n",
       "      <td>convertible</td>\n",
       "      <td>Not relevant</td>\n",
       "      <td>Not relevant</td>\n",
       "      <td>gas</td>\n",
       "      <td>clean</td>\n",
       "      <td>automatic</td>\n",
       "      <td>Not relevant</td>\n",
       "      <td>convertible</td>\n",
       "      <td>yellow</td>\n",
       "      <td>nv</td>\n",
       "      <td>59900.0</td>\n",
       "      <td>75.0</td>\n",
       "    </tr>\n",
       "    <tr>\n",
       "      <th>19</th>\n",
       "      <td>austin</td>\n",
       "      <td>ford</td>\n",
       "      <td>ranchero</td>\n",
       "      <td>excellent</td>\n",
       "      <td>8 cylinders</td>\n",
       "      <td>gas</td>\n",
       "      <td>clean</td>\n",
       "      <td>manual</td>\n",
       "      <td>Not relevant</td>\n",
       "      <td>pickup</td>\n",
       "      <td>black</td>\n",
       "      <td>tx</td>\n",
       "      <td>99999.0</td>\n",
       "      <td>61.0</td>\n",
       "    </tr>\n",
       "    <tr>\n",
       "      <th>20</th>\n",
       "      <td>orange county</td>\n",
       "      <td>chevrolet</td>\n",
       "      <td>chevelle</td>\n",
       "      <td>excellent</td>\n",
       "      <td>8 cylinders</td>\n",
       "      <td>gas</td>\n",
       "      <td>clean</td>\n",
       "      <td>automatic</td>\n",
       "      <td>rwd</td>\n",
       "      <td>Not relevant</td>\n",
       "      <td>blue</td>\n",
       "      <td>ca</td>\n",
       "      <td>28000.0</td>\n",
       "      <td>53.0</td>\n",
       "    </tr>\n",
       "    <tr>\n",
       "      <th>21</th>\n",
       "      <td>hawaii</td>\n",
       "      <td>ford</td>\n",
       "      <td>roadster</td>\n",
       "      <td>good</td>\n",
       "      <td>8 cylinders</td>\n",
       "      <td>gas</td>\n",
       "      <td>rebuilt</td>\n",
       "      <td>automatic</td>\n",
       "      <td>rwd</td>\n",
       "      <td>coupe</td>\n",
       "      <td>black</td>\n",
       "      <td>hi</td>\n",
       "      <td>21220.0</td>\n",
       "      <td>89.0</td>\n",
       "    </tr>\n",
       "    <tr>\n",
       "      <th>22</th>\n",
       "      <td>cleveland</td>\n",
       "      <td>buick</td>\n",
       "      <td>century</td>\n",
       "      <td>excellent</td>\n",
       "      <td>8 cylinders</td>\n",
       "      <td>gas</td>\n",
       "      <td>clean</td>\n",
       "      <td>manual</td>\n",
       "      <td>rwd</td>\n",
       "      <td>sedan</td>\n",
       "      <td>black</td>\n",
       "      <td>oh</td>\n",
       "      <td>71000.0</td>\n",
       "      <td>82.0</td>\n",
       "    </tr>\n",
       "    <tr>\n",
       "      <th>23</th>\n",
       "      <td>south jersey</td>\n",
       "      <td>ford</td>\n",
       "      <td>model t</td>\n",
       "      <td>excellent</td>\n",
       "      <td>8 cylinders</td>\n",
       "      <td>gas</td>\n",
       "      <td>clean</td>\n",
       "      <td>automatic</td>\n",
       "      <td>rwd</td>\n",
       "      <td>Not relevant</td>\n",
       "      <td>black</td>\n",
       "      <td>nj</td>\n",
       "      <td>1000.0</td>\n",
       "      <td>98.0</td>\n",
       "    </tr>\n",
       "    <tr>\n",
       "      <th>24</th>\n",
       "      <td>huntsville / decatur</td>\n",
       "      <td>chevrolet</td>\n",
       "      <td>belair</td>\n",
       "      <td>excellent</td>\n",
       "      <td>8 cylinders</td>\n",
       "      <td>gas</td>\n",
       "      <td>clean</td>\n",
       "      <td>automatic</td>\n",
       "      <td>rwd</td>\n",
       "      <td>coupe</td>\n",
       "      <td>red</td>\n",
       "      <td>al</td>\n",
       "      <td>15000.0</td>\n",
       "      <td>66.0</td>\n",
       "    </tr>\n",
       "    <tr>\n",
       "      <th>25</th>\n",
       "      <td>albany</td>\n",
       "      <td>subaru</td>\n",
       "      <td>forester</td>\n",
       "      <td>good</td>\n",
       "      <td>4 cylinders</td>\n",
       "      <td>gas</td>\n",
       "      <td>clean</td>\n",
       "      <td>automatic</td>\n",
       "      <td>4wd</td>\n",
       "      <td>wagon</td>\n",
       "      <td>green</td>\n",
       "      <td>ny</td>\n",
       "      <td>9099999.0</td>\n",
       "      <td>19.0</td>\n",
       "    </tr>\n",
       "    <tr>\n",
       "      <th>26</th>\n",
       "      <td>atlanta</td>\n",
       "      <td>chevrolet</td>\n",
       "      <td>camaro</td>\n",
       "      <td>Not relevant</td>\n",
       "      <td>Not relevant</td>\n",
       "      <td>gas</td>\n",
       "      <td>clean</td>\n",
       "      <td>manual</td>\n",
       "      <td>Not relevant</td>\n",
       "      <td>Not relevant</td>\n",
       "      <td>Not relevant</td>\n",
       "      <td>ga</td>\n",
       "      <td>43320.0</td>\n",
       "      <td>53.0</td>\n",
       "    </tr>\n",
       "    <tr>\n",
       "      <th>27</th>\n",
       "      <td>wausau</td>\n",
       "      <td>ford</td>\n",
       "      <td>model a</td>\n",
       "      <td>like new</td>\n",
       "      <td>8 cylinders</td>\n",
       "      <td>gas</td>\n",
       "      <td>clean</td>\n",
       "      <td>automatic</td>\n",
       "      <td>rwd</td>\n",
       "      <td>sedan</td>\n",
       "      <td>black</td>\n",
       "      <td>wi</td>\n",
       "      <td>10000.0</td>\n",
       "      <td>90.0</td>\n",
       "    </tr>\n",
       "    <tr>\n",
       "      <th>28</th>\n",
       "      <td>inland empire</td>\n",
       "      <td>ford</td>\n",
       "      <td>f100</td>\n",
       "      <td>like new</td>\n",
       "      <td>Not relevant</td>\n",
       "      <td>gas</td>\n",
       "      <td>clean</td>\n",
       "      <td>automatic</td>\n",
       "      <td>Not relevant</td>\n",
       "      <td>Not relevant</td>\n",
       "      <td>Not relevant</td>\n",
       "      <td>ca</td>\n",
       "      <td>2500.0</td>\n",
       "      <td>65.0</td>\n",
       "    </tr>\n",
       "    <tr>\n",
       "      <th>29</th>\n",
       "      <td>south coast</td>\n",
       "      <td>ford</td>\n",
       "      <td>model t</td>\n",
       "      <td>excellent</td>\n",
       "      <td>8 cylinders</td>\n",
       "      <td>gas</td>\n",
       "      <td>clean</td>\n",
       "      <td>automatic</td>\n",
       "      <td>rwd</td>\n",
       "      <td>Not relevant</td>\n",
       "      <td>red</td>\n",
       "      <td>ma</td>\n",
       "      <td>4963.0</td>\n",
       "      <td>98.0</td>\n",
       "    </tr>\n",
       "    <tr>\n",
       "      <th>30</th>\n",
       "      <td>los angeles</td>\n",
       "      <td>ford</td>\n",
       "      <td>mustang</td>\n",
       "      <td>excellent</td>\n",
       "      <td>6 cylinders</td>\n",
       "      <td>gas</td>\n",
       "      <td>clean</td>\n",
       "      <td>automatic</td>\n",
       "      <td>Not relevant</td>\n",
       "      <td>Not relevant</td>\n",
       "      <td>Not relevant</td>\n",
       "      <td>ca</td>\n",
       "      <td>58000.0</td>\n",
       "      <td>53.0</td>\n",
       "    </tr>\n",
       "    <tr>\n",
       "      <th>31</th>\n",
       "      <td>fort collins / north CO</td>\n",
       "      <td>lincoln</td>\n",
       "      <td>continental</td>\n",
       "      <td>good</td>\n",
       "      <td>8 cylinders</td>\n",
       "      <td>gas</td>\n",
       "      <td>clean</td>\n",
       "      <td>automatic</td>\n",
       "      <td>rwd</td>\n",
       "      <td>convertible</td>\n",
       "      <td>white</td>\n",
       "      <td>co</td>\n",
       "      <td>91000.0</td>\n",
       "      <td>58.0</td>\n",
       "    </tr>\n",
       "    <tr>\n",
       "      <th>32</th>\n",
       "      <td>williamsport</td>\n",
       "      <td>lexus</td>\n",
       "      <td>rx 330</td>\n",
       "      <td>Not relevant</td>\n",
       "      <td>Not relevant</td>\n",
       "      <td>gas</td>\n",
       "      <td>clean</td>\n",
       "      <td>automatic</td>\n",
       "      <td>Not relevant</td>\n",
       "      <td>Not relevant</td>\n",
       "      <td>Not relevant</td>\n",
       "      <td>pa</td>\n",
       "      <td>10000000.0</td>\n",
       "      <td>15.0</td>\n",
       "    </tr>\n",
       "    <tr>\n",
       "      <th>33</th>\n",
       "      <td>tampa bay area</td>\n",
       "      <td>ford</td>\n",
       "      <td>roadster</td>\n",
       "      <td>new</td>\n",
       "      <td>8 cylinders</td>\n",
       "      <td>gas</td>\n",
       "      <td>parts only</td>\n",
       "      <td>manual</td>\n",
       "      <td>fwd</td>\n",
       "      <td>coupe</td>\n",
       "      <td>silver</td>\n",
       "      <td>fl</td>\n",
       "      <td>50.0</td>\n",
       "      <td>89.0</td>\n",
       "    </tr>\n",
       "    <tr>\n",
       "      <th>34</th>\n",
       "      <td>fort collins / north CO</td>\n",
       "      <td>volkswagen</td>\n",
       "      <td>beetle</td>\n",
       "      <td>good</td>\n",
       "      <td>4 cylinders</td>\n",
       "      <td>gas</td>\n",
       "      <td>clean</td>\n",
       "      <td>manual</td>\n",
       "      <td>Not relevant</td>\n",
       "      <td>Not relevant</td>\n",
       "      <td>white</td>\n",
       "      <td>co</td>\n",
       "      <td>9999999.0</td>\n",
       "      <td>64.0</td>\n",
       "    </tr>\n",
       "    <tr>\n",
       "      <th>35</th>\n",
       "      <td>siskiyou county</td>\n",
       "      <td>ford</td>\n",
       "      <td>mustang</td>\n",
       "      <td>fair</td>\n",
       "      <td>6 cylinders</td>\n",
       "      <td>gas</td>\n",
       "      <td>clean</td>\n",
       "      <td>automatic</td>\n",
       "      <td>rwd</td>\n",
       "      <td>coupe</td>\n",
       "      <td>Not relevant</td>\n",
       "      <td>ca</td>\n",
       "      <td>9999999.0</td>\n",
       "      <td>56.0</td>\n",
       "    </tr>\n",
       "    <tr>\n",
       "      <th>36</th>\n",
       "      <td>lincoln</td>\n",
       "      <td>dodge</td>\n",
       "      <td>sedan</td>\n",
       "      <td>good</td>\n",
       "      <td>8 cylinders</td>\n",
       "      <td>gas</td>\n",
       "      <td>clean</td>\n",
       "      <td>automatic</td>\n",
       "      <td>rwd</td>\n",
       "      <td>sedan</td>\n",
       "      <td>blue</td>\n",
       "      <td>ne</td>\n",
       "      <td>10000.0</td>\n",
       "      <td>87.0</td>\n",
       "    </tr>\n",
       "    <tr>\n",
       "      <th>37</th>\n",
       "      <td>oklahoma city</td>\n",
       "      <td>chevrolet</td>\n",
       "      <td>camaro</td>\n",
       "      <td>Not relevant</td>\n",
       "      <td>Not relevant</td>\n",
       "      <td>other</td>\n",
       "      <td>clean</td>\n",
       "      <td>automatic</td>\n",
       "      <td>Not relevant</td>\n",
       "      <td>Not relevant</td>\n",
       "      <td>Not relevant</td>\n",
       "      <td>ok</td>\n",
       "      <td>65210.0</td>\n",
       "      <td>54.0</td>\n",
       "    </tr>\n",
       "    <tr>\n",
       "      <th>38</th>\n",
       "      <td>tri-cities</td>\n",
       "      <td>ford</td>\n",
       "      <td>roadster</td>\n",
       "      <td>Not relevant</td>\n",
       "      <td>Not relevant</td>\n",
       "      <td>gas</td>\n",
       "      <td>clean</td>\n",
       "      <td>automatic</td>\n",
       "      <td>Not relevant</td>\n",
       "      <td>Not relevant</td>\n",
       "      <td>Not relevant</td>\n",
       "      <td>tn</td>\n",
       "      <td>14000.0</td>\n",
       "      <td>89.0</td>\n",
       "    </tr>\n",
       "    <tr>\n",
       "      <th>39</th>\n",
       "      <td>buffalo</td>\n",
       "      <td>chevrolet</td>\n",
       "      <td>corvette</td>\n",
       "      <td>excellent</td>\n",
       "      <td>8 cylinders</td>\n",
       "      <td>gas</td>\n",
       "      <td>clean</td>\n",
       "      <td>manual</td>\n",
       "      <td>rwd</td>\n",
       "      <td>Not relevant</td>\n",
       "      <td>red</td>\n",
       "      <td>ny</td>\n",
       "      <td>1565.0</td>\n",
       "      <td>58.0</td>\n",
       "    </tr>\n",
       "    <tr>\n",
       "      <th>40</th>\n",
       "      <td>charlotte</td>\n",
       "      <td>ford</td>\n",
       "      <td>mustang</td>\n",
       "      <td>Not relevant</td>\n",
       "      <td>Not relevant</td>\n",
       "      <td>other</td>\n",
       "      <td>clean</td>\n",
       "      <td>automatic</td>\n",
       "      <td>Not relevant</td>\n",
       "      <td>Not relevant</td>\n",
       "      <td>Not relevant</td>\n",
       "      <td>nc</td>\n",
       "      <td>76167.0</td>\n",
       "      <td>51.0</td>\n",
       "    </tr>\n",
       "    <tr>\n",
       "      <th>41</th>\n",
       "      <td>akron / canton</td>\n",
       "      <td>chevrolet</td>\n",
       "      <td>s10</td>\n",
       "      <td>good</td>\n",
       "      <td>8 cylinders</td>\n",
       "      <td>gas</td>\n",
       "      <td>clean</td>\n",
       "      <td>automatic</td>\n",
       "      <td>rwd</td>\n",
       "      <td>pickup</td>\n",
       "      <td>blue</td>\n",
       "      <td>oh</td>\n",
       "      <td>9999999.0</td>\n",
       "      <td>36.0</td>\n",
       "    </tr>\n",
       "    <tr>\n",
       "      <th>42</th>\n",
       "      <td>seattle-tacoma</td>\n",
       "      <td>volkswagen</td>\n",
       "      <td>bus</td>\n",
       "      <td>good</td>\n",
       "      <td>4 cylinders</td>\n",
       "      <td>gas</td>\n",
       "      <td>clean</td>\n",
       "      <td>automatic</td>\n",
       "      <td>Not relevant</td>\n",
       "      <td>Not relevant</td>\n",
       "      <td>brown</td>\n",
       "      <td>wa</td>\n",
       "      <td>9999999.0</td>\n",
       "      <td>43.0</td>\n",
       "    </tr>\n",
       "  </tbody>\n",
       "</table>\n",
       "</div>"
      ],
      "text/plain": [
       "                     region manufacturer            model     condition  \\\n",
       "0             bowling green         ford             f100     excellent   \n",
       "1                    austin         ford      thunderbird  Not relevant   \n",
       "2              palm springs         ford         roadster     excellent   \n",
       "3              indianapolis         ford          model a     excellent   \n",
       "4             south florida         ford  f150 lariat 4x4  Not relevant   \n",
       "5          hickory / lenoir        honda           accord          good   \n",
       "6               albuquerque         ford         roadster      like new   \n",
       "7                sacramento         ford           bronco  Not relevant   \n",
       "8          hickory / lenoir        honda           accord          good   \n",
       "9    omaha / council bluffs    chevrolet           camaro  Not relevant   \n",
       "10                  memphis    chevrolet           camaro  Not relevant   \n",
       "11              los angeles    chevrolet           impala  Not relevant   \n",
       "12          kansas city, MO    chevrolet           camaro  Not relevant   \n",
       "13           tampa bay area    chevrolet        impala ss     excellent   \n",
       "14          tyler / east TX         ford          model a  Not relevant   \n",
       "15              albuquerque         ford         roadster  Not relevant   \n",
       "16             st augustine    chevrolet           deluxe  Not relevant   \n",
       "17         colorado springs    chevrolet           impala  Not relevant   \n",
       "18                las vegas         ford      convertible  Not relevant   \n",
       "19                   austin         ford         ranchero     excellent   \n",
       "20            orange county    chevrolet         chevelle     excellent   \n",
       "21                   hawaii         ford         roadster          good   \n",
       "22                cleveland        buick          century     excellent   \n",
       "23             south jersey         ford          model t     excellent   \n",
       "24     huntsville / decatur    chevrolet           belair     excellent   \n",
       "25                   albany       subaru         forester          good   \n",
       "26                  atlanta    chevrolet           camaro  Not relevant   \n",
       "27                   wausau         ford          model a      like new   \n",
       "28            inland empire         ford             f100      like new   \n",
       "29              south coast         ford          model t     excellent   \n",
       "30              los angeles         ford          mustang     excellent   \n",
       "31  fort collins / north CO      lincoln      continental          good   \n",
       "32             williamsport        lexus           rx 330  Not relevant   \n",
       "33           tampa bay area         ford         roadster           new   \n",
       "34  fort collins / north CO   volkswagen           beetle          good   \n",
       "35          siskiyou county         ford          mustang          fair   \n",
       "36                  lincoln        dodge            sedan          good   \n",
       "37            oklahoma city    chevrolet           camaro  Not relevant   \n",
       "38               tri-cities         ford         roadster  Not relevant   \n",
       "39                  buffalo    chevrolet         corvette     excellent   \n",
       "40                charlotte         ford          mustang  Not relevant   \n",
       "41           akron / canton    chevrolet              s10          good   \n",
       "42           seattle-tacoma   volkswagen              bus          good   \n",
       "\n",
       "       cylinders   fuel title_status transmission         drive          type  \\\n",
       "0    8 cylinders    gas        clean    automatic           rwd  Not relevant   \n",
       "1   Not relevant    gas        clean    automatic  Not relevant         coupe   \n",
       "2    8 cylinders    gas        clean       manual           rwd  Not relevant   \n",
       "3    8 cylinders    gas        clean    automatic  Not relevant  Not relevant   \n",
       "4   Not relevant    gas        clean    automatic  Not relevant  Not relevant   \n",
       "5    6 cylinders    gas        clean    automatic  Not relevant         sedan   \n",
       "6    8 cylinders    gas        clean    automatic  Not relevant   convertible   \n",
       "7   Not relevant    gas        clean       manual  Not relevant  Not relevant   \n",
       "8    6 cylinders    gas        clean    automatic  Not relevant         sedan   \n",
       "9   Not relevant    gas        clean       manual  Not relevant  Not relevant   \n",
       "10  Not relevant    gas        clean       manual  Not relevant  Not relevant   \n",
       "11  Not relevant    gas        clean    automatic  Not relevant  Not relevant   \n",
       "12  Not relevant    gas        clean       manual  Not relevant  Not relevant   \n",
       "13  Not relevant    gas        clean    automatic  Not relevant  Not relevant   \n",
       "14  Not relevant    gas        clean    automatic  Not relevant  Not relevant   \n",
       "15  Not relevant    gas        clean    automatic  Not relevant   convertible   \n",
       "16  Not relevant    gas        clean    automatic  Not relevant  Not relevant   \n",
       "17  Not relevant    gas        clean    automatic  Not relevant  Not relevant   \n",
       "18  Not relevant    gas        clean    automatic  Not relevant   convertible   \n",
       "19   8 cylinders    gas        clean       manual  Not relevant        pickup   \n",
       "20   8 cylinders    gas        clean    automatic           rwd  Not relevant   \n",
       "21   8 cylinders    gas      rebuilt    automatic           rwd         coupe   \n",
       "22   8 cylinders    gas        clean       manual           rwd         sedan   \n",
       "23   8 cylinders    gas        clean    automatic           rwd  Not relevant   \n",
       "24   8 cylinders    gas        clean    automatic           rwd         coupe   \n",
       "25   4 cylinders    gas        clean    automatic           4wd         wagon   \n",
       "26  Not relevant    gas        clean       manual  Not relevant  Not relevant   \n",
       "27   8 cylinders    gas        clean    automatic           rwd         sedan   \n",
       "28  Not relevant    gas        clean    automatic  Not relevant  Not relevant   \n",
       "29   8 cylinders    gas        clean    automatic           rwd  Not relevant   \n",
       "30   6 cylinders    gas        clean    automatic  Not relevant  Not relevant   \n",
       "31   8 cylinders    gas        clean    automatic           rwd   convertible   \n",
       "32  Not relevant    gas        clean    automatic  Not relevant  Not relevant   \n",
       "33   8 cylinders    gas   parts only       manual           fwd         coupe   \n",
       "34   4 cylinders    gas        clean       manual  Not relevant  Not relevant   \n",
       "35   6 cylinders    gas        clean    automatic           rwd         coupe   \n",
       "36   8 cylinders    gas        clean    automatic           rwd         sedan   \n",
       "37  Not relevant  other        clean    automatic  Not relevant  Not relevant   \n",
       "38  Not relevant    gas        clean    automatic  Not relevant  Not relevant   \n",
       "39   8 cylinders    gas        clean       manual           rwd  Not relevant   \n",
       "40  Not relevant  other        clean    automatic  Not relevant  Not relevant   \n",
       "41   8 cylinders    gas        clean    automatic           rwd        pickup   \n",
       "42   4 cylinders    gas        clean    automatic  Not relevant  Not relevant   \n",
       "\n",
       "     paint_color state    odometer   age  \n",
       "0   Not relevant    ky      1234.0  68.0  \n",
       "1   Not relevant    tx         0.0  64.0  \n",
       "2          black    ca      8000.0  89.0  \n",
       "3   Not relevant    in      1000.0  93.0  \n",
       "4   Not relevant    fl   7777777.0   4.0  \n",
       "5          green    nc   9999999.0  19.0  \n",
       "6          white    nm      9500.0  89.0  \n",
       "7   Not relevant    ca     69000.0  52.0  \n",
       "8          green    nc   9999999.0  19.0  \n",
       "9   Not relevant    ia     43320.0  53.0  \n",
       "10  Not relevant    tn     43320.0  53.0  \n",
       "11  Not relevant    ca   8393929.0  56.0  \n",
       "12  Not relevant    ks     43320.0  53.0  \n",
       "13         white    fl     63101.0  57.0  \n",
       "14  Not relevant    tx         1.0  91.0  \n",
       "15         black    nm     17706.0  84.0  \n",
       "16  Not relevant    fl      8201.0  81.0  \n",
       "17  Not relevant    co      2000.0  61.0  \n",
       "18        yellow    nv     59900.0  75.0  \n",
       "19         black    tx     99999.0  61.0  \n",
       "20          blue    ca     28000.0  53.0  \n",
       "21         black    hi     21220.0  89.0  \n",
       "22         black    oh     71000.0  82.0  \n",
       "23         black    nj      1000.0  98.0  \n",
       "24           red    al     15000.0  66.0  \n",
       "25         green    ny   9099999.0  19.0  \n",
       "26  Not relevant    ga     43320.0  53.0  \n",
       "27         black    wi     10000.0  90.0  \n",
       "28  Not relevant    ca      2500.0  65.0  \n",
       "29           red    ma      4963.0  98.0  \n",
       "30  Not relevant    ca     58000.0  53.0  \n",
       "31         white    co     91000.0  58.0  \n",
       "32  Not relevant    pa  10000000.0  15.0  \n",
       "33        silver    fl        50.0  89.0  \n",
       "34         white    co   9999999.0  64.0  \n",
       "35  Not relevant    ca   9999999.0  56.0  \n",
       "36          blue    ne     10000.0  87.0  \n",
       "37  Not relevant    ok     65210.0  54.0  \n",
       "38  Not relevant    tn     14000.0  89.0  \n",
       "39           red    ny      1565.0  58.0  \n",
       "40  Not relevant    nc     76167.0  51.0  \n",
       "41          blue    oh   9999999.0  36.0  \n",
       "42         brown    wa   9999999.0  43.0  "
      ]
     },
     "execution_count": 165,
     "metadata": {},
     "output_type": "execute_result"
    }
   ],
   "source": [
    "unstable = inverse_trans(unstable_features, cat_enc = cat_encoder, num_enc = num_encoder)\n",
    "pd.DataFrame(unstable, columns = cols)"
   ]
  },
  {
   "cell_type": "markdown",
   "id": "b8e2d9f0-7511-4af6-ae1f-bc25bed76d19",
   "metadata": {},
   "source": [
    "## Ensemble_regressors"
   ]
  },
  {
   "cell_type": "markdown",
   "id": "bd6d2b64-d621-4b66-af8d-793d9130c4f1",
   "metadata": {},
   "source": [
    "These are the steps I will follow ensemble regressors:\n",
    "* Instantiate every model in a corresponding variable\n",
    "* Fit all models, one by one\n",
    "* Use the fitted models to generate predictions\n",
    "* Calculate and store residuals for visualization purposes\n",
    "* Calculate the following errors for each model:\n",
    "    * Mean Absolute Error (MAE)\n",
    "    * Mean Squared Error (MSE)\n",
    "    * Root Mean Squared Error (RMSE)"
   ]
  },
  {
   "cell_type": "code",
   "execution_count": 74,
   "id": "ea71039e-b3a8-4ea1-befc-7939ad77a4e2",
   "metadata": {},
   "outputs": [],
   "source": [
    "forest = RandomForestRegressor(verbose = 1, n_jobs = -1, random_state = 20) #Random state for reproducibility\n",
    "boost = GradientBoostingRegressor(verbose = 1, random_state = 20) #Random state for reproducibility"
   ]
  },
  {
   "cell_type": "code",
   "execution_count": 75,
   "id": "ddcf3189-2681-4fce-be17-920470e11ba7",
   "metadata": {},
   "outputs": [
    {
     "name": "stderr",
     "output_type": "stream",
     "text": [
      "[Parallel(n_jobs=-1)]: Using backend ThreadingBackend with 8 concurrent workers.\n",
      "[Parallel(n_jobs=-1)]: Done  34 tasks      | elapsed: 11.3min\n",
      "[Parallel(n_jobs=-1)]: Done 100 out of 100 | elapsed: 29.1min finished\n"
     ]
    },
    {
     "data": {
      "text/plain": [
       "RandomForestRegressor(n_jobs=-1, random_state=20, verbose=1)"
      ]
     },
     "execution_count": 75,
     "metadata": {},
     "output_type": "execute_result"
    }
   ],
   "source": [
    "forest.fit(X_train, y_train)"
   ]
  },
  {
   "cell_type": "code",
   "execution_count": 76,
   "id": "2c1d723d-61d7-40f6-9678-b62073a608ff",
   "metadata": {},
   "outputs": [
    {
     "name": "stdout",
     "output_type": "stream",
     "text": [
      "      Iter       Train Loss   Remaining Time \n",
      "         1   126552076.4395           42.46m\n",
      "         2   114284990.1207           43.35m\n",
      "         3   103998855.5647           40.99m\n",
      "         4    95248904.1072           39.27m\n",
      "         5    88018204.2460           38.66m\n",
      "         6    81264572.2301           37.91m\n",
      "         7    75673296.4114           37.49m\n",
      "         8    71125627.3600           39.05m\n",
      "         9    67070864.1614           38.79m\n",
      "        10    63503162.3641           38.87m\n",
      "        20    45140687.8437           36.87m\n",
      "        30    38551644.8899           34.32m\n",
      "        40    35601647.7301           29.78m\n",
      "        50    33769602.9311           25.55m\n",
      "        60    32660353.8270           20.48m\n",
      "        70    31822447.1234           15.52m\n",
      "        80    31061219.2161           10.42m\n",
      "        90    30447523.5914            5.28m\n",
      "       100    29909816.4712            0.00s\n"
     ]
    },
    {
     "data": {
      "text/plain": [
       "GradientBoostingRegressor(random_state=20, verbose=1)"
      ]
     },
     "execution_count": 76,
     "metadata": {},
     "output_type": "execute_result"
    }
   ],
   "source": [
    "boost.fit(X_train, y_train)"
   ]
  },
  {
   "cell_type": "code",
   "execution_count": 79,
   "id": "c21636dd-e94f-460f-afc8-caeb7e12c53f",
   "metadata": {},
   "outputs": [
    {
     "name": "stderr",
     "output_type": "stream",
     "text": [
      "[Parallel(n_jobs=8)]: Using backend ThreadingBackend with 8 concurrent workers.\n",
      "[Parallel(n_jobs=8)]: Done  34 tasks      | elapsed:    0.2s\n",
      "[Parallel(n_jobs=8)]: Done 100 out of 100 | elapsed:    0.8s finished\n"
     ]
    }
   ],
   "source": [
    "# obtaining predictions\n",
    "forest_pred = forest.predict(X_val)\n",
    "boost_pred = boost.predict(X_val)"
   ]
  },
  {
   "cell_type": "code",
   "execution_count": 122,
   "id": "760e5a1f-2adf-4771-9708-684d4909fe26",
   "metadata": {},
   "outputs": [],
   "source": [
    "# calculating residuals\n",
    "forest_res = forest_pred - y_val2\n",
    "boost_res = boost_pred - y_val2"
   ]
  },
  {
   "cell_type": "code",
   "execution_count": 136,
   "id": "a97c89b1-9553-44e7-8a42-8f07b1a778f7",
   "metadata": {},
   "outputs": [
    {
     "data": {
      "text/html": [
       "<div>\n",
       "<style scoped>\n",
       "    .dataframe tbody tr th:only-of-type {\n",
       "        vertical-align: middle;\n",
       "    }\n",
       "\n",
       "    .dataframe tbody tr th {\n",
       "        vertical-align: top;\n",
       "    }\n",
       "\n",
       "    .dataframe thead th {\n",
       "        text-align: right;\n",
       "    }\n",
       "</style>\n",
       "<table border=\"1\" class=\"dataframe\">\n",
       "  <thead>\n",
       "    <tr style=\"text-align: right;\">\n",
       "      <th></th>\n",
       "      <th>MAE</th>\n",
       "      <th>MSE</th>\n",
       "      <th>RMSE</th>\n",
       "    </tr>\n",
       "  </thead>\n",
       "  <tbody>\n",
       "    <tr>\n",
       "      <th>Random_Forest</th>\n",
       "      <td>1558.358827</td>\n",
       "      <td>9.222920e+06</td>\n",
       "      <td>3036.926088</td>\n",
       "    </tr>\n",
       "    <tr>\n",
       "      <th>Boosted_Trees</th>\n",
       "      <td>3951.847027</td>\n",
       "      <td>2.977514e+07</td>\n",
       "      <td>5456.660409</td>\n",
       "    </tr>\n",
       "  </tbody>\n",
       "</table>\n",
       "</div>"
      ],
      "text/plain": [
       "                       MAE           MSE         RMSE\n",
       "Random_Forest  1558.358827  9.222920e+06  3036.926088\n",
       "Boosted_Trees  3951.847027  2.977514e+07  5456.660409"
      ]
     },
     "execution_count": 136,
     "metadata": {},
     "output_type": "execute_result"
    }
   ],
   "source": [
    "# creating a summary table to visualize results\n",
    "MAE = [mean_absolute_error(y_val, forest_pred), mean_absolute_error(y_val, boost_pred)]\n",
    "MSE = [mean_squared_error(y_val, forest_pred), mean_squared_error(y_val, boost_pred)]\n",
    "RMSE = [np.sqrt(mean_squared_error(y_val, forest_pred)), np.sqrt(mean_squared_error(y_val, boost_pred))]\n",
    "\n",
    "pd.DataFrame({\"MAE\": MAE, \"MSE\": MSE, \"RMSE\": RMSE}, index = [\"Random_Forest\", \"Boosted_Trees\"])"
   ]
  },
  {
   "cell_type": "code",
   "execution_count": 124,
   "id": "cbd610dc-bdb0-49fe-a941-30d8f8ba5d35",
   "metadata": {},
   "outputs": [
    {
     "data": {
      "image/png": "[encoded data removed]",
      "text/plain": [
       "<Figure size 1728x576 with 2 Axes>"
      ]
     },
     "metadata": {
      "needs_background": "light"
     },
     "output_type": "display_data"
    }
   ],
   "source": [
    "fig, ax = plt.subplots(1,2, figsize=(24,8))\n",
    "sns.lineplot(ax = ax[0], data = forest_res, color = \"green\")\n",
    "sns.lineplot(ax = ax[1], data = boost_res, color = \"purple\");"
   ]
  },
  {
   "cell_type": "code",
   "execution_count": null,
   "id": "6a9ecb7b-a05b-4637-abb5-95ae3b722b97",
   "metadata": {},
   "outputs": [],
   "source": []
  }
 ],
 "metadata": {
  "kernelspec": {
   "display_name": "cars",
   "language": "python",
   "name": "cars"
  },
  "language_info": {
   "codemirror_mode": {
    "name": "ipython",
    "version": 3
   },
   "file_extension": ".py",
   "mimetype": "text/x-python",
   "name": "python",
   "nbconvert_exporter": "python",
   "pygments_lexer": "ipython3",
   "version": "3.7.6"
  }
 },
 "nbformat": 4,
 "nbformat_minor": 5
}
